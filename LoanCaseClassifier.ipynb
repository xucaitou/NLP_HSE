{
  "nbformat": 4,
  "nbformat_minor": 0,
  "metadata": {
    "kernelspec": {
      "display_name": "Python",
      "language": "python",
      "name": "conda-env-python-py"
    },
    "language_info": {
      "codemirror_mode": {
        "name": "ipython",
        "version": 3
      },
      "file_extension": ".py",
      "mimetype": "text/x-python",
      "name": "python",
      "nbconvert_exporter": "python",
      "pygments_lexer": "ipython3",
      "version": "3.6.12"
    },
    "colab": {
      "name": "LoanCaseClassifier.ipynb",
      "provenance": [],
      "collapsed_sections": [
        "gEl-Ibe9Iql7",
        "JG1VggJrIql8",
        "i2RnnNy7Iql9",
        "KRZphcjnIql-",
        "7jCoSGr4IqmC",
        "WkWj2Z1CIqmE",
        "PK0t3feoIqmF",
        "PgfhznpqIqmG",
        "0wB6LyZZIqmH",
        "WCRdkIm8IqmI"
      ],
      "include_colab_link": true
    }
  },
  "cells": [
    {
      "cell_type": "markdown",
      "metadata": {
        "id": "view-in-github",
        "colab_type": "text"
      },
      "source": [
        "<a href=\"https://colab.research.google.com/github/xucaitou/NLP_HSE/blob/main/LoanCaseClassifier.ipynb\" target=\"_parent\"><img src=\"https://colab.research.google.com/assets/colab-badge.svg\" alt=\"Open In Colab\"/></a>"
      ]
    },
    {
      "cell_type": "markdown",
      "metadata": {
        "button": false,
        "new_sheet": false,
        "run_control": {
          "read_only": false
        },
        "id": "5b8vcKCPIql0"
      },
      "source": [
        "Loading required libraries:"
      ]
    },
    {
      "cell_type": "code",
      "metadata": {
        "button": false,
        "new_sheet": false,
        "run_control": {
          "read_only": false
        },
        "id": "IVnUumGtIql5"
      },
      "source": [
        "import itertools \n",
        "import numpy as np\n",
        "import matplotlib.pyplot as plt\n",
        "from matplotlib.ticker import NullFormatter\n",
        "import pandas as pd\n",
        "import numpy as np\n",
        "import matplotlib.ticker as ticker\n",
        "from sklearn import preprocessing\n",
        "%matplotlib inline"
      ],
      "execution_count": 1,
      "outputs": []
    },
    {
      "cell_type": "code",
      "metadata": {
        "id": "09TzPXC_Iql6"
      },
      "source": [
        "np.random.seed(7)"
      ],
      "execution_count": 2,
      "outputs": []
    },
    {
      "cell_type": "code",
      "metadata": {
        "button": false,
        "new_sheet": false,
        "run_control": {
          "read_only": false
        },
        "colab": {
          "base_uri": "https://localhost:8080/"
        },
        "id": "xtahep6vIql6",
        "outputId": "792e08a0-42bf-4cc8-9624-a4eb4d279798"
      },
      "source": [
        "!wget -O loan_train.csv https://s3-api.us-geo.objectstorage.softlayer.net/cf-courses-data/CognitiveClass/ML0101ENv3/labs/loan_train.csv"
      ],
      "execution_count": 3,
      "outputs": [
        {
          "output_type": "stream",
          "name": "stdout",
          "text": [
            "--2022-01-02 08:35:22--  https://s3-api.us-geo.objectstorage.softlayer.net/cf-courses-data/CognitiveClass/ML0101ENv3/labs/loan_train.csv\n",
            "Resolving s3-api.us-geo.objectstorage.softlayer.net (s3-api.us-geo.objectstorage.softlayer.net)... 67.228.254.196\n",
            "Connecting to s3-api.us-geo.objectstorage.softlayer.net (s3-api.us-geo.objectstorage.softlayer.net)|67.228.254.196|:443... connected.\n",
            "HTTP request sent, awaiting response... 200 OK\n",
            "Length: 23101 (23K) [text/csv]\n",
            "Saving to: ‘loan_train.csv’\n",
            "\n",
            "loan_train.csv      100%[===================>]  22.56K  --.-KB/s    in 0.02s   \n",
            "\n",
            "2022-01-02 08:35:23 (1.30 MB/s) - ‘loan_train.csv’ saved [23101/23101]\n",
            "\n"
          ]
        }
      ]
    },
    {
      "cell_type": "markdown",
      "metadata": {
        "button": false,
        "new_sheet": false,
        "run_control": {
          "read_only": false
        },
        "id": "gEl-Ibe9Iql7"
      },
      "source": [
        "### Load Data From CSV File  "
      ]
    },
    {
      "cell_type": "code",
      "metadata": {
        "button": false,
        "new_sheet": false,
        "run_control": {
          "read_only": false
        },
        "colab": {
          "base_uri": "https://localhost:8080/",
          "height": 206
        },
        "id": "j0b7tnUNIql7",
        "outputId": "4bb93e02-c05f-4384-935f-d06aabd79685"
      },
      "source": [
        "df = pd.read_csv('loan_train.csv')\n",
        "df.head()"
      ],
      "execution_count": 6,
      "outputs": [
        {
          "output_type": "execute_result",
          "data": {
            "text/html": [
              "\n",
              "  <div id=\"df-5f4fd6ce-5141-4e30-a8a6-d31e2842e1c0\">\n",
              "    <div class=\"colab-df-container\">\n",
              "      <div>\n",
              "<style scoped>\n",
              "    .dataframe tbody tr th:only-of-type {\n",
              "        vertical-align: middle;\n",
              "    }\n",
              "\n",
              "    .dataframe tbody tr th {\n",
              "        vertical-align: top;\n",
              "    }\n",
              "\n",
              "    .dataframe thead th {\n",
              "        text-align: right;\n",
              "    }\n",
              "</style>\n",
              "<table border=\"1\" class=\"dataframe\">\n",
              "  <thead>\n",
              "    <tr style=\"text-align: right;\">\n",
              "      <th></th>\n",
              "      <th>Unnamed: 0</th>\n",
              "      <th>Unnamed: 0.1</th>\n",
              "      <th>loan_status</th>\n",
              "      <th>Principal</th>\n",
              "      <th>terms</th>\n",
              "      <th>effective_date</th>\n",
              "      <th>due_date</th>\n",
              "      <th>age</th>\n",
              "      <th>education</th>\n",
              "      <th>Gender</th>\n",
              "    </tr>\n",
              "  </thead>\n",
              "  <tbody>\n",
              "    <tr>\n",
              "      <th>0</th>\n",
              "      <td>0</td>\n",
              "      <td>0</td>\n",
              "      <td>PAIDOFF</td>\n",
              "      <td>1000</td>\n",
              "      <td>30</td>\n",
              "      <td>9/8/2016</td>\n",
              "      <td>10/7/2016</td>\n",
              "      <td>45</td>\n",
              "      <td>High School or Below</td>\n",
              "      <td>male</td>\n",
              "    </tr>\n",
              "    <tr>\n",
              "      <th>1</th>\n",
              "      <td>2</td>\n",
              "      <td>2</td>\n",
              "      <td>PAIDOFF</td>\n",
              "      <td>1000</td>\n",
              "      <td>30</td>\n",
              "      <td>9/8/2016</td>\n",
              "      <td>10/7/2016</td>\n",
              "      <td>33</td>\n",
              "      <td>Bechalor</td>\n",
              "      <td>female</td>\n",
              "    </tr>\n",
              "    <tr>\n",
              "      <th>2</th>\n",
              "      <td>3</td>\n",
              "      <td>3</td>\n",
              "      <td>PAIDOFF</td>\n",
              "      <td>1000</td>\n",
              "      <td>15</td>\n",
              "      <td>9/8/2016</td>\n",
              "      <td>9/22/2016</td>\n",
              "      <td>27</td>\n",
              "      <td>college</td>\n",
              "      <td>male</td>\n",
              "    </tr>\n",
              "    <tr>\n",
              "      <th>3</th>\n",
              "      <td>4</td>\n",
              "      <td>4</td>\n",
              "      <td>PAIDOFF</td>\n",
              "      <td>1000</td>\n",
              "      <td>30</td>\n",
              "      <td>9/9/2016</td>\n",
              "      <td>10/8/2016</td>\n",
              "      <td>28</td>\n",
              "      <td>college</td>\n",
              "      <td>female</td>\n",
              "    </tr>\n",
              "    <tr>\n",
              "      <th>4</th>\n",
              "      <td>6</td>\n",
              "      <td>6</td>\n",
              "      <td>PAIDOFF</td>\n",
              "      <td>1000</td>\n",
              "      <td>30</td>\n",
              "      <td>9/9/2016</td>\n",
              "      <td>10/8/2016</td>\n",
              "      <td>29</td>\n",
              "      <td>college</td>\n",
              "      <td>male</td>\n",
              "    </tr>\n",
              "  </tbody>\n",
              "</table>\n",
              "</div>\n",
              "      <button class=\"colab-df-convert\" onclick=\"convertToInteractive('df-5f4fd6ce-5141-4e30-a8a6-d31e2842e1c0')\"\n",
              "              title=\"Convert this dataframe to an interactive table.\"\n",
              "              style=\"display:none;\">\n",
              "        \n",
              "  <svg xmlns=\"http://www.w3.org/2000/svg\" height=\"24px\"viewBox=\"0 0 24 24\"\n",
              "       width=\"24px\">\n",
              "    <path d=\"M0 0h24v24H0V0z\" fill=\"none\"/>\n",
              "    <path d=\"M18.56 5.44l.94 2.06.94-2.06 2.06-.94-2.06-.94-.94-2.06-.94 2.06-2.06.94zm-11 1L8.5 8.5l.94-2.06 2.06-.94-2.06-.94L8.5 2.5l-.94 2.06-2.06.94zm10 10l.94 2.06.94-2.06 2.06-.94-2.06-.94-.94-2.06-.94 2.06-2.06.94z\"/><path d=\"M17.41 7.96l-1.37-1.37c-.4-.4-.92-.59-1.43-.59-.52 0-1.04.2-1.43.59L10.3 9.45l-7.72 7.72c-.78.78-.78 2.05 0 2.83L4 21.41c.39.39.9.59 1.41.59.51 0 1.02-.2 1.41-.59l7.78-7.78 2.81-2.81c.8-.78.8-2.07 0-2.86zM5.41 20L4 18.59l7.72-7.72 1.47 1.35L5.41 20z\"/>\n",
              "  </svg>\n",
              "      </button>\n",
              "      \n",
              "  <style>\n",
              "    .colab-df-container {\n",
              "      display:flex;\n",
              "      flex-wrap:wrap;\n",
              "      gap: 12px;\n",
              "    }\n",
              "\n",
              "    .colab-df-convert {\n",
              "      background-color: #E8F0FE;\n",
              "      border: none;\n",
              "      border-radius: 50%;\n",
              "      cursor: pointer;\n",
              "      display: none;\n",
              "      fill: #1967D2;\n",
              "      height: 32px;\n",
              "      padding: 0 0 0 0;\n",
              "      width: 32px;\n",
              "    }\n",
              "\n",
              "    .colab-df-convert:hover {\n",
              "      background-color: #E2EBFA;\n",
              "      box-shadow: 0px 1px 2px rgba(60, 64, 67, 0.3), 0px 1px 3px 1px rgba(60, 64, 67, 0.15);\n",
              "      fill: #174EA6;\n",
              "    }\n",
              "\n",
              "    [theme=dark] .colab-df-convert {\n",
              "      background-color: #3B4455;\n",
              "      fill: #D2E3FC;\n",
              "    }\n",
              "\n",
              "    [theme=dark] .colab-df-convert:hover {\n",
              "      background-color: #434B5C;\n",
              "      box-shadow: 0px 1px 3px 1px rgba(0, 0, 0, 0.15);\n",
              "      filter: drop-shadow(0px 1px 2px rgba(0, 0, 0, 0.3));\n",
              "      fill: #FFFFFF;\n",
              "    }\n",
              "  </style>\n",
              "\n",
              "      <script>\n",
              "        const buttonEl =\n",
              "          document.querySelector('#df-5f4fd6ce-5141-4e30-a8a6-d31e2842e1c0 button.colab-df-convert');\n",
              "        buttonEl.style.display =\n",
              "          google.colab.kernel.accessAllowed ? 'block' : 'none';\n",
              "\n",
              "        async function convertToInteractive(key) {\n",
              "          const element = document.querySelector('#df-5f4fd6ce-5141-4e30-a8a6-d31e2842e1c0');\n",
              "          const dataTable =\n",
              "            await google.colab.kernel.invokeFunction('convertToInteractive',\n",
              "                                                     [key], {});\n",
              "          if (!dataTable) return;\n",
              "\n",
              "          const docLinkHtml = 'Like what you see? Visit the ' +\n",
              "            '<a target=\"_blank\" href=https://colab.research.google.com/notebooks/data_table.ipynb>data table notebook</a>'\n",
              "            + ' to learn more about interactive tables.';\n",
              "          element.innerHTML = '';\n",
              "          dataTable['output_type'] = 'display_data';\n",
              "          await google.colab.output.renderOutput(dataTable, element);\n",
              "          const docLink = document.createElement('div');\n",
              "          docLink.innerHTML = docLinkHtml;\n",
              "          element.appendChild(docLink);\n",
              "        }\n",
              "      </script>\n",
              "    </div>\n",
              "  </div>\n",
              "  "
            ],
            "text/plain": [
              "   Unnamed: 0  Unnamed: 0.1 loan_status  ...  age             education  Gender\n",
              "0           0             0     PAIDOFF  ...   45  High School or Below    male\n",
              "1           2             2     PAIDOFF  ...   33              Bechalor  female\n",
              "2           3             3     PAIDOFF  ...   27               college    male\n",
              "3           4             4     PAIDOFF  ...   28               college  female\n",
              "4           6             6     PAIDOFF  ...   29               college    male\n",
              "\n",
              "[5 rows x 10 columns]"
            ]
          },
          "metadata": {},
          "execution_count": 6
        }
      ]
    },
    {
      "cell_type": "code",
      "metadata": {
        "colab": {
          "base_uri": "https://localhost:8080/"
        },
        "id": "StiNRJTiIql8",
        "outputId": "3bdc9bf3-1d1b-4dfe-c210-f376b3741f94"
      },
      "source": [
        "df.shape"
      ],
      "execution_count": 7,
      "outputs": [
        {
          "output_type": "execute_result",
          "data": {
            "text/plain": [
              "(346, 10)"
            ]
          },
          "metadata": {},
          "execution_count": 7
        }
      ]
    },
    {
      "cell_type": "markdown",
      "metadata": {
        "button": false,
        "new_sheet": false,
        "run_control": {
          "read_only": false
        },
        "id": "JG1VggJrIql8"
      },
      "source": [
        "### Convert to date time object "
      ]
    },
    {
      "cell_type": "code",
      "metadata": {
        "button": false,
        "new_sheet": false,
        "run_control": {
          "read_only": false
        },
        "colab": {
          "base_uri": "https://localhost:8080/",
          "height": 206
        },
        "id": "tT-yAtIgIql8",
        "outputId": "b5654496-1b3e-4314-f081-9e4d78b1b4ef"
      },
      "source": [
        "df['due_date'] = pd.to_datetime(df['due_date'])\n",
        "df['effective_date'] = pd.to_datetime(df['effective_date'])\n",
        "df.head()"
      ],
      "execution_count": 8,
      "outputs": [
        {
          "output_type": "execute_result",
          "data": {
            "text/html": [
              "\n",
              "  <div id=\"df-807c9232-6496-49fc-adde-b59dff97b617\">\n",
              "    <div class=\"colab-df-container\">\n",
              "      <div>\n",
              "<style scoped>\n",
              "    .dataframe tbody tr th:only-of-type {\n",
              "        vertical-align: middle;\n",
              "    }\n",
              "\n",
              "    .dataframe tbody tr th {\n",
              "        vertical-align: top;\n",
              "    }\n",
              "\n",
              "    .dataframe thead th {\n",
              "        text-align: right;\n",
              "    }\n",
              "</style>\n",
              "<table border=\"1\" class=\"dataframe\">\n",
              "  <thead>\n",
              "    <tr style=\"text-align: right;\">\n",
              "      <th></th>\n",
              "      <th>Unnamed: 0</th>\n",
              "      <th>Unnamed: 0.1</th>\n",
              "      <th>loan_status</th>\n",
              "      <th>Principal</th>\n",
              "      <th>terms</th>\n",
              "      <th>effective_date</th>\n",
              "      <th>due_date</th>\n",
              "      <th>age</th>\n",
              "      <th>education</th>\n",
              "      <th>Gender</th>\n",
              "    </tr>\n",
              "  </thead>\n",
              "  <tbody>\n",
              "    <tr>\n",
              "      <th>0</th>\n",
              "      <td>0</td>\n",
              "      <td>0</td>\n",
              "      <td>PAIDOFF</td>\n",
              "      <td>1000</td>\n",
              "      <td>30</td>\n",
              "      <td>2016-09-08</td>\n",
              "      <td>2016-10-07</td>\n",
              "      <td>45</td>\n",
              "      <td>High School or Below</td>\n",
              "      <td>male</td>\n",
              "    </tr>\n",
              "    <tr>\n",
              "      <th>1</th>\n",
              "      <td>2</td>\n",
              "      <td>2</td>\n",
              "      <td>PAIDOFF</td>\n",
              "      <td>1000</td>\n",
              "      <td>30</td>\n",
              "      <td>2016-09-08</td>\n",
              "      <td>2016-10-07</td>\n",
              "      <td>33</td>\n",
              "      <td>Bechalor</td>\n",
              "      <td>female</td>\n",
              "    </tr>\n",
              "    <tr>\n",
              "      <th>2</th>\n",
              "      <td>3</td>\n",
              "      <td>3</td>\n",
              "      <td>PAIDOFF</td>\n",
              "      <td>1000</td>\n",
              "      <td>15</td>\n",
              "      <td>2016-09-08</td>\n",
              "      <td>2016-09-22</td>\n",
              "      <td>27</td>\n",
              "      <td>college</td>\n",
              "      <td>male</td>\n",
              "    </tr>\n",
              "    <tr>\n",
              "      <th>3</th>\n",
              "      <td>4</td>\n",
              "      <td>4</td>\n",
              "      <td>PAIDOFF</td>\n",
              "      <td>1000</td>\n",
              "      <td>30</td>\n",
              "      <td>2016-09-09</td>\n",
              "      <td>2016-10-08</td>\n",
              "      <td>28</td>\n",
              "      <td>college</td>\n",
              "      <td>female</td>\n",
              "    </tr>\n",
              "    <tr>\n",
              "      <th>4</th>\n",
              "      <td>6</td>\n",
              "      <td>6</td>\n",
              "      <td>PAIDOFF</td>\n",
              "      <td>1000</td>\n",
              "      <td>30</td>\n",
              "      <td>2016-09-09</td>\n",
              "      <td>2016-10-08</td>\n",
              "      <td>29</td>\n",
              "      <td>college</td>\n",
              "      <td>male</td>\n",
              "    </tr>\n",
              "  </tbody>\n",
              "</table>\n",
              "</div>\n",
              "      <button class=\"colab-df-convert\" onclick=\"convertToInteractive('df-807c9232-6496-49fc-adde-b59dff97b617')\"\n",
              "              title=\"Convert this dataframe to an interactive table.\"\n",
              "              style=\"display:none;\">\n",
              "        \n",
              "  <svg xmlns=\"http://www.w3.org/2000/svg\" height=\"24px\"viewBox=\"0 0 24 24\"\n",
              "       width=\"24px\">\n",
              "    <path d=\"M0 0h24v24H0V0z\" fill=\"none\"/>\n",
              "    <path d=\"M18.56 5.44l.94 2.06.94-2.06 2.06-.94-2.06-.94-.94-2.06-.94 2.06-2.06.94zm-11 1L8.5 8.5l.94-2.06 2.06-.94-2.06-.94L8.5 2.5l-.94 2.06-2.06.94zm10 10l.94 2.06.94-2.06 2.06-.94-2.06-.94-.94-2.06-.94 2.06-2.06.94z\"/><path d=\"M17.41 7.96l-1.37-1.37c-.4-.4-.92-.59-1.43-.59-.52 0-1.04.2-1.43.59L10.3 9.45l-7.72 7.72c-.78.78-.78 2.05 0 2.83L4 21.41c.39.39.9.59 1.41.59.51 0 1.02-.2 1.41-.59l7.78-7.78 2.81-2.81c.8-.78.8-2.07 0-2.86zM5.41 20L4 18.59l7.72-7.72 1.47 1.35L5.41 20z\"/>\n",
              "  </svg>\n",
              "      </button>\n",
              "      \n",
              "  <style>\n",
              "    .colab-df-container {\n",
              "      display:flex;\n",
              "      flex-wrap:wrap;\n",
              "      gap: 12px;\n",
              "    }\n",
              "\n",
              "    .colab-df-convert {\n",
              "      background-color: #E8F0FE;\n",
              "      border: none;\n",
              "      border-radius: 50%;\n",
              "      cursor: pointer;\n",
              "      display: none;\n",
              "      fill: #1967D2;\n",
              "      height: 32px;\n",
              "      padding: 0 0 0 0;\n",
              "      width: 32px;\n",
              "    }\n",
              "\n",
              "    .colab-df-convert:hover {\n",
              "      background-color: #E2EBFA;\n",
              "      box-shadow: 0px 1px 2px rgba(60, 64, 67, 0.3), 0px 1px 3px 1px rgba(60, 64, 67, 0.15);\n",
              "      fill: #174EA6;\n",
              "    }\n",
              "\n",
              "    [theme=dark] .colab-df-convert {\n",
              "      background-color: #3B4455;\n",
              "      fill: #D2E3FC;\n",
              "    }\n",
              "\n",
              "    [theme=dark] .colab-df-convert:hover {\n",
              "      background-color: #434B5C;\n",
              "      box-shadow: 0px 1px 3px 1px rgba(0, 0, 0, 0.15);\n",
              "      filter: drop-shadow(0px 1px 2px rgba(0, 0, 0, 0.3));\n",
              "      fill: #FFFFFF;\n",
              "    }\n",
              "  </style>\n",
              "\n",
              "      <script>\n",
              "        const buttonEl =\n",
              "          document.querySelector('#df-807c9232-6496-49fc-adde-b59dff97b617 button.colab-df-convert');\n",
              "        buttonEl.style.display =\n",
              "          google.colab.kernel.accessAllowed ? 'block' : 'none';\n",
              "\n",
              "        async function convertToInteractive(key) {\n",
              "          const element = document.querySelector('#df-807c9232-6496-49fc-adde-b59dff97b617');\n",
              "          const dataTable =\n",
              "            await google.colab.kernel.invokeFunction('convertToInteractive',\n",
              "                                                     [key], {});\n",
              "          if (!dataTable) return;\n",
              "\n",
              "          const docLinkHtml = 'Like what you see? Visit the ' +\n",
              "            '<a target=\"_blank\" href=https://colab.research.google.com/notebooks/data_table.ipynb>data table notebook</a>'\n",
              "            + ' to learn more about interactive tables.';\n",
              "          element.innerHTML = '';\n",
              "          dataTable['output_type'] = 'display_data';\n",
              "          await google.colab.output.renderOutput(dataTable, element);\n",
              "          const docLink = document.createElement('div');\n",
              "          docLink.innerHTML = docLinkHtml;\n",
              "          element.appendChild(docLink);\n",
              "        }\n",
              "      </script>\n",
              "    </div>\n",
              "  </div>\n",
              "  "
            ],
            "text/plain": [
              "   Unnamed: 0  Unnamed: 0.1 loan_status  ...  age             education  Gender\n",
              "0           0             0     PAIDOFF  ...   45  High School or Below    male\n",
              "1           2             2     PAIDOFF  ...   33              Bechalor  female\n",
              "2           3             3     PAIDOFF  ...   27               college    male\n",
              "3           4             4     PAIDOFF  ...   28               college  female\n",
              "4           6             6     PAIDOFF  ...   29               college    male\n",
              "\n",
              "[5 rows x 10 columns]"
            ]
          },
          "metadata": {},
          "execution_count": 8
        }
      ]
    },
    {
      "cell_type": "markdown",
      "metadata": {
        "button": false,
        "new_sheet": false,
        "run_control": {
          "read_only": false
        },
        "id": "i2RnnNy7Iql9"
      },
      "source": [
        "# Data visualization and pre-processing\n",
        "\n"
      ]
    },
    {
      "cell_type": "code",
      "metadata": {
        "button": false,
        "new_sheet": false,
        "run_control": {
          "read_only": false
        },
        "colab": {
          "base_uri": "https://localhost:8080/"
        },
        "id": "cko9I0h2Iql9",
        "outputId": "00c4066a-d288-4a91-a86c-7ab4801657f7"
      },
      "source": [
        "df['loan_status'].value_counts()"
      ],
      "execution_count": 9,
      "outputs": [
        {
          "output_type": "execute_result",
          "data": {
            "text/plain": [
              "PAIDOFF       260\n",
              "COLLECTION     86\n",
              "Name: loan_status, dtype: int64"
            ]
          },
          "metadata": {},
          "execution_count": 9
        }
      ]
    },
    {
      "cell_type": "code",
      "metadata": {
        "colab": {
          "base_uri": "https://localhost:8080/",
          "height": 225
        },
        "id": "uNaMeuoRIql9",
        "outputId": "287e7109-3561-4122-eb96-f269ae5750f9"
      },
      "source": [
        "import seaborn as sns\n",
        "\n",
        "bins = np.linspace(df.Principal.min(), df.Principal.max(), 10)\n",
        "g = sns.FacetGrid(df, col=\"Gender\", hue=\"loan_status\", palette=\"Set1\", col_wrap=2)\n",
        "g.map(plt.hist, 'Principal', bins=bins, ec=\"k\")\n",
        "\n",
        "g.axes[-1].legend()\n",
        "plt.show()"
      ],
      "execution_count": 10,
      "outputs": [
        {
          "output_type": "display_data",
          "data": {
            "image/png": "[encoded data removed]",
            "text/plain": [
              "<Figure size 432x216 with 2 Axes>"
            ]
          },
          "metadata": {
            "needs_background": "light"
          }
        }
      ]
    },
    {
      "cell_type": "code",
      "metadata": {
        "button": false,
        "new_sheet": false,
        "run_control": {
          "read_only": false
        },
        "colab": {
          "base_uri": "https://localhost:8080/",
          "height": 225
        },
        "id": "7RMqhVdzIql-",
        "outputId": "02afd679-d7dd-4d60-fc51-aaf070d0ac1c"
      },
      "source": [
        "bins = np.linspace(df.age.min(), df.age.max(), 10)\n",
        "g = sns.FacetGrid(df, col=\"Gender\", hue=\"loan_status\", palette=\"Set1\", col_wrap=2)\n",
        "g.map(plt.hist, 'age', bins=bins, ec=\"k\")\n",
        "\n",
        "g.axes[-1].legend()\n",
        "plt.show()"
      ],
      "execution_count": 11,
      "outputs": [
        {
          "output_type": "display_data",
          "data": {
            "image/png": "[encoded data removed]",
            "text/plain": [
              "<Figure size 432x216 with 2 Axes>"
            ]
          },
          "metadata": {
            "needs_background": "light"
          }
        }
      ]
    },
    {
      "cell_type": "markdown",
      "metadata": {
        "button": false,
        "new_sheet": false,
        "run_control": {
          "read_only": false
        },
        "id": "KRZphcjnIql-"
      },
      "source": [
        "# Pre-processing:  Feature selection/extraction"
      ]
    },
    {
      "cell_type": "code",
      "metadata": {
        "button": false,
        "new_sheet": false,
        "run_control": {
          "read_only": false
        },
        "colab": {
          "base_uri": "https://localhost:8080/",
          "height": 225
        },
        "id": "M_2ZxWABIql-",
        "outputId": "3d17a8b9-39df-4b3c-9e00-60aeaa8ec1ba"
      },
      "source": [
        "df['dayofweek'] = df['effective_date'].dt.dayofweek\n",
        "bins = np.linspace(df.dayofweek.min(), df.dayofweek.max(), 10)\n",
        "g = sns.FacetGrid(df, col=\"Gender\", hue=\"loan_status\", palette=\"Set1\", col_wrap=2)\n",
        "g.map(plt.hist, 'dayofweek', bins=bins, ec=\"k\")\n",
        "g.axes[-1].legend()\n",
        "plt.show()"
      ],
      "execution_count": 12,
      "outputs": [
        {
          "output_type": "display_data",
          "data": {
            "image/png": "[encoded data removed]",
            "text/plain": [
              "<Figure size 432x216 with 2 Axes>"
            ]
          },
          "metadata": {
            "needs_background": "light"
          }
        }
      ]
    },
    {
      "cell_type": "code",
      "metadata": {
        "colab": {
          "base_uri": "https://localhost:8080/",
          "height": 225
        },
        "id": "JDmVeFxaIql_",
        "outputId": "54a83f5f-63c6-4ce7-8f6e-781f10e80c03"
      },
      "source": [
        "df['Month'] = df.due_date.dt.month\n",
        "bins = np.linspace(df.Month.min()-1, df.Month.max()+1, 10)\n",
        "g = sns.FacetGrid(df, col=\"Gender\", hue=\"loan_status\", palette=\"Set1\", col_wrap=2)\n",
        "g.map(plt.hist, 'Month', bins=bins, ec=\"k\")\n",
        "g.axes[-1].legend()\n",
        "plt.show()"
      ],
      "execution_count": 13,
      "outputs": [
        {
          "output_type": "display_data",
          "data": {
            "image/png": "[encoded data removed]",
            "text/plain": [
              "<Figure size 432x216 with 2 Axes>"
            ]
          },
          "metadata": {
            "needs_background": "light"
          }
        }
      ]
    },
    {
      "cell_type": "code",
      "metadata": {
        "button": false,
        "new_sheet": false,
        "run_control": {
          "read_only": false
        },
        "colab": {
          "base_uri": "https://localhost:8080/",
          "height": 206
        },
        "id": "OrkLvoi4Iql_",
        "outputId": "f947b66d-6e79-492b-b00f-8b9aa02b5d79"
      },
      "source": [
        "df['weekend'] = df['dayofweek'].apply(lambda x: 1 if (x>3)  else 0)\n",
        "df.head()"
      ],
      "execution_count": 14,
      "outputs": [
        {
          "output_type": "execute_result",
          "data": {
            "text/html": [
              "\n",
              "  <div id=\"df-bd66673e-aa89-4ef1-9f26-bfcb49b9a56f\">\n",
              "    <div class=\"colab-df-container\">\n",
              "      <div>\n",
              "<style scoped>\n",
              "    .dataframe tbody tr th:only-of-type {\n",
              "        vertical-align: middle;\n",
              "    }\n",
              "\n",
              "    .dataframe tbody tr th {\n",
              "        vertical-align: top;\n",
              "    }\n",
              "\n",
              "    .dataframe thead th {\n",
              "        text-align: right;\n",
              "    }\n",
              "</style>\n",
              "<table border=\"1\" class=\"dataframe\">\n",
              "  <thead>\n",
              "    <tr style=\"text-align: right;\">\n",
              "      <th></th>\n",
              "      <th>Unnamed: 0</th>\n",
              "      <th>Unnamed: 0.1</th>\n",
              "      <th>loan_status</th>\n",
              "      <th>Principal</th>\n",
              "      <th>terms</th>\n",
              "      <th>effective_date</th>\n",
              "      <th>due_date</th>\n",
              "      <th>age</th>\n",
              "      <th>education</th>\n",
              "      <th>Gender</th>\n",
              "      <th>dayofweek</th>\n",
              "      <th>Month</th>\n",
              "      <th>weekend</th>\n",
              "    </tr>\n",
              "  </thead>\n",
              "  <tbody>\n",
              "    <tr>\n",
              "      <th>0</th>\n",
              "      <td>0</td>\n",
              "      <td>0</td>\n",
              "      <td>PAIDOFF</td>\n",
              "      <td>1000</td>\n",
              "      <td>30</td>\n",
              "      <td>2016-09-08</td>\n",
              "      <td>2016-10-07</td>\n",
              "      <td>45</td>\n",
              "      <td>High School or Below</td>\n",
              "      <td>male</td>\n",
              "      <td>3</td>\n",
              "      <td>10</td>\n",
              "      <td>0</td>\n",
              "    </tr>\n",
              "    <tr>\n",
              "      <th>1</th>\n",
              "      <td>2</td>\n",
              "      <td>2</td>\n",
              "      <td>PAIDOFF</td>\n",
              "      <td>1000</td>\n",
              "      <td>30</td>\n",
              "      <td>2016-09-08</td>\n",
              "      <td>2016-10-07</td>\n",
              "      <td>33</td>\n",
              "      <td>Bechalor</td>\n",
              "      <td>female</td>\n",
              "      <td>3</td>\n",
              "      <td>10</td>\n",
              "      <td>0</td>\n",
              "    </tr>\n",
              "    <tr>\n",
              "      <th>2</th>\n",
              "      <td>3</td>\n",
              "      <td>3</td>\n",
              "      <td>PAIDOFF</td>\n",
              "      <td>1000</td>\n",
              "      <td>15</td>\n",
              "      <td>2016-09-08</td>\n",
              "      <td>2016-09-22</td>\n",
              "      <td>27</td>\n",
              "      <td>college</td>\n",
              "      <td>male</td>\n",
              "      <td>3</td>\n",
              "      <td>9</td>\n",
              "      <td>0</td>\n",
              "    </tr>\n",
              "    <tr>\n",
              "      <th>3</th>\n",
              "      <td>4</td>\n",
              "      <td>4</td>\n",
              "      <td>PAIDOFF</td>\n",
              "      <td>1000</td>\n",
              "      <td>30</td>\n",
              "      <td>2016-09-09</td>\n",
              "      <td>2016-10-08</td>\n",
              "      <td>28</td>\n",
              "      <td>college</td>\n",
              "      <td>female</td>\n",
              "      <td>4</td>\n",
              "      <td>10</td>\n",
              "      <td>1</td>\n",
              "    </tr>\n",
              "    <tr>\n",
              "      <th>4</th>\n",
              "      <td>6</td>\n",
              "      <td>6</td>\n",
              "      <td>PAIDOFF</td>\n",
              "      <td>1000</td>\n",
              "      <td>30</td>\n",
              "      <td>2016-09-09</td>\n",
              "      <td>2016-10-08</td>\n",
              "      <td>29</td>\n",
              "      <td>college</td>\n",
              "      <td>male</td>\n",
              "      <td>4</td>\n",
              "      <td>10</td>\n",
              "      <td>1</td>\n",
              "    </tr>\n",
              "  </tbody>\n",
              "</table>\n",
              "</div>\n",
              "      <button class=\"colab-df-convert\" onclick=\"convertToInteractive('df-bd66673e-aa89-4ef1-9f26-bfcb49b9a56f')\"\n",
              "              title=\"Convert this dataframe to an interactive table.\"\n",
              "              style=\"display:none;\">\n",
              "        \n",
              "  <svg xmlns=\"http://www.w3.org/2000/svg\" height=\"24px\"viewBox=\"0 0 24 24\"\n",
              "       width=\"24px\">\n",
              "    <path d=\"M0 0h24v24H0V0z\" fill=\"none\"/>\n",
              "    <path d=\"M18.56 5.44l.94 2.06.94-2.06 2.06-.94-2.06-.94-.94-2.06-.94 2.06-2.06.94zm-11 1L8.5 8.5l.94-2.06 2.06-.94-2.06-.94L8.5 2.5l-.94 2.06-2.06.94zm10 10l.94 2.06.94-2.06 2.06-.94-2.06-.94-.94-2.06-.94 2.06-2.06.94z\"/><path d=\"M17.41 7.96l-1.37-1.37c-.4-.4-.92-.59-1.43-.59-.52 0-1.04.2-1.43.59L10.3 9.45l-7.72 7.72c-.78.78-.78 2.05 0 2.83L4 21.41c.39.39.9.59 1.41.59.51 0 1.02-.2 1.41-.59l7.78-7.78 2.81-2.81c.8-.78.8-2.07 0-2.86zM5.41 20L4 18.59l7.72-7.72 1.47 1.35L5.41 20z\"/>\n",
              "  </svg>\n",
              "      </button>\n",
              "      \n",
              "  <style>\n",
              "    .colab-df-container {\n",
              "      display:flex;\n",
              "      flex-wrap:wrap;\n",
              "      gap: 12px;\n",
              "    }\n",
              "\n",
              "    .colab-df-convert {\n",
              "      background-color: #E8F0FE;\n",
              "      border: none;\n",
              "      border-radius: 50%;\n",
              "      cursor: pointer;\n",
              "      display: none;\n",
              "      fill: #1967D2;\n",
              "      height: 32px;\n",
              "      padding: 0 0 0 0;\n",
              "      width: 32px;\n",
              "    }\n",
              "\n",
              "    .colab-df-convert:hover {\n",
              "      background-color: #E2EBFA;\n",
              "      box-shadow: 0px 1px 2px rgba(60, 64, 67, 0.3), 0px 1px 3px 1px rgba(60, 64, 67, 0.15);\n",
              "      fill: #174EA6;\n",
              "    }\n",
              "\n",
              "    [theme=dark] .colab-df-convert {\n",
              "      background-color: #3B4455;\n",
              "      fill: #D2E3FC;\n",
              "    }\n",
              "\n",
              "    [theme=dark] .colab-df-convert:hover {\n",
              "      background-color: #434B5C;\n",
              "      box-shadow: 0px 1px 3px 1px rgba(0, 0, 0, 0.15);\n",
              "      filter: drop-shadow(0px 1px 2px rgba(0, 0, 0, 0.3));\n",
              "      fill: #FFFFFF;\n",
              "    }\n",
              "  </style>\n",
              "\n",
              "      <script>\n",
              "        const buttonEl =\n",
              "          document.querySelector('#df-bd66673e-aa89-4ef1-9f26-bfcb49b9a56f button.colab-df-convert');\n",
              "        buttonEl.style.display =\n",
              "          google.colab.kernel.accessAllowed ? 'block' : 'none';\n",
              "\n",
              "        async function convertToInteractive(key) {\n",
              "          const element = document.querySelector('#df-bd66673e-aa89-4ef1-9f26-bfcb49b9a56f');\n",
              "          const dataTable =\n",
              "            await google.colab.kernel.invokeFunction('convertToInteractive',\n",
              "                                                     [key], {});\n",
              "          if (!dataTable) return;\n",
              "\n",
              "          const docLinkHtml = 'Like what you see? Visit the ' +\n",
              "            '<a target=\"_blank\" href=https://colab.research.google.com/notebooks/data_table.ipynb>data table notebook</a>'\n",
              "            + ' to learn more about interactive tables.';\n",
              "          element.innerHTML = '';\n",
              "          dataTable['output_type'] = 'display_data';\n",
              "          await google.colab.output.renderOutput(dataTable, element);\n",
              "          const docLink = document.createElement('div');\n",
              "          docLink.innerHTML = docLinkHtml;\n",
              "          element.appendChild(docLink);\n",
              "        }\n",
              "      </script>\n",
              "    </div>\n",
              "  </div>\n",
              "  "
            ],
            "text/plain": [
              "   Unnamed: 0  Unnamed: 0.1 loan_status  ...  dayofweek  Month weekend\n",
              "0           0             0     PAIDOFF  ...          3     10       0\n",
              "1           2             2     PAIDOFF  ...          3     10       0\n",
              "2           3             3     PAIDOFF  ...          3      9       0\n",
              "3           4             4     PAIDOFF  ...          4     10       1\n",
              "4           6             6     PAIDOFF  ...          4     10       1\n",
              "\n",
              "[5 rows x 13 columns]"
            ]
          },
          "metadata": {},
          "execution_count": 14
        }
      ]
    },
    {
      "cell_type": "markdown",
      "metadata": {
        "button": false,
        "new_sheet": false,
        "run_control": {
          "read_only": false
        },
        "id": "iv6AhV0IIql_"
      },
      "source": [
        "## Convert Categorical features to numerical values"
      ]
    },
    {
      "cell_type": "code",
      "metadata": {
        "button": false,
        "new_sheet": false,
        "run_control": {
          "read_only": false
        },
        "colab": {
          "base_uri": "https://localhost:8080/"
        },
        "id": "wNYgqBpoIql_",
        "outputId": "105278df-d9ff-4efa-f73c-cf65ddff15a1"
      },
      "source": [
        "df.groupby(['Gender'])['loan_status'].value_counts(normalize=True)"
      ],
      "execution_count": 15,
      "outputs": [
        {
          "output_type": "execute_result",
          "data": {
            "text/plain": [
              "Gender  loan_status\n",
              "female  PAIDOFF        0.865385\n",
              "        COLLECTION     0.134615\n",
              "male    PAIDOFF        0.731293\n",
              "        COLLECTION     0.268707\n",
              "Name: loan_status, dtype: float64"
            ]
          },
          "metadata": {},
          "execution_count": 15
        }
      ]
    },
    {
      "cell_type": "code",
      "metadata": {
        "button": false,
        "new_sheet": false,
        "run_control": {
          "read_only": false
        },
        "colab": {
          "base_uri": "https://localhost:8080/",
          "height": 206
        },
        "id": "Pw5_qjQYIqmA",
        "outputId": "24ba35ca-639a-4a8e-d0d5-32364bec5ff0"
      },
      "source": [
        "df['Gender'].replace(to_replace=['male','female'], value=[0,1],inplace=True)\n",
        "df.head()"
      ],
      "execution_count": 16,
      "outputs": [
        {
          "output_type": "execute_result",
          "data": {
            "text/html": [
              "\n",
              "  <div id=\"df-888d2f41-5338-4391-8077-5165cf0c5718\">\n",
              "    <div class=\"colab-df-container\">\n",
              "      <div>\n",
              "<style scoped>\n",
              "    .dataframe tbody tr th:only-of-type {\n",
              "        vertical-align: middle;\n",
              "    }\n",
              "\n",
              "    .dataframe tbody tr th {\n",
              "        vertical-align: top;\n",
              "    }\n",
              "\n",
              "    .dataframe thead th {\n",
              "        text-align: right;\n",
              "    }\n",
              "</style>\n",
              "<table border=\"1\" class=\"dataframe\">\n",
              "  <thead>\n",
              "    <tr style=\"text-align: right;\">\n",
              "      <th></th>\n",
              "      <th>Unnamed: 0</th>\n",
              "      <th>Unnamed: 0.1</th>\n",
              "      <th>loan_status</th>\n",
              "      <th>Principal</th>\n",
              "      <th>terms</th>\n",
              "      <th>effective_date</th>\n",
              "      <th>due_date</th>\n",
              "      <th>age</th>\n",
              "      <th>education</th>\n",
              "      <th>Gender</th>\n",
              "      <th>dayofweek</th>\n",
              "      <th>Month</th>\n",
              "      <th>weekend</th>\n",
              "    </tr>\n",
              "  </thead>\n",
              "  <tbody>\n",
              "    <tr>\n",
              "      <th>0</th>\n",
              "      <td>0</td>\n",
              "      <td>0</td>\n",
              "      <td>PAIDOFF</td>\n",
              "      <td>1000</td>\n",
              "      <td>30</td>\n",
              "      <td>2016-09-08</td>\n",
              "      <td>2016-10-07</td>\n",
              "      <td>45</td>\n",
              "      <td>High School or Below</td>\n",
              "      <td>0</td>\n",
              "      <td>3</td>\n",
              "      <td>10</td>\n",
              "      <td>0</td>\n",
              "    </tr>\n",
              "    <tr>\n",
              "      <th>1</th>\n",
              "      <td>2</td>\n",
              "      <td>2</td>\n",
              "      <td>PAIDOFF</td>\n",
              "      <td>1000</td>\n",
              "      <td>30</td>\n",
              "      <td>2016-09-08</td>\n",
              "      <td>2016-10-07</td>\n",
              "      <td>33</td>\n",
              "      <td>Bechalor</td>\n",
              "      <td>1</td>\n",
              "      <td>3</td>\n",
              "      <td>10</td>\n",
              "      <td>0</td>\n",
              "    </tr>\n",
              "    <tr>\n",
              "      <th>2</th>\n",
              "      <td>3</td>\n",
              "      <td>3</td>\n",
              "      <td>PAIDOFF</td>\n",
              "      <td>1000</td>\n",
              "      <td>15</td>\n",
              "      <td>2016-09-08</td>\n",
              "      <td>2016-09-22</td>\n",
              "      <td>27</td>\n",
              "      <td>college</td>\n",
              "      <td>0</td>\n",
              "      <td>3</td>\n",
              "      <td>9</td>\n",
              "      <td>0</td>\n",
              "    </tr>\n",
              "    <tr>\n",
              "      <th>3</th>\n",
              "      <td>4</td>\n",
              "      <td>4</td>\n",
              "      <td>PAIDOFF</td>\n",
              "      <td>1000</td>\n",
              "      <td>30</td>\n",
              "      <td>2016-09-09</td>\n",
              "      <td>2016-10-08</td>\n",
              "      <td>28</td>\n",
              "      <td>college</td>\n",
              "      <td>1</td>\n",
              "      <td>4</td>\n",
              "      <td>10</td>\n",
              "      <td>1</td>\n",
              "    </tr>\n",
              "    <tr>\n",
              "      <th>4</th>\n",
              "      <td>6</td>\n",
              "      <td>6</td>\n",
              "      <td>PAIDOFF</td>\n",
              "      <td>1000</td>\n",
              "      <td>30</td>\n",
              "      <td>2016-09-09</td>\n",
              "      <td>2016-10-08</td>\n",
              "      <td>29</td>\n",
              "      <td>college</td>\n",
              "      <td>0</td>\n",
              "      <td>4</td>\n",
              "      <td>10</td>\n",
              "      <td>1</td>\n",
              "    </tr>\n",
              "  </tbody>\n",
              "</table>\n",
              "</div>\n",
              "      <button class=\"colab-df-convert\" onclick=\"convertToInteractive('df-888d2f41-5338-4391-8077-5165cf0c5718')\"\n",
              "              title=\"Convert this dataframe to an interactive table.\"\n",
              "              style=\"display:none;\">\n",
              "        \n",
              "  <svg xmlns=\"http://www.w3.org/2000/svg\" height=\"24px\"viewBox=\"0 0 24 24\"\n",
              "       width=\"24px\">\n",
              "    <path d=\"M0 0h24v24H0V0z\" fill=\"none\"/>\n",
              "    <path d=\"M18.56 5.44l.94 2.06.94-2.06 2.06-.94-2.06-.94-.94-2.06-.94 2.06-2.06.94zm-11 1L8.5 8.5l.94-2.06 2.06-.94-2.06-.94L8.5 2.5l-.94 2.06-2.06.94zm10 10l.94 2.06.94-2.06 2.06-.94-2.06-.94-.94-2.06-.94 2.06-2.06.94z\"/><path d=\"M17.41 7.96l-1.37-1.37c-.4-.4-.92-.59-1.43-.59-.52 0-1.04.2-1.43.59L10.3 9.45l-7.72 7.72c-.78.78-.78 2.05 0 2.83L4 21.41c.39.39.9.59 1.41.59.51 0 1.02-.2 1.41-.59l7.78-7.78 2.81-2.81c.8-.78.8-2.07 0-2.86zM5.41 20L4 18.59l7.72-7.72 1.47 1.35L5.41 20z\"/>\n",
              "  </svg>\n",
              "      </button>\n",
              "      \n",
              "  <style>\n",
              "    .colab-df-container {\n",
              "      display:flex;\n",
              "      flex-wrap:wrap;\n",
              "      gap: 12px;\n",
              "    }\n",
              "\n",
              "    .colab-df-convert {\n",
              "      background-color: #E8F0FE;\n",
              "      border: none;\n",
              "      border-radius: 50%;\n",
              "      cursor: pointer;\n",
              "      display: none;\n",
              "      fill: #1967D2;\n",
              "      height: 32px;\n",
              "      padding: 0 0 0 0;\n",
              "      width: 32px;\n",
              "    }\n",
              "\n",
              "    .colab-df-convert:hover {\n",
              "      background-color: #E2EBFA;\n",
              "      box-shadow: 0px 1px 2px rgba(60, 64, 67, 0.3), 0px 1px 3px 1px rgba(60, 64, 67, 0.15);\n",
              "      fill: #174EA6;\n",
              "    }\n",
              "\n",
              "    [theme=dark] .colab-df-convert {\n",
              "      background-color: #3B4455;\n",
              "      fill: #D2E3FC;\n",
              "    }\n",
              "\n",
              "    [theme=dark] .colab-df-convert:hover {\n",
              "      background-color: #434B5C;\n",
              "      box-shadow: 0px 1px 3px 1px rgba(0, 0, 0, 0.15);\n",
              "      filter: drop-shadow(0px 1px 2px rgba(0, 0, 0, 0.3));\n",
              "      fill: #FFFFFF;\n",
              "    }\n",
              "  </style>\n",
              "\n",
              "      <script>\n",
              "        const buttonEl =\n",
              "          document.querySelector('#df-888d2f41-5338-4391-8077-5165cf0c5718 button.colab-df-convert');\n",
              "        buttonEl.style.display =\n",
              "          google.colab.kernel.accessAllowed ? 'block' : 'none';\n",
              "\n",
              "        async function convertToInteractive(key) {\n",
              "          const element = document.querySelector('#df-888d2f41-5338-4391-8077-5165cf0c5718');\n",
              "          const dataTable =\n",
              "            await google.colab.kernel.invokeFunction('convertToInteractive',\n",
              "                                                     [key], {});\n",
              "          if (!dataTable) return;\n",
              "\n",
              "          const docLinkHtml = 'Like what you see? Visit the ' +\n",
              "            '<a target=\"_blank\" href=https://colab.research.google.com/notebooks/data_table.ipynb>data table notebook</a>'\n",
              "            + ' to learn more about interactive tables.';\n",
              "          element.innerHTML = '';\n",
              "          dataTable['output_type'] = 'display_data';\n",
              "          await google.colab.output.renderOutput(dataTable, element);\n",
              "          const docLink = document.createElement('div');\n",
              "          docLink.innerHTML = docLinkHtml;\n",
              "          element.appendChild(docLink);\n",
              "        }\n",
              "      </script>\n",
              "    </div>\n",
              "  </div>\n",
              "  "
            ],
            "text/plain": [
              "   Unnamed: 0  Unnamed: 0.1 loan_status  ...  dayofweek  Month weekend\n",
              "0           0             0     PAIDOFF  ...          3     10       0\n",
              "1           2             2     PAIDOFF  ...          3     10       0\n",
              "2           3             3     PAIDOFF  ...          3      9       0\n",
              "3           4             4     PAIDOFF  ...          4     10       1\n",
              "4           6             6     PAIDOFF  ...          4     10       1\n",
              "\n",
              "[5 rows x 13 columns]"
            ]
          },
          "metadata": {},
          "execution_count": 16
        }
      ]
    },
    {
      "cell_type": "code",
      "metadata": {
        "colab": {
          "base_uri": "https://localhost:8080/",
          "height": 206
        },
        "id": "LacLOUvMIqmA",
        "outputId": "50ac4fe8-116a-4b94-e96e-5685c4695709"
      },
      "source": [
        "df['deadline']=df['due_date']-df['effective_date']\n",
        "\n",
        "df.head()"
      ],
      "execution_count": 17,
      "outputs": [
        {
          "output_type": "execute_result",
          "data": {
            "text/html": [
              "\n",
              "  <div id=\"df-961530b5-0ce4-4b5e-81b1-173def97f81e\">\n",
              "    <div class=\"colab-df-container\">\n",
              "      <div>\n",
              "<style scoped>\n",
              "    .dataframe tbody tr th:only-of-type {\n",
              "        vertical-align: middle;\n",
              "    }\n",
              "\n",
              "    .dataframe tbody tr th {\n",
              "        vertical-align: top;\n",
              "    }\n",
              "\n",
              "    .dataframe thead th {\n",
              "        text-align: right;\n",
              "    }\n",
              "</style>\n",
              "<table border=\"1\" class=\"dataframe\">\n",
              "  <thead>\n",
              "    <tr style=\"text-align: right;\">\n",
              "      <th></th>\n",
              "      <th>Unnamed: 0</th>\n",
              "      <th>Unnamed: 0.1</th>\n",
              "      <th>loan_status</th>\n",
              "      <th>Principal</th>\n",
              "      <th>terms</th>\n",
              "      <th>effective_date</th>\n",
              "      <th>due_date</th>\n",
              "      <th>age</th>\n",
              "      <th>education</th>\n",
              "      <th>Gender</th>\n",
              "      <th>dayofweek</th>\n",
              "      <th>Month</th>\n",
              "      <th>weekend</th>\n",
              "      <th>deadline</th>\n",
              "    </tr>\n",
              "  </thead>\n",
              "  <tbody>\n",
              "    <tr>\n",
              "      <th>0</th>\n",
              "      <td>0</td>\n",
              "      <td>0</td>\n",
              "      <td>PAIDOFF</td>\n",
              "      <td>1000</td>\n",
              "      <td>30</td>\n",
              "      <td>2016-09-08</td>\n",
              "      <td>2016-10-07</td>\n",
              "      <td>45</td>\n",
              "      <td>High School or Below</td>\n",
              "      <td>0</td>\n",
              "      <td>3</td>\n",
              "      <td>10</td>\n",
              "      <td>0</td>\n",
              "      <td>29 days</td>\n",
              "    </tr>\n",
              "    <tr>\n",
              "      <th>1</th>\n",
              "      <td>2</td>\n",
              "      <td>2</td>\n",
              "      <td>PAIDOFF</td>\n",
              "      <td>1000</td>\n",
              "      <td>30</td>\n",
              "      <td>2016-09-08</td>\n",
              "      <td>2016-10-07</td>\n",
              "      <td>33</td>\n",
              "      <td>Bechalor</td>\n",
              "      <td>1</td>\n",
              "      <td>3</td>\n",
              "      <td>10</td>\n",
              "      <td>0</td>\n",
              "      <td>29 days</td>\n",
              "    </tr>\n",
              "    <tr>\n",
              "      <th>2</th>\n",
              "      <td>3</td>\n",
              "      <td>3</td>\n",
              "      <td>PAIDOFF</td>\n",
              "      <td>1000</td>\n",
              "      <td>15</td>\n",
              "      <td>2016-09-08</td>\n",
              "      <td>2016-09-22</td>\n",
              "      <td>27</td>\n",
              "      <td>college</td>\n",
              "      <td>0</td>\n",
              "      <td>3</td>\n",
              "      <td>9</td>\n",
              "      <td>0</td>\n",
              "      <td>14 days</td>\n",
              "    </tr>\n",
              "    <tr>\n",
              "      <th>3</th>\n",
              "      <td>4</td>\n",
              "      <td>4</td>\n",
              "      <td>PAIDOFF</td>\n",
              "      <td>1000</td>\n",
              "      <td>30</td>\n",
              "      <td>2016-09-09</td>\n",
              "      <td>2016-10-08</td>\n",
              "      <td>28</td>\n",
              "      <td>college</td>\n",
              "      <td>1</td>\n",
              "      <td>4</td>\n",
              "      <td>10</td>\n",
              "      <td>1</td>\n",
              "      <td>29 days</td>\n",
              "    </tr>\n",
              "    <tr>\n",
              "      <th>4</th>\n",
              "      <td>6</td>\n",
              "      <td>6</td>\n",
              "      <td>PAIDOFF</td>\n",
              "      <td>1000</td>\n",
              "      <td>30</td>\n",
              "      <td>2016-09-09</td>\n",
              "      <td>2016-10-08</td>\n",
              "      <td>29</td>\n",
              "      <td>college</td>\n",
              "      <td>0</td>\n",
              "      <td>4</td>\n",
              "      <td>10</td>\n",
              "      <td>1</td>\n",
              "      <td>29 days</td>\n",
              "    </tr>\n",
              "  </tbody>\n",
              "</table>\n",
              "</div>\n",
              "      <button class=\"colab-df-convert\" onclick=\"convertToInteractive('df-961530b5-0ce4-4b5e-81b1-173def97f81e')\"\n",
              "              title=\"Convert this dataframe to an interactive table.\"\n",
              "              style=\"display:none;\">\n",
              "        \n",
              "  <svg xmlns=\"http://www.w3.org/2000/svg\" height=\"24px\"viewBox=\"0 0 24 24\"\n",
              "       width=\"24px\">\n",
              "    <path d=\"M0 0h24v24H0V0z\" fill=\"none\"/>\n",
              "    <path d=\"M18.56 5.44l.94 2.06.94-2.06 2.06-.94-2.06-.94-.94-2.06-.94 2.06-2.06.94zm-11 1L8.5 8.5l.94-2.06 2.06-.94-2.06-.94L8.5 2.5l-.94 2.06-2.06.94zm10 10l.94 2.06.94-2.06 2.06-.94-2.06-.94-.94-2.06-.94 2.06-2.06.94z\"/><path d=\"M17.41 7.96l-1.37-1.37c-.4-.4-.92-.59-1.43-.59-.52 0-1.04.2-1.43.59L10.3 9.45l-7.72 7.72c-.78.78-.78 2.05 0 2.83L4 21.41c.39.39.9.59 1.41.59.51 0 1.02-.2 1.41-.59l7.78-7.78 2.81-2.81c.8-.78.8-2.07 0-2.86zM5.41 20L4 18.59l7.72-7.72 1.47 1.35L5.41 20z\"/>\n",
              "  </svg>\n",
              "      </button>\n",
              "      \n",
              "  <style>\n",
              "    .colab-df-container {\n",
              "      display:flex;\n",
              "      flex-wrap:wrap;\n",
              "      gap: 12px;\n",
              "    }\n",
              "\n",
              "    .colab-df-convert {\n",
              "      background-color: #E8F0FE;\n",
              "      border: none;\n",
              "      border-radius: 50%;\n",
              "      cursor: pointer;\n",
              "      display: none;\n",
              "      fill: #1967D2;\n",
              "      height: 32px;\n",
              "      padding: 0 0 0 0;\n",
              "      width: 32px;\n",
              "    }\n",
              "\n",
              "    .colab-df-convert:hover {\n",
              "      background-color: #E2EBFA;\n",
              "      box-shadow: 0px 1px 2px rgba(60, 64, 67, 0.3), 0px 1px 3px 1px rgba(60, 64, 67, 0.15);\n",
              "      fill: #174EA6;\n",
              "    }\n",
              "\n",
              "    [theme=dark] .colab-df-convert {\n",
              "      background-color: #3B4455;\n",
              "      fill: #D2E3FC;\n",
              "    }\n",
              "\n",
              "    [theme=dark] .colab-df-convert:hover {\n",
              "      background-color: #434B5C;\n",
              "      box-shadow: 0px 1px 3px 1px rgba(0, 0, 0, 0.15);\n",
              "      filter: drop-shadow(0px 1px 2px rgba(0, 0, 0, 0.3));\n",
              "      fill: #FFFFFF;\n",
              "    }\n",
              "  </style>\n",
              "\n",
              "      <script>\n",
              "        const buttonEl =\n",
              "          document.querySelector('#df-961530b5-0ce4-4b5e-81b1-173def97f81e button.colab-df-convert');\n",
              "        buttonEl.style.display =\n",
              "          google.colab.kernel.accessAllowed ? 'block' : 'none';\n",
              "\n",
              "        async function convertToInteractive(key) {\n",
              "          const element = document.querySelector('#df-961530b5-0ce4-4b5e-81b1-173def97f81e');\n",
              "          const dataTable =\n",
              "            await google.colab.kernel.invokeFunction('convertToInteractive',\n",
              "                                                     [key], {});\n",
              "          if (!dataTable) return;\n",
              "\n",
              "          const docLinkHtml = 'Like what you see? Visit the ' +\n",
              "            '<a target=\"_blank\" href=https://colab.research.google.com/notebooks/data_table.ipynb>data table notebook</a>'\n",
              "            + ' to learn more about interactive tables.';\n",
              "          element.innerHTML = '';\n",
              "          dataTable['output_type'] = 'display_data';\n",
              "          await google.colab.output.renderOutput(dataTable, element);\n",
              "          const docLink = document.createElement('div');\n",
              "          docLink.innerHTML = docLinkHtml;\n",
              "          element.appendChild(docLink);\n",
              "        }\n",
              "      </script>\n",
              "    </div>\n",
              "  </div>\n",
              "  "
            ],
            "text/plain": [
              "   Unnamed: 0  Unnamed: 0.1 loan_status  ...  Month  weekend deadline\n",
              "0           0             0     PAIDOFF  ...     10        0  29 days\n",
              "1           2             2     PAIDOFF  ...     10        0  29 days\n",
              "2           3             3     PAIDOFF  ...      9        0  14 days\n",
              "3           4             4     PAIDOFF  ...     10        1  29 days\n",
              "4           6             6     PAIDOFF  ...     10        1  29 days\n",
              "\n",
              "[5 rows x 14 columns]"
            ]
          },
          "metadata": {},
          "execution_count": 17
        }
      ]
    },
    {
      "cell_type": "code",
      "metadata": {
        "colab": {
          "base_uri": "https://localhost:8080/",
          "height": 143
        },
        "id": "0P4cWrgcIqmA",
        "outputId": "10e965f1-4dfc-4650-db1c-aea79c096f0d"
      },
      "source": [
        "df['deadline']=df['deadline'].dt.days\n",
        "df.head(3)"
      ],
      "execution_count": 18,
      "outputs": [
        {
          "output_type": "execute_result",
          "data": {
            "text/html": [
              "\n",
              "  <div id=\"df-04f4cadc-6a7d-4d5b-964a-1aeaaf4881c6\">\n",
              "    <div class=\"colab-df-container\">\n",
              "      <div>\n",
              "<style scoped>\n",
              "    .dataframe tbody tr th:only-of-type {\n",
              "        vertical-align: middle;\n",
              "    }\n",
              "\n",
              "    .dataframe tbody tr th {\n",
              "        vertical-align: top;\n",
              "    }\n",
              "\n",
              "    .dataframe thead th {\n",
              "        text-align: right;\n",
              "    }\n",
              "</style>\n",
              "<table border=\"1\" class=\"dataframe\">\n",
              "  <thead>\n",
              "    <tr style=\"text-align: right;\">\n",
              "      <th></th>\n",
              "      <th>Unnamed: 0</th>\n",
              "      <th>Unnamed: 0.1</th>\n",
              "      <th>loan_status</th>\n",
              "      <th>Principal</th>\n",
              "      <th>terms</th>\n",
              "      <th>effective_date</th>\n",
              "      <th>due_date</th>\n",
              "      <th>age</th>\n",
              "      <th>education</th>\n",
              "      <th>Gender</th>\n",
              "      <th>dayofweek</th>\n",
              "      <th>Month</th>\n",
              "      <th>weekend</th>\n",
              "      <th>deadline</th>\n",
              "    </tr>\n",
              "  </thead>\n",
              "  <tbody>\n",
              "    <tr>\n",
              "      <th>0</th>\n",
              "      <td>0</td>\n",
              "      <td>0</td>\n",
              "      <td>PAIDOFF</td>\n",
              "      <td>1000</td>\n",
              "      <td>30</td>\n",
              "      <td>2016-09-08</td>\n",
              "      <td>2016-10-07</td>\n",
              "      <td>45</td>\n",
              "      <td>High School or Below</td>\n",
              "      <td>0</td>\n",
              "      <td>3</td>\n",
              "      <td>10</td>\n",
              "      <td>0</td>\n",
              "      <td>29</td>\n",
              "    </tr>\n",
              "    <tr>\n",
              "      <th>1</th>\n",
              "      <td>2</td>\n",
              "      <td>2</td>\n",
              "      <td>PAIDOFF</td>\n",
              "      <td>1000</td>\n",
              "      <td>30</td>\n",
              "      <td>2016-09-08</td>\n",
              "      <td>2016-10-07</td>\n",
              "      <td>33</td>\n",
              "      <td>Bechalor</td>\n",
              "      <td>1</td>\n",
              "      <td>3</td>\n",
              "      <td>10</td>\n",
              "      <td>0</td>\n",
              "      <td>29</td>\n",
              "    </tr>\n",
              "    <tr>\n",
              "      <th>2</th>\n",
              "      <td>3</td>\n",
              "      <td>3</td>\n",
              "      <td>PAIDOFF</td>\n",
              "      <td>1000</td>\n",
              "      <td>15</td>\n",
              "      <td>2016-09-08</td>\n",
              "      <td>2016-09-22</td>\n",
              "      <td>27</td>\n",
              "      <td>college</td>\n",
              "      <td>0</td>\n",
              "      <td>3</td>\n",
              "      <td>9</td>\n",
              "      <td>0</td>\n",
              "      <td>14</td>\n",
              "    </tr>\n",
              "  </tbody>\n",
              "</table>\n",
              "</div>\n",
              "      <button class=\"colab-df-convert\" onclick=\"convertToInteractive('df-04f4cadc-6a7d-4d5b-964a-1aeaaf4881c6')\"\n",
              "              title=\"Convert this dataframe to an interactive table.\"\n",
              "              style=\"display:none;\">\n",
              "        \n",
              "  <svg xmlns=\"http://www.w3.org/2000/svg\" height=\"24px\"viewBox=\"0 0 24 24\"\n",
              "       width=\"24px\">\n",
              "    <path d=\"M0 0h24v24H0V0z\" fill=\"none\"/>\n",
              "    <path d=\"M18.56 5.44l.94 2.06.94-2.06 2.06-.94-2.06-.94-.94-2.06-.94 2.06-2.06.94zm-11 1L8.5 8.5l.94-2.06 2.06-.94-2.06-.94L8.5 2.5l-.94 2.06-2.06.94zm10 10l.94 2.06.94-2.06 2.06-.94-2.06-.94-.94-2.06-.94 2.06-2.06.94z\"/><path d=\"M17.41 7.96l-1.37-1.37c-.4-.4-.92-.59-1.43-.59-.52 0-1.04.2-1.43.59L10.3 9.45l-7.72 7.72c-.78.78-.78 2.05 0 2.83L4 21.41c.39.39.9.59 1.41.59.51 0 1.02-.2 1.41-.59l7.78-7.78 2.81-2.81c.8-.78.8-2.07 0-2.86zM5.41 20L4 18.59l7.72-7.72 1.47 1.35L5.41 20z\"/>\n",
              "  </svg>\n",
              "      </button>\n",
              "      \n",
              "  <style>\n",
              "    .colab-df-container {\n",
              "      display:flex;\n",
              "      flex-wrap:wrap;\n",
              "      gap: 12px;\n",
              "    }\n",
              "\n",
              "    .colab-df-convert {\n",
              "      background-color: #E8F0FE;\n",
              "      border: none;\n",
              "      border-radius: 50%;\n",
              "      cursor: pointer;\n",
              "      display: none;\n",
              "      fill: #1967D2;\n",
              "      height: 32px;\n",
              "      padding: 0 0 0 0;\n",
              "      width: 32px;\n",
              "    }\n",
              "\n",
              "    .colab-df-convert:hover {\n",
              "      background-color: #E2EBFA;\n",
              "      box-shadow: 0px 1px 2px rgba(60, 64, 67, 0.3), 0px 1px 3px 1px rgba(60, 64, 67, 0.15);\n",
              "      fill: #174EA6;\n",
              "    }\n",
              "\n",
              "    [theme=dark] .colab-df-convert {\n",
              "      background-color: #3B4455;\n",
              "      fill: #D2E3FC;\n",
              "    }\n",
              "\n",
              "    [theme=dark] .colab-df-convert:hover {\n",
              "      background-color: #434B5C;\n",
              "      box-shadow: 0px 1px 3px 1px rgba(0, 0, 0, 0.15);\n",
              "      filter: drop-shadow(0px 1px 2px rgba(0, 0, 0, 0.3));\n",
              "      fill: #FFFFFF;\n",
              "    }\n",
              "  </style>\n",
              "\n",
              "      <script>\n",
              "        const buttonEl =\n",
              "          document.querySelector('#df-04f4cadc-6a7d-4d5b-964a-1aeaaf4881c6 button.colab-df-convert');\n",
              "        buttonEl.style.display =\n",
              "          google.colab.kernel.accessAllowed ? 'block' : 'none';\n",
              "\n",
              "        async function convertToInteractive(key) {\n",
              "          const element = document.querySelector('#df-04f4cadc-6a7d-4d5b-964a-1aeaaf4881c6');\n",
              "          const dataTable =\n",
              "            await google.colab.kernel.invokeFunction('convertToInteractive',\n",
              "                                                     [key], {});\n",
              "          if (!dataTable) return;\n",
              "\n",
              "          const docLinkHtml = 'Like what you see? Visit the ' +\n",
              "            '<a target=\"_blank\" href=https://colab.research.google.com/notebooks/data_table.ipynb>data table notebook</a>'\n",
              "            + ' to learn more about interactive tables.';\n",
              "          element.innerHTML = '';\n",
              "          dataTable['output_type'] = 'display_data';\n",
              "          await google.colab.output.renderOutput(dataTable, element);\n",
              "          const docLink = document.createElement('div');\n",
              "          docLink.innerHTML = docLinkHtml;\n",
              "          element.appendChild(docLink);\n",
              "        }\n",
              "      </script>\n",
              "    </div>\n",
              "  </div>\n",
              "  "
            ],
            "text/plain": [
              "   Unnamed: 0  Unnamed: 0.1 loan_status  ...  Month  weekend deadline\n",
              "0           0             0     PAIDOFF  ...     10        0       29\n",
              "1           2             2     PAIDOFF  ...     10        0       29\n",
              "2           3             3     PAIDOFF  ...      9        0       14\n",
              "\n",
              "[3 rows x 14 columns]"
            ]
          },
          "metadata": {},
          "execution_count": 18
        }
      ]
    },
    {
      "cell_type": "code",
      "metadata": {
        "button": false,
        "new_sheet": false,
        "run_control": {
          "read_only": false
        },
        "colab": {
          "base_uri": "https://localhost:8080/"
        },
        "id": "ll2pLxFZIqmB",
        "outputId": "d3b18edc-5741-4bc8-fc81-88cfd3c0c43c"
      },
      "source": [
        "df.groupby(['education'])['loan_status'].value_counts(normalize=True)"
      ],
      "execution_count": 19,
      "outputs": [
        {
          "output_type": "execute_result",
          "data": {
            "text/plain": [
              "education             loan_status\n",
              "Bechalor              PAIDOFF        0.750000\n",
              "                      COLLECTION     0.250000\n",
              "High School or Below  PAIDOFF        0.741722\n",
              "                      COLLECTION     0.258278\n",
              "Master or Above       COLLECTION     0.500000\n",
              "                      PAIDOFF        0.500000\n",
              "college               PAIDOFF        0.765101\n",
              "                      COLLECTION     0.234899\n",
              "Name: loan_status, dtype: float64"
            ]
          },
          "metadata": {},
          "execution_count": 19
        }
      ]
    },
    {
      "cell_type": "code",
      "metadata": {
        "colab": {
          "base_uri": "https://localhost:8080/"
        },
        "id": "y_4AuCmkIqmB",
        "outputId": "94c5adff-663d-4291-d449-8119c4b635f1"
      },
      "source": [
        "len(df[df.education=='Master or Above'])"
      ],
      "execution_count": 20,
      "outputs": [
        {
          "output_type": "execute_result",
          "data": {
            "text/plain": [
              "2"
            ]
          },
          "metadata": {},
          "execution_count": 20
        }
      ]
    },
    {
      "cell_type": "code",
      "metadata": {
        "button": false,
        "new_sheet": false,
        "run_control": {
          "read_only": false
        },
        "colab": {
          "base_uri": "https://localhost:8080/",
          "height": 206
        },
        "id": "bgBXK-cNIqmB",
        "outputId": "eca84f4b-c9bd-4ced-aefc-0f1df886f0c7"
      },
      "source": [
        "Feature = df[['Principal','terms','age','Gender','weekend','dayofweek']]\n",
        "Feature = pd.concat([Feature,pd.get_dummies(df['education'])], axis=1)\n",
        "Feature.drop(['Master or Above'], axis = 1,inplace=True)\n",
        "Feature.head()"
      ],
      "execution_count": 21,
      "outputs": [
        {
          "output_type": "execute_result",
          "data": {
            "text/html": [
              "\n",
              "  <div id=\"df-d5d54428-4398-40ba-aa0b-958f7ef051b5\">\n",
              "    <div class=\"colab-df-container\">\n",
              "      <div>\n",
              "<style scoped>\n",
              "    .dataframe tbody tr th:only-of-type {\n",
              "        vertical-align: middle;\n",
              "    }\n",
              "\n",
              "    .dataframe tbody tr th {\n",
              "        vertical-align: top;\n",
              "    }\n",
              "\n",
              "    .dataframe thead th {\n",
              "        text-align: right;\n",
              "    }\n",
              "</style>\n",
              "<table border=\"1\" class=\"dataframe\">\n",
              "  <thead>\n",
              "    <tr style=\"text-align: right;\">\n",
              "      <th></th>\n",
              "      <th>Principal</th>\n",
              "      <th>terms</th>\n",
              "      <th>age</th>\n",
              "      <th>Gender</th>\n",
              "      <th>weekend</th>\n",
              "      <th>dayofweek</th>\n",
              "      <th>Bechalor</th>\n",
              "      <th>High School or Below</th>\n",
              "      <th>college</th>\n",
              "    </tr>\n",
              "  </thead>\n",
              "  <tbody>\n",
              "    <tr>\n",
              "      <th>0</th>\n",
              "      <td>1000</td>\n",
              "      <td>30</td>\n",
              "      <td>45</td>\n",
              "      <td>0</td>\n",
              "      <td>0</td>\n",
              "      <td>3</td>\n",
              "      <td>0</td>\n",
              "      <td>1</td>\n",
              "      <td>0</td>\n",
              "    </tr>\n",
              "    <tr>\n",
              "      <th>1</th>\n",
              "      <td>1000</td>\n",
              "      <td>30</td>\n",
              "      <td>33</td>\n",
              "      <td>1</td>\n",
              "      <td>0</td>\n",
              "      <td>3</td>\n",
              "      <td>1</td>\n",
              "      <td>0</td>\n",
              "      <td>0</td>\n",
              "    </tr>\n",
              "    <tr>\n",
              "      <th>2</th>\n",
              "      <td>1000</td>\n",
              "      <td>15</td>\n",
              "      <td>27</td>\n",
              "      <td>0</td>\n",
              "      <td>0</td>\n",
              "      <td>3</td>\n",
              "      <td>0</td>\n",
              "      <td>0</td>\n",
              "      <td>1</td>\n",
              "    </tr>\n",
              "    <tr>\n",
              "      <th>3</th>\n",
              "      <td>1000</td>\n",
              "      <td>30</td>\n",
              "      <td>28</td>\n",
              "      <td>1</td>\n",
              "      <td>1</td>\n",
              "      <td>4</td>\n",
              "      <td>0</td>\n",
              "      <td>0</td>\n",
              "      <td>1</td>\n",
              "    </tr>\n",
              "    <tr>\n",
              "      <th>4</th>\n",
              "      <td>1000</td>\n",
              "      <td>30</td>\n",
              "      <td>29</td>\n",
              "      <td>0</td>\n",
              "      <td>1</td>\n",
              "      <td>4</td>\n",
              "      <td>0</td>\n",
              "      <td>0</td>\n",
              "      <td>1</td>\n",
              "    </tr>\n",
              "  </tbody>\n",
              "</table>\n",
              "</div>\n",
              "      <button class=\"colab-df-convert\" onclick=\"convertToInteractive('df-d5d54428-4398-40ba-aa0b-958f7ef051b5')\"\n",
              "              title=\"Convert this dataframe to an interactive table.\"\n",
              "              style=\"display:none;\">\n",
              "        \n",
              "  <svg xmlns=\"http://www.w3.org/2000/svg\" height=\"24px\"viewBox=\"0 0 24 24\"\n",
              "       width=\"24px\">\n",
              "    <path d=\"M0 0h24v24H0V0z\" fill=\"none\"/>\n",
              "    <path d=\"M18.56 5.44l.94 2.06.94-2.06 2.06-.94-2.06-.94-.94-2.06-.94 2.06-2.06.94zm-11 1L8.5 8.5l.94-2.06 2.06-.94-2.06-.94L8.5 2.5l-.94 2.06-2.06.94zm10 10l.94 2.06.94-2.06 2.06-.94-2.06-.94-.94-2.06-.94 2.06-2.06.94z\"/><path d=\"M17.41 7.96l-1.37-1.37c-.4-.4-.92-.59-1.43-.59-.52 0-1.04.2-1.43.59L10.3 9.45l-7.72 7.72c-.78.78-.78 2.05 0 2.83L4 21.41c.39.39.9.59 1.41.59.51 0 1.02-.2 1.41-.59l7.78-7.78 2.81-2.81c.8-.78.8-2.07 0-2.86zM5.41 20L4 18.59l7.72-7.72 1.47 1.35L5.41 20z\"/>\n",
              "  </svg>\n",
              "      </button>\n",
              "      \n",
              "  <style>\n",
              "    .colab-df-container {\n",
              "      display:flex;\n",
              "      flex-wrap:wrap;\n",
              "      gap: 12px;\n",
              "    }\n",
              "\n",
              "    .colab-df-convert {\n",
              "      background-color: #E8F0FE;\n",
              "      border: none;\n",
              "      border-radius: 50%;\n",
              "      cursor: pointer;\n",
              "      display: none;\n",
              "      fill: #1967D2;\n",
              "      height: 32px;\n",
              "      padding: 0 0 0 0;\n",
              "      width: 32px;\n",
              "    }\n",
              "\n",
              "    .colab-df-convert:hover {\n",
              "      background-color: #E2EBFA;\n",
              "      box-shadow: 0px 1px 2px rgba(60, 64, 67, 0.3), 0px 1px 3px 1px rgba(60, 64, 67, 0.15);\n",
              "      fill: #174EA6;\n",
              "    }\n",
              "\n",
              "    [theme=dark] .colab-df-convert {\n",
              "      background-color: #3B4455;\n",
              "      fill: #D2E3FC;\n",
              "    }\n",
              "\n",
              "    [theme=dark] .colab-df-convert:hover {\n",
              "      background-color: #434B5C;\n",
              "      box-shadow: 0px 1px 3px 1px rgba(0, 0, 0, 0.15);\n",
              "      filter: drop-shadow(0px 1px 2px rgba(0, 0, 0, 0.3));\n",
              "      fill: #FFFFFF;\n",
              "    }\n",
              "  </style>\n",
              "\n",
              "      <script>\n",
              "        const buttonEl =\n",
              "          document.querySelector('#df-d5d54428-4398-40ba-aa0b-958f7ef051b5 button.colab-df-convert');\n",
              "        buttonEl.style.display =\n",
              "          google.colab.kernel.accessAllowed ? 'block' : 'none';\n",
              "\n",
              "        async function convertToInteractive(key) {\n",
              "          const element = document.querySelector('#df-d5d54428-4398-40ba-aa0b-958f7ef051b5');\n",
              "          const dataTable =\n",
              "            await google.colab.kernel.invokeFunction('convertToInteractive',\n",
              "                                                     [key], {});\n",
              "          if (!dataTable) return;\n",
              "\n",
              "          const docLinkHtml = 'Like what you see? Visit the ' +\n",
              "            '<a target=\"_blank\" href=https://colab.research.google.com/notebooks/data_table.ipynb>data table notebook</a>'\n",
              "            + ' to learn more about interactive tables.';\n",
              "          element.innerHTML = '';\n",
              "          dataTable['output_type'] = 'display_data';\n",
              "          await google.colab.output.renderOutput(dataTable, element);\n",
              "          const docLink = document.createElement('div');\n",
              "          docLink.innerHTML = docLinkHtml;\n",
              "          element.appendChild(docLink);\n",
              "        }\n",
              "      </script>\n",
              "    </div>\n",
              "  </div>\n",
              "  "
            ],
            "text/plain": [
              "   Principal  terms  age  ...  Bechalor  High School or Below  college\n",
              "0       1000     30   45  ...         0                     1        0\n",
              "1       1000     30   33  ...         1                     0        0\n",
              "2       1000     15   27  ...         0                     0        1\n",
              "3       1000     30   28  ...         0                     0        1\n",
              "4       1000     30   29  ...         0                     0        1\n",
              "\n",
              "[5 rows x 9 columns]"
            ]
          },
          "metadata": {},
          "execution_count": 21
        }
      ]
    },
    {
      "cell_type": "markdown",
      "metadata": {
        "button": false,
        "new_sheet": false,
        "run_control": {
          "read_only": false
        },
        "id": "kuNm9aB2IqmB"
      },
      "source": [
        "## Feature selection"
      ]
    },
    {
      "cell_type": "code",
      "metadata": {
        "button": false,
        "new_sheet": false,
        "run_control": {
          "read_only": false
        },
        "colab": {
          "base_uri": "https://localhost:8080/",
          "height": 206
        },
        "id": "-ncnzBcIIqmC",
        "outputId": "c9d3d610-cefc-49e0-d699-d59e4bf3d0f0"
      },
      "source": [
        "X = Feature\n",
        "X[0:5]"
      ],
      "execution_count": 22,
      "outputs": [
        {
          "output_type": "execute_result",
          "data": {
            "text/html": [
              "\n",
              "  <div id=\"df-eebb27ca-b9e9-44a2-a8f3-58105f19a877\">\n",
              "    <div class=\"colab-df-container\">\n",
              "      <div>\n",
              "<style scoped>\n",
              "    .dataframe tbody tr th:only-of-type {\n",
              "        vertical-align: middle;\n",
              "    }\n",
              "\n",
              "    .dataframe tbody tr th {\n",
              "        vertical-align: top;\n",
              "    }\n",
              "\n",
              "    .dataframe thead th {\n",
              "        text-align: right;\n",
              "    }\n",
              "</style>\n",
              "<table border=\"1\" class=\"dataframe\">\n",
              "  <thead>\n",
              "    <tr style=\"text-align: right;\">\n",
              "      <th></th>\n",
              "      <th>Principal</th>\n",
              "      <th>terms</th>\n",
              "      <th>age</th>\n",
              "      <th>Gender</th>\n",
              "      <th>weekend</th>\n",
              "      <th>dayofweek</th>\n",
              "      <th>Bechalor</th>\n",
              "      <th>High School or Below</th>\n",
              "      <th>college</th>\n",
              "    </tr>\n",
              "  </thead>\n",
              "  <tbody>\n",
              "    <tr>\n",
              "      <th>0</th>\n",
              "      <td>1000</td>\n",
              "      <td>30</td>\n",
              "      <td>45</td>\n",
              "      <td>0</td>\n",
              "      <td>0</td>\n",
              "      <td>3</td>\n",
              "      <td>0</td>\n",
              "      <td>1</td>\n",
              "      <td>0</td>\n",
              "    </tr>\n",
              "    <tr>\n",
              "      <th>1</th>\n",
              "      <td>1000</td>\n",
              "      <td>30</td>\n",
              "      <td>33</td>\n",
              "      <td>1</td>\n",
              "      <td>0</td>\n",
              "      <td>3</td>\n",
              "      <td>1</td>\n",
              "      <td>0</td>\n",
              "      <td>0</td>\n",
              "    </tr>\n",
              "    <tr>\n",
              "      <th>2</th>\n",
              "      <td>1000</td>\n",
              "      <td>15</td>\n",
              "      <td>27</td>\n",
              "      <td>0</td>\n",
              "      <td>0</td>\n",
              "      <td>3</td>\n",
              "      <td>0</td>\n",
              "      <td>0</td>\n",
              "      <td>1</td>\n",
              "    </tr>\n",
              "    <tr>\n",
              "      <th>3</th>\n",
              "      <td>1000</td>\n",
              "      <td>30</td>\n",
              "      <td>28</td>\n",
              "      <td>1</td>\n",
              "      <td>1</td>\n",
              "      <td>4</td>\n",
              "      <td>0</td>\n",
              "      <td>0</td>\n",
              "      <td>1</td>\n",
              "    </tr>\n",
              "    <tr>\n",
              "      <th>4</th>\n",
              "      <td>1000</td>\n",
              "      <td>30</td>\n",
              "      <td>29</td>\n",
              "      <td>0</td>\n",
              "      <td>1</td>\n",
              "      <td>4</td>\n",
              "      <td>0</td>\n",
              "      <td>0</td>\n",
              "      <td>1</td>\n",
              "    </tr>\n",
              "  </tbody>\n",
              "</table>\n",
              "</div>\n",
              "      <button class=\"colab-df-convert\" onclick=\"convertToInteractive('df-eebb27ca-b9e9-44a2-a8f3-58105f19a877')\"\n",
              "              title=\"Convert this dataframe to an interactive table.\"\n",
              "              style=\"display:none;\">\n",
              "        \n",
              "  <svg xmlns=\"http://www.w3.org/2000/svg\" height=\"24px\"viewBox=\"0 0 24 24\"\n",
              "       width=\"24px\">\n",
              "    <path d=\"M0 0h24v24H0V0z\" fill=\"none\"/>\n",
              "    <path d=\"M18.56 5.44l.94 2.06.94-2.06 2.06-.94-2.06-.94-.94-2.06-.94 2.06-2.06.94zm-11 1L8.5 8.5l.94-2.06 2.06-.94-2.06-.94L8.5 2.5l-.94 2.06-2.06.94zm10 10l.94 2.06.94-2.06 2.06-.94-2.06-.94-.94-2.06-.94 2.06-2.06.94z\"/><path d=\"M17.41 7.96l-1.37-1.37c-.4-.4-.92-.59-1.43-.59-.52 0-1.04.2-1.43.59L10.3 9.45l-7.72 7.72c-.78.78-.78 2.05 0 2.83L4 21.41c.39.39.9.59 1.41.59.51 0 1.02-.2 1.41-.59l7.78-7.78 2.81-2.81c.8-.78.8-2.07 0-2.86zM5.41 20L4 18.59l7.72-7.72 1.47 1.35L5.41 20z\"/>\n",
              "  </svg>\n",
              "      </button>\n",
              "      \n",
              "  <style>\n",
              "    .colab-df-container {\n",
              "      display:flex;\n",
              "      flex-wrap:wrap;\n",
              "      gap: 12px;\n",
              "    }\n",
              "\n",
              "    .colab-df-convert {\n",
              "      background-color: #E8F0FE;\n",
              "      border: none;\n",
              "      border-radius: 50%;\n",
              "      cursor: pointer;\n",
              "      display: none;\n",
              "      fill: #1967D2;\n",
              "      height: 32px;\n",
              "      padding: 0 0 0 0;\n",
              "      width: 32px;\n",
              "    }\n",
              "\n",
              "    .colab-df-convert:hover {\n",
              "      background-color: #E2EBFA;\n",
              "      box-shadow: 0px 1px 2px rgba(60, 64, 67, 0.3), 0px 1px 3px 1px rgba(60, 64, 67, 0.15);\n",
              "      fill: #174EA6;\n",
              "    }\n",
              "\n",
              "    [theme=dark] .colab-df-convert {\n",
              "      background-color: #3B4455;\n",
              "      fill: #D2E3FC;\n",
              "    }\n",
              "\n",
              "    [theme=dark] .colab-df-convert:hover {\n",
              "      background-color: #434B5C;\n",
              "      box-shadow: 0px 1px 3px 1px rgba(0, 0, 0, 0.15);\n",
              "      filter: drop-shadow(0px 1px 2px rgba(0, 0, 0, 0.3));\n",
              "      fill: #FFFFFF;\n",
              "    }\n",
              "  </style>\n",
              "\n",
              "      <script>\n",
              "        const buttonEl =\n",
              "          document.querySelector('#df-eebb27ca-b9e9-44a2-a8f3-58105f19a877 button.colab-df-convert');\n",
              "        buttonEl.style.display =\n",
              "          google.colab.kernel.accessAllowed ? 'block' : 'none';\n",
              "\n",
              "        async function convertToInteractive(key) {\n",
              "          const element = document.querySelector('#df-eebb27ca-b9e9-44a2-a8f3-58105f19a877');\n",
              "          const dataTable =\n",
              "            await google.colab.kernel.invokeFunction('convertToInteractive',\n",
              "                                                     [key], {});\n",
              "          if (!dataTable) return;\n",
              "\n",
              "          const docLinkHtml = 'Like what you see? Visit the ' +\n",
              "            '<a target=\"_blank\" href=https://colab.research.google.com/notebooks/data_table.ipynb>data table notebook</a>'\n",
              "            + ' to learn more about interactive tables.';\n",
              "          element.innerHTML = '';\n",
              "          dataTable['output_type'] = 'display_data';\n",
              "          await google.colab.output.renderOutput(dataTable, element);\n",
              "          const docLink = document.createElement('div');\n",
              "          docLink.innerHTML = docLinkHtml;\n",
              "          element.appendChild(docLink);\n",
              "        }\n",
              "      </script>\n",
              "    </div>\n",
              "  </div>\n",
              "  "
            ],
            "text/plain": [
              "   Principal  terms  age  ...  Bechalor  High School or Below  college\n",
              "0       1000     30   45  ...         0                     1        0\n",
              "1       1000     30   33  ...         1                     0        0\n",
              "2       1000     15   27  ...         0                     0        1\n",
              "3       1000     30   28  ...         0                     0        1\n",
              "4       1000     30   29  ...         0                     0        1\n",
              "\n",
              "[5 rows x 9 columns]"
            ]
          },
          "metadata": {},
          "execution_count": 22
        }
      ]
    },
    {
      "cell_type": "markdown",
      "metadata": {
        "button": false,
        "new_sheet": false,
        "run_control": {
          "read_only": false
        },
        "id": "7jCoSGr4IqmC"
      },
      "source": [
        "### Our labels"
      ]
    },
    {
      "cell_type": "code",
      "metadata": {
        "button": false,
        "new_sheet": false,
        "run_control": {
          "read_only": false
        },
        "colab": {
          "base_uri": "https://localhost:8080/"
        },
        "id": "NHWj4e66IqmC",
        "outputId": "6a481f49-5d82-4690-b08a-8f684b935aa8"
      },
      "source": [
        "y = df['loan_status'].replace(to_replace=['PAIDOFF','COLLECTION'], value=[0,1]).values\n",
        "y[0:5]"
      ],
      "execution_count": 23,
      "outputs": [
        {
          "output_type": "execute_result",
          "data": {
            "text/plain": [
              "array([0, 0, 0, 0, 0])"
            ]
          },
          "metadata": {},
          "execution_count": 23
        }
      ]
    },
    {
      "cell_type": "markdown",
      "metadata": {
        "button": false,
        "new_sheet": false,
        "run_control": {
          "read_only": false
        },
        "id": "ZY0zyIeMIqmC"
      },
      "source": [
        "## Normalize Data "
      ]
    },
    {
      "cell_type": "code",
      "metadata": {
        "button": false,
        "new_sheet": false,
        "run_control": {
          "read_only": false
        },
        "colab": {
          "base_uri": "https://localhost:8080/"
        },
        "id": "1zqevwiFIqmC",
        "outputId": "cf6a0ed4-9b08-4f2a-ed27-56e4d59903a4"
      },
      "source": [
        "X= preprocessing.StandardScaler().fit_transform(X)\n",
        "X[0:5]"
      ],
      "execution_count": 24,
      "outputs": [
        {
          "output_type": "execute_result",
          "data": {
            "text/plain": [
              "array([[ 0.51578458,  0.92071769,  2.33152555, -0.42056004, -1.20577805,\n",
              "        -0.26122054, -0.38170062,  1.13639374, -0.86968108],\n",
              "       [ 0.51578458,  0.92071769,  0.34170148,  2.37778177, -1.20577805,\n",
              "        -0.26122054,  2.61985426, -0.87997669, -0.86968108],\n",
              "       [ 0.51578458, -0.95911111, -0.65321055, -0.42056004, -1.20577805,\n",
              "        -0.26122054, -0.38170062, -0.87997669,  1.14984679],\n",
              "       [ 0.51578458,  0.92071769, -0.48739188,  2.37778177,  0.82934003,\n",
              "         0.12175534, -0.38170062, -0.87997669,  1.14984679],\n",
              "       [ 0.51578458,  0.92071769, -0.3215732 , -0.42056004,  0.82934003,\n",
              "         0.12175534, -0.38170062, -0.87997669,  1.14984679]])"
            ]
          },
          "metadata": {},
          "execution_count": 24
        }
      ]
    },
    {
      "cell_type": "code",
      "metadata": {
        "id": "TVdVQJXmIqmD"
      },
      "source": [
        "# import scoring methods\n",
        "# from sklearn.metrics import jaccard_similarity_score\n",
        "from sklearn.metrics import jaccard_score as jaccard_similarity_score\n",
        "from sklearn.metrics import f1_score\n",
        "from sklearn.metrics import log_loss\n",
        "from sklearn.model_selection import cross_val_score"
      ],
      "execution_count": 28,
      "outputs": []
    },
    {
      "cell_type": "code",
      "metadata": {
        "id": "H4xZE3g8IqmD"
      },
      "source": [
        "# our data for training (used '_train' just for improving readability)\n",
        "X_train, y_train=X,y"
      ],
      "execution_count": 29,
      "outputs": []
    },
    {
      "cell_type": "code",
      "metadata": {
        "colab": {
          "base_uri": "https://localhost:8080/"
        },
        "id": "BOvPVAT3IqmD",
        "outputId": "1fe26a8c-2c15-472a-a069-a208c5a98b8a"
      },
      "source": [
        "X_train.shape, y_train.shape"
      ],
      "execution_count": 30,
      "outputs": [
        {
          "output_type": "execute_result",
          "data": {
            "text/plain": [
              "((346, 9), (346,))"
            ]
          },
          "metadata": {},
          "execution_count": 30
        }
      ]
    },
    {
      "cell_type": "code",
      "metadata": {
        "id": "vClEAhdZIqmD"
      },
      "source": [
        "# a dictionary for keeping all scores of the classifiers\n",
        "trainScores={}"
      ],
      "execution_count": 31,
      "outputs": []
    },
    {
      "cell_type": "markdown",
      "metadata": {
        "id": "WkWj2Z1CIqmE"
      },
      "source": [
        "# K Nearest Neighbor(KNN)"
      ]
    },
    {
      "cell_type": "code",
      "metadata": {
        "colab": {
          "base_uri": "https://localhost:8080/"
        },
        "id": "Ce4enGbBIqmE",
        "outputId": "5c12ce6f-1326-46cb-82ef-2b86fb419ced"
      },
      "source": [
        "from sklearn.neighbors import KNeighborsClassifier\n",
        "\n",
        "bestScore=0.0\n",
        "accList=[]\n",
        "\n",
        "for k in range(3,12):\n",
        "    \n",
        "    clf_knn = KNeighborsClassifier(n_neighbors=k,algorithm='auto')\n",
        "    \n",
        "    # using 10 fold cross validation for scoring the classifier's accuracy\n",
        "    scores = cross_val_score(clf_knn, X, y, cv=10)\n",
        "    score=scores.mean()\n",
        "    accList.append(score)\n",
        "    \n",
        "    if score > bestScore:\n",
        "        bestScore=score\n",
        "        best_clf=clf_knn\n",
        "        bestK=k\n",
        "        \n",
        "print(\"Best K is :\",bestK,\"| Cross validation Accuracy :\",bestScore)\n",
        "clf_knn=best_clf"
      ],
      "execution_count": 32,
      "outputs": [
        {
          "output_type": "stream",
          "name": "stdout",
          "text": [
            "Best K is : 8 | Cross validation Accuracy : 0.7550420168067227\n"
          ]
        }
      ]
    },
    {
      "cell_type": "code",
      "metadata": {
        "id": "FYs53Zs3IqmE"
      },
      "source": [
        "clf_knn.fit(X_train,y_train)\n",
        "y_pred=best_clf.predict(X_train)"
      ],
      "execution_count": 33,
      "outputs": []
    },
    {
      "cell_type": "code",
      "metadata": {
        "id": "MdPz4U2qIqmE"
      },
      "source": [
        "trainScores['KNN-jaccard']=jaccard_similarity_score(y_train, y_pred)\n",
        "trainScores['KNN-f1-score']=f1_score(y_train, y_pred, average='weighted')  "
      ],
      "execution_count": 34,
      "outputs": []
    },
    {
      "cell_type": "code",
      "metadata": {
        "colab": {
          "base_uri": "https://localhost:8080/"
        },
        "id": "edtTkiLEIqmE",
        "outputId": "6e5d7def-ef72-4a75-d15a-94dd5f9074d9"
      },
      "source": [
        "trainScores"
      ],
      "execution_count": 35,
      "outputs": [
        {
          "output_type": "execute_result",
          "data": {
            "text/plain": [
              "{'KNN-f1-score': 0.7557778341903834, 'KNN-jaccard': 0.26}"
            ]
          },
          "metadata": {},
          "execution_count": 35
        }
      ]
    },
    {
      "cell_type": "code",
      "metadata": {
        "colab": {
          "base_uri": "https://localhost:8080/",
          "height": 279
        },
        "id": "ek383hblIqmF",
        "outputId": "8828d993-e9fa-4bb0-e659-314dc299e4a6"
      },
      "source": [
        "plt.plot(range(3,12),accList)\n",
        "plt.xlabel('K')\n",
        "plt.ylabel('CV Accuracy')\n",
        "plt.show()"
      ],
      "execution_count": 36,
      "outputs": [
        {
          "output_type": "display_data",
          "data": {
            "image/png": "[encoded data removed]",
            "text/plain": [
              "<Figure size 432x288 with 1 Axes>"
            ]
          },
          "metadata": {
            "needs_background": "light"
          }
        }
      ]
    },
    {
      "cell_type": "markdown",
      "metadata": {
        "id": "PK0t3feoIqmF"
      },
      "source": [
        "# Decision Tree"
      ]
    },
    {
      "cell_type": "code",
      "metadata": {
        "id": "uKQufTPEIqmF"
      },
      "source": [
        "from sklearn import tree\n",
        "\n",
        "clf_tree = tree.DecisionTreeClassifier()\n",
        "clf_tree = clf_tree.fit(X_train, y_train)\n",
        "\n",
        "y_pred=clf_tree.predict(X_train)"
      ],
      "execution_count": 37,
      "outputs": []
    },
    {
      "cell_type": "code",
      "metadata": {
        "id": "qzOKYb5kIqmF"
      },
      "source": [
        "trainScores['Tree-jaccard']=jaccard_similarity_score(y_train, y_pred)\n",
        "trainScores['Tree-f1-score']=f1_score(y_train, y_pred, average='weighted')  "
      ],
      "execution_count": 38,
      "outputs": []
    },
    {
      "cell_type": "code",
      "metadata": {
        "colab": {
          "base_uri": "https://localhost:8080/"
        },
        "id": "KRv_YdHmIqmF",
        "outputId": "19756a0a-cf17-46e1-b68d-6e1b09a2861f"
      },
      "source": [
        "trainScores"
      ],
      "execution_count": 39,
      "outputs": [
        {
          "output_type": "execute_result",
          "data": {
            "text/plain": [
              "{'KNN-f1-score': 0.7557778341903834,\n",
              " 'KNN-jaccard': 0.26,\n",
              " 'Tree-f1-score': 0.924927020820985,\n",
              " 'Tree-jaccard': 0.7222222222222222}"
            ]
          },
          "metadata": {},
          "execution_count": 39
        }
      ]
    },
    {
      "cell_type": "markdown",
      "metadata": {
        "id": "PgfhznpqIqmG"
      },
      "source": [
        "### Visualizng the tree"
      ]
    },
    {
      "cell_type": "code",
      "metadata": {
        "colab": {
          "base_uri": "https://localhost:8080/",
          "height": 560
        },
        "id": "-djFYuNEIqmG",
        "outputId": "617e865c-eb7a-4aff-b3fd-e24b56252af3"
      },
      "source": [
        "!pip install graphviz\n",
        "!pip install pydotplus\n",
        "import graphviz \n",
        "import pydotplus\n",
        "\n",
        "dot_data = tree.export_graphviz(clf_tree, out_file=None, \n",
        "                     feature_names=['Principal',\n",
        "                                    'terms','age',\n",
        "                                    'Gender',\n",
        "                                    'weekend',\n",
        "                                    'Bechalor',\n",
        "                                    'High School or Below',\n",
        "                                    'college',\n",
        "                                    'dayofweek',\n",
        "                                     #'deadline'\n",
        "#                                     ,'Month'\n",
        "                                   ],  \n",
        "                     class_names='loan_status',  \n",
        "                     filled=True, rounded=True,  \n",
        "                     special_characters=True) \n",
        "\n",
        "graph = pydotplus.graph_from_dot_data(dot_data)\n",
        "graph.set_size('\"8,8!\"')\n",
        "gvz_graph = graphviz.Source(graph.to_string())\n",
        "\n",
        "gvz_graph "
      ],
      "execution_count": 40,
      "outputs": [
        {
          "output_type": "stream",
          "name": "stdout",
          "text": [
            "Requirement already satisfied: graphviz in /usr/local/lib/python3.7/dist-packages (0.10.1)\n",
            "Requirement already satisfied: pydotplus in /usr/local/lib/python3.7/dist-packages (2.0.2)\n",
            "Requirement already satisfied: pyparsing>=2.0.1 in /usr/local/lib/python3.7/dist-packages (from pydotplus) (3.0.6)\n"
          ]
        },
        {
          "output_type": "execute_result",
          "data": {
            "text/plain": [
              "<graphviz.files.Source at 0x7fb66a000a10>"
            ],
            "image/svg+xml": "<?xml version=\"1.0\" encoding=\"UTF-8\" standalone=\"no\"?>\n<!DOCTYPE svg PUBLIC \"-//W3C//DTD SVG 1.1//EN\"\n \"http://www.w3.org/Graphics/SVG/1.1/DTD/svg11.dtd\">\n<!-- Generated by graphviz version 2.40.1 (20161225.0304)\n -->\n<!-- Title: Tree Pages: 1 -->\n<svg width=\"576pt\" height=\"365pt\"\n viewBox=\"0.00 0.00 576.00 365.26\" xmlns=\"http://www.w3.org/2000/svg\" xmlns:xlink=\"http://www.w3.org/1999/xlink\">\n<g id=\"graph0\" class=\"graph\" transform=\"scale(.174 .174) rotate(0) translate(4 2095)\">\n<title>Tree</title>\n<polygon fill=\"#ffffff\" stroke=\"transparent\" points=\"-4,4 -4,-2095 3306,-2095 3306,4 -4,4\"/>\n<!-- 0 -->\n<g id=\"node1\" class=\"node\">\n<title>0</title>\n<path fill=\"#eeab7a\" stroke=\"#000000\" d=\"M1202.5,-2091C1202.5,-2091 1094.5,-2091 1094.5,-2091 1088.5,-2091 1082.5,-2085 1082.5,-2079 1082.5,-2079 1082.5,-2020 1082.5,-2020 1082.5,-2014 1088.5,-2008 1094.5,-2008 1094.5,-2008 1202.5,-2008 1202.5,-2008 1208.5,-2008 1214.5,-2014 1214.5,-2020 1214.5,-2020 1214.5,-2079 1214.5,-2079 1214.5,-2085 1208.5,-2091 1202.5,-2091\"/>\n<text text-anchor=\"start\" x=\"1090.5\" y=\"-2075.8\" font-family=\"Helvetica,sans-Serif\" font-size=\"14.00\" fill=\"#000000\">weekend ≤ &#45;0.188</text>\n<text text-anchor=\"start\" x=\"1110.5\" y=\"-2060.8\" font-family=\"Helvetica,sans-Serif\" font-size=\"14.00\" fill=\"#000000\">gini = 0.374</text>\n<text text-anchor=\"start\" x=\"1100.5\" y=\"-2045.8\" font-family=\"Helvetica,sans-Serif\" font-size=\"14.00\" fill=\"#000000\">samples = 346</text>\n<text text-anchor=\"start\" x=\"1094.5\" y=\"-2030.8\" font-family=\"Helvetica,sans-Serif\" font-size=\"14.00\" fill=\"#000000\">value = [260, 86]</text>\n<text text-anchor=\"start\" x=\"1122\" y=\"-2015.8\" font-family=\"Helvetica,sans-Serif\" font-size=\"14.00\" fill=\"#000000\">class = l</text>\n</g>\n<!-- 1 -->\n<g id=\"node2\" class=\"node\">\n<title>1</title>\n<path fill=\"#e6843d\" stroke=\"#000000\" d=\"M1129,-1972C1129,-1972 1022,-1972 1022,-1972 1016,-1972 1010,-1966 1010,-1960 1010,-1960 1010,-1901 1010,-1901 1010,-1895 1016,-1889 1022,-1889 1022,-1889 1129,-1889 1129,-1889 1135,-1889 1141,-1895 1141,-1901 1141,-1901 1141,-1960 1141,-1960 1141,-1966 1135,-1972 1129,-1972\"/>\n<text text-anchor=\"start\" x=\"1018\" y=\"-1956.8\" font-family=\"Helvetica,sans-Serif\" font-size=\"14.00\" fill=\"#000000\">dayofweek ≤ 0.14</text>\n<text text-anchor=\"start\" x=\"1037.5\" y=\"-1941.8\" font-family=\"Helvetica,sans-Serif\" font-size=\"14.00\" fill=\"#000000\">gini = 0.042</text>\n<text text-anchor=\"start\" x=\"1027.5\" y=\"-1926.8\" font-family=\"Helvetica,sans-Serif\" font-size=\"14.00\" fill=\"#000000\">samples = 141</text>\n<text text-anchor=\"start\" x=\"1025.5\" y=\"-1911.8\" font-family=\"Helvetica,sans-Serif\" font-size=\"14.00\" fill=\"#000000\">value = [138, 3]</text>\n<text text-anchor=\"start\" x=\"1049\" y=\"-1896.8\" font-family=\"Helvetica,sans-Serif\" font-size=\"14.00\" fill=\"#000000\">class = l</text>\n</g>\n<!-- 0&#45;&gt;1 -->\n<g id=\"edge1\" class=\"edge\">\n<title>0&#45;&gt;1</title>\n<path fill=\"none\" stroke=\"#000000\" d=\"M1122.9681,-2007.8796C1117.609,-1999.1434 1111.9021,-1989.8404 1106.3718,-1980.8253\"/>\n<polygon fill=\"#000000\" stroke=\"#000000\" points=\"1109.3533,-1978.9919 1101.1408,-1972.2981 1103.3865,-1982.6522 1109.3533,-1978.9919\"/>\n<text text-anchor=\"middle\" x=\"1095.3161\" y=\"-1992.9101\" font-family=\"Helvetica,sans-Serif\" font-size=\"14.00\" fill=\"#000000\">True</text>\n</g>\n<!-- 22 -->\n<g id=\"node23\" class=\"node\">\n<title>22</title>\n<path fill=\"#f7d7c0\" stroke=\"#000000\" d=\"M1289.5,-1972C1289.5,-1972 1189.5,-1972 1189.5,-1972 1183.5,-1972 1177.5,-1966 1177.5,-1960 1177.5,-1960 1177.5,-1901 1177.5,-1901 1177.5,-1895 1183.5,-1889 1189.5,-1889 1189.5,-1889 1289.5,-1889 1289.5,-1889 1295.5,-1889 1301.5,-1895 1301.5,-1901 1301.5,-1901 1301.5,-1960 1301.5,-1960 1301.5,-1966 1295.5,-1972 1289.5,-1972\"/>\n<text text-anchor=\"start\" x=\"1197\" y=\"-1956.8\" font-family=\"Helvetica,sans-Serif\" font-size=\"14.00\" fill=\"#000000\">terms ≤ &#45;1.46</text>\n<text text-anchor=\"start\" x=\"1201.5\" y=\"-1941.8\" font-family=\"Helvetica,sans-Serif\" font-size=\"14.00\" fill=\"#000000\">gini = 0.482</text>\n<text text-anchor=\"start\" x=\"1191.5\" y=\"-1926.8\" font-family=\"Helvetica,sans-Serif\" font-size=\"14.00\" fill=\"#000000\">samples = 205</text>\n<text text-anchor=\"start\" x=\"1185.5\" y=\"-1911.8\" font-family=\"Helvetica,sans-Serif\" font-size=\"14.00\" fill=\"#000000\">value = [122, 83]</text>\n<text text-anchor=\"start\" x=\"1213\" y=\"-1896.8\" font-family=\"Helvetica,sans-Serif\" font-size=\"14.00\" fill=\"#000000\">class = l</text>\n</g>\n<!-- 0&#45;&gt;22 -->\n<g id=\"edge22\" class=\"edge\">\n<title>0&#45;&gt;22</title>\n<path fill=\"none\" stroke=\"#000000\" d=\"M1180.3274,-2007.8796C1187.1457,-1998.9633 1194.4156,-1989.4565 1201.4421,-1980.268\"/>\n<polygon fill=\"#000000\" stroke=\"#000000\" points=\"1204.2425,-1982.3678 1207.5368,-1972.2981 1198.682,-1978.1156 1204.2425,-1982.3678\"/>\n<text text-anchor=\"middle\" x=\"1210.8409\" y=\"-1993.3788\" font-family=\"Helvetica,sans-Serif\" font-size=\"14.00\" fill=\"#000000\">False</text>\n</g>\n<!-- 2 -->\n<g id=\"node3\" class=\"node\">\n<title>2</title>\n<path fill=\"#e58139\" stroke=\"#000000\" d=\"M980,-1845.5C980,-1845.5 897,-1845.5 897,-1845.5 891,-1845.5 885,-1839.5 885,-1833.5 885,-1833.5 885,-1789.5 885,-1789.5 885,-1783.5 891,-1777.5 897,-1777.5 897,-1777.5 980,-1777.5 980,-1777.5 986,-1777.5 992,-1783.5 992,-1789.5 992,-1789.5 992,-1833.5 992,-1833.5 992,-1839.5 986,-1845.5 980,-1845.5\"/>\n<text text-anchor=\"start\" x=\"909\" y=\"-1830.3\" font-family=\"Helvetica,sans-Serif\" font-size=\"14.00\" fill=\"#000000\">gini = 0.0</text>\n<text text-anchor=\"start\" x=\"894.5\" y=\"-1815.3\" font-family=\"Helvetica,sans-Serif\" font-size=\"14.00\" fill=\"#000000\">samples = 84</text>\n<text text-anchor=\"start\" x=\"893\" y=\"-1800.3\" font-family=\"Helvetica,sans-Serif\" font-size=\"14.00\" fill=\"#000000\">value = [84, 0]</text>\n<text text-anchor=\"start\" x=\"912\" y=\"-1785.3\" font-family=\"Helvetica,sans-Serif\" font-size=\"14.00\" fill=\"#000000\">class = l</text>\n</g>\n<!-- 1&#45;&gt;2 -->\n<g id=\"edge2\" class=\"edge\">\n<title>1&#45;&gt;2</title>\n<path fill=\"none\" stroke=\"#000000\" d=\"M1027.584,-1888.8796C1014.0385,-1877.1138 999.3092,-1864.3197 985.8002,-1852.5855\"/>\n<polygon fill=\"#000000\" stroke=\"#000000\" points=\"987.8503,-1849.7303 978.0054,-1845.8149 983.2599,-1855.015 987.8503,-1849.7303\"/>\n</g>\n<!-- 3 -->\n<g id=\"node4\" class=\"node\">\n<title>3</title>\n<path fill=\"#e68844\" stroke=\"#000000\" d=\"M1129,-1853C1129,-1853 1022,-1853 1022,-1853 1016,-1853 1010,-1847 1010,-1841 1010,-1841 1010,-1782 1010,-1782 1010,-1776 1016,-1770 1022,-1770 1022,-1770 1129,-1770 1129,-1770 1135,-1770 1141,-1776 1141,-1782 1141,-1782 1141,-1841 1141,-1841 1141,-1847 1135,-1853 1129,-1853\"/>\n<text text-anchor=\"start\" x=\"1018\" y=\"-1837.8\" font-family=\"Helvetica,sans-Serif\" font-size=\"14.00\" fill=\"#000000\">Bechalor ≤ &#45;1.219</text>\n<text text-anchor=\"start\" x=\"1046\" y=\"-1822.8\" font-family=\"Helvetica,sans-Serif\" font-size=\"14.00\" fill=\"#000000\">gini = 0.1</text>\n<text text-anchor=\"start\" x=\"1031.5\" y=\"-1807.8\" font-family=\"Helvetica,sans-Serif\" font-size=\"14.00\" fill=\"#000000\">samples = 57</text>\n<text text-anchor=\"start\" x=\"1030\" y=\"-1792.8\" font-family=\"Helvetica,sans-Serif\" font-size=\"14.00\" fill=\"#000000\">value = [54, 3]</text>\n<text text-anchor=\"start\" x=\"1049\" y=\"-1777.8\" font-family=\"Helvetica,sans-Serif\" font-size=\"14.00\" fill=\"#000000\">class = l</text>\n</g>\n<!-- 1&#45;&gt;3 -->\n<g id=\"edge3\" class=\"edge\">\n<title>1&#45;&gt;3</title>\n<path fill=\"none\" stroke=\"#000000\" d=\"M1075.5,-1888.8796C1075.5,-1880.6838 1075.5,-1871.9891 1075.5,-1863.5013\"/>\n<polygon fill=\"#000000\" stroke=\"#000000\" points=\"1079.0001,-1863.298 1075.5,-1853.2981 1072.0001,-1863.2981 1079.0001,-1863.298\"/>\n</g>\n<!-- 4 -->\n<g id=\"node5\" class=\"node\">\n<title>4</title>\n<path fill=\"#e88e4d\" stroke=\"#000000\" d=\"M551,-1734C551,-1734 468,-1734 468,-1734 462,-1734 456,-1728 456,-1722 456,-1722 456,-1663 456,-1663 456,-1657 462,-1651 468,-1651 468,-1651 551,-1651 551,-1651 557,-1651 563,-1657 563,-1663 563,-1663 563,-1722 563,-1722 563,-1728 557,-1734 551,-1734\"/>\n<text text-anchor=\"start\" x=\"471\" y=\"-1718.8\" font-family=\"Helvetica,sans-Serif\" font-size=\"14.00\" fill=\"#000000\">age ≤ 1.171</text>\n<text text-anchor=\"start\" x=\"471.5\" y=\"-1703.8\" font-family=\"Helvetica,sans-Serif\" font-size=\"14.00\" fill=\"#000000\">gini = 0.165</text>\n<text text-anchor=\"start\" x=\"465.5\" y=\"-1688.8\" font-family=\"Helvetica,sans-Serif\" font-size=\"14.00\" fill=\"#000000\">samples = 33</text>\n<text text-anchor=\"start\" x=\"464\" y=\"-1673.8\" font-family=\"Helvetica,sans-Serif\" font-size=\"14.00\" fill=\"#000000\">value = [30, 3]</text>\n<text text-anchor=\"start\" x=\"483\" y=\"-1658.8\" font-family=\"Helvetica,sans-Serif\" font-size=\"14.00\" fill=\"#000000\">class = l</text>\n</g>\n<!-- 3&#45;&gt;4 -->\n<g id=\"edge4\" class=\"edge\">\n<title>3&#45;&gt;4</title>\n<path fill=\"none\" stroke=\"#000000\" d=\"M1009.8272,-1773.5335C1006.7141,-1772.2514 1003.5962,-1771.0639 1000.5,-1770 852.8524,-1719.2663 668.6832,-1701.5344 573.3432,-1695.4971\"/>\n<polygon fill=\"#000000\" stroke=\"#000000\" points=\"573.4761,-1691.9988 563.2813,-1694.8827 573.0494,-1698.9857 573.4761,-1691.9988\"/>\n</g>\n<!-- 21 -->\n<g id=\"node22\" class=\"node\">\n<title>21</title>\n<path fill=\"#e58139\" stroke=\"#000000\" d=\"M1117,-1726.5C1117,-1726.5 1034,-1726.5 1034,-1726.5 1028,-1726.5 1022,-1720.5 1022,-1714.5 1022,-1714.5 1022,-1670.5 1022,-1670.5 1022,-1664.5 1028,-1658.5 1034,-1658.5 1034,-1658.5 1117,-1658.5 1117,-1658.5 1123,-1658.5 1129,-1664.5 1129,-1670.5 1129,-1670.5 1129,-1714.5 1129,-1714.5 1129,-1720.5 1123,-1726.5 1117,-1726.5\"/>\n<text text-anchor=\"start\" x=\"1046\" y=\"-1711.3\" font-family=\"Helvetica,sans-Serif\" font-size=\"14.00\" fill=\"#000000\">gini = 0.0</text>\n<text text-anchor=\"start\" x=\"1031.5\" y=\"-1696.3\" font-family=\"Helvetica,sans-Serif\" font-size=\"14.00\" fill=\"#000000\">samples = 24</text>\n<text text-anchor=\"start\" x=\"1030\" y=\"-1681.3\" font-family=\"Helvetica,sans-Serif\" font-size=\"14.00\" fill=\"#000000\">value = [24, 0]</text>\n<text text-anchor=\"start\" x=\"1049\" y=\"-1666.3\" font-family=\"Helvetica,sans-Serif\" font-size=\"14.00\" fill=\"#000000\">class = l</text>\n</g>\n<!-- 3&#45;&gt;21 -->\n<g id=\"edge21\" class=\"edge\">\n<title>3&#45;&gt;21</title>\n<path fill=\"none\" stroke=\"#000000\" d=\"M1075.5,-1769.8796C1075.5,-1759.2134 1075.5,-1747.7021 1075.5,-1736.9015\"/>\n<polygon fill=\"#000000\" stroke=\"#000000\" points=\"1079.0001,-1736.8149 1075.5,-1726.8149 1072.0001,-1736.815 1079.0001,-1736.8149\"/>\n</g>\n<!-- 5 -->\n<g id=\"node6\" class=\"node\">\n<title>5</title>\n<path fill=\"#e78a48\" stroke=\"#000000\" d=\"M316,-1615C316,-1615 231,-1615 231,-1615 225,-1615 219,-1609 219,-1603 219,-1603 219,-1544 219,-1544 219,-1538 225,-1532 231,-1532 231,-1532 316,-1532 316,-1532 322,-1532 328,-1538 328,-1544 328,-1544 328,-1603 328,-1603 328,-1609 322,-1615 316,-1615\"/>\n<text text-anchor=\"start\" x=\"227\" y=\"-1599.8\" font-family=\"Helvetica,sans-Serif\" font-size=\"14.00\" fill=\"#000000\">terms ≤ &#45;0.019</text>\n<text text-anchor=\"start\" x=\"235.5\" y=\"-1584.8\" font-family=\"Helvetica,sans-Serif\" font-size=\"14.00\" fill=\"#000000\">gini = 0.128</text>\n<text text-anchor=\"start\" x=\"229.5\" y=\"-1569.8\" font-family=\"Helvetica,sans-Serif\" font-size=\"14.00\" fill=\"#000000\">samples = 29</text>\n<text text-anchor=\"start\" x=\"228\" y=\"-1554.8\" font-family=\"Helvetica,sans-Serif\" font-size=\"14.00\" fill=\"#000000\">value = [27, 2]</text>\n<text text-anchor=\"start\" x=\"247\" y=\"-1539.8\" font-family=\"Helvetica,sans-Serif\" font-size=\"14.00\" fill=\"#000000\">class = l</text>\n</g>\n<!-- 4&#45;&gt;5 -->\n<g id=\"edge5\" class=\"edge\">\n<title>4&#45;&gt;5</title>\n<path fill=\"none\" stroke=\"#000000\" d=\"M455.9479,-1665.4971C420.7186,-1647.7331 374.4337,-1624.3946 337.2987,-1605.6697\"/>\n<polygon fill=\"#000000\" stroke=\"#000000\" points=\"338.5719,-1602.392 328.067,-1601.0147 335.4202,-1608.6423 338.5719,-1602.392\"/>\n</g>\n<!-- 16 -->\n<g id=\"node17\" class=\"node\">\n<title>16</title>\n<path fill=\"#eeab7b\" stroke=\"#000000\" d=\"M561.5,-1615C561.5,-1615 457.5,-1615 457.5,-1615 451.5,-1615 445.5,-1609 445.5,-1603 445.5,-1603 445.5,-1544 445.5,-1544 445.5,-1538 451.5,-1532 457.5,-1532 457.5,-1532 561.5,-1532 561.5,-1532 567.5,-1532 573.5,-1538 573.5,-1544 573.5,-1544 573.5,-1603 573.5,-1603 573.5,-1609 567.5,-1615 561.5,-1615\"/>\n<text text-anchor=\"start\" x=\"453.5\" y=\"-1599.8\" font-family=\"Helvetica,sans-Serif\" font-size=\"14.00\" fill=\"#000000\">Principal ≤ &#45;0.399</text>\n<text text-anchor=\"start\" x=\"471.5\" y=\"-1584.8\" font-family=\"Helvetica,sans-Serif\" font-size=\"14.00\" fill=\"#000000\">gini = 0.375</text>\n<text text-anchor=\"start\" x=\"470\" y=\"-1569.8\" font-family=\"Helvetica,sans-Serif\" font-size=\"14.00\" fill=\"#000000\">samples = 4</text>\n<text text-anchor=\"start\" x=\"468\" y=\"-1554.8\" font-family=\"Helvetica,sans-Serif\" font-size=\"14.00\" fill=\"#000000\">value = [3, 1]</text>\n<text text-anchor=\"start\" x=\"483\" y=\"-1539.8\" font-family=\"Helvetica,sans-Serif\" font-size=\"14.00\" fill=\"#000000\">class = l</text>\n</g>\n<!-- 4&#45;&gt;16 -->\n<g id=\"edge16\" class=\"edge\">\n<title>4&#45;&gt;16</title>\n<path fill=\"none\" stroke=\"#000000\" d=\"M509.5,-1650.8796C509.5,-1642.6838 509.5,-1633.9891 509.5,-1625.5013\"/>\n<polygon fill=\"#000000\" stroke=\"#000000\" points=\"513.0001,-1625.298 509.5,-1615.2981 506.0001,-1625.2981 513.0001,-1625.298\"/>\n</g>\n<!-- 6 -->\n<g id=\"node7\" class=\"node\">\n<title>6</title>\n<path fill=\"#e58139\" stroke=\"#000000\" d=\"M190,-1488.5C190,-1488.5 107,-1488.5 107,-1488.5 101,-1488.5 95,-1482.5 95,-1476.5 95,-1476.5 95,-1432.5 95,-1432.5 95,-1426.5 101,-1420.5 107,-1420.5 107,-1420.5 190,-1420.5 190,-1420.5 196,-1420.5 202,-1426.5 202,-1432.5 202,-1432.5 202,-1476.5 202,-1476.5 202,-1482.5 196,-1488.5 190,-1488.5\"/>\n<text text-anchor=\"start\" x=\"119\" y=\"-1473.3\" font-family=\"Helvetica,sans-Serif\" font-size=\"14.00\" fill=\"#000000\">gini = 0.0</text>\n<text text-anchor=\"start\" x=\"104.5\" y=\"-1458.3\" font-family=\"Helvetica,sans-Serif\" font-size=\"14.00\" fill=\"#000000\">samples = 15</text>\n<text text-anchor=\"start\" x=\"103\" y=\"-1443.3\" font-family=\"Helvetica,sans-Serif\" font-size=\"14.00\" fill=\"#000000\">value = [15, 0]</text>\n<text text-anchor=\"start\" x=\"122\" y=\"-1428.3\" font-family=\"Helvetica,sans-Serif\" font-size=\"14.00\" fill=\"#000000\">class = l</text>\n</g>\n<!-- 5&#45;&gt;6 -->\n<g id=\"edge6\" class=\"edge\">\n<title>5&#45;&gt;6</title>\n<path fill=\"none\" stroke=\"#000000\" d=\"M229.7811,-1531.8796C217.5375,-1520.2237 204.2339,-1507.5587 192.0029,-1495.9148\"/>\n<polygon fill=\"#000000\" stroke=\"#000000\" points=\"194.2012,-1493.1751 184.5451,-1488.8149 189.3746,-1498.245 194.2012,-1493.1751\"/>\n</g>\n<!-- 7 -->\n<g id=\"node8\" class=\"node\">\n<title>7</title>\n<path fill=\"#e9965a\" stroke=\"#000000\" d=\"M315,-1496C315,-1496 232,-1496 232,-1496 226,-1496 220,-1490 220,-1484 220,-1484 220,-1425 220,-1425 220,-1419 226,-1413 232,-1413 232,-1413 315,-1413 315,-1413 321,-1413 327,-1419 327,-1425 327,-1425 327,-1484 327,-1484 327,-1490 321,-1496 315,-1496\"/>\n<text text-anchor=\"start\" x=\"232.5\" y=\"-1480.8\" font-family=\"Helvetica,sans-Serif\" font-size=\"14.00\" fill=\"#000000\">age ≤ &#45;0.404</text>\n<text text-anchor=\"start\" x=\"235.5\" y=\"-1465.8\" font-family=\"Helvetica,sans-Serif\" font-size=\"14.00\" fill=\"#000000\">gini = 0.245</text>\n<text text-anchor=\"start\" x=\"229.5\" y=\"-1450.8\" font-family=\"Helvetica,sans-Serif\" font-size=\"14.00\" fill=\"#000000\">samples = 14</text>\n<text text-anchor=\"start\" x=\"228\" y=\"-1435.8\" font-family=\"Helvetica,sans-Serif\" font-size=\"14.00\" fill=\"#000000\">value = [12, 2]</text>\n<text text-anchor=\"start\" x=\"247\" y=\"-1420.8\" font-family=\"Helvetica,sans-Serif\" font-size=\"14.00\" fill=\"#000000\">class = l</text>\n</g>\n<!-- 5&#45;&gt;7 -->\n<g id=\"edge7\" class=\"edge\">\n<title>5&#45;&gt;7</title>\n<path fill=\"none\" stroke=\"#000000\" d=\"M273.5,-1531.8796C273.5,-1523.6838 273.5,-1514.9891 273.5,-1506.5013\"/>\n<polygon fill=\"#000000\" stroke=\"#000000\" points=\"277.0001,-1506.298 273.5,-1496.2981 270.0001,-1506.2981 277.0001,-1506.298\"/>\n</g>\n<!-- 8 -->\n<g id=\"node9\" class=\"node\">\n<title>8</title>\n<path fill=\"#eeab7b\" stroke=\"#000000\" d=\"M194,-1377C194,-1377 119,-1377 119,-1377 113,-1377 107,-1371 107,-1365 107,-1365 107,-1306 107,-1306 107,-1300 113,-1294 119,-1294 119,-1294 194,-1294 194,-1294 200,-1294 206,-1300 206,-1306 206,-1306 206,-1365 206,-1365 206,-1371 200,-1377 194,-1377\"/>\n<text text-anchor=\"start\" x=\"115.5\" y=\"-1361.8\" font-family=\"Helvetica,sans-Serif\" font-size=\"14.00\" fill=\"#000000\">age ≤ &#45;0.985</text>\n<text text-anchor=\"start\" x=\"118.5\" y=\"-1346.8\" font-family=\"Helvetica,sans-Serif\" font-size=\"14.00\" fill=\"#000000\">gini = 0.375</text>\n<text text-anchor=\"start\" x=\"117\" y=\"-1331.8\" font-family=\"Helvetica,sans-Serif\" font-size=\"14.00\" fill=\"#000000\">samples = 8</text>\n<text text-anchor=\"start\" x=\"115\" y=\"-1316.8\" font-family=\"Helvetica,sans-Serif\" font-size=\"14.00\" fill=\"#000000\">value = [6, 2]</text>\n<text text-anchor=\"start\" x=\"130\" y=\"-1301.8\" font-family=\"Helvetica,sans-Serif\" font-size=\"14.00\" fill=\"#000000\">class = l</text>\n</g>\n<!-- 7&#45;&gt;8 -->\n<g id=\"edge8\" class=\"edge\">\n<title>7&#45;&gt;8</title>\n<path fill=\"none\" stroke=\"#000000\" d=\"M232.5791,-1412.8796C223.547,-1403.6931 213.8987,-1393.8798 204.6112,-1384.4336\"/>\n<polygon fill=\"#000000\" stroke=\"#000000\" points=\"207.1023,-1381.975 197.5956,-1377.2981 202.1107,-1386.8827 207.1023,-1381.975\"/>\n</g>\n<!-- 15 -->\n<g id=\"node16\" class=\"node\">\n<title>15</title>\n<path fill=\"#e58139\" stroke=\"#000000\" d=\"M311,-1369.5C311,-1369.5 236,-1369.5 236,-1369.5 230,-1369.5 224,-1363.5 224,-1357.5 224,-1357.5 224,-1313.5 224,-1313.5 224,-1307.5 230,-1301.5 236,-1301.5 236,-1301.5 311,-1301.5 311,-1301.5 317,-1301.5 323,-1307.5 323,-1313.5 323,-1313.5 323,-1357.5 323,-1357.5 323,-1363.5 317,-1369.5 311,-1369.5\"/>\n<text text-anchor=\"start\" x=\"244\" y=\"-1354.3\" font-family=\"Helvetica,sans-Serif\" font-size=\"14.00\" fill=\"#000000\">gini = 0.0</text>\n<text text-anchor=\"start\" x=\"234\" y=\"-1339.3\" font-family=\"Helvetica,sans-Serif\" font-size=\"14.00\" fill=\"#000000\">samples = 6</text>\n<text text-anchor=\"start\" x=\"232\" y=\"-1324.3\" font-family=\"Helvetica,sans-Serif\" font-size=\"14.00\" fill=\"#000000\">value = [6, 0]</text>\n<text text-anchor=\"start\" x=\"247\" y=\"-1309.3\" font-family=\"Helvetica,sans-Serif\" font-size=\"14.00\" fill=\"#000000\">class = l</text>\n</g>\n<!-- 7&#45;&gt;15 -->\n<g id=\"edge15\" class=\"edge\">\n<title>7&#45;&gt;15</title>\n<path fill=\"none\" stroke=\"#000000\" d=\"M273.5,-1412.8796C273.5,-1402.2134 273.5,-1390.7021 273.5,-1379.9015\"/>\n<polygon fill=\"#000000\" stroke=\"#000000\" points=\"277.0001,-1379.8149 273.5,-1369.8149 270.0001,-1379.815 277.0001,-1379.8149\"/>\n</g>\n<!-- 9 -->\n<g id=\"node10\" class=\"node\">\n<title>9</title>\n<path fill=\"#e58139\" stroke=\"#000000\" d=\"M87,-1250.5C87,-1250.5 12,-1250.5 12,-1250.5 6,-1250.5 0,-1244.5 0,-1238.5 0,-1238.5 0,-1194.5 0,-1194.5 0,-1188.5 6,-1182.5 12,-1182.5 12,-1182.5 87,-1182.5 87,-1182.5 93,-1182.5 99,-1188.5 99,-1194.5 99,-1194.5 99,-1238.5 99,-1238.5 99,-1244.5 93,-1250.5 87,-1250.5\"/>\n<text text-anchor=\"start\" x=\"20\" y=\"-1235.3\" font-family=\"Helvetica,sans-Serif\" font-size=\"14.00\" fill=\"#000000\">gini = 0.0</text>\n<text text-anchor=\"start\" x=\"10\" y=\"-1220.3\" font-family=\"Helvetica,sans-Serif\" font-size=\"14.00\" fill=\"#000000\">samples = 3</text>\n<text text-anchor=\"start\" x=\"8\" y=\"-1205.3\" font-family=\"Helvetica,sans-Serif\" font-size=\"14.00\" fill=\"#000000\">value = [3, 0]</text>\n<text text-anchor=\"start\" x=\"23\" y=\"-1190.3\" font-family=\"Helvetica,sans-Serif\" font-size=\"14.00\" fill=\"#000000\">class = l</text>\n</g>\n<!-- 8&#45;&gt;9 -->\n<g id=\"edge9\" class=\"edge\">\n<title>8&#45;&gt;9</title>\n<path fill=\"none\" stroke=\"#000000\" d=\"M119.0766,-1293.8796C108.7939,-1282.4436 97.6377,-1270.0363 87.3321,-1258.575\"/>\n<polygon fill=\"#000000\" stroke=\"#000000\" points=\"89.6435,-1255.9108 80.3546,-1250.8149 84.4382,-1260.5912 89.6435,-1255.9108\"/>\n</g>\n<!-- 10 -->\n<g id=\"node11\" class=\"node\">\n<title>10</title>\n<path fill=\"#f6d5bd\" stroke=\"#000000\" d=\"M204,-1258C204,-1258 129,-1258 129,-1258 123,-1258 117,-1252 117,-1246 117,-1246 117,-1187 117,-1187 117,-1181 123,-1175 129,-1175 129,-1175 204,-1175 204,-1175 210,-1175 216,-1181 216,-1187 216,-1187 216,-1246 216,-1246 216,-1252 210,-1258 204,-1258\"/>\n<text text-anchor=\"start\" x=\"125.5\" y=\"-1242.8\" font-family=\"Helvetica,sans-Serif\" font-size=\"14.00\" fill=\"#000000\">age ≤ &#45;0.736</text>\n<text text-anchor=\"start\" x=\"133\" y=\"-1227.8\" font-family=\"Helvetica,sans-Serif\" font-size=\"14.00\" fill=\"#000000\">gini = 0.48</text>\n<text text-anchor=\"start\" x=\"127\" y=\"-1212.8\" font-family=\"Helvetica,sans-Serif\" font-size=\"14.00\" fill=\"#000000\">samples = 5</text>\n<text text-anchor=\"start\" x=\"125\" y=\"-1197.8\" font-family=\"Helvetica,sans-Serif\" font-size=\"14.00\" fill=\"#000000\">value = [3, 2]</text>\n<text text-anchor=\"start\" x=\"140\" y=\"-1182.8\" font-family=\"Helvetica,sans-Serif\" font-size=\"14.00\" fill=\"#000000\">class = l</text>\n</g>\n<!-- 8&#45;&gt;10 -->\n<g id=\"edge10\" class=\"edge\">\n<title>8&#45;&gt;10</title>\n<path fill=\"none\" stroke=\"#000000\" d=\"M159.9975,-1293.8796C160.6862,-1285.6838 161.4169,-1276.9891 162.1301,-1268.5013\"/>\n<polygon fill=\"#000000\" stroke=\"#000000\" points=\"165.6378,-1268.5561 162.9876,-1258.2981 158.6624,-1267.9698 165.6378,-1268.5561\"/>\n</g>\n<!-- 11 -->\n<g id=\"node12\" class=\"node\">\n<title>11</title>\n<path fill=\"#ffffff\" stroke=\"#000000\" d=\"M89,-1131.5C89,-1131.5 14,-1131.5 14,-1131.5 8,-1131.5 2,-1125.5 2,-1119.5 2,-1119.5 2,-1075.5 2,-1075.5 2,-1069.5 8,-1063.5 14,-1063.5 14,-1063.5 89,-1063.5 89,-1063.5 95,-1063.5 101,-1069.5 101,-1075.5 101,-1075.5 101,-1119.5 101,-1119.5 101,-1125.5 95,-1131.5 89,-1131.5\"/>\n<text text-anchor=\"start\" x=\"22\" y=\"-1116.3\" font-family=\"Helvetica,sans-Serif\" font-size=\"14.00\" fill=\"#000000\">gini = 0.5</text>\n<text text-anchor=\"start\" x=\"12\" y=\"-1101.3\" font-family=\"Helvetica,sans-Serif\" font-size=\"14.00\" fill=\"#000000\">samples = 2</text>\n<text text-anchor=\"start\" x=\"10\" y=\"-1086.3\" font-family=\"Helvetica,sans-Serif\" font-size=\"14.00\" fill=\"#000000\">value = [1, 1]</text>\n<text text-anchor=\"start\" x=\"25\" y=\"-1071.3\" font-family=\"Helvetica,sans-Serif\" font-size=\"14.00\" fill=\"#000000\">class = l</text>\n</g>\n<!-- 10&#45;&gt;11 -->\n<g id=\"edge11\" class=\"edge\">\n<title>10&#45;&gt;11</title>\n<path fill=\"none\" stroke=\"#000000\" d=\"M126.2786,-1174.8796C115.1208,-1163.3337 103.0061,-1150.7976 91.8414,-1139.2446\"/>\n<polygon fill=\"#000000\" stroke=\"#000000\" points=\"94.1275,-1136.5736 84.6615,-1131.8149 89.0939,-1141.4381 94.1275,-1136.5736\"/>\n</g>\n<!-- 12 -->\n<g id=\"node13\" class=\"node\">\n<title>12</title>\n<path fill=\"#f2c09c\" stroke=\"#000000\" d=\"M206,-1139C206,-1139 131,-1139 131,-1139 125,-1139 119,-1133 119,-1127 119,-1127 119,-1068 119,-1068 119,-1062 125,-1056 131,-1056 131,-1056 206,-1056 206,-1056 212,-1056 218,-1062 218,-1068 218,-1068 218,-1127 218,-1127 218,-1133 212,-1139 206,-1139\"/>\n<text text-anchor=\"start\" x=\"132\" y=\"-1123.8\" font-family=\"Helvetica,sans-Serif\" font-size=\"14.00\" fill=\"#000000\">age ≤ &#45;0.57</text>\n<text text-anchor=\"start\" x=\"130.5\" y=\"-1108.8\" font-family=\"Helvetica,sans-Serif\" font-size=\"14.00\" fill=\"#000000\">gini = 0.444</text>\n<text text-anchor=\"start\" x=\"129\" y=\"-1093.8\" font-family=\"Helvetica,sans-Serif\" font-size=\"14.00\" fill=\"#000000\">samples = 3</text>\n<text text-anchor=\"start\" x=\"127\" y=\"-1078.8\" font-family=\"Helvetica,sans-Serif\" font-size=\"14.00\" fill=\"#000000\">value = [2, 1]</text>\n<text text-anchor=\"start\" x=\"142\" y=\"-1063.8\" font-family=\"Helvetica,sans-Serif\" font-size=\"14.00\" fill=\"#000000\">class = l</text>\n</g>\n<!-- 10&#45;&gt;12 -->\n<g id=\"edge12\" class=\"edge\">\n<title>10&#45;&gt;12</title>\n<path fill=\"none\" stroke=\"#000000\" d=\"M167.1995,-1174.8796C167.3372,-1166.6838 167.4834,-1157.9891 167.626,-1149.5013\"/>\n<polygon fill=\"#000000\" stroke=\"#000000\" points=\"171.1289,-1149.3555 167.7975,-1139.2981 164.1299,-1149.2378 171.1289,-1149.3555\"/>\n</g>\n<!-- 13 -->\n<g id=\"node14\" class=\"node\">\n<title>13</title>\n<path fill=\"#e58139\" stroke=\"#000000\" d=\"M94,-1012.5C94,-1012.5 19,-1012.5 19,-1012.5 13,-1012.5 7,-1006.5 7,-1000.5 7,-1000.5 7,-956.5 7,-956.5 7,-950.5 13,-944.5 19,-944.5 19,-944.5 94,-944.5 94,-944.5 100,-944.5 106,-950.5 106,-956.5 106,-956.5 106,-1000.5 106,-1000.5 106,-1006.5 100,-1012.5 94,-1012.5\"/>\n<text text-anchor=\"start\" x=\"27\" y=\"-997.3\" font-family=\"Helvetica,sans-Serif\" font-size=\"14.00\" fill=\"#000000\">gini = 0.0</text>\n<text text-anchor=\"start\" x=\"17\" y=\"-982.3\" font-family=\"Helvetica,sans-Serif\" font-size=\"14.00\" fill=\"#000000\">samples = 1</text>\n<text text-anchor=\"start\" x=\"15\" y=\"-967.3\" font-family=\"Helvetica,sans-Serif\" font-size=\"14.00\" fill=\"#000000\">value = [1, 0]</text>\n<text text-anchor=\"start\" x=\"30\" y=\"-952.3\" font-family=\"Helvetica,sans-Serif\" font-size=\"14.00\" fill=\"#000000\">class = l</text>\n</g>\n<!-- 12&#45;&gt;13 -->\n<g id=\"edge13\" class=\"edge\">\n<title>12&#45;&gt;13</title>\n<path fill=\"none\" stroke=\"#000000\" d=\"M129.3278,-1055.8796C118.4611,-1044.3337 106.6624,-1031.7976 95.7891,-1020.2446\"/>\n<polygon fill=\"#000000\" stroke=\"#000000\" points=\"98.1988,-1017.6982 88.7964,-1012.8149 93.1014,-1022.4958 98.1988,-1017.6982\"/>\n</g>\n<!-- 14 -->\n<g id=\"node15\" class=\"node\">\n<title>14</title>\n<path fill=\"#ffffff\" stroke=\"#000000\" d=\"M211,-1012.5C211,-1012.5 136,-1012.5 136,-1012.5 130,-1012.5 124,-1006.5 124,-1000.5 124,-1000.5 124,-956.5 124,-956.5 124,-950.5 130,-944.5 136,-944.5 136,-944.5 211,-944.5 211,-944.5 217,-944.5 223,-950.5 223,-956.5 223,-956.5 223,-1000.5 223,-1000.5 223,-1006.5 217,-1012.5 211,-1012.5\"/>\n<text text-anchor=\"start\" x=\"144\" y=\"-997.3\" font-family=\"Helvetica,sans-Serif\" font-size=\"14.00\" fill=\"#000000\">gini = 0.5</text>\n<text text-anchor=\"start\" x=\"134\" y=\"-982.3\" font-family=\"Helvetica,sans-Serif\" font-size=\"14.00\" fill=\"#000000\">samples = 2</text>\n<text text-anchor=\"start\" x=\"132\" y=\"-967.3\" font-family=\"Helvetica,sans-Serif\" font-size=\"14.00\" fill=\"#000000\">value = [1, 1]</text>\n<text text-anchor=\"start\" x=\"147\" y=\"-952.3\" font-family=\"Helvetica,sans-Serif\" font-size=\"14.00\" fill=\"#000000\">class = l</text>\n</g>\n<!-- 12&#45;&gt;14 -->\n<g id=\"edge14\" class=\"edge\">\n<title>12&#45;&gt;14</title>\n<path fill=\"none\" stroke=\"#000000\" d=\"M170.2488,-1055.8796C170.6969,-1045.2134 171.1806,-1033.7021 171.6344,-1022.9015\"/>\n<polygon fill=\"#000000\" stroke=\"#000000\" points=\"175.1352,-1022.9531 172.0582,-1012.8149 168.1414,-1022.6592 175.1352,-1022.9531\"/>\n</g>\n<!-- 17 -->\n<g id=\"node18\" class=\"node\">\n<title>17</title>\n<path fill=\"#ffffff\" stroke=\"#000000\" d=\"M488,-1496C488,-1496 413,-1496 413,-1496 407,-1496 401,-1490 401,-1484 401,-1484 401,-1425 401,-1425 401,-1419 407,-1413 413,-1413 413,-1413 488,-1413 488,-1413 494,-1413 500,-1419 500,-1425 500,-1425 500,-1484 500,-1484 500,-1490 494,-1496 488,-1496\"/>\n<text text-anchor=\"start\" x=\"412\" y=\"-1480.8\" font-family=\"Helvetica,sans-Serif\" font-size=\"14.00\" fill=\"#000000\">age ≤ 1.585</text>\n<text text-anchor=\"start\" x=\"421\" y=\"-1465.8\" font-family=\"Helvetica,sans-Serif\" font-size=\"14.00\" fill=\"#000000\">gini = 0.5</text>\n<text text-anchor=\"start\" x=\"411\" y=\"-1450.8\" font-family=\"Helvetica,sans-Serif\" font-size=\"14.00\" fill=\"#000000\">samples = 2</text>\n<text text-anchor=\"start\" x=\"409\" y=\"-1435.8\" font-family=\"Helvetica,sans-Serif\" font-size=\"14.00\" fill=\"#000000\">value = [1, 1]</text>\n<text text-anchor=\"start\" x=\"424\" y=\"-1420.8\" font-family=\"Helvetica,sans-Serif\" font-size=\"14.00\" fill=\"#000000\">class = l</text>\n</g>\n<!-- 16&#45;&gt;17 -->\n<g id=\"edge17\" class=\"edge\">\n<title>16&#45;&gt;17</title>\n<path fill=\"none\" stroke=\"#000000\" d=\"M488.8647,-1531.8796C484.6226,-1523.3236 480.111,-1514.2238 475.7279,-1505.3833\"/>\n<polygon fill=\"#000000\" stroke=\"#000000\" points=\"478.8012,-1503.7026 471.2234,-1496.2981 472.5297,-1506.8121 478.8012,-1503.7026\"/>\n</g>\n<!-- 20 -->\n<g id=\"node21\" class=\"node\">\n<title>20</title>\n<path fill=\"#e58139\" stroke=\"#000000\" d=\"M605,-1488.5C605,-1488.5 530,-1488.5 530,-1488.5 524,-1488.5 518,-1482.5 518,-1476.5 518,-1476.5 518,-1432.5 518,-1432.5 518,-1426.5 524,-1420.5 530,-1420.5 530,-1420.5 605,-1420.5 605,-1420.5 611,-1420.5 617,-1426.5 617,-1432.5 617,-1432.5 617,-1476.5 617,-1476.5 617,-1482.5 611,-1488.5 605,-1488.5\"/>\n<text text-anchor=\"start\" x=\"538\" y=\"-1473.3\" font-family=\"Helvetica,sans-Serif\" font-size=\"14.00\" fill=\"#000000\">gini = 0.0</text>\n<text text-anchor=\"start\" x=\"528\" y=\"-1458.3\" font-family=\"Helvetica,sans-Serif\" font-size=\"14.00\" fill=\"#000000\">samples = 2</text>\n<text text-anchor=\"start\" x=\"526\" y=\"-1443.3\" font-family=\"Helvetica,sans-Serif\" font-size=\"14.00\" fill=\"#000000\">value = [2, 0]</text>\n<text text-anchor=\"start\" x=\"541\" y=\"-1428.3\" font-family=\"Helvetica,sans-Serif\" font-size=\"14.00\" fill=\"#000000\">class = l</text>\n</g>\n<!-- 16&#45;&gt;20 -->\n<g id=\"edge20\" class=\"edge\">\n<title>16&#45;&gt;20</title>\n<path fill=\"none\" stroke=\"#000000\" d=\"M529.7856,-1531.8796C535.145,-1520.8835 540.9422,-1508.9893 546.3463,-1497.9015\"/>\n<polygon fill=\"#000000\" stroke=\"#000000\" points=\"549.54,-1499.3375 550.7751,-1488.8149 543.2476,-1496.2706 549.54,-1499.3375\"/>\n</g>\n<!-- 18 -->\n<g id=\"node19\" class=\"node\">\n<title>18</title>\n<path fill=\"#399de5\" stroke=\"#000000\" d=\"M428,-1369.5C428,-1369.5 353,-1369.5 353,-1369.5 347,-1369.5 341,-1363.5 341,-1357.5 341,-1357.5 341,-1313.5 341,-1313.5 341,-1307.5 347,-1301.5 353,-1301.5 353,-1301.5 428,-1301.5 428,-1301.5 434,-1301.5 440,-1307.5 440,-1313.5 440,-1313.5 440,-1357.5 440,-1357.5 440,-1363.5 434,-1369.5 428,-1369.5\"/>\n<text text-anchor=\"start\" x=\"361\" y=\"-1354.3\" font-family=\"Helvetica,sans-Serif\" font-size=\"14.00\" fill=\"#000000\">gini = 0.0</text>\n<text text-anchor=\"start\" x=\"351\" y=\"-1339.3\" font-family=\"Helvetica,sans-Serif\" font-size=\"14.00\" fill=\"#000000\">samples = 1</text>\n<text text-anchor=\"start\" x=\"349\" y=\"-1324.3\" font-family=\"Helvetica,sans-Serif\" font-size=\"14.00\" fill=\"#000000\">value = [0, 1]</text>\n<text text-anchor=\"start\" x=\"361.5\" y=\"-1309.3\" font-family=\"Helvetica,sans-Serif\" font-size=\"14.00\" fill=\"#000000\">class = o</text>\n</g>\n<!-- 17&#45;&gt;18 -->\n<g id=\"edge18\" class=\"edge\">\n<title>17&#45;&gt;18</title>\n<path fill=\"none\" stroke=\"#000000\" d=\"M429.5149,-1412.8796C423.9707,-1401.8835 417.9736,-1389.9893 412.3831,-1378.9015\"/>\n<polygon fill=\"#000000\" stroke=\"#000000\" points=\"415.4291,-1377.1684 407.8016,-1369.8149 409.1786,-1380.3199 415.4291,-1377.1684\"/>\n</g>\n<!-- 19 -->\n<g id=\"node20\" class=\"node\">\n<title>19</title>\n<path fill=\"#e58139\" stroke=\"#000000\" d=\"M545,-1369.5C545,-1369.5 470,-1369.5 470,-1369.5 464,-1369.5 458,-1363.5 458,-1357.5 458,-1357.5 458,-1313.5 458,-1313.5 458,-1307.5 464,-1301.5 470,-1301.5 470,-1301.5 545,-1301.5 545,-1301.5 551,-1301.5 557,-1307.5 557,-1313.5 557,-1313.5 557,-1357.5 557,-1357.5 557,-1363.5 551,-1369.5 545,-1369.5\"/>\n<text text-anchor=\"start\" x=\"478\" y=\"-1354.3\" font-family=\"Helvetica,sans-Serif\" font-size=\"14.00\" fill=\"#000000\">gini = 0.0</text>\n<text text-anchor=\"start\" x=\"468\" y=\"-1339.3\" font-family=\"Helvetica,sans-Serif\" font-size=\"14.00\" fill=\"#000000\">samples = 1</text>\n<text text-anchor=\"start\" x=\"466\" y=\"-1324.3\" font-family=\"Helvetica,sans-Serif\" font-size=\"14.00\" fill=\"#000000\">value = [1, 0]</text>\n<text text-anchor=\"start\" x=\"481\" y=\"-1309.3\" font-family=\"Helvetica,sans-Serif\" font-size=\"14.00\" fill=\"#000000\">class = l</text>\n</g>\n<!-- 17&#45;&gt;19 -->\n<g id=\"edge19\" class=\"edge\">\n<title>17&#45;&gt;19</title>\n<path fill=\"none\" stroke=\"#000000\" d=\"M470.4358,-1412.8796C475.7029,-1401.8835 481.4001,-1389.9893 486.711,-1378.9015\"/>\n<polygon fill=\"#000000\" stroke=\"#000000\" points=\"489.9,-1380.3457 491.0634,-1369.8149 483.5869,-1377.3217 489.9,-1380.3457\"/>\n</g>\n<!-- 23 -->\n<g id=\"node24\" class=\"node\">\n<title>23</title>\n<path fill=\"#e58139\" stroke=\"#000000\" d=\"M1277,-1845.5C1277,-1845.5 1202,-1845.5 1202,-1845.5 1196,-1845.5 1190,-1839.5 1190,-1833.5 1190,-1833.5 1190,-1789.5 1190,-1789.5 1190,-1783.5 1196,-1777.5 1202,-1777.5 1202,-1777.5 1277,-1777.5 1277,-1777.5 1283,-1777.5 1289,-1783.5 1289,-1789.5 1289,-1789.5 1289,-1833.5 1289,-1833.5 1289,-1839.5 1283,-1845.5 1277,-1845.5\"/>\n<text text-anchor=\"start\" x=\"1210\" y=\"-1830.3\" font-family=\"Helvetica,sans-Serif\" font-size=\"14.00\" fill=\"#000000\">gini = 0.0</text>\n<text text-anchor=\"start\" x=\"1200\" y=\"-1815.3\" font-family=\"Helvetica,sans-Serif\" font-size=\"14.00\" fill=\"#000000\">samples = 7</text>\n<text text-anchor=\"start\" x=\"1198\" y=\"-1800.3\" font-family=\"Helvetica,sans-Serif\" font-size=\"14.00\" fill=\"#000000\">value = [7, 0]</text>\n<text text-anchor=\"start\" x=\"1213\" y=\"-1785.3\" font-family=\"Helvetica,sans-Serif\" font-size=\"14.00\" fill=\"#000000\">class = l</text>\n</g>\n<!-- 22&#45;&gt;23 -->\n<g id=\"edge23\" class=\"edge\">\n<title>22&#45;&gt;23</title>\n<path fill=\"none\" stroke=\"#000000\" d=\"M1239.5,-1888.8796C1239.5,-1878.2134 1239.5,-1866.7021 1239.5,-1855.9015\"/>\n<polygon fill=\"#000000\" stroke=\"#000000\" points=\"1243.0001,-1855.8149 1239.5,-1845.8149 1236.0001,-1855.815 1243.0001,-1855.8149\"/>\n</g>\n<!-- 24 -->\n<g id=\"node25\" class=\"node\">\n<title>24</title>\n<path fill=\"#f8dcc8\" stroke=\"#000000\" d=\"M1454.5,-1853C1454.5,-1853 1354.5,-1853 1354.5,-1853 1348.5,-1853 1342.5,-1847 1342.5,-1841 1342.5,-1841 1342.5,-1782 1342.5,-1782 1342.5,-1776 1348.5,-1770 1354.5,-1770 1354.5,-1770 1454.5,-1770 1454.5,-1770 1460.5,-1770 1466.5,-1776 1466.5,-1782 1466.5,-1782 1466.5,-1841 1466.5,-1841 1466.5,-1847 1460.5,-1853 1454.5,-1853\"/>\n<text text-anchor=\"start\" x=\"1354\" y=\"-1837.8\" font-family=\"Helvetica,sans-Serif\" font-size=\"14.00\" fill=\"#000000\">Gender ≤ 0.979</text>\n<text text-anchor=\"start\" x=\"1366.5\" y=\"-1822.8\" font-family=\"Helvetica,sans-Serif\" font-size=\"14.00\" fill=\"#000000\">gini = 0.487</text>\n<text text-anchor=\"start\" x=\"1356.5\" y=\"-1807.8\" font-family=\"Helvetica,sans-Serif\" font-size=\"14.00\" fill=\"#000000\">samples = 198</text>\n<text text-anchor=\"start\" x=\"1350.5\" y=\"-1792.8\" font-family=\"Helvetica,sans-Serif\" font-size=\"14.00\" fill=\"#000000\">value = [115, 83]</text>\n<text text-anchor=\"start\" x=\"1378\" y=\"-1777.8\" font-family=\"Helvetica,sans-Serif\" font-size=\"14.00\" fill=\"#000000\">class = l</text>\n</g>\n<!-- 22&#45;&gt;24 -->\n<g id=\"edge24\" class=\"edge\">\n<title>22&#45;&gt;24</title>\n<path fill=\"none\" stroke=\"#000000\" d=\"M1297.209,-1888.8796C1310.523,-1879.2774 1324.7866,-1868.9903 1338.4259,-1859.1534\"/>\n<polygon fill=\"#000000\" stroke=\"#000000\" points=\"1340.7602,-1861.7852 1346.8236,-1853.0969 1336.6655,-1856.1077 1340.7602,-1861.7852\"/>\n</g>\n<!-- 25 -->\n<g id=\"node26\" class=\"node\">\n<title>25</title>\n<path fill=\"#f9e4d4\" stroke=\"#000000\" d=\"M1458,-1734C1458,-1734 1351,-1734 1351,-1734 1345,-1734 1339,-1728 1339,-1722 1339,-1722 1339,-1663 1339,-1663 1339,-1657 1345,-1651 1351,-1651 1351,-1651 1458,-1651 1458,-1651 1464,-1651 1470,-1657 1470,-1663 1470,-1663 1470,-1722 1470,-1722 1470,-1728 1464,-1734 1458,-1734\"/>\n<text text-anchor=\"start\" x=\"1347\" y=\"-1718.8\" font-family=\"Helvetica,sans-Serif\" font-size=\"14.00\" fill=\"#000000\">dayofweek ≤ 0.14</text>\n<text text-anchor=\"start\" x=\"1366.5\" y=\"-1703.8\" font-family=\"Helvetica,sans-Serif\" font-size=\"14.00\" fill=\"#000000\">gini = 0.493</text>\n<text text-anchor=\"start\" x=\"1356.5\" y=\"-1688.8\" font-family=\"Helvetica,sans-Serif\" font-size=\"14.00\" fill=\"#000000\">samples = 173</text>\n<text text-anchor=\"start\" x=\"1354.5\" y=\"-1673.8\" font-family=\"Helvetica,sans-Serif\" font-size=\"14.00\" fill=\"#000000\">value = [97, 76]</text>\n<text text-anchor=\"start\" x=\"1378\" y=\"-1658.8\" font-family=\"Helvetica,sans-Serif\" font-size=\"14.00\" fill=\"#000000\">class = l</text>\n</g>\n<!-- 24&#45;&gt;25 -->\n<g id=\"edge25\" class=\"edge\">\n<title>24&#45;&gt;25</title>\n<path fill=\"none\" stroke=\"#000000\" d=\"M1404.5,-1769.8796C1404.5,-1761.6838 1404.5,-1752.9891 1404.5,-1744.5013\"/>\n<polygon fill=\"#000000\" stroke=\"#000000\" points=\"1408.0001,-1744.298 1404.5,-1734.2981 1401.0001,-1744.2981 1408.0001,-1744.298\"/>\n</g>\n<!-- 196 -->\n<g id=\"node197\" class=\"node\">\n<title>196</title>\n<path fill=\"#efb286\" stroke=\"#000000\" d=\"M2891,-1734C2891,-1734 2808,-1734 2808,-1734 2802,-1734 2796,-1728 2796,-1722 2796,-1722 2796,-1663 2796,-1663 2796,-1657 2802,-1651 2808,-1651 2808,-1651 2891,-1651 2891,-1651 2897,-1651 2903,-1657 2903,-1663 2903,-1663 2903,-1722 2903,-1722 2903,-1728 2897,-1734 2891,-1734\"/>\n<text text-anchor=\"start\" x=\"2808.5\" y=\"-1718.8\" font-family=\"Helvetica,sans-Serif\" font-size=\"14.00\" fill=\"#000000\">age ≤ &#45;0.073</text>\n<text text-anchor=\"start\" x=\"2811.5\" y=\"-1703.8\" font-family=\"Helvetica,sans-Serif\" font-size=\"14.00\" fill=\"#000000\">gini = 0.403</text>\n<text text-anchor=\"start\" x=\"2805.5\" y=\"-1688.8\" font-family=\"Helvetica,sans-Serif\" font-size=\"14.00\" fill=\"#000000\">samples = 25</text>\n<text text-anchor=\"start\" x=\"2804\" y=\"-1673.8\" font-family=\"Helvetica,sans-Serif\" font-size=\"14.00\" fill=\"#000000\">value = [18, 7]</text>\n<text text-anchor=\"start\" x=\"2823\" y=\"-1658.8\" font-family=\"Helvetica,sans-Serif\" font-size=\"14.00\" fill=\"#000000\">class = l</text>\n</g>\n<!-- 24&#45;&gt;196 -->\n<g id=\"edge196\" class=\"edge\">\n<title>24&#45;&gt;196</title>\n<path fill=\"none\" stroke=\"#000000\" d=\"M1466.5898,-1806.3867C1703.058,-1786.9129 2546.0426,-1717.4906 2785.5919,-1697.763\"/>\n<polygon fill=\"#000000\" stroke=\"#000000\" points=\"2786.1924,-1701.2255 2795.8714,-1696.9165 2785.6178,-1694.2491 2786.1924,-1701.2255\"/>\n</g>\n<!-- 26 -->\n<g id=\"node27\" class=\"node\">\n<title>26</title>\n<path fill=\"#fefaf7\" stroke=\"#000000\" d=\"M1071.5,-1615C1071.5,-1615 969.5,-1615 969.5,-1615 963.5,-1615 957.5,-1609 957.5,-1603 957.5,-1603 957.5,-1544 957.5,-1544 957.5,-1538 963.5,-1532 969.5,-1532 969.5,-1532 1071.5,-1532 1071.5,-1532 1077.5,-1532 1083.5,-1538 1083.5,-1544 1083.5,-1544 1083.5,-1603 1083.5,-1603 1083.5,-1609 1077.5,-1615 1071.5,-1615\"/>\n<text text-anchor=\"start\" x=\"965.5\" y=\"-1599.8\" font-family=\"Helvetica,sans-Serif\" font-size=\"14.00\" fill=\"#000000\">Bechalor ≤ 0.313</text>\n<text text-anchor=\"start\" x=\"991\" y=\"-1584.8\" font-family=\"Helvetica,sans-Serif\" font-size=\"14.00\" fill=\"#000000\">gini = 0.5</text>\n<text text-anchor=\"start\" x=\"976.5\" y=\"-1569.8\" font-family=\"Helvetica,sans-Serif\" font-size=\"14.00\" fill=\"#000000\">samples = 96</text>\n<text text-anchor=\"start\" x=\"970.5\" y=\"-1554.8\" font-family=\"Helvetica,sans-Serif\" font-size=\"14.00\" fill=\"#000000\">value = [49, 47]</text>\n<text text-anchor=\"start\" x=\"994\" y=\"-1539.8\" font-family=\"Helvetica,sans-Serif\" font-size=\"14.00\" fill=\"#000000\">class = l</text>\n</g>\n<!-- 25&#45;&gt;26 -->\n<g id=\"edge26\" class=\"edge\">\n<title>25&#45;&gt;26</title>\n<path fill=\"none\" stroke=\"#000000\" d=\"M1338.9244,-1672.1784C1270.6948,-1651.0343 1164.1219,-1618.0078 1093.3188,-1596.0663\"/>\n<polygon fill=\"#000000\" stroke=\"#000000\" points=\"1094.1613,-1592.6632 1083.5733,-1593.0462 1092.0892,-1599.3495 1094.1613,-1592.6632\"/>\n</g>\n<!-- 131 -->\n<g id=\"node132\" class=\"node\">\n<title>131</title>\n<path fill=\"#f5cdb1\" stroke=\"#000000\" d=\"M1930.5,-1615C1930.5,-1615 1838.5,-1615 1838.5,-1615 1832.5,-1615 1826.5,-1609 1826.5,-1603 1826.5,-1603 1826.5,-1544 1826.5,-1544 1826.5,-1538 1832.5,-1532 1838.5,-1532 1838.5,-1532 1930.5,-1532 1930.5,-1532 1936.5,-1532 1942.5,-1538 1942.5,-1544 1942.5,-1544 1942.5,-1603 1942.5,-1603 1942.5,-1609 1936.5,-1615 1930.5,-1615\"/>\n<text text-anchor=\"start\" x=\"1850\" y=\"-1599.8\" font-family=\"Helvetica,sans-Serif\" font-size=\"14.00\" fill=\"#000000\">age ≤ 0.59</text>\n<text text-anchor=\"start\" x=\"1851\" y=\"-1584.8\" font-family=\"Helvetica,sans-Serif\" font-size=\"14.00\" fill=\"#000000\">gini = 0.47</text>\n<text text-anchor=\"start\" x=\"1840.5\" y=\"-1569.8\" font-family=\"Helvetica,sans-Serif\" font-size=\"14.00\" fill=\"#000000\">samples = 77</text>\n<text text-anchor=\"start\" x=\"1834.5\" y=\"-1554.8\" font-family=\"Helvetica,sans-Serif\" font-size=\"14.00\" fill=\"#000000\">value = [48, 29]</text>\n<text text-anchor=\"start\" x=\"1858\" y=\"-1539.8\" font-family=\"Helvetica,sans-Serif\" font-size=\"14.00\" fill=\"#000000\">class = l</text>\n</g>\n<!-- 25&#45;&gt;131 -->\n<g id=\"edge131\" class=\"edge\">\n<title>25&#45;&gt;131</title>\n<path fill=\"none\" stroke=\"#000000\" d=\"M1470.2355,-1676.2031C1561.1528,-1653.6632 1724.4592,-1613.1768 1816.5402,-1590.3484\"/>\n<polygon fill=\"#000000\" stroke=\"#000000\" points=\"1817.4512,-1593.7286 1826.3151,-1587.925 1815.7667,-1586.9342 1817.4512,-1593.7286\"/>\n</g>\n<!-- 27 -->\n<g id=\"node28\" class=\"node\">\n<title>27</title>\n<path fill=\"#399de5\" stroke=\"#000000\" d=\"M932,-1488.5C932,-1488.5 857,-1488.5 857,-1488.5 851,-1488.5 845,-1482.5 845,-1476.5 845,-1476.5 845,-1432.5 845,-1432.5 845,-1426.5 851,-1420.5 857,-1420.5 857,-1420.5 932,-1420.5 932,-1420.5 938,-1420.5 944,-1426.5 944,-1432.5 944,-1432.5 944,-1476.5 944,-1476.5 944,-1482.5 938,-1488.5 932,-1488.5\"/>\n<text text-anchor=\"start\" x=\"865\" y=\"-1473.3\" font-family=\"Helvetica,sans-Serif\" font-size=\"14.00\" fill=\"#000000\">gini = 0.0</text>\n<text text-anchor=\"start\" x=\"855\" y=\"-1458.3\" font-family=\"Helvetica,sans-Serif\" font-size=\"14.00\" fill=\"#000000\">samples = 2</text>\n<text text-anchor=\"start\" x=\"853\" y=\"-1443.3\" font-family=\"Helvetica,sans-Serif\" font-size=\"14.00\" fill=\"#000000\">value = [0, 2]</text>\n<text text-anchor=\"start\" x=\"865.5\" y=\"-1428.3\" font-family=\"Helvetica,sans-Serif\" font-size=\"14.00\" fill=\"#000000\">class = o</text>\n</g>\n<!-- 26&#45;&gt;27 -->\n<g id=\"edge27\" class=\"edge\">\n<title>26&#45;&gt;27</title>\n<path fill=\"none\" stroke=\"#000000\" d=\"M976.4313,-1531.8796C964.0898,-1520.2237 950.6798,-1507.5587 938.351,-1495.9148\"/>\n<polygon fill=\"#000000\" stroke=\"#000000\" points=\"940.5068,-1493.1366 930.8335,-1488.8149 935.7004,-1498.2258 940.5068,-1493.1366\"/>\n</g>\n<!-- 28 -->\n<g id=\"node29\" class=\"node\">\n<title>28</title>\n<path fill=\"#fdf5ef\" stroke=\"#000000\" d=\"M1066.5,-1496C1066.5,-1496 974.5,-1496 974.5,-1496 968.5,-1496 962.5,-1490 962.5,-1484 962.5,-1484 962.5,-1425 962.5,-1425 962.5,-1419 968.5,-1413 974.5,-1413 974.5,-1413 1066.5,-1413 1066.5,-1413 1072.5,-1413 1078.5,-1419 1078.5,-1425 1078.5,-1425 1078.5,-1484 1078.5,-1484 1078.5,-1490 1072.5,-1496 1066.5,-1496\"/>\n<text text-anchor=\"start\" x=\"979.5\" y=\"-1480.8\" font-family=\"Helvetica,sans-Serif\" font-size=\"14.00\" fill=\"#000000\">age ≤ &#45;1.399</text>\n<text text-anchor=\"start\" x=\"982.5\" y=\"-1465.8\" font-family=\"Helvetica,sans-Serif\" font-size=\"14.00\" fill=\"#000000\">gini = 0.499</text>\n<text text-anchor=\"start\" x=\"976.5\" y=\"-1450.8\" font-family=\"Helvetica,sans-Serif\" font-size=\"14.00\" fill=\"#000000\">samples = 94</text>\n<text text-anchor=\"start\" x=\"970.5\" y=\"-1435.8\" font-family=\"Helvetica,sans-Serif\" font-size=\"14.00\" fill=\"#000000\">value = [49, 45]</text>\n<text text-anchor=\"start\" x=\"994\" y=\"-1420.8\" font-family=\"Helvetica,sans-Serif\" font-size=\"14.00\" fill=\"#000000\">class = l</text>\n</g>\n<!-- 26&#45;&gt;28 -->\n<g id=\"edge28\" class=\"edge\">\n<title>26&#45;&gt;28</title>\n<path fill=\"none\" stroke=\"#000000\" d=\"M1020.5,-1531.8796C1020.5,-1523.6838 1020.5,-1514.9891 1020.5,-1506.5013\"/>\n<polygon fill=\"#000000\" stroke=\"#000000\" points=\"1024.0001,-1506.298 1020.5,-1496.2981 1017.0001,-1506.2981 1024.0001,-1506.298\"/>\n</g>\n<!-- 29 -->\n<g id=\"node30\" class=\"node\">\n<title>29</title>\n<path fill=\"#eeab7b\" stroke=\"#000000\" d=\"M689.5,-1377C689.5,-1377 587.5,-1377 587.5,-1377 581.5,-1377 575.5,-1371 575.5,-1365 575.5,-1365 575.5,-1306 575.5,-1306 575.5,-1300 581.5,-1294 587.5,-1294 587.5,-1294 689.5,-1294 689.5,-1294 695.5,-1294 701.5,-1300 701.5,-1306 701.5,-1306 701.5,-1365 701.5,-1365 701.5,-1371 695.5,-1377 689.5,-1377\"/>\n<text text-anchor=\"start\" x=\"583.5\" y=\"-1361.8\" font-family=\"Helvetica,sans-Serif\" font-size=\"14.00\" fill=\"#000000\">Bechalor ≤ 0.696</text>\n<text text-anchor=\"start\" x=\"600.5\" y=\"-1346.8\" font-family=\"Helvetica,sans-Serif\" font-size=\"14.00\" fill=\"#000000\">gini = 0.375</text>\n<text text-anchor=\"start\" x=\"599\" y=\"-1331.8\" font-family=\"Helvetica,sans-Serif\" font-size=\"14.00\" fill=\"#000000\">samples = 8</text>\n<text text-anchor=\"start\" x=\"597\" y=\"-1316.8\" font-family=\"Helvetica,sans-Serif\" font-size=\"14.00\" fill=\"#000000\">value = [6, 2]</text>\n<text text-anchor=\"start\" x=\"612\" y=\"-1301.8\" font-family=\"Helvetica,sans-Serif\" font-size=\"14.00\" fill=\"#000000\">class = l</text>\n</g>\n<!-- 28&#45;&gt;29 -->\n<g id=\"edge29\" class=\"edge\">\n<title>28&#45;&gt;29</title>\n<path fill=\"none\" stroke=\"#000000\" d=\"M962.4991,-1417.5478C959.1654,-1415.9143 955.8191,-1414.3836 952.5,-1413 873.2961,-1379.9821 776.7558,-1358.7667 711.8039,-1347.029\"/>\n<polygon fill=\"#000000\" stroke=\"#000000\" points=\"712.1163,-1343.5297 701.6582,-1345.2262 710.8916,-1350.4218 712.1163,-1343.5297\"/>\n</g>\n<!-- 38 -->\n<g id=\"node39\" class=\"node\">\n<title>38</title>\n<path fill=\"#ffffff\" stroke=\"#000000\" d=\"M1066.5,-1377C1066.5,-1377 974.5,-1377 974.5,-1377 968.5,-1377 962.5,-1371 962.5,-1365 962.5,-1365 962.5,-1306 962.5,-1306 962.5,-1300 968.5,-1294 974.5,-1294 974.5,-1294 1066.5,-1294 1066.5,-1294 1072.5,-1294 1078.5,-1300 1078.5,-1306 1078.5,-1306 1078.5,-1365 1078.5,-1365 1078.5,-1371 1072.5,-1377 1066.5,-1377\"/>\n<text text-anchor=\"start\" x=\"979.5\" y=\"-1361.8\" font-family=\"Helvetica,sans-Serif\" font-size=\"14.00\" fill=\"#000000\">age ≤ &#45;0.736</text>\n<text text-anchor=\"start\" x=\"991\" y=\"-1346.8\" font-family=\"Helvetica,sans-Serif\" font-size=\"14.00\" fill=\"#000000\">gini = 0.5</text>\n<text text-anchor=\"start\" x=\"976.5\" y=\"-1331.8\" font-family=\"Helvetica,sans-Serif\" font-size=\"14.00\" fill=\"#000000\">samples = 86</text>\n<text text-anchor=\"start\" x=\"970.5\" y=\"-1316.8\" font-family=\"Helvetica,sans-Serif\" font-size=\"14.00\" fill=\"#000000\">value = [43, 43]</text>\n<text text-anchor=\"start\" x=\"994\" y=\"-1301.8\" font-family=\"Helvetica,sans-Serif\" font-size=\"14.00\" fill=\"#000000\">class = l</text>\n</g>\n<!-- 28&#45;&gt;38 -->\n<g id=\"edge38\" class=\"edge\">\n<title>28&#45;&gt;38</title>\n<path fill=\"none\" stroke=\"#000000\" d=\"M1020.5,-1412.8796C1020.5,-1404.6838 1020.5,-1395.9891 1020.5,-1387.5013\"/>\n<polygon fill=\"#000000\" stroke=\"#000000\" points=\"1024.0001,-1387.298 1020.5,-1377.2981 1017.0001,-1387.2981 1024.0001,-1387.298\"/>\n</g>\n<!-- 30 -->\n<g id=\"node31\" class=\"node\">\n<title>30</title>\n<path fill=\"#399de5\" stroke=\"#000000\" d=\"M557,-1250.5C557,-1250.5 482,-1250.5 482,-1250.5 476,-1250.5 470,-1244.5 470,-1238.5 470,-1238.5 470,-1194.5 470,-1194.5 470,-1188.5 476,-1182.5 482,-1182.5 482,-1182.5 557,-1182.5 557,-1182.5 563,-1182.5 569,-1188.5 569,-1194.5 569,-1194.5 569,-1238.5 569,-1238.5 569,-1244.5 563,-1250.5 557,-1250.5\"/>\n<text text-anchor=\"start\" x=\"490\" y=\"-1235.3\" font-family=\"Helvetica,sans-Serif\" font-size=\"14.00\" fill=\"#000000\">gini = 0.0</text>\n<text text-anchor=\"start\" x=\"480\" y=\"-1220.3\" font-family=\"Helvetica,sans-Serif\" font-size=\"14.00\" fill=\"#000000\">samples = 1</text>\n<text text-anchor=\"start\" x=\"478\" y=\"-1205.3\" font-family=\"Helvetica,sans-Serif\" font-size=\"14.00\" fill=\"#000000\">value = [0, 1]</text>\n<text text-anchor=\"start\" x=\"490.5\" y=\"-1190.3\" font-family=\"Helvetica,sans-Serif\" font-size=\"14.00\" fill=\"#000000\">class = o</text>\n</g>\n<!-- 29&#45;&gt;30 -->\n<g id=\"edge30\" class=\"edge\">\n<title>29&#45;&gt;30</title>\n<path fill=\"none\" stroke=\"#000000\" d=\"M596.8796,-1293.8796C585.2237,-1282.2237 572.5587,-1269.5587 560.9148,-1257.9148\"/>\n<polygon fill=\"#000000\" stroke=\"#000000\" points=\"563.3609,-1255.4111 553.8149,-1250.8149 558.4111,-1260.3609 563.3609,-1255.4111\"/>\n</g>\n<!-- 31 -->\n<g id=\"node32\" class=\"node\">\n<title>31</title>\n<path fill=\"#e9965a\" stroke=\"#000000\" d=\"M674,-1258C674,-1258 599,-1258 599,-1258 593,-1258 587,-1252 587,-1246 587,-1246 587,-1187 587,-1187 587,-1181 593,-1175 599,-1175 599,-1175 674,-1175 674,-1175 680,-1175 686,-1181 686,-1187 686,-1187 686,-1246 686,-1246 686,-1252 680,-1258 674,-1258\"/>\n<text text-anchor=\"start\" x=\"595.5\" y=\"-1242.8\" font-family=\"Helvetica,sans-Serif\" font-size=\"14.00\" fill=\"#000000\">age ≤ &#45;1.565</text>\n<text text-anchor=\"start\" x=\"598.5\" y=\"-1227.8\" font-family=\"Helvetica,sans-Serif\" font-size=\"14.00\" fill=\"#000000\">gini = 0.245</text>\n<text text-anchor=\"start\" x=\"597\" y=\"-1212.8\" font-family=\"Helvetica,sans-Serif\" font-size=\"14.00\" fill=\"#000000\">samples = 7</text>\n<text text-anchor=\"start\" x=\"595\" y=\"-1197.8\" font-family=\"Helvetica,sans-Serif\" font-size=\"14.00\" fill=\"#000000\">value = [6, 1]</text>\n<text text-anchor=\"start\" x=\"610\" y=\"-1182.8\" font-family=\"Helvetica,sans-Serif\" font-size=\"14.00\" fill=\"#000000\">class = l</text>\n</g>\n<!-- 29&#45;&gt;31 -->\n<g id=\"edge31\" class=\"edge\">\n<title>29&#45;&gt;31</title>\n<path fill=\"none\" stroke=\"#000000\" d=\"M637.8005,-1293.8796C637.6628,-1285.6838 637.5166,-1276.9891 637.374,-1268.5013\"/>\n<polygon fill=\"#000000\" stroke=\"#000000\" points=\"640.8701,-1268.2378 637.2025,-1258.2981 633.8711,-1268.3555 640.8701,-1268.2378\"/>\n</g>\n<!-- 32 -->\n<g id=\"node33\" class=\"node\">\n<title>32</title>\n<path fill=\"#eeab7b\" stroke=\"#000000\" d=\"M537,-1139C537,-1139 354,-1139 354,-1139 348,-1139 342,-1133 342,-1127 342,-1127 342,-1068 342,-1068 342,-1062 348,-1056 354,-1056 354,-1056 537,-1056 537,-1056 543,-1056 549,-1062 549,-1068 549,-1068 549,-1127 549,-1127 549,-1133 543,-1139 537,-1139\"/>\n<text text-anchor=\"start\" x=\"350\" y=\"-1123.8\" font-family=\"Helvetica,sans-Serif\" font-size=\"14.00\" fill=\"#000000\">High School or Below ≤ 1.119</text>\n<text text-anchor=\"start\" x=\"407.5\" y=\"-1108.8\" font-family=\"Helvetica,sans-Serif\" font-size=\"14.00\" fill=\"#000000\">gini = 0.375</text>\n<text text-anchor=\"start\" x=\"406\" y=\"-1093.8\" font-family=\"Helvetica,sans-Serif\" font-size=\"14.00\" fill=\"#000000\">samples = 4</text>\n<text text-anchor=\"start\" x=\"404\" y=\"-1078.8\" font-family=\"Helvetica,sans-Serif\" font-size=\"14.00\" fill=\"#000000\">value = [3, 1]</text>\n<text text-anchor=\"start\" x=\"419\" y=\"-1063.8\" font-family=\"Helvetica,sans-Serif\" font-size=\"14.00\" fill=\"#000000\">class = l</text>\n</g>\n<!-- 31&#45;&gt;32 -->\n<g id=\"edge32\" class=\"edge\">\n<title>31&#45;&gt;32</title>\n<path fill=\"none\" stroke=\"#000000\" d=\"M586.803,-1181.1138C583.6727,-1179.0187 580.5537,-1176.9657 577.5,-1175 561.5162,-1164.7109 544.1589,-1154.121 527.4435,-1144.2016\"/>\n<polygon fill=\"#000000\" stroke=\"#000000\" points=\"529.1621,-1141.1518 518.7717,-1139.0807 525.6027,-1147.1793 529.1621,-1141.1518\"/>\n</g>\n<!-- 37 -->\n<g id=\"node38\" class=\"node\">\n<title>37</title>\n<path fill=\"#e58139\" stroke=\"#000000\" d=\"M673,-1131.5C673,-1131.5 598,-1131.5 598,-1131.5 592,-1131.5 586,-1125.5 586,-1119.5 586,-1119.5 586,-1075.5 586,-1075.5 586,-1069.5 592,-1063.5 598,-1063.5 598,-1063.5 673,-1063.5 673,-1063.5 679,-1063.5 685,-1069.5 685,-1075.5 685,-1075.5 685,-1119.5 685,-1119.5 685,-1125.5 679,-1131.5 673,-1131.5\"/>\n<text text-anchor=\"start\" x=\"606\" y=\"-1116.3\" font-family=\"Helvetica,sans-Serif\" font-size=\"14.00\" fill=\"#000000\">gini = 0.0</text>\n<text text-anchor=\"start\" x=\"596\" y=\"-1101.3\" font-family=\"Helvetica,sans-Serif\" font-size=\"14.00\" fill=\"#000000\">samples = 3</text>\n<text text-anchor=\"start\" x=\"594\" y=\"-1086.3\" font-family=\"Helvetica,sans-Serif\" font-size=\"14.00\" fill=\"#000000\">value = [3, 0]</text>\n<text text-anchor=\"start\" x=\"609\" y=\"-1071.3\" font-family=\"Helvetica,sans-Serif\" font-size=\"14.00\" fill=\"#000000\">class = l</text>\n</g>\n<!-- 31&#45;&gt;37 -->\n<g id=\"edge37\" class=\"edge\">\n<title>31&#45;&gt;37</title>\n<path fill=\"none\" stroke=\"#000000\" d=\"M636.1502,-1174.8796C636.0606,-1164.2134 635.9639,-1152.7021 635.8731,-1141.9015\"/>\n<polygon fill=\"#000000\" stroke=\"#000000\" points=\"639.3724,-1141.7851 635.7884,-1131.8149 632.3726,-1141.844 639.3724,-1141.7851\"/>\n</g>\n<!-- 33 -->\n<g id=\"node34\" class=\"node\">\n<title>33</title>\n<path fill=\"#f2c09c\" stroke=\"#000000\" d=\"M366,-1020C366,-1020 291,-1020 291,-1020 285,-1020 279,-1014 279,-1008 279,-1008 279,-949 279,-949 279,-943 285,-937 291,-937 291,-937 366,-937 366,-937 372,-937 378,-943 378,-949 378,-949 378,-1008 378,-1008 378,-1014 372,-1020 366,-1020\"/>\n<text text-anchor=\"start\" x=\"287.5\" y=\"-1004.8\" font-family=\"Helvetica,sans-Serif\" font-size=\"14.00\" fill=\"#000000\">age ≤ &#45;1.731</text>\n<text text-anchor=\"start\" x=\"290.5\" y=\"-989.8\" font-family=\"Helvetica,sans-Serif\" font-size=\"14.00\" fill=\"#000000\">gini = 0.444</text>\n<text text-anchor=\"start\" x=\"289\" y=\"-974.8\" font-family=\"Helvetica,sans-Serif\" font-size=\"14.00\" fill=\"#000000\">samples = 3</text>\n<text text-anchor=\"start\" x=\"287\" y=\"-959.8\" font-family=\"Helvetica,sans-Serif\" font-size=\"14.00\" fill=\"#000000\">value = [2, 1]</text>\n<text text-anchor=\"start\" x=\"302\" y=\"-944.8\" font-family=\"Helvetica,sans-Serif\" font-size=\"14.00\" fill=\"#000000\">class = l</text>\n</g>\n<!-- 32&#45;&gt;33 -->\n<g id=\"edge33\" class=\"edge\">\n<title>32&#45;&gt;33</title>\n<path fill=\"none\" stroke=\"#000000\" d=\"M404.5791,-1055.8796C395.547,-1046.6931 385.8987,-1036.8798 376.6112,-1027.4336\"/>\n<polygon fill=\"#000000\" stroke=\"#000000\" points=\"379.1023,-1024.975 369.5956,-1020.2981 374.1107,-1029.8827 379.1023,-1024.975\"/>\n</g>\n<!-- 36 -->\n<g id=\"node37\" class=\"node\">\n<title>36</title>\n<path fill=\"#e58139\" stroke=\"#000000\" d=\"M483,-1012.5C483,-1012.5 408,-1012.5 408,-1012.5 402,-1012.5 396,-1006.5 396,-1000.5 396,-1000.5 396,-956.5 396,-956.5 396,-950.5 402,-944.5 408,-944.5 408,-944.5 483,-944.5 483,-944.5 489,-944.5 495,-950.5 495,-956.5 495,-956.5 495,-1000.5 495,-1000.5 495,-1006.5 489,-1012.5 483,-1012.5\"/>\n<text text-anchor=\"start\" x=\"416\" y=\"-997.3\" font-family=\"Helvetica,sans-Serif\" font-size=\"14.00\" fill=\"#000000\">gini = 0.0</text>\n<text text-anchor=\"start\" x=\"406\" y=\"-982.3\" font-family=\"Helvetica,sans-Serif\" font-size=\"14.00\" fill=\"#000000\">samples = 1</text>\n<text text-anchor=\"start\" x=\"404\" y=\"-967.3\" font-family=\"Helvetica,sans-Serif\" font-size=\"14.00\" fill=\"#000000\">value = [1, 0]</text>\n<text text-anchor=\"start\" x=\"419\" y=\"-952.3\" font-family=\"Helvetica,sans-Serif\" font-size=\"14.00\" fill=\"#000000\">class = l</text>\n</g>\n<!-- 32&#45;&gt;36 -->\n<g id=\"edge36\" class=\"edge\">\n<title>32&#45;&gt;36</title>\n<path fill=\"none\" stroke=\"#000000\" d=\"M445.5,-1055.8796C445.5,-1045.2134 445.5,-1033.7021 445.5,-1022.9015\"/>\n<polygon fill=\"#000000\" stroke=\"#000000\" points=\"449.0001,-1022.8149 445.5,-1012.8149 442.0001,-1022.815 449.0001,-1022.8149\"/>\n</g>\n<!-- 34 -->\n<g id=\"node35\" class=\"node\">\n<title>34</title>\n<path fill=\"#e58139\" stroke=\"#000000\" d=\"M251,-893.5C251,-893.5 176,-893.5 176,-893.5 170,-893.5 164,-887.5 164,-881.5 164,-881.5 164,-837.5 164,-837.5 164,-831.5 170,-825.5 176,-825.5 176,-825.5 251,-825.5 251,-825.5 257,-825.5 263,-831.5 263,-837.5 263,-837.5 263,-881.5 263,-881.5 263,-887.5 257,-893.5 251,-893.5\"/>\n<text text-anchor=\"start\" x=\"184\" y=\"-878.3\" font-family=\"Helvetica,sans-Serif\" font-size=\"14.00\" fill=\"#000000\">gini = 0.0</text>\n<text text-anchor=\"start\" x=\"174\" y=\"-863.3\" font-family=\"Helvetica,sans-Serif\" font-size=\"14.00\" fill=\"#000000\">samples = 1</text>\n<text text-anchor=\"start\" x=\"172\" y=\"-848.3\" font-family=\"Helvetica,sans-Serif\" font-size=\"14.00\" fill=\"#000000\">value = [1, 0]</text>\n<text text-anchor=\"start\" x=\"187\" y=\"-833.3\" font-family=\"Helvetica,sans-Serif\" font-size=\"14.00\" fill=\"#000000\">class = l</text>\n</g>\n<!-- 33&#45;&gt;34 -->\n<g id=\"edge34\" class=\"edge\">\n<title>33&#45;&gt;34</title>\n<path fill=\"none\" stroke=\"#000000\" d=\"M288.2786,-936.8796C277.1208,-925.3337 265.0061,-912.7976 253.8414,-901.2446\"/>\n<polygon fill=\"#000000\" stroke=\"#000000\" points=\"256.1275,-898.5736 246.6615,-893.8149 251.0939,-903.4381 256.1275,-898.5736\"/>\n</g>\n<!-- 35 -->\n<g id=\"node36\" class=\"node\">\n<title>35</title>\n<path fill=\"#ffffff\" stroke=\"#000000\" d=\"M368,-893.5C368,-893.5 293,-893.5 293,-893.5 287,-893.5 281,-887.5 281,-881.5 281,-881.5 281,-837.5 281,-837.5 281,-831.5 287,-825.5 293,-825.5 293,-825.5 368,-825.5 368,-825.5 374,-825.5 380,-831.5 380,-837.5 380,-837.5 380,-881.5 380,-881.5 380,-887.5 374,-893.5 368,-893.5\"/>\n<text text-anchor=\"start\" x=\"301\" y=\"-878.3\" font-family=\"Helvetica,sans-Serif\" font-size=\"14.00\" fill=\"#000000\">gini = 0.5</text>\n<text text-anchor=\"start\" x=\"291\" y=\"-863.3\" font-family=\"Helvetica,sans-Serif\" font-size=\"14.00\" fill=\"#000000\">samples = 2</text>\n<text text-anchor=\"start\" x=\"289\" y=\"-848.3\" font-family=\"Helvetica,sans-Serif\" font-size=\"14.00\" fill=\"#000000\">value = [1, 1]</text>\n<text text-anchor=\"start\" x=\"304\" y=\"-833.3\" font-family=\"Helvetica,sans-Serif\" font-size=\"14.00\" fill=\"#000000\">class = l</text>\n</g>\n<!-- 33&#45;&gt;35 -->\n<g id=\"edge35\" class=\"edge\">\n<title>33&#45;&gt;35</title>\n<path fill=\"none\" stroke=\"#000000\" d=\"M329.1995,-936.8796C329.3788,-926.2134 329.5722,-914.7021 329.7538,-903.9015\"/>\n<polygon fill=\"#000000\" stroke=\"#000000\" points=\"333.2546,-903.8724 329.9233,-893.8149 326.2556,-903.7547 333.2546,-903.8724\"/>\n</g>\n<!-- 39 -->\n<g id=\"node40\" class=\"node\">\n<title>39</title>\n<path fill=\"#a5d2f3\" stroke=\"#000000\" d=\"M926.5,-1258C926.5,-1258 822.5,-1258 822.5,-1258 816.5,-1258 810.5,-1252 810.5,-1246 810.5,-1246 810.5,-1187 810.5,-1187 810.5,-1181 816.5,-1175 822.5,-1175 822.5,-1175 926.5,-1175 926.5,-1175 932.5,-1175 938.5,-1181 938.5,-1187 938.5,-1187 938.5,-1246 938.5,-1246 938.5,-1252 932.5,-1258 926.5,-1258\"/>\n<text text-anchor=\"start\" x=\"818.5\" y=\"-1242.8\" font-family=\"Helvetica,sans-Serif\" font-size=\"14.00\" fill=\"#000000\">Principal ≤ &#45;0.399</text>\n<text text-anchor=\"start\" x=\"836.5\" y=\"-1227.8\" font-family=\"Helvetica,sans-Serif\" font-size=\"14.00\" fill=\"#000000\">gini = 0.457</text>\n<text text-anchor=\"start\" x=\"830.5\" y=\"-1212.8\" font-family=\"Helvetica,sans-Serif\" font-size=\"14.00\" fill=\"#000000\">samples = 17</text>\n<text text-anchor=\"start\" x=\"829\" y=\"-1197.8\" font-family=\"Helvetica,sans-Serif\" font-size=\"14.00\" fill=\"#000000\">value = [6, 11]</text>\n<text text-anchor=\"start\" x=\"845.5\" y=\"-1182.8\" font-family=\"Helvetica,sans-Serif\" font-size=\"14.00\" fill=\"#000000\">class = o</text>\n</g>\n<!-- 38&#45;&gt;39 -->\n<g id=\"edge39\" class=\"edge\">\n<title>38&#45;&gt;39</title>\n<path fill=\"none\" stroke=\"#000000\" d=\"M969.4363,-1293.8796C957.9445,-1284.513 945.6532,-1274.4948 933.855,-1264.8784\"/>\n<polygon fill=\"#000000\" stroke=\"#000000\" points=\"935.7444,-1261.903 925.7817,-1258.2981 931.3218,-1267.329 935.7444,-1261.903\"/>\n</g>\n<!-- 54 -->\n<g id=\"node55\" class=\"node\">\n<title>54</title>\n<path fill=\"#fbeee4\" stroke=\"#000000\" d=\"M1193.5,-1258C1193.5,-1258 1101.5,-1258 1101.5,-1258 1095.5,-1258 1089.5,-1252 1089.5,-1246 1089.5,-1246 1089.5,-1187 1089.5,-1187 1089.5,-1181 1095.5,-1175 1101.5,-1175 1101.5,-1175 1193.5,-1175 1193.5,-1175 1199.5,-1175 1205.5,-1181 1205.5,-1187 1205.5,-1187 1205.5,-1246 1205.5,-1246 1205.5,-1252 1199.5,-1258 1193.5,-1258\"/>\n<text text-anchor=\"start\" x=\"1113\" y=\"-1242.8\" font-family=\"Helvetica,sans-Serif\" font-size=\"14.00\" fill=\"#000000\">age ≤ 0.59</text>\n<text text-anchor=\"start\" x=\"1109.5\" y=\"-1227.8\" font-family=\"Helvetica,sans-Serif\" font-size=\"14.00\" fill=\"#000000\">gini = 0.497</text>\n<text text-anchor=\"start\" x=\"1103.5\" y=\"-1212.8\" font-family=\"Helvetica,sans-Serif\" font-size=\"14.00\" fill=\"#000000\">samples = 69</text>\n<text text-anchor=\"start\" x=\"1097.5\" y=\"-1197.8\" font-family=\"Helvetica,sans-Serif\" font-size=\"14.00\" fill=\"#000000\">value = [37, 32]</text>\n<text text-anchor=\"start\" x=\"1121\" y=\"-1182.8\" font-family=\"Helvetica,sans-Serif\" font-size=\"14.00\" fill=\"#000000\">class = l</text>\n</g>\n<!-- 38&#45;&gt;54 -->\n<g id=\"edge54\" class=\"edge\">\n<title>38&#45;&gt;54</title>\n<path fill=\"none\" stroke=\"#000000\" d=\"M1064.9184,-1293.8796C1074.8186,-1284.6031 1085.4009,-1274.6874 1095.5731,-1265.1559\"/>\n<polygon fill=\"#000000\" stroke=\"#000000\" points=\"1097.9879,-1267.6896 1102.892,-1258.2981 1093.2016,-1262.5816 1097.9879,-1267.6896\"/>\n</g>\n<!-- 40 -->\n<g id=\"node41\" class=\"node\">\n<title>40</title>\n<path fill=\"#399de5\" stroke=\"#000000\" d=\"M790,-1131.5C790,-1131.5 715,-1131.5 715,-1131.5 709,-1131.5 703,-1125.5 703,-1119.5 703,-1119.5 703,-1075.5 703,-1075.5 703,-1069.5 709,-1063.5 715,-1063.5 715,-1063.5 790,-1063.5 790,-1063.5 796,-1063.5 802,-1069.5 802,-1075.5 802,-1075.5 802,-1119.5 802,-1119.5 802,-1125.5 796,-1131.5 790,-1131.5\"/>\n<text text-anchor=\"start\" x=\"723\" y=\"-1116.3\" font-family=\"Helvetica,sans-Serif\" font-size=\"14.00\" fill=\"#000000\">gini = 0.0</text>\n<text text-anchor=\"start\" x=\"713\" y=\"-1101.3\" font-family=\"Helvetica,sans-Serif\" font-size=\"14.00\" fill=\"#000000\">samples = 1</text>\n<text text-anchor=\"start\" x=\"711\" y=\"-1086.3\" font-family=\"Helvetica,sans-Serif\" font-size=\"14.00\" fill=\"#000000\">value = [0, 1]</text>\n<text text-anchor=\"start\" x=\"723.5\" y=\"-1071.3\" font-family=\"Helvetica,sans-Serif\" font-size=\"14.00\" fill=\"#000000\">class = o</text>\n</g>\n<!-- 39&#45;&gt;40 -->\n<g id=\"edge40\" class=\"edge\">\n<title>39&#45;&gt;40</title>\n<path fill=\"none\" stroke=\"#000000\" d=\"M831.8303,-1174.8796C819.8806,-1163.2237 806.8963,-1150.5587 794.9589,-1138.9148\"/>\n<polygon fill=\"#000000\" stroke=\"#000000\" points=\"797.2825,-1136.292 787.68,-1131.8149 792.3947,-1141.303 797.2825,-1136.292\"/>\n</g>\n<!-- 41 -->\n<g id=\"node42\" class=\"node\">\n<title>41</title>\n<path fill=\"#b0d8f5\" stroke=\"#000000\" d=\"M917,-1139C917,-1139 832,-1139 832,-1139 826,-1139 820,-1133 820,-1127 820,-1127 820,-1068 820,-1068 820,-1062 826,-1056 832,-1056 832,-1056 917,-1056 917,-1056 923,-1056 929,-1062 929,-1068 929,-1068 929,-1127 929,-1127 929,-1133 923,-1139 917,-1139\"/>\n<text text-anchor=\"start\" x=\"828\" y=\"-1123.8\" font-family=\"Helvetica,sans-Serif\" font-size=\"14.00\" fill=\"#000000\">terms ≤ &#45;0.019</text>\n<text text-anchor=\"start\" x=\"836.5\" y=\"-1108.8\" font-family=\"Helvetica,sans-Serif\" font-size=\"14.00\" fill=\"#000000\">gini = 0.469</text>\n<text text-anchor=\"start\" x=\"830.5\" y=\"-1093.8\" font-family=\"Helvetica,sans-Serif\" font-size=\"14.00\" fill=\"#000000\">samples = 16</text>\n<text text-anchor=\"start\" x=\"829\" y=\"-1078.8\" font-family=\"Helvetica,sans-Serif\" font-size=\"14.00\" fill=\"#000000\">value = [6, 10]</text>\n<text text-anchor=\"start\" x=\"845.5\" y=\"-1063.8\" font-family=\"Helvetica,sans-Serif\" font-size=\"14.00\" fill=\"#000000\">class = o</text>\n</g>\n<!-- 39&#45;&gt;41 -->\n<g id=\"edge41\" class=\"edge\">\n<title>39&#45;&gt;41</title>\n<path fill=\"none\" stroke=\"#000000\" d=\"M874.5,-1174.8796C874.5,-1166.6838 874.5,-1157.9891 874.5,-1149.5013\"/>\n<polygon fill=\"#000000\" stroke=\"#000000\" points=\"878.0001,-1149.298 874.5,-1139.2981 871.0001,-1149.2981 878.0001,-1149.298\"/>\n</g>\n<!-- 42 -->\n<g id=\"node43\" class=\"node\">\n<title>42</title>\n<path fill=\"#f2c09c\" stroke=\"#000000\" d=\"M616,-1020C616,-1020 525,-1020 525,-1020 519,-1020 513,-1014 513,-1008 513,-1008 513,-949 513,-949 513,-943 519,-937 525,-937 525,-937 616,-937 616,-937 622,-937 628,-943 628,-949 628,-949 628,-1008 628,-1008 628,-1014 622,-1020 616,-1020\"/>\n<text text-anchor=\"start\" x=\"521\" y=\"-1004.8\" font-family=\"Helvetica,sans-Serif\" font-size=\"14.00\" fill=\"#000000\">college ≤ 0.128</text>\n<text text-anchor=\"start\" x=\"532.5\" y=\"-989.8\" font-family=\"Helvetica,sans-Serif\" font-size=\"14.00\" fill=\"#000000\">gini = 0.444</text>\n<text text-anchor=\"start\" x=\"531\" y=\"-974.8\" font-family=\"Helvetica,sans-Serif\" font-size=\"14.00\" fill=\"#000000\">samples = 3</text>\n<text text-anchor=\"start\" x=\"529\" y=\"-959.8\" font-family=\"Helvetica,sans-Serif\" font-size=\"14.00\" fill=\"#000000\">value = [2, 1]</text>\n<text text-anchor=\"start\" x=\"544\" y=\"-944.8\" font-family=\"Helvetica,sans-Serif\" font-size=\"14.00\" fill=\"#000000\">class = l</text>\n</g>\n<!-- 41&#45;&gt;42 -->\n<g id=\"edge42\" class=\"edge\">\n<title>41&#45;&gt;42</title>\n<path fill=\"none\" stroke=\"#000000\" d=\"M819.8763,-1060.7773C816.7476,-1059.0846 813.6095,-1057.4784 810.5,-1056 754.638,-1029.4407 687.3453,-1008.5939 638.2481,-995.2427\"/>\n<polygon fill=\"#000000\" stroke=\"#000000\" points=\"638.9349,-991.8032 628.3694,-992.5906 637.1199,-998.5638 638.9349,-991.8032\"/>\n</g>\n<!-- 45 -->\n<g id=\"node46\" class=\"node\">\n<title>45</title>\n<path fill=\"#91c9f1\" stroke=\"#000000\" d=\"M861.5,-1020C861.5,-1020 759.5,-1020 759.5,-1020 753.5,-1020 747.5,-1014 747.5,-1008 747.5,-1008 747.5,-949 747.5,-949 747.5,-943 753.5,-937 759.5,-937 759.5,-937 861.5,-937 861.5,-937 867.5,-937 873.5,-943 873.5,-949 873.5,-949 873.5,-1008 873.5,-1008 873.5,-1014 867.5,-1020 861.5,-1020\"/>\n<text text-anchor=\"start\" x=\"755.5\" y=\"-1004.8\" font-family=\"Helvetica,sans-Serif\" font-size=\"14.00\" fill=\"#000000\">Bechalor ≤ 0.696</text>\n<text text-anchor=\"start\" x=\"772.5\" y=\"-989.8\" font-family=\"Helvetica,sans-Serif\" font-size=\"14.00\" fill=\"#000000\">gini = 0.426</text>\n<text text-anchor=\"start\" x=\"766.5\" y=\"-974.8\" font-family=\"Helvetica,sans-Serif\" font-size=\"14.00\" fill=\"#000000\">samples = 13</text>\n<text text-anchor=\"start\" x=\"769\" y=\"-959.8\" font-family=\"Helvetica,sans-Serif\" font-size=\"14.00\" fill=\"#000000\">value = [4, 9]</text>\n<text text-anchor=\"start\" x=\"781.5\" y=\"-944.8\" font-family=\"Helvetica,sans-Serif\" font-size=\"14.00\" fill=\"#000000\">class = o</text>\n</g>\n<!-- 41&#45;&gt;45 -->\n<g id=\"edge45\" class=\"edge\">\n<title>41&#45;&gt;45</title>\n<path fill=\"none\" stroke=\"#000000\" d=\"M852.1159,-1055.8796C847.5144,-1047.3236 842.6204,-1038.2238 837.8658,-1029.3833\"/>\n<polygon fill=\"#000000\" stroke=\"#000000\" points=\"840.7988,-1027.4473 832.9796,-1020.2981 834.6338,-1030.763 840.7988,-1027.4473\"/>\n</g>\n<!-- 43 -->\n<g id=\"node44\" class=\"node\">\n<title>43</title>\n<path fill=\"#399de5\" stroke=\"#000000\" d=\"M489,-893.5C489,-893.5 414,-893.5 414,-893.5 408,-893.5 402,-887.5 402,-881.5 402,-881.5 402,-837.5 402,-837.5 402,-831.5 408,-825.5 414,-825.5 414,-825.5 489,-825.5 489,-825.5 495,-825.5 501,-831.5 501,-837.5 501,-837.5 501,-881.5 501,-881.5 501,-887.5 495,-893.5 489,-893.5\"/>\n<text text-anchor=\"start\" x=\"422\" y=\"-878.3\" font-family=\"Helvetica,sans-Serif\" font-size=\"14.00\" fill=\"#000000\">gini = 0.0</text>\n<text text-anchor=\"start\" x=\"412\" y=\"-863.3\" font-family=\"Helvetica,sans-Serif\" font-size=\"14.00\" fill=\"#000000\">samples = 1</text>\n<text text-anchor=\"start\" x=\"410\" y=\"-848.3\" font-family=\"Helvetica,sans-Serif\" font-size=\"14.00\" fill=\"#000000\">value = [0, 1]</text>\n<text text-anchor=\"start\" x=\"422.5\" y=\"-833.3\" font-family=\"Helvetica,sans-Serif\" font-size=\"14.00\" fill=\"#000000\">class = o</text>\n</g>\n<!-- 42&#45;&gt;43 -->\n<g id=\"edge43\" class=\"edge\">\n<title>42&#45;&gt;43</title>\n<path fill=\"none\" stroke=\"#000000\" d=\"M528.8796,-936.8796C517.2237,-925.2237 504.5587,-912.5587 492.9148,-900.9148\"/>\n<polygon fill=\"#000000\" stroke=\"#000000\" points=\"495.3609,-898.4111 485.8149,-893.8149 490.4111,-903.3609 495.3609,-898.4111\"/>\n</g>\n<!-- 44 -->\n<g id=\"node45\" class=\"node\">\n<title>44</title>\n<path fill=\"#e58139\" stroke=\"#000000\" d=\"M606,-893.5C606,-893.5 531,-893.5 531,-893.5 525,-893.5 519,-887.5 519,-881.5 519,-881.5 519,-837.5 519,-837.5 519,-831.5 525,-825.5 531,-825.5 531,-825.5 606,-825.5 606,-825.5 612,-825.5 618,-831.5 618,-837.5 618,-837.5 618,-881.5 618,-881.5 618,-887.5 612,-893.5 606,-893.5\"/>\n<text text-anchor=\"start\" x=\"539\" y=\"-878.3\" font-family=\"Helvetica,sans-Serif\" font-size=\"14.00\" fill=\"#000000\">gini = 0.0</text>\n<text text-anchor=\"start\" x=\"529\" y=\"-863.3\" font-family=\"Helvetica,sans-Serif\" font-size=\"14.00\" fill=\"#000000\">samples = 2</text>\n<text text-anchor=\"start\" x=\"527\" y=\"-848.3\" font-family=\"Helvetica,sans-Serif\" font-size=\"14.00\" fill=\"#000000\">value = [2, 0]</text>\n<text text-anchor=\"start\" x=\"542\" y=\"-833.3\" font-family=\"Helvetica,sans-Serif\" font-size=\"14.00\" fill=\"#000000\">class = l</text>\n</g>\n<!-- 42&#45;&gt;44 -->\n<g id=\"edge44\" class=\"edge\">\n<title>42&#45;&gt;44</title>\n<path fill=\"none\" stroke=\"#000000\" d=\"M569.8005,-936.8796C569.6212,-926.2134 569.4278,-914.7021 569.2462,-903.9015\"/>\n<polygon fill=\"#000000\" stroke=\"#000000\" points=\"572.7444,-903.7547 569.0767,-893.8149 565.7454,-903.8724 572.7444,-903.7547\"/>\n</g>\n<!-- 46 -->\n<g id=\"node47\" class=\"node\">\n<title>46</title>\n<path fill=\"#e58139\" stroke=\"#000000\" d=\"M723,-893.5C723,-893.5 648,-893.5 648,-893.5 642,-893.5 636,-887.5 636,-881.5 636,-881.5 636,-837.5 636,-837.5 636,-831.5 642,-825.5 648,-825.5 648,-825.5 723,-825.5 723,-825.5 729,-825.5 735,-831.5 735,-837.5 735,-837.5 735,-881.5 735,-881.5 735,-887.5 729,-893.5 723,-893.5\"/>\n<text text-anchor=\"start\" x=\"656\" y=\"-878.3\" font-family=\"Helvetica,sans-Serif\" font-size=\"14.00\" fill=\"#000000\">gini = 0.0</text>\n<text text-anchor=\"start\" x=\"646\" y=\"-863.3\" font-family=\"Helvetica,sans-Serif\" font-size=\"14.00\" fill=\"#000000\">samples = 1</text>\n<text text-anchor=\"start\" x=\"644\" y=\"-848.3\" font-family=\"Helvetica,sans-Serif\" font-size=\"14.00\" fill=\"#000000\">value = [1, 0]</text>\n<text text-anchor=\"start\" x=\"659\" y=\"-833.3\" font-family=\"Helvetica,sans-Serif\" font-size=\"14.00\" fill=\"#000000\">class = l</text>\n</g>\n<!-- 45&#45;&gt;46 -->\n<g id=\"edge46\" class=\"edge\">\n<title>45&#45;&gt;46</title>\n<path fill=\"none\" stroke=\"#000000\" d=\"M766.7811,-936.8796C754.5375,-925.2237 741.2339,-912.5587 729.0029,-900.9148\"/>\n<polygon fill=\"#000000\" stroke=\"#000000\" points=\"731.2012,-898.1751 721.5451,-893.8149 726.3746,-903.245 731.2012,-898.1751\"/>\n</g>\n<!-- 47 -->\n<g id=\"node48\" class=\"node\">\n<title>47</title>\n<path fill=\"#7bbeee\" stroke=\"#000000\" d=\"M856,-901C856,-901 765,-901 765,-901 759,-901 753,-895 753,-889 753,-889 753,-830 753,-830 753,-824 759,-818 765,-818 765,-818 856,-818 856,-818 862,-818 868,-824 868,-830 868,-830 868,-889 868,-889 868,-895 862,-901 856,-901\"/>\n<text text-anchor=\"start\" x=\"761\" y=\"-885.8\" font-family=\"Helvetica,sans-Serif\" font-size=\"14.00\" fill=\"#000000\">college ≤ 0.128</text>\n<text text-anchor=\"start\" x=\"772.5\" y=\"-870.8\" font-family=\"Helvetica,sans-Serif\" font-size=\"14.00\" fill=\"#000000\">gini = 0.375</text>\n<text text-anchor=\"start\" x=\"766.5\" y=\"-855.8\" font-family=\"Helvetica,sans-Serif\" font-size=\"14.00\" fill=\"#000000\">samples = 12</text>\n<text text-anchor=\"start\" x=\"769\" y=\"-840.8\" font-family=\"Helvetica,sans-Serif\" font-size=\"14.00\" fill=\"#000000\">value = [3, 9]</text>\n<text text-anchor=\"start\" x=\"781.5\" y=\"-825.8\" font-family=\"Helvetica,sans-Serif\" font-size=\"14.00\" fill=\"#000000\">class = o</text>\n</g>\n<!-- 45&#45;&gt;47 -->\n<g id=\"edge47\" class=\"edge\">\n<title>45&#45;&gt;47</title>\n<path fill=\"none\" stroke=\"#000000\" d=\"M810.5,-936.8796C810.5,-928.6838 810.5,-919.9891 810.5,-911.5013\"/>\n<polygon fill=\"#000000\" stroke=\"#000000\" points=\"814.0001,-911.298 810.5,-901.2981 807.0001,-911.2981 814.0001,-911.298\"/>\n</g>\n<!-- 48 -->\n<g id=\"node49\" class=\"node\">\n<title>48</title>\n<path fill=\"#ffffff\" stroke=\"#000000\" d=\"M595,-774.5C595,-774.5 520,-774.5 520,-774.5 514,-774.5 508,-768.5 508,-762.5 508,-762.5 508,-718.5 508,-718.5 508,-712.5 514,-706.5 520,-706.5 520,-706.5 595,-706.5 595,-706.5 601,-706.5 607,-712.5 607,-718.5 607,-718.5 607,-762.5 607,-762.5 607,-768.5 601,-774.5 595,-774.5\"/>\n<text text-anchor=\"start\" x=\"528\" y=\"-759.3\" font-family=\"Helvetica,sans-Serif\" font-size=\"14.00\" fill=\"#000000\">gini = 0.5</text>\n<text text-anchor=\"start\" x=\"518\" y=\"-744.3\" font-family=\"Helvetica,sans-Serif\" font-size=\"14.00\" fill=\"#000000\">samples = 2</text>\n<text text-anchor=\"start\" x=\"516\" y=\"-729.3\" font-family=\"Helvetica,sans-Serif\" font-size=\"14.00\" fill=\"#000000\">value = [1, 1]</text>\n<text text-anchor=\"start\" x=\"531\" y=\"-714.3\" font-family=\"Helvetica,sans-Serif\" font-size=\"14.00\" fill=\"#000000\">class = l</text>\n</g>\n<!-- 47&#45;&gt;48 -->\n<g id=\"edge48\" class=\"edge\">\n<title>47&#45;&gt;48</title>\n<path fill=\"none\" stroke=\"#000000\" d=\"M752.937,-822.4819C749.7872,-820.887 746.6297,-819.3804 743.5,-818 689.8209,-794.3245 669.4646,-807.2335 616.5,-782 614.9455,-781.2594 613.3877,-780.4786 611.8316,-779.6641\"/>\n<polygon fill=\"#000000\" stroke=\"#000000\" points=\"613.4015,-776.5314 602.9704,-774.6756 609.9675,-782.6313 613.4015,-776.5314\"/>\n</g>\n<!-- 49 -->\n<g id=\"node50\" class=\"node\">\n<title>49</title>\n<path fill=\"#6ab6ec\" stroke=\"#000000\" d=\"M717.5,-782C717.5,-782 637.5,-782 637.5,-782 631.5,-782 625.5,-776 625.5,-770 625.5,-770 625.5,-711 625.5,-711 625.5,-705 631.5,-699 637.5,-699 637.5,-699 717.5,-699 717.5,-699 723.5,-699 729.5,-705 729.5,-711 729.5,-711 729.5,-770 729.5,-770 729.5,-776 723.5,-782 717.5,-782\"/>\n<text text-anchor=\"start\" x=\"636.5\" y=\"-766.8\" font-family=\"Helvetica,sans-Serif\" font-size=\"14.00\" fill=\"#000000\">age ≤ &#45;1.151</text>\n<text text-anchor=\"start\" x=\"644\" y=\"-751.8\" font-family=\"Helvetica,sans-Serif\" font-size=\"14.00\" fill=\"#000000\">gini = 0.32</text>\n<text text-anchor=\"start\" x=\"633.5\" y=\"-736.8\" font-family=\"Helvetica,sans-Serif\" font-size=\"14.00\" fill=\"#000000\">samples = 10</text>\n<text text-anchor=\"start\" x=\"636\" y=\"-721.8\" font-family=\"Helvetica,sans-Serif\" font-size=\"14.00\" fill=\"#000000\">value = [2, 8]</text>\n<text text-anchor=\"start\" x=\"648.5\" y=\"-706.8\" font-family=\"Helvetica,sans-Serif\" font-size=\"14.00\" fill=\"#000000\">class = o</text>\n</g>\n<!-- 47&#45;&gt;49 -->\n<g id=\"edge49\" class=\"edge\">\n<title>47&#45;&gt;49</title>\n<path fill=\"none\" stroke=\"#000000\" d=\"M763.9831,-817.8796C753.6152,-808.6031 742.5329,-798.6874 731.8801,-789.1559\"/>\n<polygon fill=\"#000000\" stroke=\"#000000\" points=\"734.0017,-786.3577 724.2155,-782.2981 729.3341,-791.5744 734.0017,-786.3577\"/>\n</g>\n<!-- 50 -->\n<g id=\"node51\" class=\"node\">\n<title>50</title>\n<path fill=\"#9ccef2\" stroke=\"#000000\" d=\"M550,-655.5C550,-655.5 475,-655.5 475,-655.5 469,-655.5 463,-649.5 463,-643.5 463,-643.5 463,-599.5 463,-599.5 463,-593.5 469,-587.5 475,-587.5 475,-587.5 550,-587.5 550,-587.5 556,-587.5 562,-593.5 562,-599.5 562,-599.5 562,-643.5 562,-643.5 562,-649.5 556,-655.5 550,-655.5\"/>\n<text text-anchor=\"start\" x=\"474.5\" y=\"-640.3\" font-family=\"Helvetica,sans-Serif\" font-size=\"14.00\" fill=\"#000000\">gini = 0.444</text>\n<text text-anchor=\"start\" x=\"473\" y=\"-625.3\" font-family=\"Helvetica,sans-Serif\" font-size=\"14.00\" fill=\"#000000\">samples = 3</text>\n<text text-anchor=\"start\" x=\"471\" y=\"-610.3\" font-family=\"Helvetica,sans-Serif\" font-size=\"14.00\" fill=\"#000000\">value = [1, 2]</text>\n<text text-anchor=\"start\" x=\"483.5\" y=\"-595.3\" font-family=\"Helvetica,sans-Serif\" font-size=\"14.00\" fill=\"#000000\">class = o</text>\n</g>\n<!-- 49&#45;&gt;50 -->\n<g id=\"edge50\" class=\"edge\">\n<title>49&#45;&gt;50</title>\n<path fill=\"none\" stroke=\"#000000\" d=\"M625.293,-702.8477C607.1168,-689.7388 586.6626,-674.987 568.2132,-661.681\"/>\n<polygon fill=\"#000000\" stroke=\"#000000\" points=\"570.0509,-658.6911 559.8929,-655.6803 565.9562,-664.3686 570.0509,-658.6911\"/>\n</g>\n<!-- 51 -->\n<g id=\"node52\" class=\"node\">\n<title>51</title>\n<path fill=\"#5aade9\" stroke=\"#000000\" d=\"M667,-663C667,-663 592,-663 592,-663 586,-663 580,-657 580,-651 580,-651 580,-592 580,-592 580,-586 586,-580 592,-580 592,-580 667,-580 667,-580 673,-580 679,-586 679,-592 679,-592 679,-651 679,-651 679,-657 673,-663 667,-663\"/>\n<text text-anchor=\"start\" x=\"588.5\" y=\"-647.8\" font-family=\"Helvetica,sans-Serif\" font-size=\"14.00\" fill=\"#000000\">age ≤ &#45;0.902</text>\n<text text-anchor=\"start\" x=\"591.5\" y=\"-632.8\" font-family=\"Helvetica,sans-Serif\" font-size=\"14.00\" fill=\"#000000\">gini = 0.245</text>\n<text text-anchor=\"start\" x=\"590\" y=\"-617.8\" font-family=\"Helvetica,sans-Serif\" font-size=\"14.00\" fill=\"#000000\">samples = 7</text>\n<text text-anchor=\"start\" x=\"588\" y=\"-602.8\" font-family=\"Helvetica,sans-Serif\" font-size=\"14.00\" fill=\"#000000\">value = [1, 6]</text>\n<text text-anchor=\"start\" x=\"600.5\" y=\"-587.8\" font-family=\"Helvetica,sans-Serif\" font-size=\"14.00\" fill=\"#000000\">class = o</text>\n</g>\n<!-- 49&#45;&gt;51 -->\n<g id=\"edge51\" class=\"edge\">\n<title>49&#45;&gt;51</title>\n<path fill=\"none\" stroke=\"#000000\" d=\"M660.7119,-698.8796C657.2971,-690.4136 653.6675,-681.4153 650.137,-672.6626\"/>\n<polygon fill=\"#000000\" stroke=\"#000000\" points=\"653.3464,-671.2628 646.3597,-663.2981 646.8547,-673.8813 653.3464,-671.2628\"/>\n</g>\n<!-- 52 -->\n<g id=\"node53\" class=\"node\">\n<title>52</title>\n<path fill=\"#399de5\" stroke=\"#000000\" d=\"M495,-536.5C495,-536.5 420,-536.5 420,-536.5 414,-536.5 408,-530.5 408,-524.5 408,-524.5 408,-480.5 408,-480.5 408,-474.5 414,-468.5 420,-468.5 420,-468.5 495,-468.5 495,-468.5 501,-468.5 507,-474.5 507,-480.5 507,-480.5 507,-524.5 507,-524.5 507,-530.5 501,-536.5 495,-536.5\"/>\n<text text-anchor=\"start\" x=\"428\" y=\"-521.3\" font-family=\"Helvetica,sans-Serif\" font-size=\"14.00\" fill=\"#000000\">gini = 0.0</text>\n<text text-anchor=\"start\" x=\"418\" y=\"-506.3\" font-family=\"Helvetica,sans-Serif\" font-size=\"14.00\" fill=\"#000000\">samples = 2</text>\n<text text-anchor=\"start\" x=\"416\" y=\"-491.3\" font-family=\"Helvetica,sans-Serif\" font-size=\"14.00\" fill=\"#000000\">value = [0, 2]</text>\n<text text-anchor=\"start\" x=\"428.5\" y=\"-476.3\" font-family=\"Helvetica,sans-Serif\" font-size=\"14.00\" fill=\"#000000\">class = o</text>\n</g>\n<!-- 51&#45;&gt;52 -->\n<g id=\"edge52\" class=\"edge\">\n<title>51&#45;&gt;52</title>\n<path fill=\"none\" stroke=\"#000000\" d=\"M579.6881,-586.2877C576.5863,-584.1494 573.505,-582.0395 570.5,-580 546.3264,-563.5936 539.6072,-560.5037 515.5,-544 514.7401,-543.4798 513.9755,-542.9548 513.2069,-542.4257\"/>\n<polygon fill=\"#000000\" stroke=\"#000000\" points=\"515.0759,-539.4624 504.8657,-536.6333 511.0831,-545.2121 515.0759,-539.4624\"/>\n</g>\n<!-- 53 -->\n<g id=\"node54\" class=\"node\">\n<title>53</title>\n<path fill=\"#6ab6ec\" stroke=\"#000000\" d=\"M612,-536.5C612,-536.5 537,-536.5 537,-536.5 531,-536.5 525,-530.5 525,-524.5 525,-524.5 525,-480.5 525,-480.5 525,-474.5 531,-468.5 537,-468.5 537,-468.5 612,-468.5 612,-468.5 618,-468.5 624,-474.5 624,-480.5 624,-480.5 624,-524.5 624,-524.5 624,-530.5 618,-536.5 612,-536.5\"/>\n<text text-anchor=\"start\" x=\"541\" y=\"-521.3\" font-family=\"Helvetica,sans-Serif\" font-size=\"14.00\" fill=\"#000000\">gini = 0.32</text>\n<text text-anchor=\"start\" x=\"535\" y=\"-506.3\" font-family=\"Helvetica,sans-Serif\" font-size=\"14.00\" fill=\"#000000\">samples = 5</text>\n<text text-anchor=\"start\" x=\"533\" y=\"-491.3\" font-family=\"Helvetica,sans-Serif\" font-size=\"14.00\" fill=\"#000000\">value = [1, 4]</text>\n<text text-anchor=\"start\" x=\"545.5\" y=\"-476.3\" font-family=\"Helvetica,sans-Serif\" font-size=\"14.00\" fill=\"#000000\">class = o</text>\n</g>\n<!-- 51&#45;&gt;53 -->\n<g id=\"edge53\" class=\"edge\">\n<title>51&#45;&gt;53</title>\n<path fill=\"none\" stroke=\"#000000\" d=\"M610.2637,-579.8796C605.1814,-568.8835 599.6841,-556.9893 594.5595,-545.9015\"/>\n<polygon fill=\"#000000\" stroke=\"#000000\" points=\"597.7324,-544.4239 590.3598,-536.8149 591.3782,-547.3607 597.7324,-544.4239\"/>\n</g>\n<!-- 55 -->\n<g id=\"node56\" class=\"node\">\n<title>55</title>\n<path fill=\"#f7d9c3\" stroke=\"#000000\" d=\"M1193.5,-1139C1193.5,-1139 1101.5,-1139 1101.5,-1139 1095.5,-1139 1089.5,-1133 1089.5,-1127 1089.5,-1127 1089.5,-1068 1089.5,-1068 1089.5,-1062 1095.5,-1056 1101.5,-1056 1101.5,-1056 1193.5,-1056 1193.5,-1056 1199.5,-1056 1205.5,-1062 1205.5,-1068 1205.5,-1068 1205.5,-1127 1205.5,-1127 1205.5,-1133 1199.5,-1139 1193.5,-1139\"/>\n<text text-anchor=\"start\" x=\"1109\" y=\"-1123.8\" font-family=\"Helvetica,sans-Serif\" font-size=\"14.00\" fill=\"#000000\">age ≤ 0.425</text>\n<text text-anchor=\"start\" x=\"1109.5\" y=\"-1108.8\" font-family=\"Helvetica,sans-Serif\" font-size=\"14.00\" fill=\"#000000\">gini = 0.484</text>\n<text text-anchor=\"start\" x=\"1103.5\" y=\"-1093.8\" font-family=\"Helvetica,sans-Serif\" font-size=\"14.00\" fill=\"#000000\">samples = 39</text>\n<text text-anchor=\"start\" x=\"1097.5\" y=\"-1078.8\" font-family=\"Helvetica,sans-Serif\" font-size=\"14.00\" fill=\"#000000\">value = [23, 16]</text>\n<text text-anchor=\"start\" x=\"1121\" y=\"-1063.8\" font-family=\"Helvetica,sans-Serif\" font-size=\"14.00\" fill=\"#000000\">class = l</text>\n</g>\n<!-- 54&#45;&gt;55 -->\n<g id=\"edge55\" class=\"edge\">\n<title>54&#45;&gt;55</title>\n<path fill=\"none\" stroke=\"#000000\" d=\"M1147.5,-1174.8796C1147.5,-1166.6838 1147.5,-1157.9891 1147.5,-1149.5013\"/>\n<polygon fill=\"#000000\" stroke=\"#000000\" points=\"1151.0001,-1149.298 1147.5,-1139.2981 1144.0001,-1149.2981 1151.0001,-1149.298\"/>\n</g>\n<!-- 94 -->\n<g id=\"node95\" class=\"node\">\n<title>94</title>\n<path fill=\"#e6f3fc\" stroke=\"#000000\" d=\"M1527.5,-1139C1527.5,-1139 1435.5,-1139 1435.5,-1139 1429.5,-1139 1423.5,-1133 1423.5,-1127 1423.5,-1127 1423.5,-1068 1423.5,-1068 1423.5,-1062 1429.5,-1056 1435.5,-1056 1435.5,-1056 1527.5,-1056 1527.5,-1056 1533.5,-1056 1539.5,-1062 1539.5,-1068 1539.5,-1068 1539.5,-1127 1539.5,-1127 1539.5,-1133 1533.5,-1139 1527.5,-1139\"/>\n<text text-anchor=\"start\" x=\"1443\" y=\"-1123.8\" font-family=\"Helvetica,sans-Serif\" font-size=\"14.00\" fill=\"#000000\">age ≤ 0.922</text>\n<text text-anchor=\"start\" x=\"1443.5\" y=\"-1108.8\" font-family=\"Helvetica,sans-Serif\" font-size=\"14.00\" fill=\"#000000\">gini = 0.498</text>\n<text text-anchor=\"start\" x=\"1437.5\" y=\"-1093.8\" font-family=\"Helvetica,sans-Serif\" font-size=\"14.00\" fill=\"#000000\">samples = 30</text>\n<text text-anchor=\"start\" x=\"1431.5\" y=\"-1078.8\" font-family=\"Helvetica,sans-Serif\" font-size=\"14.00\" fill=\"#000000\">value = [14, 16]</text>\n<text text-anchor=\"start\" x=\"1452.5\" y=\"-1063.8\" font-family=\"Helvetica,sans-Serif\" font-size=\"14.00\" fill=\"#000000\">class = o</text>\n</g>\n<!-- 54&#45;&gt;94 -->\n<g id=\"edge94\" class=\"edge\">\n<title>54&#45;&gt;94</title>\n<path fill=\"none\" stroke=\"#000000\" d=\"M1205.6784,-1195.7718C1263.6914,-1175.1025 1352.7365,-1143.3768 1413.8667,-1121.5969\"/>\n<polygon fill=\"#000000\" stroke=\"#000000\" points=\"1415.1837,-1124.8432 1423.429,-1118.19 1412.8343,-1118.2493 1415.1837,-1124.8432\"/>\n</g>\n<!-- 56 -->\n<g id=\"node57\" class=\"node\">\n<title>56</title>\n<path fill=\"#fbeade\" stroke=\"#000000\" d=\"M1149,-1020C1149,-1020 966,-1020 966,-1020 960,-1020 954,-1014 954,-1008 954,-1008 954,-949 954,-949 954,-943 960,-937 966,-937 966,-937 1149,-937 1149,-937 1155,-937 1161,-943 1161,-949 1161,-949 1161,-1008 1161,-1008 1161,-1014 1155,-1020 1149,-1020\"/>\n<text text-anchor=\"start\" x=\"962\" y=\"-1004.8\" font-family=\"Helvetica,sans-Serif\" font-size=\"14.00\" fill=\"#000000\">High School or Below ≤ 1.119</text>\n<text text-anchor=\"start\" x=\"1019.5\" y=\"-989.8\" font-family=\"Helvetica,sans-Serif\" font-size=\"14.00\" fill=\"#000000\">gini = 0.496</text>\n<text text-anchor=\"start\" x=\"1013.5\" y=\"-974.8\" font-family=\"Helvetica,sans-Serif\" font-size=\"14.00\" fill=\"#000000\">samples = 33</text>\n<text text-anchor=\"start\" x=\"1007.5\" y=\"-959.8\" font-family=\"Helvetica,sans-Serif\" font-size=\"14.00\" fill=\"#000000\">value = [18, 15]</text>\n<text text-anchor=\"start\" x=\"1031\" y=\"-944.8\" font-family=\"Helvetica,sans-Serif\" font-size=\"14.00\" fill=\"#000000\">class = l</text>\n</g>\n<!-- 55&#45;&gt;56 -->\n<g id=\"edge56\" class=\"edge\">\n<title>55&#45;&gt;56</title>\n<path fill=\"none\" stroke=\"#000000\" d=\"M1116.0224,-1055.8796C1109.3471,-1047.0534 1102.2342,-1037.6485 1095.3504,-1028.5466\"/>\n<polygon fill=\"#000000\" stroke=\"#000000\" points=\"1097.9357,-1026.1626 1089.112,-1020.2981 1092.3526,-1030.3852 1097.9357,-1026.1626\"/>\n</g>\n<!-- 91 -->\n<g id=\"node92\" class=\"node\">\n<title>91</title>\n<path fill=\"#ea9a61\" stroke=\"#000000\" d=\"M1282,-1020C1282,-1020 1191,-1020 1191,-1020 1185,-1020 1179,-1014 1179,-1008 1179,-1008 1179,-949 1179,-949 1179,-943 1185,-937 1191,-937 1191,-937 1282,-937 1282,-937 1288,-937 1294,-943 1294,-949 1294,-949 1294,-1008 1294,-1008 1294,-1014 1288,-1020 1282,-1020\"/>\n<text text-anchor=\"start\" x=\"1187\" y=\"-1004.8\" font-family=\"Helvetica,sans-Serif\" font-size=\"14.00\" fill=\"#000000\">college ≤ 0.128</text>\n<text text-anchor=\"start\" x=\"1198.5\" y=\"-989.8\" font-family=\"Helvetica,sans-Serif\" font-size=\"14.00\" fill=\"#000000\">gini = 0.278</text>\n<text text-anchor=\"start\" x=\"1197\" y=\"-974.8\" font-family=\"Helvetica,sans-Serif\" font-size=\"14.00\" fill=\"#000000\">samples = 6</text>\n<text text-anchor=\"start\" x=\"1195\" y=\"-959.8\" font-family=\"Helvetica,sans-Serif\" font-size=\"14.00\" fill=\"#000000\">value = [5, 1]</text>\n<text text-anchor=\"start\" x=\"1210\" y=\"-944.8\" font-family=\"Helvetica,sans-Serif\" font-size=\"14.00\" fill=\"#000000\">class = l</text>\n</g>\n<!-- 55&#45;&gt;91 -->\n<g id=\"edge91\" class=\"edge\">\n<title>55&#45;&gt;91</title>\n<path fill=\"none\" stroke=\"#000000\" d=\"M1178.6279,-1055.8796C1185.229,-1047.0534 1192.2629,-1037.6485 1199.0702,-1028.5466\"/>\n<polygon fill=\"#000000\" stroke=\"#000000\" points=\"1202.0528,-1030.4024 1205.2393,-1020.2981 1196.4472,-1026.2099 1202.0528,-1030.4024\"/>\n</g>\n<!-- 57 -->\n<g id=\"node58\" class=\"node\">\n<title>57</title>\n<path fill=\"#f7dac5\" stroke=\"#000000\" d=\"M1000.5,-901C1000.5,-901 898.5,-901 898.5,-901 892.5,-901 886.5,-895 886.5,-889 886.5,-889 886.5,-830 886.5,-830 886.5,-824 892.5,-818 898.5,-818 898.5,-818 1000.5,-818 1000.5,-818 1006.5,-818 1012.5,-824 1012.5,-830 1012.5,-830 1012.5,-889 1012.5,-889 1012.5,-895 1006.5,-901 1000.5,-901\"/>\n<text text-anchor=\"start\" x=\"894.5\" y=\"-885.8\" font-family=\"Helvetica,sans-Serif\" font-size=\"14.00\" fill=\"#000000\">Bechalor ≤ 0.696</text>\n<text text-anchor=\"start\" x=\"911.5\" y=\"-870.8\" font-family=\"Helvetica,sans-Serif\" font-size=\"14.00\" fill=\"#000000\">gini = 0.485</text>\n<text text-anchor=\"start\" x=\"905.5\" y=\"-855.8\" font-family=\"Helvetica,sans-Serif\" font-size=\"14.00\" fill=\"#000000\">samples = 29</text>\n<text text-anchor=\"start\" x=\"899.5\" y=\"-840.8\" font-family=\"Helvetica,sans-Serif\" font-size=\"14.00\" fill=\"#000000\">value = [17, 12]</text>\n<text text-anchor=\"start\" x=\"923\" y=\"-825.8\" font-family=\"Helvetica,sans-Serif\" font-size=\"14.00\" fill=\"#000000\">class = l</text>\n</g>\n<!-- 56&#45;&gt;57 -->\n<g id=\"edge57\" class=\"edge\">\n<title>56&#45;&gt;57</title>\n<path fill=\"none\" stroke=\"#000000\" d=\"M1019.7268,-936.8796C1011.4713,-927.7832 1002.658,-918.0722 994.1626,-908.7116\"/>\n<polygon fill=\"#000000\" stroke=\"#000000\" points=\"996.7467,-906.3509 987.4344,-901.2981 991.5632,-911.0553 996.7467,-906.3509\"/>\n</g>\n<!-- 88 -->\n<g id=\"node89\" class=\"node\">\n<title>88</title>\n<path fill=\"#7bbeee\" stroke=\"#000000\" d=\"M1128,-901C1128,-901 1043,-901 1043,-901 1037,-901 1031,-895 1031,-889 1031,-889 1031,-830 1031,-830 1031,-824 1037,-818 1043,-818 1043,-818 1128,-818 1128,-818 1134,-818 1140,-824 1140,-830 1140,-830 1140,-889 1140,-889 1140,-895 1134,-901 1128,-901\"/>\n<text text-anchor=\"start\" x=\"1039\" y=\"-885.8\" font-family=\"Helvetica,sans-Serif\" font-size=\"14.00\" fill=\"#000000\">terms ≤ &#45;0.019</text>\n<text text-anchor=\"start\" x=\"1047.5\" y=\"-870.8\" font-family=\"Helvetica,sans-Serif\" font-size=\"14.00\" fill=\"#000000\">gini = 0.375</text>\n<text text-anchor=\"start\" x=\"1046\" y=\"-855.8\" font-family=\"Helvetica,sans-Serif\" font-size=\"14.00\" fill=\"#000000\">samples = 4</text>\n<text text-anchor=\"start\" x=\"1044\" y=\"-840.8\" font-family=\"Helvetica,sans-Serif\" font-size=\"14.00\" fill=\"#000000\">value = [1, 3]</text>\n<text text-anchor=\"start\" x=\"1056.5\" y=\"-825.8\" font-family=\"Helvetica,sans-Serif\" font-size=\"14.00\" fill=\"#000000\">class = o</text>\n</g>\n<!-- 56&#45;&gt;88 -->\n<g id=\"edge88\" class=\"edge\">\n<title>56&#45;&gt;88</title>\n<path fill=\"none\" stroke=\"#000000\" d=\"M1067.293,-936.8796C1069.2426,-928.5938 1071.3122,-919.798 1073.3302,-911.2216\"/>\n<polygon fill=\"#000000\" stroke=\"#000000\" points=\"1076.7817,-911.8339 1075.6652,-901.2981 1069.9677,-910.2306 1076.7817,-911.8339\"/>\n</g>\n<!-- 58 -->\n<g id=\"node59\" class=\"node\">\n<title>58</title>\n<path fill=\"#cee6f8\" stroke=\"#000000\" d=\"M883,-782C883,-782 808,-782 808,-782 802,-782 796,-776 796,-770 796,-770 796,-711 796,-711 796,-705 802,-699 808,-699 808,-699 883,-699 883,-699 889,-699 895,-705 895,-711 895,-711 895,-770 895,-770 895,-776 889,-782 883,-782\"/>\n<text text-anchor=\"start\" x=\"811\" y=\"-766.8\" font-family=\"Helvetica,sans-Serif\" font-size=\"14.00\" fill=\"#000000\">age ≤ 0.01</text>\n<text text-anchor=\"start\" x=\"812\" y=\"-751.8\" font-family=\"Helvetica,sans-Serif\" font-size=\"14.00\" fill=\"#000000\">gini = 0.49</text>\n<text text-anchor=\"start\" x=\"806\" y=\"-736.8\" font-family=\"Helvetica,sans-Serif\" font-size=\"14.00\" fill=\"#000000\">samples = 7</text>\n<text text-anchor=\"start\" x=\"804\" y=\"-721.8\" font-family=\"Helvetica,sans-Serif\" font-size=\"14.00\" fill=\"#000000\">value = [3, 4]</text>\n<text text-anchor=\"start\" x=\"816.5\" y=\"-706.8\" font-family=\"Helvetica,sans-Serif\" font-size=\"14.00\" fill=\"#000000\">class = o</text>\n</g>\n<!-- 57&#45;&gt;58 -->\n<g id=\"edge58\" class=\"edge\">\n<title>57&#45;&gt;58</title>\n<path fill=\"none\" stroke=\"#000000\" d=\"M913.1258,-817.8796C905.2548,-808.8733 896.8571,-799.2644 888.7515,-789.9897\"/>\n<polygon fill=\"#000000\" stroke=\"#000000\" points=\"891.2454,-787.5246 882.0294,-782.2981 885.9746,-792.131 891.2454,-787.5246\"/>\n</g>\n<!-- 67 -->\n<g id=\"node68\" class=\"node\">\n<title>67</title>\n<path fill=\"#f4c9aa\" stroke=\"#000000\" d=\"M1008,-782C1008,-782 925,-782 925,-782 919,-782 913,-776 913,-770 913,-770 913,-711 913,-711 913,-705 919,-699 925,-699 925,-699 1008,-699 1008,-699 1014,-699 1020,-705 1020,-711 1020,-711 1020,-770 1020,-770 1020,-776 1014,-782 1008,-782\"/>\n<text text-anchor=\"start\" x=\"928\" y=\"-766.8\" font-family=\"Helvetica,sans-Serif\" font-size=\"14.00\" fill=\"#000000\">age ≤ 0.093</text>\n<text text-anchor=\"start\" x=\"928.5\" y=\"-751.8\" font-family=\"Helvetica,sans-Serif\" font-size=\"14.00\" fill=\"#000000\">gini = 0.463</text>\n<text text-anchor=\"start\" x=\"922.5\" y=\"-736.8\" font-family=\"Helvetica,sans-Serif\" font-size=\"14.00\" fill=\"#000000\">samples = 22</text>\n<text text-anchor=\"start\" x=\"921\" y=\"-721.8\" font-family=\"Helvetica,sans-Serif\" font-size=\"14.00\" fill=\"#000000\">value = [14, 8]</text>\n<text text-anchor=\"start\" x=\"940\" y=\"-706.8\" font-family=\"Helvetica,sans-Serif\" font-size=\"14.00\" fill=\"#000000\">class = l</text>\n</g>\n<!-- 57&#45;&gt;67 -->\n<g id=\"edge67\" class=\"edge\">\n<title>57&#45;&gt;67</title>\n<path fill=\"none\" stroke=\"#000000\" d=\"M955.4458,-817.8796C956.6295,-809.5938 957.886,-800.798 959.1112,-792.2216\"/>\n<polygon fill=\"#000000\" stroke=\"#000000\" points=\"962.5794,-792.6926 960.5288,-782.2981 955.6497,-791.7026 962.5794,-792.6926\"/>\n</g>\n<!-- 59 -->\n<g id=\"node60\" class=\"node\">\n<title>59</title>\n<path fill=\"#6ab6ec\" stroke=\"#000000\" d=\"M784,-663C784,-663 709,-663 709,-663 703,-663 697,-657 697,-651 697,-651 697,-592 697,-592 697,-586 703,-580 709,-580 709,-580 784,-580 784,-580 790,-580 796,-586 796,-592 796,-592 796,-651 796,-651 796,-657 790,-663 784,-663\"/>\n<text text-anchor=\"start\" x=\"705.5\" y=\"-647.8\" font-family=\"Helvetica,sans-Serif\" font-size=\"14.00\" fill=\"#000000\">age ≤ &#45;0.404</text>\n<text text-anchor=\"start\" x=\"713\" y=\"-632.8\" font-family=\"Helvetica,sans-Serif\" font-size=\"14.00\" fill=\"#000000\">gini = 0.32</text>\n<text text-anchor=\"start\" x=\"707\" y=\"-617.8\" font-family=\"Helvetica,sans-Serif\" font-size=\"14.00\" fill=\"#000000\">samples = 5</text>\n<text text-anchor=\"start\" x=\"705\" y=\"-602.8\" font-family=\"Helvetica,sans-Serif\" font-size=\"14.00\" fill=\"#000000\">value = [1, 4]</text>\n<text text-anchor=\"start\" x=\"717.5\" y=\"-587.8\" font-family=\"Helvetica,sans-Serif\" font-size=\"14.00\" fill=\"#000000\">class = o</text>\n</g>\n<!-- 58&#45;&gt;59 -->\n<g id=\"edge59\" class=\"edge\">\n<title>58&#45;&gt;59</title>\n<path fill=\"none\" stroke=\"#000000\" d=\"M810.8746,-698.8796C803.382,-689.8733 795.3881,-680.2644 787.6721,-670.9897\"/>\n<polygon fill=\"#000000\" stroke=\"#000000\" points=\"790.3593,-668.7472 781.2732,-663.2981 784.9781,-673.224 790.3593,-668.7472\"/>\n</g>\n<!-- 66 -->\n<g id=\"node67\" class=\"node\">\n<title>66</title>\n<path fill=\"#e58139\" stroke=\"#000000\" d=\"M901,-655.5C901,-655.5 826,-655.5 826,-655.5 820,-655.5 814,-649.5 814,-643.5 814,-643.5 814,-599.5 814,-599.5 814,-593.5 820,-587.5 826,-587.5 826,-587.5 901,-587.5 901,-587.5 907,-587.5 913,-593.5 913,-599.5 913,-599.5 913,-643.5 913,-643.5 913,-649.5 907,-655.5 901,-655.5\"/>\n<text text-anchor=\"start\" x=\"834\" y=\"-640.3\" font-family=\"Helvetica,sans-Serif\" font-size=\"14.00\" fill=\"#000000\">gini = 0.0</text>\n<text text-anchor=\"start\" x=\"824\" y=\"-625.3\" font-family=\"Helvetica,sans-Serif\" font-size=\"14.00\" fill=\"#000000\">samples = 2</text>\n<text text-anchor=\"start\" x=\"822\" y=\"-610.3\" font-family=\"Helvetica,sans-Serif\" font-size=\"14.00\" fill=\"#000000\">value = [2, 0]</text>\n<text text-anchor=\"start\" x=\"837\" y=\"-595.3\" font-family=\"Helvetica,sans-Serif\" font-size=\"14.00\" fill=\"#000000\">class = l</text>\n</g>\n<!-- 58&#45;&gt;66 -->\n<g id=\"edge66\" class=\"edge\">\n<title>58&#45;&gt;66</title>\n<path fill=\"none\" stroke=\"#000000\" d=\"M851.7955,-698.8796C853.4089,-688.2134 855.1501,-676.7021 856.7838,-665.9015\"/>\n<polygon fill=\"#000000\" stroke=\"#000000\" points=\"860.2745,-666.226 858.3095,-655.8149 853.3532,-665.179 860.2745,-666.226\"/>\n</g>\n<!-- 60 -->\n<g id=\"node61\" class=\"node\">\n<title>60</title>\n<path fill=\"#399de5\" stroke=\"#000000\" d=\"M729,-536.5C729,-536.5 654,-536.5 654,-536.5 648,-536.5 642,-530.5 642,-524.5 642,-524.5 642,-480.5 642,-480.5 642,-474.5 648,-468.5 654,-468.5 654,-468.5 729,-468.5 729,-468.5 735,-468.5 741,-474.5 741,-480.5 741,-480.5 741,-524.5 741,-524.5 741,-530.5 735,-536.5 729,-536.5\"/>\n<text text-anchor=\"start\" x=\"662\" y=\"-521.3\" font-family=\"Helvetica,sans-Serif\" font-size=\"14.00\" fill=\"#000000\">gini = 0.0</text>\n<text text-anchor=\"start\" x=\"652\" y=\"-506.3\" font-family=\"Helvetica,sans-Serif\" font-size=\"14.00\" fill=\"#000000\">samples = 2</text>\n<text text-anchor=\"start\" x=\"650\" y=\"-491.3\" font-family=\"Helvetica,sans-Serif\" font-size=\"14.00\" fill=\"#000000\">value = [0, 2]</text>\n<text text-anchor=\"start\" x=\"662.5\" y=\"-476.3\" font-family=\"Helvetica,sans-Serif\" font-size=\"14.00\" fill=\"#000000\">class = o</text>\n</g>\n<!-- 59&#45;&gt;60 -->\n<g id=\"edge60\" class=\"edge\">\n<title>59&#45;&gt;60</title>\n<path fill=\"none\" stroke=\"#000000\" d=\"M727.2637,-579.8796C722.1814,-568.8835 716.6841,-556.9893 711.5595,-545.9015\"/>\n<polygon fill=\"#000000\" stroke=\"#000000\" points=\"714.7324,-544.4239 707.3598,-536.8149 708.3782,-547.3607 714.7324,-544.4239\"/>\n</g>\n<!-- 61 -->\n<g id=\"node62\" class=\"node\">\n<title>61</title>\n<path fill=\"#9ccef2\" stroke=\"#000000\" d=\"M846,-544C846,-544 771,-544 771,-544 765,-544 759,-538 759,-532 759,-532 759,-473 759,-473 759,-467 765,-461 771,-461 771,-461 846,-461 846,-461 852,-461 858,-467 858,-473 858,-473 858,-532 858,-532 858,-538 852,-544 846,-544\"/>\n<text text-anchor=\"start\" x=\"767.5\" y=\"-528.8\" font-family=\"Helvetica,sans-Serif\" font-size=\"14.00\" fill=\"#000000\">age ≤ &#45;0.239</text>\n<text text-anchor=\"start\" x=\"770.5\" y=\"-513.8\" font-family=\"Helvetica,sans-Serif\" font-size=\"14.00\" fill=\"#000000\">gini = 0.444</text>\n<text text-anchor=\"start\" x=\"769\" y=\"-498.8\" font-family=\"Helvetica,sans-Serif\" font-size=\"14.00\" fill=\"#000000\">samples = 3</text>\n<text text-anchor=\"start\" x=\"767\" y=\"-483.8\" font-family=\"Helvetica,sans-Serif\" font-size=\"14.00\" fill=\"#000000\">value = [1, 2]</text>\n<text text-anchor=\"start\" x=\"779.5\" y=\"-468.8\" font-family=\"Helvetica,sans-Serif\" font-size=\"14.00\" fill=\"#000000\">class = o</text>\n</g>\n<!-- 59&#45;&gt;61 -->\n<g id=\"edge61\" class=\"edge\">\n<title>59&#45;&gt;61</title>\n<path fill=\"none\" stroke=\"#000000\" d=\"M768.1846,-579.8796C772.6423,-571.3236 777.3834,-562.2238 781.9894,-553.3833\"/>\n<polygon fill=\"#000000\" stroke=\"#000000\" points=\"785.2062,-554.7838 786.7229,-544.2981 778.9983,-551.5494 785.2062,-554.7838\"/>\n</g>\n<!-- 62 -->\n<g id=\"node63\" class=\"node\">\n<title>62</title>\n<path fill=\"#ffffff\" stroke=\"#000000\" d=\"M669,-425C669,-425 584,-425 584,-425 578,-425 572,-419 572,-413 572,-413 572,-354 572,-354 572,-348 578,-342 584,-342 584,-342 669,-342 669,-342 675,-342 681,-348 681,-354 681,-354 681,-413 681,-413 681,-419 675,-425 669,-425\"/>\n<text text-anchor=\"start\" x=\"580\" y=\"-409.8\" font-family=\"Helvetica,sans-Serif\" font-size=\"14.00\" fill=\"#000000\">terms ≤ &#45;0.019</text>\n<text text-anchor=\"start\" x=\"597\" y=\"-394.8\" font-family=\"Helvetica,sans-Serif\" font-size=\"14.00\" fill=\"#000000\">gini = 0.5</text>\n<text text-anchor=\"start\" x=\"587\" y=\"-379.8\" font-family=\"Helvetica,sans-Serif\" font-size=\"14.00\" fill=\"#000000\">samples = 2</text>\n<text text-anchor=\"start\" x=\"585\" y=\"-364.8\" font-family=\"Helvetica,sans-Serif\" font-size=\"14.00\" fill=\"#000000\">value = [1, 1]</text>\n<text text-anchor=\"start\" x=\"600\" y=\"-349.8\" font-family=\"Helvetica,sans-Serif\" font-size=\"14.00\" fill=\"#000000\">class = l</text>\n</g>\n<!-- 61&#45;&gt;62 -->\n<g id=\"edge62\" class=\"edge\">\n<title>61&#45;&gt;62</title>\n<path fill=\"none\" stroke=\"#000000\" d=\"M758.7809,-467.1481C755.6561,-465.0444 752.5443,-462.9803 749.5,-461 723.4314,-444.043 715.8242,-441.5573 689.5,-425 689.4134,-424.9455 689.3267,-424.891 689.24,-424.8364\"/>\n<polygon fill=\"#000000\" stroke=\"#000000\" points=\"691.3626,-422.0383 681.0447,-419.6317 687.6098,-427.9473 691.3626,-422.0383\"/>\n</g>\n<!-- 65 -->\n<g id=\"node66\" class=\"node\">\n<title>65</title>\n<path fill=\"#399de5\" stroke=\"#000000\" d=\"M786,-417.5C786,-417.5 711,-417.5 711,-417.5 705,-417.5 699,-411.5 699,-405.5 699,-405.5 699,-361.5 699,-361.5 699,-355.5 705,-349.5 711,-349.5 711,-349.5 786,-349.5 786,-349.5 792,-349.5 798,-355.5 798,-361.5 798,-361.5 798,-405.5 798,-405.5 798,-411.5 792,-417.5 786,-417.5\"/>\n<text text-anchor=\"start\" x=\"719\" y=\"-402.3\" font-family=\"Helvetica,sans-Serif\" font-size=\"14.00\" fill=\"#000000\">gini = 0.0</text>\n<text text-anchor=\"start\" x=\"709\" y=\"-387.3\" font-family=\"Helvetica,sans-Serif\" font-size=\"14.00\" fill=\"#000000\">samples = 1</text>\n<text text-anchor=\"start\" x=\"707\" y=\"-372.3\" font-family=\"Helvetica,sans-Serif\" font-size=\"14.00\" fill=\"#000000\">value = [0, 1]</text>\n<text text-anchor=\"start\" x=\"719.5\" y=\"-357.3\" font-family=\"Helvetica,sans-Serif\" font-size=\"14.00\" fill=\"#000000\">class = o</text>\n</g>\n<!-- 61&#45;&gt;65 -->\n<g id=\"edge65\" class=\"edge\">\n<title>61&#45;&gt;65</title>\n<path fill=\"none\" stroke=\"#000000\" d=\"M787.5149,-460.8796C781.9707,-449.8835 775.9736,-437.9893 770.3831,-426.9015\"/>\n<polygon fill=\"#000000\" stroke=\"#000000\" points=\"773.4291,-425.1684 765.8016,-417.8149 767.1786,-428.3199 773.4291,-425.1684\"/>\n</g>\n<!-- 63 -->\n<g id=\"node64\" class=\"node\">\n<title>63</title>\n<path fill=\"#399de5\" stroke=\"#000000\" d=\"M550,-298.5C550,-298.5 475,-298.5 475,-298.5 469,-298.5 463,-292.5 463,-286.5 463,-286.5 463,-242.5 463,-242.5 463,-236.5 469,-230.5 475,-230.5 475,-230.5 550,-230.5 550,-230.5 556,-230.5 562,-236.5 562,-242.5 562,-242.5 562,-286.5 562,-286.5 562,-292.5 556,-298.5 550,-298.5\"/>\n<text text-anchor=\"start\" x=\"483\" y=\"-283.3\" font-family=\"Helvetica,sans-Serif\" font-size=\"14.00\" fill=\"#000000\">gini = 0.0</text>\n<text text-anchor=\"start\" x=\"473\" y=\"-268.3\" font-family=\"Helvetica,sans-Serif\" font-size=\"14.00\" fill=\"#000000\">samples = 1</text>\n<text text-anchor=\"start\" x=\"471\" y=\"-253.3\" font-family=\"Helvetica,sans-Serif\" font-size=\"14.00\" fill=\"#000000\">value = [0, 1]</text>\n<text text-anchor=\"start\" x=\"483.5\" y=\"-238.3\" font-family=\"Helvetica,sans-Serif\" font-size=\"14.00\" fill=\"#000000\">class = o</text>\n</g>\n<!-- 62&#45;&gt;63 -->\n<g id=\"edge63\" class=\"edge\">\n<title>62&#45;&gt;63</title>\n<path fill=\"none\" stroke=\"#000000\" d=\"M586.6283,-341.8796C575.5676,-330.3337 563.5582,-317.7976 552.4906,-306.2446\"/>\n<polygon fill=\"#000000\" stroke=\"#000000\" points=\"554.8183,-303.6149 545.3731,-298.8149 549.7635,-308.4573 554.8183,-303.6149\"/>\n</g>\n<!-- 64 -->\n<g id=\"node65\" class=\"node\">\n<title>64</title>\n<path fill=\"#e58139\" stroke=\"#000000\" d=\"M667,-298.5C667,-298.5 592,-298.5 592,-298.5 586,-298.5 580,-292.5 580,-286.5 580,-286.5 580,-242.5 580,-242.5 580,-236.5 586,-230.5 592,-230.5 592,-230.5 667,-230.5 667,-230.5 673,-230.5 679,-236.5 679,-242.5 679,-242.5 679,-286.5 679,-286.5 679,-292.5 673,-298.5 667,-298.5\"/>\n<text text-anchor=\"start\" x=\"600\" y=\"-283.3\" font-family=\"Helvetica,sans-Serif\" font-size=\"14.00\" fill=\"#000000\">gini = 0.0</text>\n<text text-anchor=\"start\" x=\"590\" y=\"-268.3\" font-family=\"Helvetica,sans-Serif\" font-size=\"14.00\" fill=\"#000000\">samples = 1</text>\n<text text-anchor=\"start\" x=\"588\" y=\"-253.3\" font-family=\"Helvetica,sans-Serif\" font-size=\"14.00\" fill=\"#000000\">value = [1, 0]</text>\n<text text-anchor=\"start\" x=\"603\" y=\"-238.3\" font-family=\"Helvetica,sans-Serif\" font-size=\"14.00\" fill=\"#000000\">class = l</text>\n</g>\n<!-- 62&#45;&gt;64 -->\n<g id=\"edge64\" class=\"edge\">\n<title>62&#45;&gt;64</title>\n<path fill=\"none\" stroke=\"#000000\" d=\"M627.5493,-341.8796C627.8182,-331.2134 628.1084,-319.7021 628.3806,-308.9015\"/>\n<polygon fill=\"#000000\" stroke=\"#000000\" points=\"631.8817,-308.9 628.6349,-298.8149 624.8839,-308.7235 631.8817,-308.9\"/>\n</g>\n<!-- 68 -->\n<g id=\"node69\" class=\"node\">\n<title>68</title>\n<path fill=\"#f0b58b\" stroke=\"#000000\" d=\"M1035,-663C1035,-663 952,-663 952,-663 946,-663 940,-657 940,-651 940,-651 940,-592 940,-592 940,-586 946,-580 952,-580 952,-580 1035,-580 1035,-580 1041,-580 1047,-586 1047,-592 1047,-592 1047,-651 1047,-651 1047,-657 1041,-663 1035,-663\"/>\n<text text-anchor=\"start\" x=\"952.5\" y=\"-647.8\" font-family=\"Helvetica,sans-Serif\" font-size=\"14.00\" fill=\"#000000\">age ≤ &#45;0.239</text>\n<text text-anchor=\"start\" x=\"955.5\" y=\"-632.8\" font-family=\"Helvetica,sans-Serif\" font-size=\"14.00\" fill=\"#000000\">gini = 0.415</text>\n<text text-anchor=\"start\" x=\"949.5\" y=\"-617.8\" font-family=\"Helvetica,sans-Serif\" font-size=\"14.00\" fill=\"#000000\">samples = 17</text>\n<text text-anchor=\"start\" x=\"948\" y=\"-602.8\" font-family=\"Helvetica,sans-Serif\" font-size=\"14.00\" fill=\"#000000\">value = [12, 5]</text>\n<text text-anchor=\"start\" x=\"967\" y=\"-587.8\" font-family=\"Helvetica,sans-Serif\" font-size=\"14.00\" fill=\"#000000\">class = l</text>\n</g>\n<!-- 67&#45;&gt;68 -->\n<g id=\"edge68\" class=\"edge\">\n<title>67&#45;&gt;68</title>\n<path fill=\"none\" stroke=\"#000000\" d=\"M975.9433,-698.8796C977.8233,-690.5938 979.8189,-681.798 981.7649,-673.2216\"/>\n<polygon fill=\"#000000\" stroke=\"#000000\" points=\"985.2169,-673.8247 984.0164,-663.2981 978.3904,-672.2757 985.2169,-673.8247\"/>\n</g>\n<!-- 81 -->\n<g id=\"node82\" class=\"node\">\n<title>81</title>\n<path fill=\"#bddef6\" stroke=\"#000000\" d=\"M1271,-663C1271,-663 1196,-663 1196,-663 1190,-663 1184,-657 1184,-651 1184,-651 1184,-592 1184,-592 1184,-586 1190,-580 1196,-580 1196,-580 1271,-580 1271,-580 1277,-580 1283,-586 1283,-592 1283,-592 1283,-651 1283,-651 1283,-657 1277,-663 1271,-663\"/>\n<text text-anchor=\"start\" x=\"1195\" y=\"-647.8\" font-family=\"Helvetica,sans-Serif\" font-size=\"14.00\" fill=\"#000000\">age ≤ 0.259</text>\n<text text-anchor=\"start\" x=\"1200\" y=\"-632.8\" font-family=\"Helvetica,sans-Serif\" font-size=\"14.00\" fill=\"#000000\">gini = 0.48</text>\n<text text-anchor=\"start\" x=\"1194\" y=\"-617.8\" font-family=\"Helvetica,sans-Serif\" font-size=\"14.00\" fill=\"#000000\">samples = 5</text>\n<text text-anchor=\"start\" x=\"1192\" y=\"-602.8\" font-family=\"Helvetica,sans-Serif\" font-size=\"14.00\" fill=\"#000000\">value = [2, 3]</text>\n<text text-anchor=\"start\" x=\"1204.5\" y=\"-587.8\" font-family=\"Helvetica,sans-Serif\" font-size=\"14.00\" fill=\"#000000\">class = o</text>\n</g>\n<!-- 67&#45;&gt;81 -->\n<g id=\"edge81\" class=\"edge\">\n<title>67&#45;&gt;81</title>\n<path fill=\"none\" stroke=\"#000000\" d=\"M1020.1584,-703.5332C1022.9461,-701.9448 1025.7364,-700.4235 1028.5,-699 1075.6285,-674.7243 1132.1813,-653.9163 1173.9397,-639.9922\"/>\n<polygon fill=\"#000000\" stroke=\"#000000\" points=\"1175.2847,-643.2341 1183.6851,-636.7779 1173.092,-636.5864 1175.2847,-643.2341\"/>\n</g>\n<!-- 69 -->\n<g id=\"node70\" class=\"node\">\n<title>69</title>\n<path fill=\"#f4c9aa\" stroke=\"#000000\" d=\"M1033.5,-544C1033.5,-544 953.5,-544 953.5,-544 947.5,-544 941.5,-538 941.5,-532 941.5,-532 941.5,-473 941.5,-473 941.5,-467 947.5,-461 953.5,-461 953.5,-461 1033.5,-461 1033.5,-461 1039.5,-461 1045.5,-467 1045.5,-473 1045.5,-473 1045.5,-532 1045.5,-532 1045.5,-538 1039.5,-544 1033.5,-544\"/>\n<text text-anchor=\"start\" x=\"952.5\" y=\"-528.8\" font-family=\"Helvetica,sans-Serif\" font-size=\"14.00\" fill=\"#000000\">age ≤ &#45;0.404</text>\n<text text-anchor=\"start\" x=\"955.5\" y=\"-513.8\" font-family=\"Helvetica,sans-Serif\" font-size=\"14.00\" fill=\"#000000\">gini = 0.463</text>\n<text text-anchor=\"start\" x=\"949.5\" y=\"-498.8\" font-family=\"Helvetica,sans-Serif\" font-size=\"14.00\" fill=\"#000000\">samples = 11</text>\n<text text-anchor=\"start\" x=\"952\" y=\"-483.8\" font-family=\"Helvetica,sans-Serif\" font-size=\"14.00\" fill=\"#000000\">value = [7, 4]</text>\n<text text-anchor=\"start\" x=\"967\" y=\"-468.8\" font-family=\"Helvetica,sans-Serif\" font-size=\"14.00\" fill=\"#000000\">class = l</text>\n</g>\n<!-- 68&#45;&gt;69 -->\n<g id=\"edge69\" class=\"edge\">\n<title>68&#45;&gt;69</title>\n<path fill=\"none\" stroke=\"#000000\" d=\"M993.5,-579.8796C993.5,-571.6838 993.5,-562.9891 993.5,-554.5013\"/>\n<polygon fill=\"#000000\" stroke=\"#000000\" points=\"997.0001,-554.298 993.5,-544.2981 990.0001,-554.2981 997.0001,-554.298\"/>\n</g>\n<!-- 78 -->\n<g id=\"node79\" class=\"node\">\n<title>78</title>\n<path fill=\"#ea9a61\" stroke=\"#000000\" d=\"M1154,-544C1154,-544 1079,-544 1079,-544 1073,-544 1067,-538 1067,-532 1067,-532 1067,-473 1067,-473 1067,-467 1073,-461 1079,-461 1079,-461 1154,-461 1154,-461 1160,-461 1166,-467 1166,-473 1166,-473 1166,-532 1166,-532 1166,-538 1160,-544 1154,-544\"/>\n<text text-anchor=\"start\" x=\"1075.5\" y=\"-528.8\" font-family=\"Helvetica,sans-Serif\" font-size=\"14.00\" fill=\"#000000\">age ≤ &#45;0.073</text>\n<text text-anchor=\"start\" x=\"1078.5\" y=\"-513.8\" font-family=\"Helvetica,sans-Serif\" font-size=\"14.00\" fill=\"#000000\">gini = 0.278</text>\n<text text-anchor=\"start\" x=\"1077\" y=\"-498.8\" font-family=\"Helvetica,sans-Serif\" font-size=\"14.00\" fill=\"#000000\">samples = 6</text>\n<text text-anchor=\"start\" x=\"1075\" y=\"-483.8\" font-family=\"Helvetica,sans-Serif\" font-size=\"14.00\" fill=\"#000000\">value = [5, 1]</text>\n<text text-anchor=\"start\" x=\"1090\" y=\"-468.8\" font-family=\"Helvetica,sans-Serif\" font-size=\"14.00\" fill=\"#000000\">class = l</text>\n</g>\n<!-- 68&#45;&gt;78 -->\n<g id=\"edge78\" class=\"edge\">\n<title>68&#45;&gt;78</title>\n<path fill=\"none\" stroke=\"#000000\" d=\"M1036.5194,-579.8796C1046.0147,-570.6931 1056.1578,-560.8798 1065.9215,-551.4336\"/>\n<polygon fill=\"#000000\" stroke=\"#000000\" points=\"1068.5436,-553.7668 1073.297,-544.2981 1063.6763,-548.7359 1068.5436,-553.7668\"/>\n</g>\n<!-- 70 -->\n<g id=\"node71\" class=\"node\">\n<title>70</title>\n<path fill=\"#eeab7b\" stroke=\"#000000\" d=\"M913,-425C913,-425 828,-425 828,-425 822,-425 816,-419 816,-413 816,-413 816,-354 816,-354 816,-348 822,-342 828,-342 828,-342 913,-342 913,-342 919,-342 925,-348 925,-354 925,-354 925,-413 925,-413 925,-419 919,-425 913,-425\"/>\n<text text-anchor=\"start\" x=\"824\" y=\"-409.8\" font-family=\"Helvetica,sans-Serif\" font-size=\"14.00\" fill=\"#000000\">terms ≤ &#45;0.019</text>\n<text text-anchor=\"start\" x=\"832.5\" y=\"-394.8\" font-family=\"Helvetica,sans-Serif\" font-size=\"14.00\" fill=\"#000000\">gini = 0.375</text>\n<text text-anchor=\"start\" x=\"831\" y=\"-379.8\" font-family=\"Helvetica,sans-Serif\" font-size=\"14.00\" fill=\"#000000\">samples = 8</text>\n<text text-anchor=\"start\" x=\"829\" y=\"-364.8\" font-family=\"Helvetica,sans-Serif\" font-size=\"14.00\" fill=\"#000000\">value = [6, 2]</text>\n<text text-anchor=\"start\" x=\"844\" y=\"-349.8\" font-family=\"Helvetica,sans-Serif\" font-size=\"14.00\" fill=\"#000000\">class = l</text>\n</g>\n<!-- 69&#45;&gt;70 -->\n<g id=\"edge70\" class=\"edge\">\n<title>69&#45;&gt;70</title>\n<path fill=\"none\" stroke=\"#000000\" d=\"M950.4806,-460.8796C940.9853,-451.6931 930.8422,-441.8798 921.0785,-432.4336\"/>\n<polygon fill=\"#000000\" stroke=\"#000000\" points=\"923.3237,-429.7359 913.703,-425.2981 918.4564,-434.7668 923.3237,-429.7359\"/>\n</g>\n<!-- 75 -->\n<g id=\"node76\" class=\"node\">\n<title>75</title>\n<path fill=\"#9ccef2\" stroke=\"#000000\" d=\"M1040,-425C1040,-425 955,-425 955,-425 949,-425 943,-419 943,-413 943,-413 943,-354 943,-354 943,-348 949,-342 955,-342 955,-342 1040,-342 1040,-342 1046,-342 1052,-348 1052,-354 1052,-354 1052,-413 1052,-413 1052,-419 1046,-425 1040,-425\"/>\n<text text-anchor=\"start\" x=\"951\" y=\"-409.8\" font-family=\"Helvetica,sans-Serif\" font-size=\"14.00\" fill=\"#000000\">terms ≤ &#45;0.019</text>\n<text text-anchor=\"start\" x=\"959.5\" y=\"-394.8\" font-family=\"Helvetica,sans-Serif\" font-size=\"14.00\" fill=\"#000000\">gini = 0.444</text>\n<text text-anchor=\"start\" x=\"958\" y=\"-379.8\" font-family=\"Helvetica,sans-Serif\" font-size=\"14.00\" fill=\"#000000\">samples = 3</text>\n<text text-anchor=\"start\" x=\"956\" y=\"-364.8\" font-family=\"Helvetica,sans-Serif\" font-size=\"14.00\" fill=\"#000000\">value = [1, 2]</text>\n<text text-anchor=\"start\" x=\"968.5\" y=\"-349.8\" font-family=\"Helvetica,sans-Serif\" font-size=\"14.00\" fill=\"#000000\">class = o</text>\n</g>\n<!-- 69&#45;&gt;75 -->\n<g id=\"edge75\" class=\"edge\">\n<title>69&#45;&gt;75</title>\n<path fill=\"none\" stroke=\"#000000\" d=\"M994.899,-460.8796C995.1745,-452.6838 995.4668,-443.9891 995.7521,-435.5013\"/>\n<polygon fill=\"#000000\" stroke=\"#000000\" points=\"999.257,-435.41 996.095,-425.2981 992.261,-435.1748 999.257,-435.41\"/>\n</g>\n<!-- 71 -->\n<g id=\"node72\" class=\"node\">\n<title>71</title>\n<path fill=\"#e58139\" stroke=\"#000000\" d=\"M794,-298.5C794,-298.5 719,-298.5 719,-298.5 713,-298.5 707,-292.5 707,-286.5 707,-286.5 707,-242.5 707,-242.5 707,-236.5 713,-230.5 719,-230.5 719,-230.5 794,-230.5 794,-230.5 800,-230.5 806,-236.5 806,-242.5 806,-242.5 806,-286.5 806,-286.5 806,-292.5 800,-298.5 794,-298.5\"/>\n<text text-anchor=\"start\" x=\"727\" y=\"-283.3\" font-family=\"Helvetica,sans-Serif\" font-size=\"14.00\" fill=\"#000000\">gini = 0.0</text>\n<text text-anchor=\"start\" x=\"717\" y=\"-268.3\" font-family=\"Helvetica,sans-Serif\" font-size=\"14.00\" fill=\"#000000\">samples = 2</text>\n<text text-anchor=\"start\" x=\"715\" y=\"-253.3\" font-family=\"Helvetica,sans-Serif\" font-size=\"14.00\" fill=\"#000000\">value = [2, 0]</text>\n<text text-anchor=\"start\" x=\"730\" y=\"-238.3\" font-family=\"Helvetica,sans-Serif\" font-size=\"14.00\" fill=\"#000000\">class = l</text>\n</g>\n<!-- 70&#45;&gt;71 -->\n<g id=\"edge71\" class=\"edge\">\n<title>70&#45;&gt;71</title>\n<path fill=\"none\" stroke=\"#000000\" d=\"M830.6283,-341.8796C819.5676,-330.3337 807.5582,-317.7976 796.4906,-306.2446\"/>\n<polygon fill=\"#000000\" stroke=\"#000000\" points=\"798.8183,-303.6149 789.3731,-298.8149 793.7635,-308.4573 798.8183,-303.6149\"/>\n</g>\n<!-- 72 -->\n<g id=\"node73\" class=\"node\">\n<title>72</title>\n<path fill=\"#f2c09c\" stroke=\"#000000\" d=\"M911,-306C911,-306 836,-306 836,-306 830,-306 824,-300 824,-294 824,-294 824,-235 824,-235 824,-229 830,-223 836,-223 836,-223 911,-223 911,-223 917,-223 923,-229 923,-235 923,-235 923,-294 923,-294 923,-300 917,-306 911,-306\"/>\n<text text-anchor=\"start\" x=\"837\" y=\"-290.8\" font-family=\"Helvetica,sans-Serif\" font-size=\"14.00\" fill=\"#000000\">age ≤ &#45;0.57</text>\n<text text-anchor=\"start\" x=\"835.5\" y=\"-275.8\" font-family=\"Helvetica,sans-Serif\" font-size=\"14.00\" fill=\"#000000\">gini = 0.444</text>\n<text text-anchor=\"start\" x=\"834\" y=\"-260.8\" font-family=\"Helvetica,sans-Serif\" font-size=\"14.00\" fill=\"#000000\">samples = 6</text>\n<text text-anchor=\"start\" x=\"832\" y=\"-245.8\" font-family=\"Helvetica,sans-Serif\" font-size=\"14.00\" fill=\"#000000\">value = [4, 2]</text>\n<text text-anchor=\"start\" x=\"847\" y=\"-230.8\" font-family=\"Helvetica,sans-Serif\" font-size=\"14.00\" fill=\"#000000\">class = l</text>\n</g>\n<!-- 70&#45;&gt;72 -->\n<g id=\"edge72\" class=\"edge\">\n<title>70&#45;&gt;72</title>\n<path fill=\"none\" stroke=\"#000000\" d=\"M871.5493,-341.8796C871.7559,-333.6838 871.9751,-324.9891 872.189,-316.5013\"/>\n<polygon fill=\"#000000\" stroke=\"#000000\" points=\"875.693,-316.3831 872.4463,-306.2981 868.6953,-316.2067 875.693,-316.3831\"/>\n</g>\n<!-- 73 -->\n<g id=\"node74\" class=\"node\">\n<title>73</title>\n<path fill=\"#f2c09c\" stroke=\"#000000\" d=\"M853,-179.5C853,-179.5 778,-179.5 778,-179.5 772,-179.5 766,-173.5 766,-167.5 766,-167.5 766,-123.5 766,-123.5 766,-117.5 772,-111.5 778,-111.5 778,-111.5 853,-111.5 853,-111.5 859,-111.5 865,-117.5 865,-123.5 865,-123.5 865,-167.5 865,-167.5 865,-173.5 859,-179.5 853,-179.5\"/>\n<text text-anchor=\"start\" x=\"777.5\" y=\"-164.3\" font-family=\"Helvetica,sans-Serif\" font-size=\"14.00\" fill=\"#000000\">gini = 0.444</text>\n<text text-anchor=\"start\" x=\"776\" y=\"-149.3\" font-family=\"Helvetica,sans-Serif\" font-size=\"14.00\" fill=\"#000000\">samples = 3</text>\n<text text-anchor=\"start\" x=\"774\" y=\"-134.3\" font-family=\"Helvetica,sans-Serif\" font-size=\"14.00\" fill=\"#000000\">value = [2, 1]</text>\n<text text-anchor=\"start\" x=\"789\" y=\"-119.3\" font-family=\"Helvetica,sans-Serif\" font-size=\"14.00\" fill=\"#000000\">class = l</text>\n</g>\n<!-- 72&#45;&gt;73 -->\n<g id=\"edge73\" class=\"edge\">\n<title>72&#45;&gt;73</title>\n<path fill=\"none\" stroke=\"#000000\" d=\"M853.2144,-222.8796C847.855,-211.8835 842.0578,-199.9893 836.6537,-188.9015\"/>\n<polygon fill=\"#000000\" stroke=\"#000000\" points=\"839.7524,-187.2706 832.2249,-179.8149 833.46,-190.3375 839.7524,-187.2706\"/>\n</g>\n<!-- 74 -->\n<g id=\"node75\" class=\"node\">\n<title>74</title>\n<path fill=\"#f2c09c\" stroke=\"#000000\" d=\"M970,-179.5C970,-179.5 895,-179.5 895,-179.5 889,-179.5 883,-173.5 883,-167.5 883,-167.5 883,-123.5 883,-123.5 883,-117.5 889,-111.5 895,-111.5 895,-111.5 970,-111.5 970,-111.5 976,-111.5 982,-117.5 982,-123.5 982,-123.5 982,-167.5 982,-167.5 982,-173.5 976,-179.5 970,-179.5\"/>\n<text text-anchor=\"start\" x=\"894.5\" y=\"-164.3\" font-family=\"Helvetica,sans-Serif\" font-size=\"14.00\" fill=\"#000000\">gini = 0.444</text>\n<text text-anchor=\"start\" x=\"893\" y=\"-149.3\" font-family=\"Helvetica,sans-Serif\" font-size=\"14.00\" fill=\"#000000\">samples = 3</text>\n<text text-anchor=\"start\" x=\"891\" y=\"-134.3\" font-family=\"Helvetica,sans-Serif\" font-size=\"14.00\" fill=\"#000000\">value = [2, 1]</text>\n<text text-anchor=\"start\" x=\"906\" y=\"-119.3\" font-family=\"Helvetica,sans-Serif\" font-size=\"14.00\" fill=\"#000000\">class = l</text>\n</g>\n<!-- 72&#45;&gt;74 -->\n<g id=\"edge74\" class=\"edge\">\n<title>72&#45;&gt;74</title>\n<path fill=\"none\" stroke=\"#000000\" d=\"M894.1353,-222.8796C899.5872,-211.8835 905.4843,-199.9893 910.9816,-188.9015\"/>\n<polygon fill=\"#000000\" stroke=\"#000000\" points=\"914.1804,-190.3289 915.4867,-179.8149 907.9089,-187.2195 914.1804,-190.3289\"/>\n</g>\n<!-- 76 -->\n<g id=\"node77\" class=\"node\">\n<title>76</title>\n<path fill=\"#ffffff\" stroke=\"#000000\" d=\"M1033,-298.5C1033,-298.5 958,-298.5 958,-298.5 952,-298.5 946,-292.5 946,-286.5 946,-286.5 946,-242.5 946,-242.5 946,-236.5 952,-230.5 958,-230.5 958,-230.5 1033,-230.5 1033,-230.5 1039,-230.5 1045,-236.5 1045,-242.5 1045,-242.5 1045,-286.5 1045,-286.5 1045,-292.5 1039,-298.5 1033,-298.5\"/>\n<text text-anchor=\"start\" x=\"966\" y=\"-283.3\" font-family=\"Helvetica,sans-Serif\" font-size=\"14.00\" fill=\"#000000\">gini = 0.5</text>\n<text text-anchor=\"start\" x=\"956\" y=\"-268.3\" font-family=\"Helvetica,sans-Serif\" font-size=\"14.00\" fill=\"#000000\">samples = 2</text>\n<text text-anchor=\"start\" x=\"954\" y=\"-253.3\" font-family=\"Helvetica,sans-Serif\" font-size=\"14.00\" fill=\"#000000\">value = [1, 1]</text>\n<text text-anchor=\"start\" x=\"969\" y=\"-238.3\" font-family=\"Helvetica,sans-Serif\" font-size=\"14.00\" fill=\"#000000\">class = l</text>\n</g>\n<!-- 75&#45;&gt;76 -->\n<g id=\"edge76\" class=\"edge\">\n<title>75&#45;&gt;76</title>\n<path fill=\"none\" stroke=\"#000000\" d=\"M996.8005,-341.8796C996.6212,-331.2134 996.4278,-319.7021 996.2462,-308.9015\"/>\n<polygon fill=\"#000000\" stroke=\"#000000\" points=\"999.7444,-308.7547 996.0767,-298.8149 992.7454,-308.8724 999.7444,-308.7547\"/>\n</g>\n<!-- 77 -->\n<g id=\"node78\" class=\"node\">\n<title>77</title>\n<path fill=\"#399de5\" stroke=\"#000000\" d=\"M1150,-298.5C1150,-298.5 1075,-298.5 1075,-298.5 1069,-298.5 1063,-292.5 1063,-286.5 1063,-286.5 1063,-242.5 1063,-242.5 1063,-236.5 1069,-230.5 1075,-230.5 1075,-230.5 1150,-230.5 1150,-230.5 1156,-230.5 1162,-236.5 1162,-242.5 1162,-242.5 1162,-286.5 1162,-286.5 1162,-292.5 1156,-298.5 1150,-298.5\"/>\n<text text-anchor=\"start\" x=\"1083\" y=\"-283.3\" font-family=\"Helvetica,sans-Serif\" font-size=\"14.00\" fill=\"#000000\">gini = 0.0</text>\n<text text-anchor=\"start\" x=\"1073\" y=\"-268.3\" font-family=\"Helvetica,sans-Serif\" font-size=\"14.00\" fill=\"#000000\">samples = 1</text>\n<text text-anchor=\"start\" x=\"1071\" y=\"-253.3\" font-family=\"Helvetica,sans-Serif\" font-size=\"14.00\" fill=\"#000000\">value = [0, 1]</text>\n<text text-anchor=\"start\" x=\"1083.5\" y=\"-238.3\" font-family=\"Helvetica,sans-Serif\" font-size=\"14.00\" fill=\"#000000\">class = o</text>\n</g>\n<!-- 75&#45;&gt;77 -->\n<g id=\"edge77\" class=\"edge\">\n<title>75&#45;&gt;77</title>\n<path fill=\"none\" stroke=\"#000000\" d=\"M1037.7214,-341.8796C1048.8792,-330.3337 1060.9939,-317.7976 1072.1586,-306.2446\"/>\n<polygon fill=\"#000000\" stroke=\"#000000\" points=\"1074.9061,-308.4381 1079.3385,-298.8149 1069.8725,-303.5736 1074.9061,-308.4381\"/>\n</g>\n<!-- 79 -->\n<g id=\"node80\" class=\"node\">\n<title>79</title>\n<path fill=\"#e58139\" stroke=\"#000000\" d=\"M1157,-417.5C1157,-417.5 1082,-417.5 1082,-417.5 1076,-417.5 1070,-411.5 1070,-405.5 1070,-405.5 1070,-361.5 1070,-361.5 1070,-355.5 1076,-349.5 1082,-349.5 1082,-349.5 1157,-349.5 1157,-349.5 1163,-349.5 1169,-355.5 1169,-361.5 1169,-361.5 1169,-405.5 1169,-405.5 1169,-411.5 1163,-417.5 1157,-417.5\"/>\n<text text-anchor=\"start\" x=\"1090\" y=\"-402.3\" font-family=\"Helvetica,sans-Serif\" font-size=\"14.00\" fill=\"#000000\">gini = 0.0</text>\n<text text-anchor=\"start\" x=\"1080\" y=\"-387.3\" font-family=\"Helvetica,sans-Serif\" font-size=\"14.00\" fill=\"#000000\">samples = 3</text>\n<text text-anchor=\"start\" x=\"1078\" y=\"-372.3\" font-family=\"Helvetica,sans-Serif\" font-size=\"14.00\" fill=\"#000000\">value = [3, 0]</text>\n<text text-anchor=\"start\" x=\"1093\" y=\"-357.3\" font-family=\"Helvetica,sans-Serif\" font-size=\"14.00\" fill=\"#000000\">class = l</text>\n</g>\n<!-- 78&#45;&gt;79 -->\n<g id=\"edge79\" class=\"edge\">\n<title>78&#45;&gt;79</title>\n<path fill=\"none\" stroke=\"#000000\" d=\"M1117.5493,-460.8796C1117.8182,-450.2134 1118.1084,-438.7021 1118.3806,-427.9015\"/>\n<polygon fill=\"#000000\" stroke=\"#000000\" points=\"1121.8817,-427.9 1118.6349,-417.8149 1114.8839,-427.7235 1121.8817,-427.9\"/>\n</g>\n<!-- 80 -->\n<g id=\"node81\" class=\"node\">\n<title>80</title>\n<path fill=\"#f2c09c\" stroke=\"#000000\" d=\"M1274,-417.5C1274,-417.5 1199,-417.5 1199,-417.5 1193,-417.5 1187,-411.5 1187,-405.5 1187,-405.5 1187,-361.5 1187,-361.5 1187,-355.5 1193,-349.5 1199,-349.5 1199,-349.5 1274,-349.5 1274,-349.5 1280,-349.5 1286,-355.5 1286,-361.5 1286,-361.5 1286,-405.5 1286,-405.5 1286,-411.5 1280,-417.5 1274,-417.5\"/>\n<text text-anchor=\"start\" x=\"1198.5\" y=\"-402.3\" font-family=\"Helvetica,sans-Serif\" font-size=\"14.00\" fill=\"#000000\">gini = 0.444</text>\n<text text-anchor=\"start\" x=\"1197\" y=\"-387.3\" font-family=\"Helvetica,sans-Serif\" font-size=\"14.00\" fill=\"#000000\">samples = 3</text>\n<text text-anchor=\"start\" x=\"1195\" y=\"-372.3\" font-family=\"Helvetica,sans-Serif\" font-size=\"14.00\" fill=\"#000000\">value = [2, 1]</text>\n<text text-anchor=\"start\" x=\"1210\" y=\"-357.3\" font-family=\"Helvetica,sans-Serif\" font-size=\"14.00\" fill=\"#000000\">class = l</text>\n</g>\n<!-- 78&#45;&gt;80 -->\n<g id=\"edge80\" class=\"edge\">\n<title>78&#45;&gt;80</title>\n<path fill=\"none\" stroke=\"#000000\" d=\"M1158.4702,-460.8796C1170.224,-449.2237 1182.9954,-436.5587 1194.7372,-424.9148\"/>\n<polygon fill=\"#000000\" stroke=\"#000000\" points=\"1197.2606,-427.3416 1201.8967,-417.8149 1192.3316,-422.3712 1197.2606,-427.3416\"/>\n</g>\n<!-- 82 -->\n<g id=\"node83\" class=\"node\">\n<title>82</title>\n<path fill=\"#399de5\" stroke=\"#000000\" d=\"M1271,-536.5C1271,-536.5 1196,-536.5 1196,-536.5 1190,-536.5 1184,-530.5 1184,-524.5 1184,-524.5 1184,-480.5 1184,-480.5 1184,-474.5 1190,-468.5 1196,-468.5 1196,-468.5 1271,-468.5 1271,-468.5 1277,-468.5 1283,-474.5 1283,-480.5 1283,-480.5 1283,-524.5 1283,-524.5 1283,-530.5 1277,-536.5 1271,-536.5\"/>\n<text text-anchor=\"start\" x=\"1204\" y=\"-521.3\" font-family=\"Helvetica,sans-Serif\" font-size=\"14.00\" fill=\"#000000\">gini = 0.0</text>\n<text text-anchor=\"start\" x=\"1194\" y=\"-506.3\" font-family=\"Helvetica,sans-Serif\" font-size=\"14.00\" fill=\"#000000\">samples = 2</text>\n<text text-anchor=\"start\" x=\"1192\" y=\"-491.3\" font-family=\"Helvetica,sans-Serif\" font-size=\"14.00\" fill=\"#000000\">value = [0, 2]</text>\n<text text-anchor=\"start\" x=\"1204.5\" y=\"-476.3\" font-family=\"Helvetica,sans-Serif\" font-size=\"14.00\" fill=\"#000000\">class = o</text>\n</g>\n<!-- 81&#45;&gt;82 -->\n<g id=\"edge82\" class=\"edge\">\n<title>81&#45;&gt;82</title>\n<path fill=\"none\" stroke=\"#000000\" d=\"M1233.5,-579.8796C1233.5,-569.2134 1233.5,-557.7021 1233.5,-546.9015\"/>\n<polygon fill=\"#000000\" stroke=\"#000000\" points=\"1237.0001,-546.8149 1233.5,-536.8149 1230.0001,-546.815 1237.0001,-546.8149\"/>\n</g>\n<!-- 83 -->\n<g id=\"node84\" class=\"node\">\n<title>83</title>\n<path fill=\"#f2c09c\" stroke=\"#000000\" d=\"M1417.5,-544C1417.5,-544 1313.5,-544 1313.5,-544 1307.5,-544 1301.5,-538 1301.5,-532 1301.5,-532 1301.5,-473 1301.5,-473 1301.5,-467 1307.5,-461 1313.5,-461 1313.5,-461 1417.5,-461 1417.5,-461 1423.5,-461 1429.5,-467 1429.5,-473 1429.5,-473 1429.5,-532 1429.5,-532 1429.5,-538 1423.5,-544 1417.5,-544\"/>\n<text text-anchor=\"start\" x=\"1309.5\" y=\"-528.8\" font-family=\"Helvetica,sans-Serif\" font-size=\"14.00\" fill=\"#000000\">Principal ≤ &#45;0.399</text>\n<text text-anchor=\"start\" x=\"1327.5\" y=\"-513.8\" font-family=\"Helvetica,sans-Serif\" font-size=\"14.00\" fill=\"#000000\">gini = 0.444</text>\n<text text-anchor=\"start\" x=\"1326\" y=\"-498.8\" font-family=\"Helvetica,sans-Serif\" font-size=\"14.00\" fill=\"#000000\">samples = 3</text>\n<text text-anchor=\"start\" x=\"1324\" y=\"-483.8\" font-family=\"Helvetica,sans-Serif\" font-size=\"14.00\" fill=\"#000000\">value = [2, 1]</text>\n<text text-anchor=\"start\" x=\"1339\" y=\"-468.8\" font-family=\"Helvetica,sans-Serif\" font-size=\"14.00\" fill=\"#000000\">class = l</text>\n</g>\n<!-- 81&#45;&gt;83 -->\n<g id=\"edge83\" class=\"edge\">\n<title>81&#45;&gt;83</title>\n<path fill=\"none\" stroke=\"#000000\" d=\"M1279.6672,-579.8796C1289.9571,-570.6031 1300.956,-560.6874 1311.5287,-551.1559\"/>\n<polygon fill=\"#000000\" stroke=\"#000000\" points=\"1314.0519,-553.5935 1319.1358,-544.2981 1309.3648,-548.3944 1314.0519,-553.5935\"/>\n</g>\n<!-- 84 -->\n<g id=\"node85\" class=\"node\">\n<title>84</title>\n<path fill=\"#ffffff\" stroke=\"#000000\" d=\"M1406,-425C1406,-425 1321,-425 1321,-425 1315,-425 1309,-419 1309,-413 1309,-413 1309,-354 1309,-354 1309,-348 1315,-342 1321,-342 1321,-342 1406,-342 1406,-342 1412,-342 1418,-348 1418,-354 1418,-354 1418,-413 1418,-413 1418,-419 1412,-425 1406,-425\"/>\n<text text-anchor=\"start\" x=\"1317\" y=\"-409.8\" font-family=\"Helvetica,sans-Serif\" font-size=\"14.00\" fill=\"#000000\">terms ≤ &#45;0.019</text>\n<text text-anchor=\"start\" x=\"1334\" y=\"-394.8\" font-family=\"Helvetica,sans-Serif\" font-size=\"14.00\" fill=\"#000000\">gini = 0.5</text>\n<text text-anchor=\"start\" x=\"1324\" y=\"-379.8\" font-family=\"Helvetica,sans-Serif\" font-size=\"14.00\" fill=\"#000000\">samples = 2</text>\n<text text-anchor=\"start\" x=\"1322\" y=\"-364.8\" font-family=\"Helvetica,sans-Serif\" font-size=\"14.00\" fill=\"#000000\">value = [1, 1]</text>\n<text text-anchor=\"start\" x=\"1337\" y=\"-349.8\" font-family=\"Helvetica,sans-Serif\" font-size=\"14.00\" fill=\"#000000\">class = l</text>\n</g>\n<!-- 83&#45;&gt;84 -->\n<g id=\"edge84\" class=\"edge\">\n<title>83&#45;&gt;84</title>\n<path fill=\"none\" stroke=\"#000000\" d=\"M1364.8005,-460.8796C1364.6628,-452.6838 1364.5166,-443.9891 1364.374,-435.5013\"/>\n<polygon fill=\"#000000\" stroke=\"#000000\" points=\"1367.8701,-435.2378 1364.2025,-425.2981 1360.8711,-435.3555 1367.8701,-435.2378\"/>\n</g>\n<!-- 87 -->\n<g id=\"node88\" class=\"node\">\n<title>87</title>\n<path fill=\"#e58139\" stroke=\"#000000\" d=\"M1523,-417.5C1523,-417.5 1448,-417.5 1448,-417.5 1442,-417.5 1436,-411.5 1436,-405.5 1436,-405.5 1436,-361.5 1436,-361.5 1436,-355.5 1442,-349.5 1448,-349.5 1448,-349.5 1523,-349.5 1523,-349.5 1529,-349.5 1535,-355.5 1535,-361.5 1535,-361.5 1535,-405.5 1535,-405.5 1535,-411.5 1529,-417.5 1523,-417.5\"/>\n<text text-anchor=\"start\" x=\"1456\" y=\"-402.3\" font-family=\"Helvetica,sans-Serif\" font-size=\"14.00\" fill=\"#000000\">gini = 0.0</text>\n<text text-anchor=\"start\" x=\"1446\" y=\"-387.3\" font-family=\"Helvetica,sans-Serif\" font-size=\"14.00\" fill=\"#000000\">samples = 1</text>\n<text text-anchor=\"start\" x=\"1444\" y=\"-372.3\" font-family=\"Helvetica,sans-Serif\" font-size=\"14.00\" fill=\"#000000\">value = [1, 0]</text>\n<text text-anchor=\"start\" x=\"1459\" y=\"-357.3\" font-family=\"Helvetica,sans-Serif\" font-size=\"14.00\" fill=\"#000000\">class = l</text>\n</g>\n<!-- 83&#45;&gt;87 -->\n<g id=\"edge87\" class=\"edge\">\n<title>83&#45;&gt;87</title>\n<path fill=\"none\" stroke=\"#000000\" d=\"M1407.4702,-460.8796C1419.224,-449.2237 1431.9954,-436.5587 1443.7372,-424.9148\"/>\n<polygon fill=\"#000000\" stroke=\"#000000\" points=\"1446.2606,-427.3416 1450.8967,-417.8149 1441.3316,-422.3712 1446.2606,-427.3416\"/>\n</g>\n<!-- 85 -->\n<g id=\"node86\" class=\"node\">\n<title>85</title>\n<path fill=\"#e58139\" stroke=\"#000000\" d=\"M1342,-298.5C1342,-298.5 1267,-298.5 1267,-298.5 1261,-298.5 1255,-292.5 1255,-286.5 1255,-286.5 1255,-242.5 1255,-242.5 1255,-236.5 1261,-230.5 1267,-230.5 1267,-230.5 1342,-230.5 1342,-230.5 1348,-230.5 1354,-236.5 1354,-242.5 1354,-242.5 1354,-286.5 1354,-286.5 1354,-292.5 1348,-298.5 1342,-298.5\"/>\n<text text-anchor=\"start\" x=\"1275\" y=\"-283.3\" font-family=\"Helvetica,sans-Serif\" font-size=\"14.00\" fill=\"#000000\">gini = 0.0</text>\n<text text-anchor=\"start\" x=\"1265\" y=\"-268.3\" font-family=\"Helvetica,sans-Serif\" font-size=\"14.00\" fill=\"#000000\">samples = 1</text>\n<text text-anchor=\"start\" x=\"1263\" y=\"-253.3\" font-family=\"Helvetica,sans-Serif\" font-size=\"14.00\" fill=\"#000000\">value = [1, 0]</text>\n<text text-anchor=\"start\" x=\"1278\" y=\"-238.3\" font-family=\"Helvetica,sans-Serif\" font-size=\"14.00\" fill=\"#000000\">class = l</text>\n</g>\n<!-- 84&#45;&gt;85 -->\n<g id=\"edge85\" class=\"edge\">\n<title>84&#45;&gt;85</title>\n<path fill=\"none\" stroke=\"#000000\" d=\"M1342.8647,-341.8796C1337.4128,-330.8835 1331.5157,-318.9893 1326.0184,-307.9015\"/>\n<polygon fill=\"#000000\" stroke=\"#000000\" points=\"1329.0911,-306.2195 1321.5133,-298.8149 1322.8196,-309.3289 1329.0911,-306.2195\"/>\n</g>\n<!-- 86 -->\n<g id=\"node87\" class=\"node\">\n<title>86</title>\n<path fill=\"#399de5\" stroke=\"#000000\" d=\"M1459,-298.5C1459,-298.5 1384,-298.5 1384,-298.5 1378,-298.5 1372,-292.5 1372,-286.5 1372,-286.5 1372,-242.5 1372,-242.5 1372,-236.5 1378,-230.5 1384,-230.5 1384,-230.5 1459,-230.5 1459,-230.5 1465,-230.5 1471,-236.5 1471,-242.5 1471,-242.5 1471,-286.5 1471,-286.5 1471,-292.5 1465,-298.5 1459,-298.5\"/>\n<text text-anchor=\"start\" x=\"1392\" y=\"-283.3\" font-family=\"Helvetica,sans-Serif\" font-size=\"14.00\" fill=\"#000000\">gini = 0.0</text>\n<text text-anchor=\"start\" x=\"1382\" y=\"-268.3\" font-family=\"Helvetica,sans-Serif\" font-size=\"14.00\" fill=\"#000000\">samples = 1</text>\n<text text-anchor=\"start\" x=\"1380\" y=\"-253.3\" font-family=\"Helvetica,sans-Serif\" font-size=\"14.00\" fill=\"#000000\">value = [0, 1]</text>\n<text text-anchor=\"start\" x=\"1392.5\" y=\"-238.3\" font-family=\"Helvetica,sans-Serif\" font-size=\"14.00\" fill=\"#000000\">class = o</text>\n</g>\n<!-- 84&#45;&gt;86 -->\n<g id=\"edge86\" class=\"edge\">\n<title>84&#45;&gt;86</title>\n<path fill=\"none\" stroke=\"#000000\" d=\"M1383.7856,-341.8796C1389.145,-330.8835 1394.9422,-318.9893 1400.3463,-307.9015\"/>\n<polygon fill=\"#000000\" stroke=\"#000000\" points=\"1403.54,-309.3375 1404.7751,-298.8149 1397.2476,-306.2706 1403.54,-309.3375\"/>\n</g>\n<!-- 89 -->\n<g id=\"node90\" class=\"node\">\n<title>89</title>\n<path fill=\"#399de5\" stroke=\"#000000\" d=\"M1125,-774.5C1125,-774.5 1050,-774.5 1050,-774.5 1044,-774.5 1038,-768.5 1038,-762.5 1038,-762.5 1038,-718.5 1038,-718.5 1038,-712.5 1044,-706.5 1050,-706.5 1050,-706.5 1125,-706.5 1125,-706.5 1131,-706.5 1137,-712.5 1137,-718.5 1137,-718.5 1137,-762.5 1137,-762.5 1137,-768.5 1131,-774.5 1125,-774.5\"/>\n<text text-anchor=\"start\" x=\"1058\" y=\"-759.3\" font-family=\"Helvetica,sans-Serif\" font-size=\"14.00\" fill=\"#000000\">gini = 0.0</text>\n<text text-anchor=\"start\" x=\"1048\" y=\"-744.3\" font-family=\"Helvetica,sans-Serif\" font-size=\"14.00\" fill=\"#000000\">samples = 2</text>\n<text text-anchor=\"start\" x=\"1046\" y=\"-729.3\" font-family=\"Helvetica,sans-Serif\" font-size=\"14.00\" fill=\"#000000\">value = [0, 2]</text>\n<text text-anchor=\"start\" x=\"1058.5\" y=\"-714.3\" font-family=\"Helvetica,sans-Serif\" font-size=\"14.00\" fill=\"#000000\">class = o</text>\n</g>\n<!-- 88&#45;&gt;89 -->\n<g id=\"edge89\" class=\"edge\">\n<title>88&#45;&gt;89</title>\n<path fill=\"none\" stroke=\"#000000\" d=\"M1086.1995,-817.8796C1086.3788,-807.2134 1086.5722,-795.7021 1086.7538,-784.9015\"/>\n<polygon fill=\"#000000\" stroke=\"#000000\" points=\"1090.2546,-784.8724 1086.9233,-774.8149 1083.2556,-784.7547 1090.2546,-784.8724\"/>\n</g>\n<!-- 90 -->\n<g id=\"node91\" class=\"node\">\n<title>90</title>\n<path fill=\"#ffffff\" stroke=\"#000000\" d=\"M1242,-774.5C1242,-774.5 1167,-774.5 1167,-774.5 1161,-774.5 1155,-768.5 1155,-762.5 1155,-762.5 1155,-718.5 1155,-718.5 1155,-712.5 1161,-706.5 1167,-706.5 1167,-706.5 1242,-706.5 1242,-706.5 1248,-706.5 1254,-712.5 1254,-718.5 1254,-718.5 1254,-762.5 1254,-762.5 1254,-768.5 1248,-774.5 1242,-774.5\"/>\n<text text-anchor=\"start\" x=\"1175\" y=\"-759.3\" font-family=\"Helvetica,sans-Serif\" font-size=\"14.00\" fill=\"#000000\">gini = 0.5</text>\n<text text-anchor=\"start\" x=\"1165\" y=\"-744.3\" font-family=\"Helvetica,sans-Serif\" font-size=\"14.00\" fill=\"#000000\">samples = 2</text>\n<text text-anchor=\"start\" x=\"1163\" y=\"-729.3\" font-family=\"Helvetica,sans-Serif\" font-size=\"14.00\" fill=\"#000000\">value = [1, 1]</text>\n<text text-anchor=\"start\" x=\"1178\" y=\"-714.3\" font-family=\"Helvetica,sans-Serif\" font-size=\"14.00\" fill=\"#000000\">class = l</text>\n</g>\n<!-- 88&#45;&gt;90 -->\n<g id=\"edge90\" class=\"edge\">\n<title>88&#45;&gt;90</title>\n<path fill=\"none\" stroke=\"#000000\" d=\"M1127.1204,-817.8796C1138.7763,-806.2237 1151.4413,-793.5587 1163.0852,-781.9148\"/>\n<polygon fill=\"#000000\" stroke=\"#000000\" points=\"1165.5889,-784.3609 1170.1851,-774.8149 1160.6391,-779.4111 1165.5889,-784.3609\"/>\n</g>\n<!-- 92 -->\n<g id=\"node93\" class=\"node\">\n<title>92</title>\n<path fill=\"#e58139\" stroke=\"#000000\" d=\"M1245,-893.5C1245,-893.5 1170,-893.5 1170,-893.5 1164,-893.5 1158,-887.5 1158,-881.5 1158,-881.5 1158,-837.5 1158,-837.5 1158,-831.5 1164,-825.5 1170,-825.5 1170,-825.5 1245,-825.5 1245,-825.5 1251,-825.5 1257,-831.5 1257,-837.5 1257,-837.5 1257,-881.5 1257,-881.5 1257,-887.5 1251,-893.5 1245,-893.5\"/>\n<text text-anchor=\"start\" x=\"1178\" y=\"-878.3\" font-family=\"Helvetica,sans-Serif\" font-size=\"14.00\" fill=\"#000000\">gini = 0.0</text>\n<text text-anchor=\"start\" x=\"1168\" y=\"-863.3\" font-family=\"Helvetica,sans-Serif\" font-size=\"14.00\" fill=\"#000000\">samples = 3</text>\n<text text-anchor=\"start\" x=\"1166\" y=\"-848.3\" font-family=\"Helvetica,sans-Serif\" font-size=\"14.00\" fill=\"#000000\">value = [3, 0]</text>\n<text text-anchor=\"start\" x=\"1181\" y=\"-833.3\" font-family=\"Helvetica,sans-Serif\" font-size=\"14.00\" fill=\"#000000\">class = l</text>\n</g>\n<!-- 91&#45;&gt;92 -->\n<g id=\"edge92\" class=\"edge\">\n<title>91&#45;&gt;92</title>\n<path fill=\"none\" stroke=\"#000000\" d=\"M1226.3572,-936.8796C1223.7311,-926.1034 1220.8948,-914.4647 1218.2392,-903.5677\"/>\n<polygon fill=\"#000000\" stroke=\"#000000\" points=\"1221.6307,-902.7019 1215.8625,-893.8149 1214.8297,-904.3593 1221.6307,-902.7019\"/>\n</g>\n<!-- 93 -->\n<g id=\"node94\" class=\"node\">\n<title>93</title>\n<path fill=\"#f2c09c\" stroke=\"#000000\" d=\"M1362,-893.5C1362,-893.5 1287,-893.5 1287,-893.5 1281,-893.5 1275,-887.5 1275,-881.5 1275,-881.5 1275,-837.5 1275,-837.5 1275,-831.5 1281,-825.5 1287,-825.5 1287,-825.5 1362,-825.5 1362,-825.5 1368,-825.5 1374,-831.5 1374,-837.5 1374,-837.5 1374,-881.5 1374,-881.5 1374,-887.5 1368,-893.5 1362,-893.5\"/>\n<text text-anchor=\"start\" x=\"1286.5\" y=\"-878.3\" font-family=\"Helvetica,sans-Serif\" font-size=\"14.00\" fill=\"#000000\">gini = 0.444</text>\n<text text-anchor=\"start\" x=\"1285\" y=\"-863.3\" font-family=\"Helvetica,sans-Serif\" font-size=\"14.00\" fill=\"#000000\">samples = 3</text>\n<text text-anchor=\"start\" x=\"1283\" y=\"-848.3\" font-family=\"Helvetica,sans-Serif\" font-size=\"14.00\" fill=\"#000000\">value = [2, 1]</text>\n<text text-anchor=\"start\" x=\"1298\" y=\"-833.3\" font-family=\"Helvetica,sans-Serif\" font-size=\"14.00\" fill=\"#000000\">class = l</text>\n</g>\n<!-- 91&#45;&gt;93 -->\n<g id=\"edge93\" class=\"edge\">\n<title>91&#45;&gt;93</title>\n<path fill=\"none\" stroke=\"#000000\" d=\"M1267.2781,-936.8796C1275.6536,-925.5536 1284.7338,-913.2748 1293.1411,-901.9058\"/>\n<polygon fill=\"#000000\" stroke=\"#000000\" points=\"1295.9925,-903.9364 1299.1242,-893.8149 1290.3643,-899.7743 1295.9925,-903.9364\"/>\n</g>\n<!-- 95 -->\n<g id=\"node96\" class=\"node\">\n<title>95</title>\n<path fill=\"#61b1ea\" stroke=\"#000000\" d=\"M1573,-1020C1573,-1020 1390,-1020 1390,-1020 1384,-1020 1378,-1014 1378,-1008 1378,-1008 1378,-949 1378,-949 1378,-943 1384,-937 1390,-937 1390,-937 1573,-937 1573,-937 1579,-937 1585,-943 1585,-949 1585,-949 1585,-1008 1585,-1008 1585,-1014 1579,-1020 1573,-1020\"/>\n<text text-anchor=\"start\" x=\"1386\" y=\"-1004.8\" font-family=\"Helvetica,sans-Serif\" font-size=\"14.00\" fill=\"#000000\">High School or Below ≤ 1.119</text>\n<text text-anchor=\"start\" x=\"1443.5\" y=\"-989.8\" font-family=\"Helvetica,sans-Serif\" font-size=\"14.00\" fill=\"#000000\">gini = 0.278</text>\n<text text-anchor=\"start\" x=\"1442\" y=\"-974.8\" font-family=\"Helvetica,sans-Serif\" font-size=\"14.00\" fill=\"#000000\">samples = 6</text>\n<text text-anchor=\"start\" x=\"1440\" y=\"-959.8\" font-family=\"Helvetica,sans-Serif\" font-size=\"14.00\" fill=\"#000000\">value = [1, 5]</text>\n<text text-anchor=\"start\" x=\"1452.5\" y=\"-944.8\" font-family=\"Helvetica,sans-Serif\" font-size=\"14.00\" fill=\"#000000\">class = o</text>\n</g>\n<!-- 94&#45;&gt;95 -->\n<g id=\"edge95\" class=\"edge\">\n<title>94&#45;&gt;95</title>\n<path fill=\"none\" stroke=\"#000000\" d=\"M1481.5,-1055.8796C1481.5,-1047.6838 1481.5,-1038.9891 1481.5,-1030.5013\"/>\n<polygon fill=\"#000000\" stroke=\"#000000\" points=\"1485.0001,-1030.298 1481.5,-1020.2981 1478.0001,-1030.2981 1485.0001,-1030.298\"/>\n</g>\n<!-- 100 -->\n<g id=\"node101\" class=\"node\">\n<title>100</title>\n<path fill=\"#fbece1\" stroke=\"#000000\" d=\"M1757.5,-1020C1757.5,-1020 1653.5,-1020 1653.5,-1020 1647.5,-1020 1641.5,-1014 1641.5,-1008 1641.5,-1008 1641.5,-949 1641.5,-949 1641.5,-943 1647.5,-937 1653.5,-937 1653.5,-937 1757.5,-937 1757.5,-937 1763.5,-937 1769.5,-943 1769.5,-949 1769.5,-949 1769.5,-1008 1769.5,-1008 1769.5,-1014 1763.5,-1020 1757.5,-1020\"/>\n<text text-anchor=\"start\" x=\"1649.5\" y=\"-1004.8\" font-family=\"Helvetica,sans-Serif\" font-size=\"14.00\" fill=\"#000000\">Principal ≤ &#45;0.399</text>\n<text text-anchor=\"start\" x=\"1667.5\" y=\"-989.8\" font-family=\"Helvetica,sans-Serif\" font-size=\"14.00\" fill=\"#000000\">gini = 0.497</text>\n<text text-anchor=\"start\" x=\"1661.5\" y=\"-974.8\" font-family=\"Helvetica,sans-Serif\" font-size=\"14.00\" fill=\"#000000\">samples = 24</text>\n<text text-anchor=\"start\" x=\"1655.5\" y=\"-959.8\" font-family=\"Helvetica,sans-Serif\" font-size=\"14.00\" fill=\"#000000\">value = [13, 11]</text>\n<text text-anchor=\"start\" x=\"1679\" y=\"-944.8\" font-family=\"Helvetica,sans-Serif\" font-size=\"14.00\" fill=\"#000000\">class = l</text>\n</g>\n<!-- 94&#45;&gt;100 -->\n<g id=\"edge100\" class=\"edge\">\n<title>94&#45;&gt;100</title>\n<path fill=\"none\" stroke=\"#000000\" d=\"M1539.7686,-1066.5448C1567.963,-1051.5665 1602.1109,-1033.4255 1632.0662,-1017.5117\"/>\n<polygon fill=\"#000000\" stroke=\"#000000\" points=\"1634.0277,-1020.4329 1641.2168,-1012.6504 1630.7436,-1014.2511 1634.0277,-1020.4329\"/>\n</g>\n<!-- 96 -->\n<g id=\"node97\" class=\"node\">\n<title>96</title>\n<path fill=\"#399de5\" stroke=\"#000000\" d=\"M1479,-893.5C1479,-893.5 1404,-893.5 1404,-893.5 1398,-893.5 1392,-887.5 1392,-881.5 1392,-881.5 1392,-837.5 1392,-837.5 1392,-831.5 1398,-825.5 1404,-825.5 1404,-825.5 1479,-825.5 1479,-825.5 1485,-825.5 1491,-831.5 1491,-837.5 1491,-837.5 1491,-881.5 1491,-881.5 1491,-887.5 1485,-893.5 1479,-893.5\"/>\n<text text-anchor=\"start\" x=\"1412\" y=\"-878.3\" font-family=\"Helvetica,sans-Serif\" font-size=\"14.00\" fill=\"#000000\">gini = 0.0</text>\n<text text-anchor=\"start\" x=\"1402\" y=\"-863.3\" font-family=\"Helvetica,sans-Serif\" font-size=\"14.00\" fill=\"#000000\">samples = 4</text>\n<text text-anchor=\"start\" x=\"1400\" y=\"-848.3\" font-family=\"Helvetica,sans-Serif\" font-size=\"14.00\" fill=\"#000000\">value = [0, 4]</text>\n<text text-anchor=\"start\" x=\"1412.5\" y=\"-833.3\" font-family=\"Helvetica,sans-Serif\" font-size=\"14.00\" fill=\"#000000\">class = o</text>\n</g>\n<!-- 95&#45;&gt;96 -->\n<g id=\"edge96\" class=\"edge\">\n<title>95&#45;&gt;96</title>\n<path fill=\"none\" stroke=\"#000000\" d=\"M1467.5099,-936.8796C1463.8877,-926.1034 1459.9755,-914.4647 1456.3127,-903.5677\"/>\n<polygon fill=\"#000000\" stroke=\"#000000\" points=\"1459.5383,-902.1786 1453.0344,-893.8149 1452.9031,-904.409 1459.5383,-902.1786\"/>\n</g>\n<!-- 97 -->\n<g id=\"node98\" class=\"node\">\n<title>97</title>\n<path fill=\"#ffffff\" stroke=\"#000000\" d=\"M1625.5,-901C1625.5,-901 1521.5,-901 1521.5,-901 1515.5,-901 1509.5,-895 1509.5,-889 1509.5,-889 1509.5,-830 1509.5,-830 1509.5,-824 1515.5,-818 1521.5,-818 1521.5,-818 1625.5,-818 1625.5,-818 1631.5,-818 1637.5,-824 1637.5,-830 1637.5,-830 1637.5,-889 1637.5,-889 1637.5,-895 1631.5,-901 1625.5,-901\"/>\n<text text-anchor=\"start\" x=\"1517.5\" y=\"-885.8\" font-family=\"Helvetica,sans-Serif\" font-size=\"14.00\" fill=\"#000000\">Principal ≤ &#45;0.399</text>\n<text text-anchor=\"start\" x=\"1544\" y=\"-870.8\" font-family=\"Helvetica,sans-Serif\" font-size=\"14.00\" fill=\"#000000\">gini = 0.5</text>\n<text text-anchor=\"start\" x=\"1534\" y=\"-855.8\" font-family=\"Helvetica,sans-Serif\" font-size=\"14.00\" fill=\"#000000\">samples = 2</text>\n<text text-anchor=\"start\" x=\"1532\" y=\"-840.8\" font-family=\"Helvetica,sans-Serif\" font-size=\"14.00\" fill=\"#000000\">value = [1, 1]</text>\n<text text-anchor=\"start\" x=\"1547\" y=\"-825.8\" font-family=\"Helvetica,sans-Serif\" font-size=\"14.00\" fill=\"#000000\">class = l</text>\n</g>\n<!-- 95&#45;&gt;97 -->\n<g id=\"edge97\" class=\"edge\">\n<title>95&#45;&gt;97</title>\n<path fill=\"none\" stroke=\"#000000\" d=\"M1513.6771,-936.8796C1520.5704,-927.9633 1527.9202,-918.4565 1535.0239,-909.268\"/>\n<polygon fill=\"#000000\" stroke=\"#000000\" points=\"1537.8381,-911.3502 1541.1855,-901.2981 1532.3001,-907.0687 1537.8381,-911.3502\"/>\n</g>\n<!-- 98 -->\n<g id=\"node99\" class=\"node\">\n<title>98</title>\n<path fill=\"#399de5\" stroke=\"#000000\" d=\"M1376,-774.5C1376,-774.5 1301,-774.5 1301,-774.5 1295,-774.5 1289,-768.5 1289,-762.5 1289,-762.5 1289,-718.5 1289,-718.5 1289,-712.5 1295,-706.5 1301,-706.5 1301,-706.5 1376,-706.5 1376,-706.5 1382,-706.5 1388,-712.5 1388,-718.5 1388,-718.5 1388,-762.5 1388,-762.5 1388,-768.5 1382,-774.5 1376,-774.5\"/>\n<text text-anchor=\"start\" x=\"1309\" y=\"-759.3\" font-family=\"Helvetica,sans-Serif\" font-size=\"14.00\" fill=\"#000000\">gini = 0.0</text>\n<text text-anchor=\"start\" x=\"1299\" y=\"-744.3\" font-family=\"Helvetica,sans-Serif\" font-size=\"14.00\" fill=\"#000000\">samples = 1</text>\n<text text-anchor=\"start\" x=\"1297\" y=\"-729.3\" font-family=\"Helvetica,sans-Serif\" font-size=\"14.00\" fill=\"#000000\">value = [0, 1]</text>\n<text text-anchor=\"start\" x=\"1309.5\" y=\"-714.3\" font-family=\"Helvetica,sans-Serif\" font-size=\"14.00\" fill=\"#000000\">class = o</text>\n</g>\n<!-- 97&#45;&gt;98 -->\n<g id=\"edge98\" class=\"edge\">\n<title>97&#45;&gt;98</title>\n<path fill=\"none\" stroke=\"#000000\" d=\"M1509.2692,-822.6066C1505.9913,-820.9989 1502.7225,-819.4533 1499.5,-818 1455.2942,-798.0638 1439.5435,-804.3353 1396.5,-782 1395.1606,-781.305 1393.8172,-780.5821 1392.4734,-779.8355\"/>\n<polygon fill=\"#000000\" stroke=\"#000000\" points=\"1394.0224,-776.6854 1383.6328,-774.6098 1390.4604,-782.7114 1394.0224,-776.6854\"/>\n</g>\n<!-- 99 -->\n<g id=\"node100\" class=\"node\">\n<title>99</title>\n<path fill=\"#e58139\" stroke=\"#000000\" d=\"M1493,-774.5C1493,-774.5 1418,-774.5 1418,-774.5 1412,-774.5 1406,-768.5 1406,-762.5 1406,-762.5 1406,-718.5 1406,-718.5 1406,-712.5 1412,-706.5 1418,-706.5 1418,-706.5 1493,-706.5 1493,-706.5 1499,-706.5 1505,-712.5 1505,-718.5 1505,-718.5 1505,-762.5 1505,-762.5 1505,-768.5 1499,-774.5 1493,-774.5\"/>\n<text text-anchor=\"start\" x=\"1426\" y=\"-759.3\" font-family=\"Helvetica,sans-Serif\" font-size=\"14.00\" fill=\"#000000\">gini = 0.0</text>\n<text text-anchor=\"start\" x=\"1416\" y=\"-744.3\" font-family=\"Helvetica,sans-Serif\" font-size=\"14.00\" fill=\"#000000\">samples = 1</text>\n<text text-anchor=\"start\" x=\"1414\" y=\"-729.3\" font-family=\"Helvetica,sans-Serif\" font-size=\"14.00\" fill=\"#000000\">value = [1, 0]</text>\n<text text-anchor=\"start\" x=\"1429\" y=\"-714.3\" font-family=\"Helvetica,sans-Serif\" font-size=\"14.00\" fill=\"#000000\">class = l</text>\n</g>\n<!-- 97&#45;&gt;99 -->\n<g id=\"edge99\" class=\"edge\">\n<title>97&#45;&gt;99</title>\n<path fill=\"none\" stroke=\"#000000\" d=\"M1532.2293,-817.8796C1520.7805,-806.3337 1508.3497,-793.7976 1496.8938,-782.2446\"/>\n<polygon fill=\"#000000\" stroke=\"#000000\" points=\"1499.0531,-779.4514 1489.5266,-774.8149 1494.0825,-784.3802 1499.0531,-779.4514\"/>\n</g>\n<!-- 101 -->\n<g id=\"node102\" class=\"node\">\n<title>101</title>\n<path fill=\"#eeab7b\" stroke=\"#000000\" d=\"M1743,-901C1743,-901 1668,-901 1668,-901 1662,-901 1656,-895 1656,-889 1656,-889 1656,-830 1656,-830 1656,-824 1662,-818 1668,-818 1668,-818 1743,-818 1743,-818 1749,-818 1755,-824 1755,-830 1755,-830 1755,-889 1755,-889 1755,-895 1749,-901 1743,-901\"/>\n<text text-anchor=\"start\" x=\"1667\" y=\"-885.8\" font-family=\"Helvetica,sans-Serif\" font-size=\"14.00\" fill=\"#000000\">age ≤ 1.254</text>\n<text text-anchor=\"start\" x=\"1667.5\" y=\"-870.8\" font-family=\"Helvetica,sans-Serif\" font-size=\"14.00\" fill=\"#000000\">gini = 0.375</text>\n<text text-anchor=\"start\" x=\"1666\" y=\"-855.8\" font-family=\"Helvetica,sans-Serif\" font-size=\"14.00\" fill=\"#000000\">samples = 8</text>\n<text text-anchor=\"start\" x=\"1664\" y=\"-840.8\" font-family=\"Helvetica,sans-Serif\" font-size=\"14.00\" fill=\"#000000\">value = [6, 2]</text>\n<text text-anchor=\"start\" x=\"1679\" y=\"-825.8\" font-family=\"Helvetica,sans-Serif\" font-size=\"14.00\" fill=\"#000000\">class = l</text>\n</g>\n<!-- 100&#45;&gt;101 -->\n<g id=\"edge101\" class=\"edge\">\n<title>100&#45;&gt;101</title>\n<path fill=\"none\" stroke=\"#000000\" d=\"M1705.5,-936.8796C1705.5,-928.6838 1705.5,-919.9891 1705.5,-911.5013\"/>\n<polygon fill=\"#000000\" stroke=\"#000000\" points=\"1709.0001,-911.298 1705.5,-901.2981 1702.0001,-911.2981 1709.0001,-911.298\"/>\n</g>\n<!-- 110 -->\n<g id=\"node111\" class=\"node\">\n<title>110</title>\n<path fill=\"#d3e9f9\" stroke=\"#000000\" d=\"M1867.5,-901C1867.5,-901 1787.5,-901 1787.5,-901 1781.5,-901 1775.5,-895 1775.5,-889 1775.5,-889 1775.5,-830 1775.5,-830 1775.5,-824 1781.5,-818 1787.5,-818 1787.5,-818 1867.5,-818 1867.5,-818 1873.5,-818 1879.5,-824 1879.5,-830 1879.5,-830 1879.5,-889 1879.5,-889 1879.5,-895 1873.5,-901 1867.5,-901\"/>\n<text text-anchor=\"start\" x=\"1789\" y=\"-885.8\" font-family=\"Helvetica,sans-Serif\" font-size=\"14.00\" fill=\"#000000\">age ≤ 2.912</text>\n<text text-anchor=\"start\" x=\"1789.5\" y=\"-870.8\" font-family=\"Helvetica,sans-Serif\" font-size=\"14.00\" fill=\"#000000\">gini = 0.492</text>\n<text text-anchor=\"start\" x=\"1783.5\" y=\"-855.8\" font-family=\"Helvetica,sans-Serif\" font-size=\"14.00\" fill=\"#000000\">samples = 16</text>\n<text text-anchor=\"start\" x=\"1786\" y=\"-840.8\" font-family=\"Helvetica,sans-Serif\" font-size=\"14.00\" fill=\"#000000\">value = [7, 9]</text>\n<text text-anchor=\"start\" x=\"1798.5\" y=\"-825.8\" font-family=\"Helvetica,sans-Serif\" font-size=\"14.00\" fill=\"#000000\">class = o</text>\n</g>\n<!-- 100&#45;&gt;110 -->\n<g id=\"edge110\" class=\"edge\">\n<title>100&#45;&gt;110</title>\n<path fill=\"none\" stroke=\"#000000\" d=\"M1748.1697,-936.8796C1757.5877,-927.6931 1767.6484,-917.8798 1777.3328,-908.4336\"/>\n<polygon fill=\"#000000\" stroke=\"#000000\" points=\"1779.9335,-910.7861 1784.6482,-901.2981 1775.0457,-905.7751 1779.9335,-910.7861\"/>\n</g>\n<!-- 102 -->\n<g id=\"node103\" class=\"node\">\n<title>102</title>\n<path fill=\"#ffffff\" stroke=\"#000000\" d=\"M1626,-782C1626,-782 1535,-782 1535,-782 1529,-782 1523,-776 1523,-770 1523,-770 1523,-711 1523,-711 1523,-705 1529,-699 1535,-699 1535,-699 1626,-699 1626,-699 1632,-699 1638,-705 1638,-711 1638,-711 1638,-770 1638,-770 1638,-776 1632,-782 1626,-782\"/>\n<text text-anchor=\"start\" x=\"1531\" y=\"-766.8\" font-family=\"Helvetica,sans-Serif\" font-size=\"14.00\" fill=\"#000000\">college ≤ 0.128</text>\n<text text-anchor=\"start\" x=\"1551\" y=\"-751.8\" font-family=\"Helvetica,sans-Serif\" font-size=\"14.00\" fill=\"#000000\">gini = 0.5</text>\n<text text-anchor=\"start\" x=\"1541\" y=\"-736.8\" font-family=\"Helvetica,sans-Serif\" font-size=\"14.00\" fill=\"#000000\">samples = 2</text>\n<text text-anchor=\"start\" x=\"1539\" y=\"-721.8\" font-family=\"Helvetica,sans-Serif\" font-size=\"14.00\" fill=\"#000000\">value = [1, 1]</text>\n<text text-anchor=\"start\" x=\"1554\" y=\"-706.8\" font-family=\"Helvetica,sans-Serif\" font-size=\"14.00\" fill=\"#000000\">class = l</text>\n</g>\n<!-- 101&#45;&gt;102 -->\n<g id=\"edge102\" class=\"edge\">\n<title>101&#45;&gt;102</title>\n<path fill=\"none\" stroke=\"#000000\" d=\"M1661.7811,-817.8796C1652.1314,-808.6931 1641.8234,-798.8798 1631.9009,-789.4336\"/>\n<polygon fill=\"#000000\" stroke=\"#000000\" points=\"1634.0616,-786.6582 1624.4055,-782.2981 1629.235,-791.7282 1634.0616,-786.6582\"/>\n</g>\n<!-- 105 -->\n<g id=\"node106\" class=\"node\">\n<title>105</title>\n<path fill=\"#ea9a61\" stroke=\"#000000\" d=\"M1743,-782C1743,-782 1668,-782 1668,-782 1662,-782 1656,-776 1656,-770 1656,-770 1656,-711 1656,-711 1656,-705 1662,-699 1668,-699 1668,-699 1743,-699 1743,-699 1749,-699 1755,-705 1755,-711 1755,-711 1755,-770 1755,-770 1755,-776 1749,-782 1743,-782\"/>\n<text text-anchor=\"start\" x=\"1667\" y=\"-766.8\" font-family=\"Helvetica,sans-Serif\" font-size=\"14.00\" fill=\"#000000\">age ≤ 2.249</text>\n<text text-anchor=\"start\" x=\"1667.5\" y=\"-751.8\" font-family=\"Helvetica,sans-Serif\" font-size=\"14.00\" fill=\"#000000\">gini = 0.278</text>\n<text text-anchor=\"start\" x=\"1666\" y=\"-736.8\" font-family=\"Helvetica,sans-Serif\" font-size=\"14.00\" fill=\"#000000\">samples = 6</text>\n<text text-anchor=\"start\" x=\"1664\" y=\"-721.8\" font-family=\"Helvetica,sans-Serif\" font-size=\"14.00\" fill=\"#000000\">value = [5, 1]</text>\n<text text-anchor=\"start\" x=\"1679\" y=\"-706.8\" font-family=\"Helvetica,sans-Serif\" font-size=\"14.00\" fill=\"#000000\">class = l</text>\n</g>\n<!-- 101&#45;&gt;105 -->\n<g id=\"edge105\" class=\"edge\">\n<title>101&#45;&gt;105</title>\n<path fill=\"none\" stroke=\"#000000\" d=\"M1705.5,-817.8796C1705.5,-809.6838 1705.5,-800.9891 1705.5,-792.5013\"/>\n<polygon fill=\"#000000\" stroke=\"#000000\" points=\"1709.0001,-792.298 1705.5,-782.2981 1702.0001,-792.2981 1709.0001,-792.298\"/>\n</g>\n<!-- 103 -->\n<g id=\"node104\" class=\"node\">\n<title>103</title>\n<path fill=\"#399de5\" stroke=\"#000000\" d=\"M1392,-655.5C1392,-655.5 1317,-655.5 1317,-655.5 1311,-655.5 1305,-649.5 1305,-643.5 1305,-643.5 1305,-599.5 1305,-599.5 1305,-593.5 1311,-587.5 1317,-587.5 1317,-587.5 1392,-587.5 1392,-587.5 1398,-587.5 1404,-593.5 1404,-599.5 1404,-599.5 1404,-643.5 1404,-643.5 1404,-649.5 1398,-655.5 1392,-655.5\"/>\n<text text-anchor=\"start\" x=\"1325\" y=\"-640.3\" font-family=\"Helvetica,sans-Serif\" font-size=\"14.00\" fill=\"#000000\">gini = 0.0</text>\n<text text-anchor=\"start\" x=\"1315\" y=\"-625.3\" font-family=\"Helvetica,sans-Serif\" font-size=\"14.00\" fill=\"#000000\">samples = 1</text>\n<text text-anchor=\"start\" x=\"1313\" y=\"-610.3\" font-family=\"Helvetica,sans-Serif\" font-size=\"14.00\" fill=\"#000000\">value = [0, 1]</text>\n<text text-anchor=\"start\" x=\"1325.5\" y=\"-595.3\" font-family=\"Helvetica,sans-Serif\" font-size=\"14.00\" fill=\"#000000\">class = o</text>\n</g>\n<!-- 102&#45;&gt;103 -->\n<g id=\"edge103\" class=\"edge\">\n<title>102&#45;&gt;103</title>\n<path fill=\"none\" stroke=\"#000000\" d=\"M1522.8213,-703.7329C1519.7017,-702.0724 1516.5824,-700.4832 1513.5,-699 1470.5576,-678.3369 1454.7317,-685.0793 1412.5,-663 1411.1627,-662.3009 1409.8213,-661.5742 1408.4792,-660.8243\"/>\n<polygon fill=\"#000000\" stroke=\"#000000\" points=\"1410.0332,-657.6766 1399.6476,-655.5814 1406.4599,-663.6958 1410.0332,-657.6766\"/>\n</g>\n<!-- 104 -->\n<g id=\"node105\" class=\"node\">\n<title>104</title>\n<path fill=\"#e58139\" stroke=\"#000000\" d=\"M1509,-655.5C1509,-655.5 1434,-655.5 1434,-655.5 1428,-655.5 1422,-649.5 1422,-643.5 1422,-643.5 1422,-599.5 1422,-599.5 1422,-593.5 1428,-587.5 1434,-587.5 1434,-587.5 1509,-587.5 1509,-587.5 1515,-587.5 1521,-593.5 1521,-599.5 1521,-599.5 1521,-643.5 1521,-643.5 1521,-649.5 1515,-655.5 1509,-655.5\"/>\n<text text-anchor=\"start\" x=\"1442\" y=\"-640.3\" font-family=\"Helvetica,sans-Serif\" font-size=\"14.00\" fill=\"#000000\">gini = 0.0</text>\n<text text-anchor=\"start\" x=\"1432\" y=\"-625.3\" font-family=\"Helvetica,sans-Serif\" font-size=\"14.00\" fill=\"#000000\">samples = 1</text>\n<text text-anchor=\"start\" x=\"1430\" y=\"-610.3\" font-family=\"Helvetica,sans-Serif\" font-size=\"14.00\" fill=\"#000000\">value = [1, 0]</text>\n<text text-anchor=\"start\" x=\"1445\" y=\"-595.3\" font-family=\"Helvetica,sans-Serif\" font-size=\"14.00\" fill=\"#000000\">class = l</text>\n</g>\n<!-- 102&#45;&gt;104 -->\n<g id=\"edge104\" class=\"edge\">\n<title>102&#45;&gt;104</title>\n<path fill=\"none\" stroke=\"#000000\" d=\"M1542.3771,-698.8796C1531.8014,-687.3337 1520.3188,-674.7976 1509.7367,-663.2446\"/>\n<polygon fill=\"#000000\" stroke=\"#000000\" points=\"1512.2667,-660.825 1502.9313,-655.8149 1507.1049,-665.5531 1512.2667,-660.825\"/>\n</g>\n<!-- 106 -->\n<g id=\"node107\" class=\"node\">\n<title>106</title>\n<path fill=\"#e58139\" stroke=\"#000000\" d=\"M1626,-655.5C1626,-655.5 1551,-655.5 1551,-655.5 1545,-655.5 1539,-649.5 1539,-643.5 1539,-643.5 1539,-599.5 1539,-599.5 1539,-593.5 1545,-587.5 1551,-587.5 1551,-587.5 1626,-587.5 1626,-587.5 1632,-587.5 1638,-593.5 1638,-599.5 1638,-599.5 1638,-643.5 1638,-643.5 1638,-649.5 1632,-655.5 1626,-655.5\"/>\n<text text-anchor=\"start\" x=\"1559\" y=\"-640.3\" font-family=\"Helvetica,sans-Serif\" font-size=\"14.00\" fill=\"#000000\">gini = 0.0</text>\n<text text-anchor=\"start\" x=\"1549\" y=\"-625.3\" font-family=\"Helvetica,sans-Serif\" font-size=\"14.00\" fill=\"#000000\">samples = 4</text>\n<text text-anchor=\"start\" x=\"1547\" y=\"-610.3\" font-family=\"Helvetica,sans-Serif\" font-size=\"14.00\" fill=\"#000000\">value = [4, 0]</text>\n<text text-anchor=\"start\" x=\"1562\" y=\"-595.3\" font-family=\"Helvetica,sans-Serif\" font-size=\"14.00\" fill=\"#000000\">class = l</text>\n</g>\n<!-- 105&#45;&gt;106 -->\n<g id=\"edge106\" class=\"edge\">\n<title>105&#45;&gt;106</title>\n<path fill=\"none\" stroke=\"#000000\" d=\"M1664.5791,-698.8796C1653.2272,-687.3337 1640.9018,-674.7976 1629.543,-663.2446\"/>\n<polygon fill=\"#000000\" stroke=\"#000000\" points=\"1631.7449,-660.4919 1622.2382,-655.8149 1626.7534,-665.3995 1631.7449,-660.4919\"/>\n</g>\n<!-- 107 -->\n<g id=\"node108\" class=\"node\">\n<title>107</title>\n<path fill=\"#ffffff\" stroke=\"#000000\" d=\"M1743,-663C1743,-663 1668,-663 1668,-663 1662,-663 1656,-657 1656,-651 1656,-651 1656,-592 1656,-592 1656,-586 1662,-580 1668,-580 1668,-580 1743,-580 1743,-580 1749,-580 1755,-586 1755,-592 1755,-592 1755,-651 1755,-651 1755,-657 1749,-663 1743,-663\"/>\n<text text-anchor=\"start\" x=\"1667\" y=\"-647.8\" font-family=\"Helvetica,sans-Serif\" font-size=\"14.00\" fill=\"#000000\">age ≤ 2.829</text>\n<text text-anchor=\"start\" x=\"1676\" y=\"-632.8\" font-family=\"Helvetica,sans-Serif\" font-size=\"14.00\" fill=\"#000000\">gini = 0.5</text>\n<text text-anchor=\"start\" x=\"1666\" y=\"-617.8\" font-family=\"Helvetica,sans-Serif\" font-size=\"14.00\" fill=\"#000000\">samples = 2</text>\n<text text-anchor=\"start\" x=\"1664\" y=\"-602.8\" font-family=\"Helvetica,sans-Serif\" font-size=\"14.00\" fill=\"#000000\">value = [1, 1]</text>\n<text text-anchor=\"start\" x=\"1679\" y=\"-587.8\" font-family=\"Helvetica,sans-Serif\" font-size=\"14.00\" fill=\"#000000\">class = l</text>\n</g>\n<!-- 105&#45;&gt;107 -->\n<g id=\"edge107\" class=\"edge\">\n<title>105&#45;&gt;107</title>\n<path fill=\"none\" stroke=\"#000000\" d=\"M1705.5,-698.8796C1705.5,-690.6838 1705.5,-681.9891 1705.5,-673.5013\"/>\n<polygon fill=\"#000000\" stroke=\"#000000\" points=\"1709.0001,-673.298 1705.5,-663.2981 1702.0001,-673.2981 1709.0001,-673.298\"/>\n</g>\n<!-- 108 -->\n<g id=\"node109\" class=\"node\">\n<title>108</title>\n<path fill=\"#399de5\" stroke=\"#000000\" d=\"M1626,-536.5C1626,-536.5 1551,-536.5 1551,-536.5 1545,-536.5 1539,-530.5 1539,-524.5 1539,-524.5 1539,-480.5 1539,-480.5 1539,-474.5 1545,-468.5 1551,-468.5 1551,-468.5 1626,-468.5 1626,-468.5 1632,-468.5 1638,-474.5 1638,-480.5 1638,-480.5 1638,-524.5 1638,-524.5 1638,-530.5 1632,-536.5 1626,-536.5\"/>\n<text text-anchor=\"start\" x=\"1559\" y=\"-521.3\" font-family=\"Helvetica,sans-Serif\" font-size=\"14.00\" fill=\"#000000\">gini = 0.0</text>\n<text text-anchor=\"start\" x=\"1549\" y=\"-506.3\" font-family=\"Helvetica,sans-Serif\" font-size=\"14.00\" fill=\"#000000\">samples = 1</text>\n<text text-anchor=\"start\" x=\"1547\" y=\"-491.3\" font-family=\"Helvetica,sans-Serif\" font-size=\"14.00\" fill=\"#000000\">value = [0, 1]</text>\n<text text-anchor=\"start\" x=\"1559.5\" y=\"-476.3\" font-family=\"Helvetica,sans-Serif\" font-size=\"14.00\" fill=\"#000000\">class = o</text>\n</g>\n<!-- 107&#45;&gt;108 -->\n<g id=\"edge108\" class=\"edge\">\n<title>107&#45;&gt;108</title>\n<path fill=\"none\" stroke=\"#000000\" d=\"M1664.5791,-579.8796C1653.2272,-568.3337 1640.9018,-555.7976 1629.543,-544.2446\"/>\n<polygon fill=\"#000000\" stroke=\"#000000\" points=\"1631.7449,-541.4919 1622.2382,-536.8149 1626.7534,-546.3995 1631.7449,-541.4919\"/>\n</g>\n<!-- 109 -->\n<g id=\"node110\" class=\"node\">\n<title>109</title>\n<path fill=\"#e58139\" stroke=\"#000000\" d=\"M1743,-536.5C1743,-536.5 1668,-536.5 1668,-536.5 1662,-536.5 1656,-530.5 1656,-524.5 1656,-524.5 1656,-480.5 1656,-480.5 1656,-474.5 1662,-468.5 1668,-468.5 1668,-468.5 1743,-468.5 1743,-468.5 1749,-468.5 1755,-474.5 1755,-480.5 1755,-480.5 1755,-524.5 1755,-524.5 1755,-530.5 1749,-536.5 1743,-536.5\"/>\n<text text-anchor=\"start\" x=\"1676\" y=\"-521.3\" font-family=\"Helvetica,sans-Serif\" font-size=\"14.00\" fill=\"#000000\">gini = 0.0</text>\n<text text-anchor=\"start\" x=\"1666\" y=\"-506.3\" font-family=\"Helvetica,sans-Serif\" font-size=\"14.00\" fill=\"#000000\">samples = 1</text>\n<text text-anchor=\"start\" x=\"1664\" y=\"-491.3\" font-family=\"Helvetica,sans-Serif\" font-size=\"14.00\" fill=\"#000000\">value = [1, 0]</text>\n<text text-anchor=\"start\" x=\"1679\" y=\"-476.3\" font-family=\"Helvetica,sans-Serif\" font-size=\"14.00\" fill=\"#000000\">class = l</text>\n</g>\n<!-- 107&#45;&gt;109 -->\n<g id=\"edge109\" class=\"edge\">\n<title>107&#45;&gt;109</title>\n<path fill=\"none\" stroke=\"#000000\" d=\"M1705.5,-579.8796C1705.5,-569.2134 1705.5,-557.7021 1705.5,-546.9015\"/>\n<polygon fill=\"#000000\" stroke=\"#000000\" points=\"1709.0001,-546.8149 1705.5,-536.8149 1702.0001,-546.815 1709.0001,-546.8149\"/>\n</g>\n<!-- 111 -->\n<g id=\"node112\" class=\"node\">\n<title>111</title>\n<path fill=\"#e6f3fc\" stroke=\"#000000\" d=\"M1870.5,-782C1870.5,-782 1790.5,-782 1790.5,-782 1784.5,-782 1778.5,-776 1778.5,-770 1778.5,-770 1778.5,-711 1778.5,-711 1778.5,-705 1784.5,-699 1790.5,-699 1790.5,-699 1870.5,-699 1870.5,-699 1876.5,-699 1882.5,-705 1882.5,-711 1882.5,-711 1882.5,-770 1882.5,-770 1882.5,-776 1876.5,-782 1870.5,-782\"/>\n<text text-anchor=\"start\" x=\"1792\" y=\"-766.8\" font-family=\"Helvetica,sans-Serif\" font-size=\"14.00\" fill=\"#000000\">age ≤ 2.497</text>\n<text text-anchor=\"start\" x=\"1792.5\" y=\"-751.8\" font-family=\"Helvetica,sans-Serif\" font-size=\"14.00\" fill=\"#000000\">gini = 0.498</text>\n<text text-anchor=\"start\" x=\"1786.5\" y=\"-736.8\" font-family=\"Helvetica,sans-Serif\" font-size=\"14.00\" fill=\"#000000\">samples = 15</text>\n<text text-anchor=\"start\" x=\"1789\" y=\"-721.8\" font-family=\"Helvetica,sans-Serif\" font-size=\"14.00\" fill=\"#000000\">value = [7, 8]</text>\n<text text-anchor=\"start\" x=\"1801.5\" y=\"-706.8\" font-family=\"Helvetica,sans-Serif\" font-size=\"14.00\" fill=\"#000000\">class = o</text>\n</g>\n<!-- 110&#45;&gt;111 -->\n<g id=\"edge111\" class=\"edge\">\n<title>110&#45;&gt;111</title>\n<path fill=\"none\" stroke=\"#000000\" d=\"M1828.5493,-817.8796C1828.7559,-809.6838 1828.9751,-800.9891 1829.189,-792.5013\"/>\n<polygon fill=\"#000000\" stroke=\"#000000\" points=\"1832.693,-792.3831 1829.4463,-782.2981 1825.6953,-792.2067 1832.693,-792.3831\"/>\n</g>\n<!-- 130 -->\n<g id=\"node131\" class=\"node\">\n<title>130</title>\n<path fill=\"#399de5\" stroke=\"#000000\" d=\"M1988,-774.5C1988,-774.5 1913,-774.5 1913,-774.5 1907,-774.5 1901,-768.5 1901,-762.5 1901,-762.5 1901,-718.5 1901,-718.5 1901,-712.5 1907,-706.5 1913,-706.5 1913,-706.5 1988,-706.5 1988,-706.5 1994,-706.5 2000,-712.5 2000,-718.5 2000,-718.5 2000,-762.5 2000,-762.5 2000,-768.5 1994,-774.5 1988,-774.5\"/>\n<text text-anchor=\"start\" x=\"1921\" y=\"-759.3\" font-family=\"Helvetica,sans-Serif\" font-size=\"14.00\" fill=\"#000000\">gini = 0.0</text>\n<text text-anchor=\"start\" x=\"1911\" y=\"-744.3\" font-family=\"Helvetica,sans-Serif\" font-size=\"14.00\" fill=\"#000000\">samples = 1</text>\n<text text-anchor=\"start\" x=\"1909\" y=\"-729.3\" font-family=\"Helvetica,sans-Serif\" font-size=\"14.00\" fill=\"#000000\">value = [0, 1]</text>\n<text text-anchor=\"start\" x=\"1921.5\" y=\"-714.3\" font-family=\"Helvetica,sans-Serif\" font-size=\"14.00\" fill=\"#000000\">class = o</text>\n</g>\n<!-- 110&#45;&gt;130 -->\n<g id=\"edge130\" class=\"edge\">\n<title>110&#45;&gt;130</title>\n<path fill=\"none\" stroke=\"#000000\" d=\"M1870.5194,-817.8796C1882.5671,-806.2237 1895.6578,-793.5587 1907.6931,-781.9148\"/>\n<polygon fill=\"#000000\" stroke=\"#000000\" points=\"1910.2783,-784.2837 1915.0316,-774.8149 1905.411,-779.2528 1910.2783,-784.2837\"/>\n</g>\n<!-- 112 -->\n<g id=\"node113\" class=\"node\">\n<title>112</title>\n<path fill=\"#cee6f8\" stroke=\"#000000\" d=\"M1887.5,-663C1887.5,-663 1785.5,-663 1785.5,-663 1779.5,-663 1773.5,-657 1773.5,-651 1773.5,-651 1773.5,-592 1773.5,-592 1773.5,-586 1779.5,-580 1785.5,-580 1785.5,-580 1887.5,-580 1887.5,-580 1893.5,-580 1899.5,-586 1899.5,-592 1899.5,-592 1899.5,-651 1899.5,-651 1899.5,-657 1893.5,-663 1887.5,-663\"/>\n<text text-anchor=\"start\" x=\"1781.5\" y=\"-647.8\" font-family=\"Helvetica,sans-Serif\" font-size=\"14.00\" fill=\"#000000\">Bechalor ≤ 0.696</text>\n<text text-anchor=\"start\" x=\"1803\" y=\"-632.8\" font-family=\"Helvetica,sans-Serif\" font-size=\"14.00\" fill=\"#000000\">gini = 0.49</text>\n<text text-anchor=\"start\" x=\"1792.5\" y=\"-617.8\" font-family=\"Helvetica,sans-Serif\" font-size=\"14.00\" fill=\"#000000\">samples = 14</text>\n<text text-anchor=\"start\" x=\"1795\" y=\"-602.8\" font-family=\"Helvetica,sans-Serif\" font-size=\"14.00\" fill=\"#000000\">value = [6, 8]</text>\n<text text-anchor=\"start\" x=\"1807.5\" y=\"-587.8\" font-family=\"Helvetica,sans-Serif\" font-size=\"14.00\" fill=\"#000000\">class = o</text>\n</g>\n<!-- 111&#45;&gt;112 -->\n<g id=\"edge112\" class=\"edge\">\n<title>111&#45;&gt;112</title>\n<path fill=\"none\" stroke=\"#000000\" d=\"M1832.5985,-698.8796C1833.0117,-690.6838 1833.4501,-681.9891 1833.8781,-673.5013\"/>\n<polygon fill=\"#000000\" stroke=\"#000000\" points=\"1837.3844,-673.4617 1834.3925,-663.2981 1830.3933,-673.1091 1837.3844,-673.4617\"/>\n</g>\n<!-- 129 -->\n<g id=\"node130\" class=\"node\">\n<title>129</title>\n<path fill=\"#e58139\" stroke=\"#000000\" d=\"M2005,-655.5C2005,-655.5 1930,-655.5 1930,-655.5 1924,-655.5 1918,-649.5 1918,-643.5 1918,-643.5 1918,-599.5 1918,-599.5 1918,-593.5 1924,-587.5 1930,-587.5 1930,-587.5 2005,-587.5 2005,-587.5 2011,-587.5 2017,-593.5 2017,-599.5 2017,-599.5 2017,-643.5 2017,-643.5 2017,-649.5 2011,-655.5 2005,-655.5\"/>\n<text text-anchor=\"start\" x=\"1938\" y=\"-640.3\" font-family=\"Helvetica,sans-Serif\" font-size=\"14.00\" fill=\"#000000\">gini = 0.0</text>\n<text text-anchor=\"start\" x=\"1928\" y=\"-625.3\" font-family=\"Helvetica,sans-Serif\" font-size=\"14.00\" fill=\"#000000\">samples = 1</text>\n<text text-anchor=\"start\" x=\"1926\" y=\"-610.3\" font-family=\"Helvetica,sans-Serif\" font-size=\"14.00\" fill=\"#000000\">value = [1, 0]</text>\n<text text-anchor=\"start\" x=\"1941\" y=\"-595.3\" font-family=\"Helvetica,sans-Serif\" font-size=\"14.00\" fill=\"#000000\">class = l</text>\n</g>\n<!-- 111&#45;&gt;129 -->\n<g id=\"edge129\" class=\"edge\">\n<title>111&#45;&gt;129</title>\n<path fill=\"none\" stroke=\"#000000\" d=\"M1878.416,-698.8796C1891.9615,-687.1138 1906.6908,-674.3197 1920.1998,-662.5855\"/>\n<polygon fill=\"#000000\" stroke=\"#000000\" points=\"1922.7401,-665.015 1927.9946,-655.8149 1918.1497,-659.7303 1922.7401,-665.015\"/>\n</g>\n<!-- 113 -->\n<g id=\"node114\" class=\"node\">\n<title>113</title>\n<path fill=\"#f2c09c\" stroke=\"#000000\" d=\"M1860,-544C1860,-544 1785,-544 1785,-544 1779,-544 1773,-538 1773,-532 1773,-532 1773,-473 1773,-473 1773,-467 1779,-461 1785,-461 1785,-461 1860,-461 1860,-461 1866,-461 1872,-467 1872,-473 1872,-473 1872,-532 1872,-532 1872,-538 1866,-544 1860,-544\"/>\n<text text-anchor=\"start\" x=\"1788\" y=\"-528.8\" font-family=\"Helvetica,sans-Serif\" font-size=\"14.00\" fill=\"#000000\">age ≤ 1.42</text>\n<text text-anchor=\"start\" x=\"1784.5\" y=\"-513.8\" font-family=\"Helvetica,sans-Serif\" font-size=\"14.00\" fill=\"#000000\">gini = 0.444</text>\n<text text-anchor=\"start\" x=\"1783\" y=\"-498.8\" font-family=\"Helvetica,sans-Serif\" font-size=\"14.00\" fill=\"#000000\">samples = 3</text>\n<text text-anchor=\"start\" x=\"1781\" y=\"-483.8\" font-family=\"Helvetica,sans-Serif\" font-size=\"14.00\" fill=\"#000000\">value = [2, 1]</text>\n<text text-anchor=\"start\" x=\"1796\" y=\"-468.8\" font-family=\"Helvetica,sans-Serif\" font-size=\"14.00\" fill=\"#000000\">class = l</text>\n</g>\n<!-- 112&#45;&gt;113 -->\n<g id=\"edge113\" class=\"edge\">\n<title>112&#45;&gt;113</title>\n<path fill=\"none\" stroke=\"#000000\" d=\"M1831.6035,-579.8796C1830.6393,-571.6838 1829.6164,-562.9891 1828.6178,-554.5013\"/>\n<polygon fill=\"#000000\" stroke=\"#000000\" points=\"1832.0619,-553.8206 1827.4174,-544.2981 1825.1099,-554.6386 1832.0619,-553.8206\"/>\n</g>\n<!-- 116 -->\n<g id=\"node117\" class=\"node\">\n<title>116</title>\n<path fill=\"#aad5f4\" stroke=\"#000000\" d=\"M1993,-544C1993,-544 1902,-544 1902,-544 1896,-544 1890,-538 1890,-532 1890,-532 1890,-473 1890,-473 1890,-467 1896,-461 1902,-461 1902,-461 1993,-461 1993,-461 1999,-461 2005,-467 2005,-473 2005,-473 2005,-532 2005,-532 2005,-538 1999,-544 1993,-544\"/>\n<text text-anchor=\"start\" x=\"1898\" y=\"-528.8\" font-family=\"Helvetica,sans-Serif\" font-size=\"14.00\" fill=\"#000000\">college ≤ 0.128</text>\n<text text-anchor=\"start\" x=\"1909.5\" y=\"-513.8\" font-family=\"Helvetica,sans-Serif\" font-size=\"14.00\" fill=\"#000000\">gini = 0.463</text>\n<text text-anchor=\"start\" x=\"1903.5\" y=\"-498.8\" font-family=\"Helvetica,sans-Serif\" font-size=\"14.00\" fill=\"#000000\">samples = 11</text>\n<text text-anchor=\"start\" x=\"1906\" y=\"-483.8\" font-family=\"Helvetica,sans-Serif\" font-size=\"14.00\" fill=\"#000000\">value = [4, 7]</text>\n<text text-anchor=\"start\" x=\"1918.5\" y=\"-468.8\" font-family=\"Helvetica,sans-Serif\" font-size=\"14.00\" fill=\"#000000\">class = o</text>\n</g>\n<!-- 112&#45;&gt;116 -->\n<g id=\"edge116\" class=\"edge\">\n<title>112&#45;&gt;116</title>\n<path fill=\"none\" stroke=\"#000000\" d=\"M1875.3224,-579.8796C1883.8073,-570.7832 1892.8654,-561.0722 1901.5968,-551.7116\"/>\n<polygon fill=\"#000000\" stroke=\"#000000\" points=\"1904.2503,-553.9981 1908.5119,-544.2981 1899.1314,-549.2233 1904.2503,-553.9981\"/>\n</g>\n<!-- 114 -->\n<g id=\"node115\" class=\"node\">\n<title>114</title>\n<path fill=\"#e58139\" stroke=\"#000000\" d=\"M1744,-417.5C1744,-417.5 1669,-417.5 1669,-417.5 1663,-417.5 1657,-411.5 1657,-405.5 1657,-405.5 1657,-361.5 1657,-361.5 1657,-355.5 1663,-349.5 1669,-349.5 1669,-349.5 1744,-349.5 1744,-349.5 1750,-349.5 1756,-355.5 1756,-361.5 1756,-361.5 1756,-405.5 1756,-405.5 1756,-411.5 1750,-417.5 1744,-417.5\"/>\n<text text-anchor=\"start\" x=\"1677\" y=\"-402.3\" font-family=\"Helvetica,sans-Serif\" font-size=\"14.00\" fill=\"#000000\">gini = 0.0</text>\n<text text-anchor=\"start\" x=\"1667\" y=\"-387.3\" font-family=\"Helvetica,sans-Serif\" font-size=\"14.00\" fill=\"#000000\">samples = 1</text>\n<text text-anchor=\"start\" x=\"1665\" y=\"-372.3\" font-family=\"Helvetica,sans-Serif\" font-size=\"14.00\" fill=\"#000000\">value = [1, 0]</text>\n<text text-anchor=\"start\" x=\"1680\" y=\"-357.3\" font-family=\"Helvetica,sans-Serif\" font-size=\"14.00\" fill=\"#000000\">class = l</text>\n</g>\n<!-- 113&#45;&gt;114 -->\n<g id=\"edge114\" class=\"edge\">\n<title>113&#45;&gt;114</title>\n<path fill=\"none\" stroke=\"#000000\" d=\"M1781.9288,-460.8796C1770.674,-449.3337 1758.4539,-436.7976 1747.1922,-425.2446\"/>\n<polygon fill=\"#000000\" stroke=\"#000000\" points=\"1749.4364,-422.5326 1739.9499,-417.8149 1744.4238,-427.4188 1749.4364,-422.5326\"/>\n</g>\n<!-- 115 -->\n<g id=\"node116\" class=\"node\">\n<title>115</title>\n<path fill=\"#ffffff\" stroke=\"#000000\" d=\"M1861,-417.5C1861,-417.5 1786,-417.5 1786,-417.5 1780,-417.5 1774,-411.5 1774,-405.5 1774,-405.5 1774,-361.5 1774,-361.5 1774,-355.5 1780,-349.5 1786,-349.5 1786,-349.5 1861,-349.5 1861,-349.5 1867,-349.5 1873,-355.5 1873,-361.5 1873,-361.5 1873,-405.5 1873,-405.5 1873,-411.5 1867,-417.5 1861,-417.5\"/>\n<text text-anchor=\"start\" x=\"1794\" y=\"-402.3\" font-family=\"Helvetica,sans-Serif\" font-size=\"14.00\" fill=\"#000000\">gini = 0.5</text>\n<text text-anchor=\"start\" x=\"1784\" y=\"-387.3\" font-family=\"Helvetica,sans-Serif\" font-size=\"14.00\" fill=\"#000000\">samples = 2</text>\n<text text-anchor=\"start\" x=\"1782\" y=\"-372.3\" font-family=\"Helvetica,sans-Serif\" font-size=\"14.00\" fill=\"#000000\">value = [1, 1]</text>\n<text text-anchor=\"start\" x=\"1797\" y=\"-357.3\" font-family=\"Helvetica,sans-Serif\" font-size=\"14.00\" fill=\"#000000\">class = l</text>\n</g>\n<!-- 113&#45;&gt;115 -->\n<g id=\"edge115\" class=\"edge\">\n<title>113&#45;&gt;115</title>\n<path fill=\"none\" stroke=\"#000000\" d=\"M1822.8498,-460.8796C1822.9394,-450.2134 1823.0361,-438.7021 1823.1269,-427.9015\"/>\n<polygon fill=\"#000000\" stroke=\"#000000\" points=\"1826.6274,-427.844 1823.2116,-417.8149 1819.6276,-427.7851 1826.6274,-427.844\"/>\n</g>\n<!-- 117 -->\n<g id=\"node118\" class=\"node\">\n<title>117</title>\n<path fill=\"#ffffff\" stroke=\"#000000\" d=\"M1989,-425C1989,-425 1904,-425 1904,-425 1898,-425 1892,-419 1892,-413 1892,-413 1892,-354 1892,-354 1892,-348 1898,-342 1904,-342 1904,-342 1989,-342 1989,-342 1995,-342 2001,-348 2001,-354 2001,-354 2001,-413 2001,-413 2001,-419 1995,-425 1989,-425\"/>\n<text text-anchor=\"start\" x=\"1900\" y=\"-409.8\" font-family=\"Helvetica,sans-Serif\" font-size=\"14.00\" fill=\"#000000\">terms ≤ &#45;0.019</text>\n<text text-anchor=\"start\" x=\"1917\" y=\"-394.8\" font-family=\"Helvetica,sans-Serif\" font-size=\"14.00\" fill=\"#000000\">gini = 0.5</text>\n<text text-anchor=\"start\" x=\"1907\" y=\"-379.8\" font-family=\"Helvetica,sans-Serif\" font-size=\"14.00\" fill=\"#000000\">samples = 4</text>\n<text text-anchor=\"start\" x=\"1905\" y=\"-364.8\" font-family=\"Helvetica,sans-Serif\" font-size=\"14.00\" fill=\"#000000\">value = [2, 2]</text>\n<text text-anchor=\"start\" x=\"1920\" y=\"-349.8\" font-family=\"Helvetica,sans-Serif\" font-size=\"14.00\" fill=\"#000000\">class = l</text>\n</g>\n<!-- 116&#45;&gt;117 -->\n<g id=\"edge117\" class=\"edge\">\n<title>116&#45;&gt;117</title>\n<path fill=\"none\" stroke=\"#000000\" d=\"M1947.1502,-460.8796C1947.0814,-452.6838 1947.0083,-443.9891 1946.937,-435.5013\"/>\n<polygon fill=\"#000000\" stroke=\"#000000\" points=\"1950.4352,-435.2683 1946.8512,-425.2981 1943.4355,-435.3272 1950.4352,-435.2683\"/>\n</g>\n<!-- 122 -->\n<g id=\"node123\" class=\"node\">\n<title>122</title>\n<path fill=\"#88c4ef\" stroke=\"#000000\" d=\"M2106,-425C2106,-425 2031,-425 2031,-425 2025,-425 2019,-419 2019,-413 2019,-413 2019,-354 2019,-354 2019,-348 2025,-342 2031,-342 2031,-342 2106,-342 2106,-342 2112,-342 2118,-348 2118,-354 2118,-354 2118,-413 2118,-413 2118,-419 2112,-425 2106,-425\"/>\n<text text-anchor=\"start\" x=\"2030\" y=\"-409.8\" font-family=\"Helvetica,sans-Serif\" font-size=\"14.00\" fill=\"#000000\">age ≤ 1.171</text>\n<text text-anchor=\"start\" x=\"2030.5\" y=\"-394.8\" font-family=\"Helvetica,sans-Serif\" font-size=\"14.00\" fill=\"#000000\">gini = 0.408</text>\n<text text-anchor=\"start\" x=\"2029\" y=\"-379.8\" font-family=\"Helvetica,sans-Serif\" font-size=\"14.00\" fill=\"#000000\">samples = 7</text>\n<text text-anchor=\"start\" x=\"2027\" y=\"-364.8\" font-family=\"Helvetica,sans-Serif\" font-size=\"14.00\" fill=\"#000000\">value = [2, 5]</text>\n<text text-anchor=\"start\" x=\"2039.5\" y=\"-349.8\" font-family=\"Helvetica,sans-Serif\" font-size=\"14.00\" fill=\"#000000\">class = o</text>\n</g>\n<!-- 116&#45;&gt;122 -->\n<g id=\"edge122\" class=\"edge\">\n<title>116&#45;&gt;122</title>\n<path fill=\"none\" stroke=\"#000000\" d=\"M1989.8199,-460.8796C1999.1608,-451.6931 2009.139,-441.8798 2018.744,-432.4336\"/>\n<polygon fill=\"#000000\" stroke=\"#000000\" points=\"2021.3238,-434.8054 2025.9994,-425.2981 2016.4155,-429.8146 2021.3238,-434.8054\"/>\n</g>\n<!-- 118 -->\n<g id=\"node119\" class=\"node\">\n<title>118</title>\n<path fill=\"#399de5\" stroke=\"#000000\" d=\"M1867,-298.5C1867,-298.5 1792,-298.5 1792,-298.5 1786,-298.5 1780,-292.5 1780,-286.5 1780,-286.5 1780,-242.5 1780,-242.5 1780,-236.5 1786,-230.5 1792,-230.5 1792,-230.5 1867,-230.5 1867,-230.5 1873,-230.5 1879,-236.5 1879,-242.5 1879,-242.5 1879,-286.5 1879,-286.5 1879,-292.5 1873,-298.5 1867,-298.5\"/>\n<text text-anchor=\"start\" x=\"1800\" y=\"-283.3\" font-family=\"Helvetica,sans-Serif\" font-size=\"14.00\" fill=\"#000000\">gini = 0.0</text>\n<text text-anchor=\"start\" x=\"1790\" y=\"-268.3\" font-family=\"Helvetica,sans-Serif\" font-size=\"14.00\" fill=\"#000000\">samples = 1</text>\n<text text-anchor=\"start\" x=\"1788\" y=\"-253.3\" font-family=\"Helvetica,sans-Serif\" font-size=\"14.00\" fill=\"#000000\">value = [0, 1]</text>\n<text text-anchor=\"start\" x=\"1800.5\" y=\"-238.3\" font-family=\"Helvetica,sans-Serif\" font-size=\"14.00\" fill=\"#000000\">class = o</text>\n</g>\n<!-- 117&#45;&gt;118 -->\n<g id=\"edge118\" class=\"edge\">\n<title>117&#45;&gt;118</title>\n<path fill=\"none\" stroke=\"#000000\" d=\"M1905.5791,-341.8796C1894.2272,-330.3337 1881.9018,-317.7976 1870.543,-306.2446\"/>\n<polygon fill=\"#000000\" stroke=\"#000000\" points=\"1872.7449,-303.4919 1863.2382,-298.8149 1867.7534,-308.3995 1872.7449,-303.4919\"/>\n</g>\n<!-- 119 -->\n<g id=\"node120\" class=\"node\">\n<title>119</title>\n<path fill=\"#f2c09c\" stroke=\"#000000\" d=\"M1984,-306C1984,-306 1909,-306 1909,-306 1903,-306 1897,-300 1897,-294 1897,-294 1897,-235 1897,-235 1897,-229 1903,-223 1909,-223 1909,-223 1984,-223 1984,-223 1990,-223 1996,-229 1996,-235 1996,-235 1996,-294 1996,-294 1996,-300 1990,-306 1984,-306\"/>\n<text text-anchor=\"start\" x=\"1908\" y=\"-290.8\" font-family=\"Helvetica,sans-Serif\" font-size=\"14.00\" fill=\"#000000\">age ≤ 2.083</text>\n<text text-anchor=\"start\" x=\"1908.5\" y=\"-275.8\" font-family=\"Helvetica,sans-Serif\" font-size=\"14.00\" fill=\"#000000\">gini = 0.444</text>\n<text text-anchor=\"start\" x=\"1907\" y=\"-260.8\" font-family=\"Helvetica,sans-Serif\" font-size=\"14.00\" fill=\"#000000\">samples = 3</text>\n<text text-anchor=\"start\" x=\"1905\" y=\"-245.8\" font-family=\"Helvetica,sans-Serif\" font-size=\"14.00\" fill=\"#000000\">value = [2, 1]</text>\n<text text-anchor=\"start\" x=\"1920\" y=\"-230.8\" font-family=\"Helvetica,sans-Serif\" font-size=\"14.00\" fill=\"#000000\">class = l</text>\n</g>\n<!-- 117&#45;&gt;119 -->\n<g id=\"edge119\" class=\"edge\">\n<title>117&#45;&gt;119</title>\n<path fill=\"none\" stroke=\"#000000\" d=\"M1946.5,-341.8796C1946.5,-333.6838 1946.5,-324.9891 1946.5,-316.5013\"/>\n<polygon fill=\"#000000\" stroke=\"#000000\" points=\"1950.0001,-316.298 1946.5,-306.2981 1943.0001,-316.2981 1950.0001,-316.298\"/>\n</g>\n<!-- 120 -->\n<g id=\"node121\" class=\"node\">\n<title>120</title>\n<path fill=\"#e58139\" stroke=\"#000000\" d=\"M1867,-179.5C1867,-179.5 1792,-179.5 1792,-179.5 1786,-179.5 1780,-173.5 1780,-167.5 1780,-167.5 1780,-123.5 1780,-123.5 1780,-117.5 1786,-111.5 1792,-111.5 1792,-111.5 1867,-111.5 1867,-111.5 1873,-111.5 1879,-117.5 1879,-123.5 1879,-123.5 1879,-167.5 1879,-167.5 1879,-173.5 1873,-179.5 1867,-179.5\"/>\n<text text-anchor=\"start\" x=\"1800\" y=\"-164.3\" font-family=\"Helvetica,sans-Serif\" font-size=\"14.00\" fill=\"#000000\">gini = 0.0</text>\n<text text-anchor=\"start\" x=\"1790\" y=\"-149.3\" font-family=\"Helvetica,sans-Serif\" font-size=\"14.00\" fill=\"#000000\">samples = 2</text>\n<text text-anchor=\"start\" x=\"1788\" y=\"-134.3\" font-family=\"Helvetica,sans-Serif\" font-size=\"14.00\" fill=\"#000000\">value = [2, 0]</text>\n<text text-anchor=\"start\" x=\"1803\" y=\"-119.3\" font-family=\"Helvetica,sans-Serif\" font-size=\"14.00\" fill=\"#000000\">class = l</text>\n</g>\n<!-- 119&#45;&gt;120 -->\n<g id=\"edge120\" class=\"edge\">\n<title>119&#45;&gt;120</title>\n<path fill=\"none\" stroke=\"#000000\" d=\"M1905.5791,-222.8796C1894.2272,-211.3337 1881.9018,-198.7976 1870.543,-187.2446\"/>\n<polygon fill=\"#000000\" stroke=\"#000000\" points=\"1872.7449,-184.4919 1863.2382,-179.8149 1867.7534,-189.3995 1872.7449,-184.4919\"/>\n</g>\n<!-- 121 -->\n<g id=\"node122\" class=\"node\">\n<title>121</title>\n<path fill=\"#399de5\" stroke=\"#000000\" d=\"M1984,-179.5C1984,-179.5 1909,-179.5 1909,-179.5 1903,-179.5 1897,-173.5 1897,-167.5 1897,-167.5 1897,-123.5 1897,-123.5 1897,-117.5 1903,-111.5 1909,-111.5 1909,-111.5 1984,-111.5 1984,-111.5 1990,-111.5 1996,-117.5 1996,-123.5 1996,-123.5 1996,-167.5 1996,-167.5 1996,-173.5 1990,-179.5 1984,-179.5\"/>\n<text text-anchor=\"start\" x=\"1917\" y=\"-164.3\" font-family=\"Helvetica,sans-Serif\" font-size=\"14.00\" fill=\"#000000\">gini = 0.0</text>\n<text text-anchor=\"start\" x=\"1907\" y=\"-149.3\" font-family=\"Helvetica,sans-Serif\" font-size=\"14.00\" fill=\"#000000\">samples = 1</text>\n<text text-anchor=\"start\" x=\"1905\" y=\"-134.3\" font-family=\"Helvetica,sans-Serif\" font-size=\"14.00\" fill=\"#000000\">value = [0, 1]</text>\n<text text-anchor=\"start\" x=\"1917.5\" y=\"-119.3\" font-family=\"Helvetica,sans-Serif\" font-size=\"14.00\" fill=\"#000000\">class = o</text>\n</g>\n<!-- 119&#45;&gt;121 -->\n<g id=\"edge121\" class=\"edge\">\n<title>119&#45;&gt;121</title>\n<path fill=\"none\" stroke=\"#000000\" d=\"M1946.5,-222.8796C1946.5,-212.2134 1946.5,-200.7021 1946.5,-189.9015\"/>\n<polygon fill=\"#000000\" stroke=\"#000000\" points=\"1950.0001,-189.8149 1946.5,-179.8149 1943.0001,-189.815 1950.0001,-189.8149\"/>\n</g>\n<!-- 123 -->\n<g id=\"node124\" class=\"node\">\n<title>123</title>\n<path fill=\"#ffffff\" stroke=\"#000000\" d=\"M2104,-298.5C2104,-298.5 2029,-298.5 2029,-298.5 2023,-298.5 2017,-292.5 2017,-286.5 2017,-286.5 2017,-242.5 2017,-242.5 2017,-236.5 2023,-230.5 2029,-230.5 2029,-230.5 2104,-230.5 2104,-230.5 2110,-230.5 2116,-236.5 2116,-242.5 2116,-242.5 2116,-286.5 2116,-286.5 2116,-292.5 2110,-298.5 2104,-298.5\"/>\n<text text-anchor=\"start\" x=\"2037\" y=\"-283.3\" font-family=\"Helvetica,sans-Serif\" font-size=\"14.00\" fill=\"#000000\">gini = 0.5</text>\n<text text-anchor=\"start\" x=\"2027\" y=\"-268.3\" font-family=\"Helvetica,sans-Serif\" font-size=\"14.00\" fill=\"#000000\">samples = 2</text>\n<text text-anchor=\"start\" x=\"2025\" y=\"-253.3\" font-family=\"Helvetica,sans-Serif\" font-size=\"14.00\" fill=\"#000000\">value = [1, 1]</text>\n<text text-anchor=\"start\" x=\"2040\" y=\"-238.3\" font-family=\"Helvetica,sans-Serif\" font-size=\"14.00\" fill=\"#000000\">class = l</text>\n</g>\n<!-- 122&#45;&gt;123 -->\n<g id=\"edge123\" class=\"edge\">\n<title>122&#45;&gt;123</title>\n<path fill=\"none\" stroke=\"#000000\" d=\"M2067.8005,-341.8796C2067.6212,-331.2134 2067.4278,-319.7021 2067.2462,-308.9015\"/>\n<polygon fill=\"#000000\" stroke=\"#000000\" points=\"2070.7444,-308.7547 2067.0767,-298.8149 2063.7454,-308.8724 2070.7444,-308.7547\"/>\n</g>\n<!-- 124 -->\n<g id=\"node125\" class=\"node\">\n<title>124</title>\n<path fill=\"#6ab6ec\" stroke=\"#000000\" d=\"M2221,-306C2221,-306 2146,-306 2146,-306 2140,-306 2134,-300 2134,-294 2134,-294 2134,-235 2134,-235 2134,-229 2140,-223 2146,-223 2146,-223 2221,-223 2221,-223 2227,-223 2233,-229 2233,-235 2233,-235 2233,-294 2233,-294 2233,-300 2227,-306 2221,-306\"/>\n<text text-anchor=\"start\" x=\"2153\" y=\"-290.8\" font-family=\"Helvetica,sans-Serif\" font-size=\"14.00\" fill=\"#000000\">age ≤ 2.0</text>\n<text text-anchor=\"start\" x=\"2150\" y=\"-275.8\" font-family=\"Helvetica,sans-Serif\" font-size=\"14.00\" fill=\"#000000\">gini = 0.32</text>\n<text text-anchor=\"start\" x=\"2144\" y=\"-260.8\" font-family=\"Helvetica,sans-Serif\" font-size=\"14.00\" fill=\"#000000\">samples = 5</text>\n<text text-anchor=\"start\" x=\"2142\" y=\"-245.8\" font-family=\"Helvetica,sans-Serif\" font-size=\"14.00\" fill=\"#000000\">value = [1, 4]</text>\n<text text-anchor=\"start\" x=\"2154.5\" y=\"-230.8\" font-family=\"Helvetica,sans-Serif\" font-size=\"14.00\" fill=\"#000000\">class = o</text>\n</g>\n<!-- 122&#45;&gt;124 -->\n<g id=\"edge124\" class=\"edge\">\n<title>122&#45;&gt;124</title>\n<path fill=\"none\" stroke=\"#000000\" d=\"M2108.7214,-341.8796C2117.512,-332.7832 2126.8966,-323.0722 2135.9426,-313.7116\"/>\n<polygon fill=\"#000000\" stroke=\"#000000\" points=\"2138.6745,-315.9212 2143.1069,-306.2981 2133.6409,-311.0568 2138.6745,-315.9212\"/>\n</g>\n<!-- 125 -->\n<g id=\"node126\" class=\"node\">\n<title>125</title>\n<path fill=\"#399de5\" stroke=\"#000000\" d=\"M2101,-179.5C2101,-179.5 2026,-179.5 2026,-179.5 2020,-179.5 2014,-173.5 2014,-167.5 2014,-167.5 2014,-123.5 2014,-123.5 2014,-117.5 2020,-111.5 2026,-111.5 2026,-111.5 2101,-111.5 2101,-111.5 2107,-111.5 2113,-117.5 2113,-123.5 2113,-123.5 2113,-167.5 2113,-167.5 2113,-173.5 2107,-179.5 2101,-179.5\"/>\n<text text-anchor=\"start\" x=\"2034\" y=\"-164.3\" font-family=\"Helvetica,sans-Serif\" font-size=\"14.00\" fill=\"#000000\">gini = 0.0</text>\n<text text-anchor=\"start\" x=\"2024\" y=\"-149.3\" font-family=\"Helvetica,sans-Serif\" font-size=\"14.00\" fill=\"#000000\">samples = 3</text>\n<text text-anchor=\"start\" x=\"2022\" y=\"-134.3\" font-family=\"Helvetica,sans-Serif\" font-size=\"14.00\" fill=\"#000000\">value = [0, 3]</text>\n<text text-anchor=\"start\" x=\"2034.5\" y=\"-119.3\" font-family=\"Helvetica,sans-Serif\" font-size=\"14.00\" fill=\"#000000\">class = o</text>\n</g>\n<!-- 124&#45;&gt;125 -->\n<g id=\"edge125\" class=\"edge\">\n<title>124&#45;&gt;125</title>\n<path fill=\"none\" stroke=\"#000000\" d=\"M2141.5298,-222.8796C2129.776,-211.2237 2117.0046,-198.5587 2105.2628,-186.9148\"/>\n<polygon fill=\"#000000\" stroke=\"#000000\" points=\"2107.6684,-184.3712 2098.1033,-179.8149 2102.7394,-189.3416 2107.6684,-184.3712\"/>\n</g>\n<!-- 126 -->\n<g id=\"node127\" class=\"node\">\n<title>126</title>\n<path fill=\"#ffffff\" stroke=\"#000000\" d=\"M2228,-187C2228,-187 2143,-187 2143,-187 2137,-187 2131,-181 2131,-175 2131,-175 2131,-116 2131,-116 2131,-110 2137,-104 2143,-104 2143,-104 2228,-104 2228,-104 2234,-104 2240,-110 2240,-116 2240,-116 2240,-175 2240,-175 2240,-181 2234,-187 2228,-187\"/>\n<text text-anchor=\"start\" x=\"2139\" y=\"-171.8\" font-family=\"Helvetica,sans-Serif\" font-size=\"14.00\" fill=\"#000000\">terms ≤ &#45;0.019</text>\n<text text-anchor=\"start\" x=\"2156\" y=\"-156.8\" font-family=\"Helvetica,sans-Serif\" font-size=\"14.00\" fill=\"#000000\">gini = 0.5</text>\n<text text-anchor=\"start\" x=\"2146\" y=\"-141.8\" font-family=\"Helvetica,sans-Serif\" font-size=\"14.00\" fill=\"#000000\">samples = 2</text>\n<text text-anchor=\"start\" x=\"2144\" y=\"-126.8\" font-family=\"Helvetica,sans-Serif\" font-size=\"14.00\" fill=\"#000000\">value = [1, 1]</text>\n<text text-anchor=\"start\" x=\"2159\" y=\"-111.8\" font-family=\"Helvetica,sans-Serif\" font-size=\"14.00\" fill=\"#000000\">class = l</text>\n</g>\n<!-- 124&#45;&gt;126 -->\n<g id=\"edge126\" class=\"edge\">\n<title>124&#45;&gt;126</title>\n<path fill=\"none\" stroke=\"#000000\" d=\"M2184.1995,-222.8796C2184.3372,-214.6838 2184.4834,-205.9891 2184.626,-197.5013\"/>\n<polygon fill=\"#000000\" stroke=\"#000000\" points=\"2188.1289,-197.3555 2184.7975,-187.2981 2181.1299,-197.2378 2188.1289,-197.3555\"/>\n</g>\n<!-- 127 -->\n<g id=\"node128\" class=\"node\">\n<title>127</title>\n<path fill=\"#e58139\" stroke=\"#000000\" d=\"M2165,-68C2165,-68 2090,-68 2090,-68 2084,-68 2078,-62 2078,-56 2078,-56 2078,-12 2078,-12 2078,-6 2084,0 2090,0 2090,0 2165,0 2165,0 2171,0 2177,-6 2177,-12 2177,-12 2177,-56 2177,-56 2177,-62 2171,-68 2165,-68\"/>\n<text text-anchor=\"start\" x=\"2098\" y=\"-52.8\" font-family=\"Helvetica,sans-Serif\" font-size=\"14.00\" fill=\"#000000\">gini = 0.0</text>\n<text text-anchor=\"start\" x=\"2088\" y=\"-37.8\" font-family=\"Helvetica,sans-Serif\" font-size=\"14.00\" fill=\"#000000\">samples = 1</text>\n<text text-anchor=\"start\" x=\"2086\" y=\"-22.8\" font-family=\"Helvetica,sans-Serif\" font-size=\"14.00\" fill=\"#000000\">value = [1, 0]</text>\n<text text-anchor=\"start\" x=\"2101\" y=\"-7.8\" font-family=\"Helvetica,sans-Serif\" font-size=\"14.00\" fill=\"#000000\">class = l</text>\n</g>\n<!-- 126&#45;&gt;127 -->\n<g id=\"edge127\" class=\"edge\">\n<title>126&#45;&gt;127</title>\n<path fill=\"none\" stroke=\"#000000\" d=\"M2163.9029,-103.9815C2159.3612,-95.2504 2154.5598,-86.0202 2149.9863,-77.2281\"/>\n<polygon fill=\"#000000\" stroke=\"#000000\" points=\"2153.0431,-75.52 2145.3233,-68.2637 2146.8331,-78.7504 2153.0431,-75.52\"/>\n</g>\n<!-- 128 -->\n<g id=\"node129\" class=\"node\">\n<title>128</title>\n<path fill=\"#399de5\" stroke=\"#000000\" d=\"M2282,-68C2282,-68 2207,-68 2207,-68 2201,-68 2195,-62 2195,-56 2195,-56 2195,-12 2195,-12 2195,-6 2201,0 2207,0 2207,0 2282,0 2282,0 2288,0 2294,-6 2294,-12 2294,-12 2294,-56 2294,-56 2294,-62 2288,-68 2282,-68\"/>\n<text text-anchor=\"start\" x=\"2215\" y=\"-52.8\" font-family=\"Helvetica,sans-Serif\" font-size=\"14.00\" fill=\"#000000\">gini = 0.0</text>\n<text text-anchor=\"start\" x=\"2205\" y=\"-37.8\" font-family=\"Helvetica,sans-Serif\" font-size=\"14.00\" fill=\"#000000\">samples = 1</text>\n<text text-anchor=\"start\" x=\"2203\" y=\"-22.8\" font-family=\"Helvetica,sans-Serif\" font-size=\"14.00\" fill=\"#000000\">value = [0, 1]</text>\n<text text-anchor=\"start\" x=\"2215.5\" y=\"-7.8\" font-family=\"Helvetica,sans-Serif\" font-size=\"14.00\" fill=\"#000000\">class = o</text>\n</g>\n<!-- 126&#45;&gt;128 -->\n<g id=\"edge128\" class=\"edge\">\n<title>126&#45;&gt;128</title>\n<path fill=\"none\" stroke=\"#000000\" d=\"M2207.4694,-103.9815C2212.0895,-95.2504 2216.9736,-86.0202 2221.626,-77.2281\"/>\n<polygon fill=\"#000000\" stroke=\"#000000\" points=\"2224.7859,-78.7395 2226.3694,-68.2637 2218.5987,-75.4655 2224.7859,-78.7395\"/>\n</g>\n<!-- 132 -->\n<g id=\"node133\" class=\"node\">\n<title>132</title>\n<path fill=\"#f7dbc6\" stroke=\"#000000\" d=\"M1934.5,-1496C1934.5,-1496 1834.5,-1496 1834.5,-1496 1828.5,-1496 1822.5,-1490 1822.5,-1484 1822.5,-1484 1822.5,-1425 1822.5,-1425 1822.5,-1419 1828.5,-1413 1834.5,-1413 1834.5,-1413 1934.5,-1413 1934.5,-1413 1940.5,-1413 1946.5,-1419 1946.5,-1425 1946.5,-1425 1946.5,-1484 1946.5,-1484 1946.5,-1490 1940.5,-1496 1934.5,-1496\"/>\n<text text-anchor=\"start\" x=\"1830.5\" y=\"-1480.8\" font-family=\"Helvetica,sans-Serif\" font-size=\"14.00\" fill=\"#000000\">Principal ≤ 0.058</text>\n<text text-anchor=\"start\" x=\"1846.5\" y=\"-1465.8\" font-family=\"Helvetica,sans-Serif\" font-size=\"14.00\" fill=\"#000000\">gini = 0.486</text>\n<text text-anchor=\"start\" x=\"1840.5\" y=\"-1450.8\" font-family=\"Helvetica,sans-Serif\" font-size=\"14.00\" fill=\"#000000\">samples = 65</text>\n<text text-anchor=\"start\" x=\"1834.5\" y=\"-1435.8\" font-family=\"Helvetica,sans-Serif\" font-size=\"14.00\" fill=\"#000000\">value = [38, 27]</text>\n<text text-anchor=\"start\" x=\"1858\" y=\"-1420.8\" font-family=\"Helvetica,sans-Serif\" font-size=\"14.00\" fill=\"#000000\">class = l</text>\n</g>\n<!-- 131&#45;&gt;132 -->\n<g id=\"edge132\" class=\"edge\">\n<title>131&#45;&gt;132</title>\n<path fill=\"none\" stroke=\"#000000\" d=\"M1884.5,-1531.8796C1884.5,-1523.6838 1884.5,-1514.9891 1884.5,-1506.5013\"/>\n<polygon fill=\"#000000\" stroke=\"#000000\" points=\"1888.0001,-1506.298 1884.5,-1496.2981 1881.0001,-1506.2981 1888.0001,-1506.298\"/>\n</g>\n<!-- 187 -->\n<g id=\"node188\" class=\"node\">\n<title>187</title>\n<path fill=\"#ea9a61\" stroke=\"#000000\" d=\"M2308.5,-1496C2308.5,-1496 2206.5,-1496 2206.5,-1496 2200.5,-1496 2194.5,-1490 2194.5,-1484 2194.5,-1484 2194.5,-1425 2194.5,-1425 2194.5,-1419 2200.5,-1413 2206.5,-1413 2206.5,-1413 2308.5,-1413 2308.5,-1413 2314.5,-1413 2320.5,-1419 2320.5,-1425 2320.5,-1425 2320.5,-1484 2320.5,-1484 2320.5,-1490 2314.5,-1496 2308.5,-1496\"/>\n<text text-anchor=\"start\" x=\"2202.5\" y=\"-1480.8\" font-family=\"Helvetica,sans-Serif\" font-size=\"14.00\" fill=\"#000000\">Bechalor ≤ 0.696</text>\n<text text-anchor=\"start\" x=\"2219.5\" y=\"-1465.8\" font-family=\"Helvetica,sans-Serif\" font-size=\"14.00\" fill=\"#000000\">gini = 0.278</text>\n<text text-anchor=\"start\" x=\"2213.5\" y=\"-1450.8\" font-family=\"Helvetica,sans-Serif\" font-size=\"14.00\" fill=\"#000000\">samples = 12</text>\n<text text-anchor=\"start\" x=\"2212\" y=\"-1435.8\" font-family=\"Helvetica,sans-Serif\" font-size=\"14.00\" fill=\"#000000\">value = [10, 2]</text>\n<text text-anchor=\"start\" x=\"2231\" y=\"-1420.8\" font-family=\"Helvetica,sans-Serif\" font-size=\"14.00\" fill=\"#000000\">class = l</text>\n</g>\n<!-- 131&#45;&gt;187 -->\n<g id=\"edge187\" class=\"edge\">\n<title>131&#45;&gt;187</title>\n<path fill=\"none\" stroke=\"#000000\" d=\"M1942.7813,-1554.9063C2008.0441,-1534.0851 2113.9074,-1500.311 2184.5978,-1477.7583\"/>\n<polygon fill=\"#000000\" stroke=\"#000000\" points=\"2185.8681,-1481.027 2194.3312,-1474.6531 2183.7404,-1474.3581 2185.8681,-1481.027\"/>\n</g>\n<!-- 133 -->\n<g id=\"node134\" class=\"node\">\n<title>133</title>\n<path fill=\"#eeaf81\" stroke=\"#000000\" d=\"M1866.5,-1377C1866.5,-1377 1764.5,-1377 1764.5,-1377 1758.5,-1377 1752.5,-1371 1752.5,-1365 1752.5,-1365 1752.5,-1306 1752.5,-1306 1752.5,-1300 1758.5,-1294 1764.5,-1294 1764.5,-1294 1866.5,-1294 1866.5,-1294 1872.5,-1294 1878.5,-1300 1878.5,-1306 1878.5,-1306 1878.5,-1365 1878.5,-1365 1878.5,-1371 1872.5,-1377 1866.5,-1377\"/>\n<text text-anchor=\"start\" x=\"1760.5\" y=\"-1361.8\" font-family=\"Helvetica,sans-Serif\" font-size=\"14.00\" fill=\"#000000\">Bechalor ≤ 0.313</text>\n<text text-anchor=\"start\" x=\"1777.5\" y=\"-1346.8\" font-family=\"Helvetica,sans-Serif\" font-size=\"14.00\" fill=\"#000000\">gini = 0.391</text>\n<text text-anchor=\"start\" x=\"1771.5\" y=\"-1331.8\" font-family=\"Helvetica,sans-Serif\" font-size=\"14.00\" fill=\"#000000\">samples = 15</text>\n<text text-anchor=\"start\" x=\"1770\" y=\"-1316.8\" font-family=\"Helvetica,sans-Serif\" font-size=\"14.00\" fill=\"#000000\">value = [11, 4]</text>\n<text text-anchor=\"start\" x=\"1789\" y=\"-1301.8\" font-family=\"Helvetica,sans-Serif\" font-size=\"14.00\" fill=\"#000000\">class = l</text>\n</g>\n<!-- 132&#45;&gt;133 -->\n<g id=\"edge133\" class=\"edge\">\n<title>132&#45;&gt;133</title>\n<path fill=\"none\" stroke=\"#000000\" d=\"M1860.3671,-1412.8796C1855.3539,-1404.2335 1850.0187,-1395.0322 1844.8419,-1386.1042\"/>\n<polygon fill=\"#000000\" stroke=\"#000000\" points=\"1847.7798,-1384.1934 1839.7359,-1377.2981 1841.7242,-1387.7047 1847.7798,-1384.1934\"/>\n</g>\n<!-- 142 -->\n<g id=\"node143\" class=\"node\">\n<title>142</title>\n<path fill=\"#fbece2\" stroke=\"#000000\" d=\"M2000.5,-1377C2000.5,-1377 1908.5,-1377 1908.5,-1377 1902.5,-1377 1896.5,-1371 1896.5,-1365 1896.5,-1365 1896.5,-1306 1896.5,-1306 1896.5,-1300 1902.5,-1294 1908.5,-1294 1908.5,-1294 2000.5,-1294 2000.5,-1294 2006.5,-1294 2012.5,-1300 2012.5,-1306 2012.5,-1306 2012.5,-1365 2012.5,-1365 2012.5,-1371 2006.5,-1377 2000.5,-1377\"/>\n<text text-anchor=\"start\" x=\"1918\" y=\"-1361.8\" font-family=\"Helvetica,sans-Serif\" font-size=\"14.00\" fill=\"#000000\">age ≤ &#45;1.98</text>\n<text text-anchor=\"start\" x=\"1916.5\" y=\"-1346.8\" font-family=\"Helvetica,sans-Serif\" font-size=\"14.00\" fill=\"#000000\">gini = 0.497</text>\n<text text-anchor=\"start\" x=\"1910.5\" y=\"-1331.8\" font-family=\"Helvetica,sans-Serif\" font-size=\"14.00\" fill=\"#000000\">samples = 50</text>\n<text text-anchor=\"start\" x=\"1904.5\" y=\"-1316.8\" font-family=\"Helvetica,sans-Serif\" font-size=\"14.00\" fill=\"#000000\">value = [27, 23]</text>\n<text text-anchor=\"start\" x=\"1928\" y=\"-1301.8\" font-family=\"Helvetica,sans-Serif\" font-size=\"14.00\" fill=\"#000000\">class = l</text>\n</g>\n<!-- 132&#45;&gt;142 -->\n<g id=\"edge142\" class=\"edge\">\n<title>132&#45;&gt;142</title>\n<path fill=\"none\" stroke=\"#000000\" d=\"M1908.9826,-1412.8796C1914.0685,-1404.2335 1919.4811,-1395.0322 1924.7328,-1386.1042\"/>\n<polygon fill=\"#000000\" stroke=\"#000000\" points=\"1927.8594,-1387.692 1929.9129,-1377.2981 1921.8259,-1384.1428 1927.8594,-1387.692\"/>\n</g>\n<!-- 134 -->\n<g id=\"node135\" class=\"node\">\n<title>134</title>\n<path fill=\"#399de5\" stroke=\"#000000\" d=\"M1737,-1250.5C1737,-1250.5 1662,-1250.5 1662,-1250.5 1656,-1250.5 1650,-1244.5 1650,-1238.5 1650,-1238.5 1650,-1194.5 1650,-1194.5 1650,-1188.5 1656,-1182.5 1662,-1182.5 1662,-1182.5 1737,-1182.5 1737,-1182.5 1743,-1182.5 1749,-1188.5 1749,-1194.5 1749,-1194.5 1749,-1238.5 1749,-1238.5 1749,-1244.5 1743,-1250.5 1737,-1250.5\"/>\n<text text-anchor=\"start\" x=\"1670\" y=\"-1235.3\" font-family=\"Helvetica,sans-Serif\" font-size=\"14.00\" fill=\"#000000\">gini = 0.0</text>\n<text text-anchor=\"start\" x=\"1660\" y=\"-1220.3\" font-family=\"Helvetica,sans-Serif\" font-size=\"14.00\" fill=\"#000000\">samples = 1</text>\n<text text-anchor=\"start\" x=\"1658\" y=\"-1205.3\" font-family=\"Helvetica,sans-Serif\" font-size=\"14.00\" fill=\"#000000\">value = [0, 1]</text>\n<text text-anchor=\"start\" x=\"1670.5\" y=\"-1190.3\" font-family=\"Helvetica,sans-Serif\" font-size=\"14.00\" fill=\"#000000\">class = o</text>\n</g>\n<!-- 133&#45;&gt;134 -->\n<g id=\"edge134\" class=\"edge\">\n<title>133&#45;&gt;134</title>\n<path fill=\"none\" stroke=\"#000000\" d=\"M1774.9288,-1293.8796C1763.674,-1282.3337 1751.4539,-1269.7976 1740.1922,-1258.2446\"/>\n<polygon fill=\"#000000\" stroke=\"#000000\" points=\"1742.4364,-1255.5326 1732.9499,-1250.8149 1737.4238,-1260.4188 1742.4364,-1255.5326\"/>\n</g>\n<!-- 135 -->\n<g id=\"node136\" class=\"node\">\n<title>135</title>\n<path fill=\"#eca36f\" stroke=\"#000000\" d=\"M1862,-1258C1862,-1258 1779,-1258 1779,-1258 1773,-1258 1767,-1252 1767,-1246 1767,-1246 1767,-1187 1767,-1187 1767,-1181 1773,-1175 1779,-1175 1779,-1175 1862,-1175 1862,-1175 1868,-1175 1874,-1181 1874,-1187 1874,-1187 1874,-1246 1874,-1246 1874,-1252 1868,-1258 1862,-1258\"/>\n<text text-anchor=\"start\" x=\"1779.5\" y=\"-1242.8\" font-family=\"Helvetica,sans-Serif\" font-size=\"14.00\" fill=\"#000000\">age ≤ &#45;1.316</text>\n<text text-anchor=\"start\" x=\"1782.5\" y=\"-1227.8\" font-family=\"Helvetica,sans-Serif\" font-size=\"14.00\" fill=\"#000000\">gini = 0.337</text>\n<text text-anchor=\"start\" x=\"1776.5\" y=\"-1212.8\" font-family=\"Helvetica,sans-Serif\" font-size=\"14.00\" fill=\"#000000\">samples = 14</text>\n<text text-anchor=\"start\" x=\"1775\" y=\"-1197.8\" font-family=\"Helvetica,sans-Serif\" font-size=\"14.00\" fill=\"#000000\">value = [11, 3]</text>\n<text text-anchor=\"start\" x=\"1794\" y=\"-1182.8\" font-family=\"Helvetica,sans-Serif\" font-size=\"14.00\" fill=\"#000000\">class = l</text>\n</g>\n<!-- 133&#45;&gt;135 -->\n<g id=\"edge135\" class=\"edge\">\n<title>133&#45;&gt;135</title>\n<path fill=\"none\" stroke=\"#000000\" d=\"M1817.2488,-1293.8796C1817.5931,-1285.6838 1817.9584,-1276.9891 1818.3151,-1268.5013\"/>\n<polygon fill=\"#000000\" stroke=\"#000000\" points=\"1821.8208,-1268.4362 1818.7438,-1258.2981 1814.827,-1268.1423 1821.8208,-1268.4362\"/>\n</g>\n<!-- 136 -->\n<g id=\"node137\" class=\"node\">\n<title>136</title>\n<path fill=\"#399de5\" stroke=\"#000000\" d=\"M1854,-1131.5C1854,-1131.5 1779,-1131.5 1779,-1131.5 1773,-1131.5 1767,-1125.5 1767,-1119.5 1767,-1119.5 1767,-1075.5 1767,-1075.5 1767,-1069.5 1773,-1063.5 1779,-1063.5 1779,-1063.5 1854,-1063.5 1854,-1063.5 1860,-1063.5 1866,-1069.5 1866,-1075.5 1866,-1075.5 1866,-1119.5 1866,-1119.5 1866,-1125.5 1860,-1131.5 1854,-1131.5\"/>\n<text text-anchor=\"start\" x=\"1787\" y=\"-1116.3\" font-family=\"Helvetica,sans-Serif\" font-size=\"14.00\" fill=\"#000000\">gini = 0.0</text>\n<text text-anchor=\"start\" x=\"1777\" y=\"-1101.3\" font-family=\"Helvetica,sans-Serif\" font-size=\"14.00\" fill=\"#000000\">samples = 1</text>\n<text text-anchor=\"start\" x=\"1775\" y=\"-1086.3\" font-family=\"Helvetica,sans-Serif\" font-size=\"14.00\" fill=\"#000000\">value = [0, 1]</text>\n<text text-anchor=\"start\" x=\"1787.5\" y=\"-1071.3\" font-family=\"Helvetica,sans-Serif\" font-size=\"14.00\" fill=\"#000000\">class = o</text>\n</g>\n<!-- 135&#45;&gt;136 -->\n<g id=\"edge136\" class=\"edge\">\n<title>135&#45;&gt;136</title>\n<path fill=\"none\" stroke=\"#000000\" d=\"M1819.101,-1174.8796C1818.7425,-1164.2134 1818.3555,-1152.7021 1817.9925,-1141.9015\"/>\n<polygon fill=\"#000000\" stroke=\"#000000\" points=\"1821.4875,-1141.6917 1817.6534,-1131.8149 1814.4915,-1141.9269 1821.4875,-1141.6917\"/>\n</g>\n<!-- 137 -->\n<g id=\"node138\" class=\"node\">\n<title>137</title>\n<path fill=\"#ea985d\" stroke=\"#000000\" d=\"M1998.5,-1139C1998.5,-1139 1896.5,-1139 1896.5,-1139 1890.5,-1139 1884.5,-1133 1884.5,-1127 1884.5,-1127 1884.5,-1068 1884.5,-1068 1884.5,-1062 1890.5,-1056 1896.5,-1056 1896.5,-1056 1998.5,-1056 1998.5,-1056 2004.5,-1056 2010.5,-1062 2010.5,-1068 2010.5,-1068 2010.5,-1127 2010.5,-1127 2010.5,-1133 2004.5,-1139 1998.5,-1139\"/>\n<text text-anchor=\"start\" x=\"1892.5\" y=\"-1123.8\" font-family=\"Helvetica,sans-Serif\" font-size=\"14.00\" fill=\"#000000\">Bechalor ≤ 0.696</text>\n<text text-anchor=\"start\" x=\"1914\" y=\"-1108.8\" font-family=\"Helvetica,sans-Serif\" font-size=\"14.00\" fill=\"#000000\">gini = 0.26</text>\n<text text-anchor=\"start\" x=\"1903.5\" y=\"-1093.8\" font-family=\"Helvetica,sans-Serif\" font-size=\"14.00\" fill=\"#000000\">samples = 13</text>\n<text text-anchor=\"start\" x=\"1902\" y=\"-1078.8\" font-family=\"Helvetica,sans-Serif\" font-size=\"14.00\" fill=\"#000000\">value = [11, 2]</text>\n<text text-anchor=\"start\" x=\"1921\" y=\"-1063.8\" font-family=\"Helvetica,sans-Serif\" font-size=\"14.00\" fill=\"#000000\">class = l</text>\n</g>\n<!-- 135&#45;&gt;137 -->\n<g id=\"edge137\" class=\"edge\">\n<title>135&#45;&gt;137</title>\n<path fill=\"none\" stroke=\"#000000\" d=\"M1864.9184,-1174.8796C1874.8186,-1165.6031 1885.4009,-1155.6874 1895.5731,-1146.1559\"/>\n<polygon fill=\"#000000\" stroke=\"#000000\" points=\"1897.9879,-1148.6896 1902.892,-1139.2981 1893.2016,-1143.5816 1897.9879,-1148.6896\"/>\n</g>\n<!-- 138 -->\n<g id=\"node139\" class=\"node\">\n<title>138</title>\n<path fill=\"#f6d5bd\" stroke=\"#000000\" d=\"M1985,-1020C1985,-1020 1910,-1020 1910,-1020 1904,-1020 1898,-1014 1898,-1008 1898,-1008 1898,-949 1898,-949 1898,-943 1904,-937 1910,-937 1910,-937 1985,-937 1985,-937 1991,-937 1997,-943 1997,-949 1997,-949 1997,-1008 1997,-1008 1997,-1014 1991,-1020 1985,-1020\"/>\n<text text-anchor=\"start\" x=\"1906.5\" y=\"-1004.8\" font-family=\"Helvetica,sans-Serif\" font-size=\"14.00\" fill=\"#000000\">age ≤ &#45;0.653</text>\n<text text-anchor=\"start\" x=\"1914\" y=\"-989.8\" font-family=\"Helvetica,sans-Serif\" font-size=\"14.00\" fill=\"#000000\">gini = 0.48</text>\n<text text-anchor=\"start\" x=\"1908\" y=\"-974.8\" font-family=\"Helvetica,sans-Serif\" font-size=\"14.00\" fill=\"#000000\">samples = 5</text>\n<text text-anchor=\"start\" x=\"1906\" y=\"-959.8\" font-family=\"Helvetica,sans-Serif\" font-size=\"14.00\" fill=\"#000000\">value = [3, 2]</text>\n<text text-anchor=\"start\" x=\"1921\" y=\"-944.8\" font-family=\"Helvetica,sans-Serif\" font-size=\"14.00\" fill=\"#000000\">class = l</text>\n</g>\n<!-- 137&#45;&gt;138 -->\n<g id=\"edge138\" class=\"edge\">\n<title>137&#45;&gt;138</title>\n<path fill=\"none\" stroke=\"#000000\" d=\"M1947.5,-1055.8796C1947.5,-1047.6838 1947.5,-1038.9891 1947.5,-1030.5013\"/>\n<polygon fill=\"#000000\" stroke=\"#000000\" points=\"1951.0001,-1030.298 1947.5,-1020.2981 1944.0001,-1030.2981 1951.0001,-1030.298\"/>\n</g>\n<!-- 141 -->\n<g id=\"node142\" class=\"node\">\n<title>141</title>\n<path fill=\"#e58139\" stroke=\"#000000\" d=\"M2102,-1012.5C2102,-1012.5 2027,-1012.5 2027,-1012.5 2021,-1012.5 2015,-1006.5 2015,-1000.5 2015,-1000.5 2015,-956.5 2015,-956.5 2015,-950.5 2021,-944.5 2027,-944.5 2027,-944.5 2102,-944.5 2102,-944.5 2108,-944.5 2114,-950.5 2114,-956.5 2114,-956.5 2114,-1000.5 2114,-1000.5 2114,-1006.5 2108,-1012.5 2102,-1012.5\"/>\n<text text-anchor=\"start\" x=\"2035\" y=\"-997.3\" font-family=\"Helvetica,sans-Serif\" font-size=\"14.00\" fill=\"#000000\">gini = 0.0</text>\n<text text-anchor=\"start\" x=\"2025\" y=\"-982.3\" font-family=\"Helvetica,sans-Serif\" font-size=\"14.00\" fill=\"#000000\">samples = 8</text>\n<text text-anchor=\"start\" x=\"2023\" y=\"-967.3\" font-family=\"Helvetica,sans-Serif\" font-size=\"14.00\" fill=\"#000000\">value = [8, 0]</text>\n<text text-anchor=\"start\" x=\"2038\" y=\"-952.3\" font-family=\"Helvetica,sans-Serif\" font-size=\"14.00\" fill=\"#000000\">class = l</text>\n</g>\n<!-- 137&#45;&gt;141 -->\n<g id=\"edge141\" class=\"edge\">\n<title>137&#45;&gt;141</title>\n<path fill=\"none\" stroke=\"#000000\" d=\"M1988.4209,-1055.8796C1999.7728,-1044.3337 2012.0982,-1031.7976 2023.457,-1020.2446\"/>\n<polygon fill=\"#000000\" stroke=\"#000000\" points=\"2026.2466,-1022.3995 2030.7618,-1012.8149 2021.2551,-1017.4919 2026.2466,-1022.3995\"/>\n</g>\n<!-- 139 -->\n<g id=\"node140\" class=\"node\">\n<title>139</title>\n<path fill=\"#e58139\" stroke=\"#000000\" d=\"M1985,-893.5C1985,-893.5 1910,-893.5 1910,-893.5 1904,-893.5 1898,-887.5 1898,-881.5 1898,-881.5 1898,-837.5 1898,-837.5 1898,-831.5 1904,-825.5 1910,-825.5 1910,-825.5 1985,-825.5 1985,-825.5 1991,-825.5 1997,-831.5 1997,-837.5 1997,-837.5 1997,-881.5 1997,-881.5 1997,-887.5 1991,-893.5 1985,-893.5\"/>\n<text text-anchor=\"start\" x=\"1918\" y=\"-878.3\" font-family=\"Helvetica,sans-Serif\" font-size=\"14.00\" fill=\"#000000\">gini = 0.0</text>\n<text text-anchor=\"start\" x=\"1908\" y=\"-863.3\" font-family=\"Helvetica,sans-Serif\" font-size=\"14.00\" fill=\"#000000\">samples = 3</text>\n<text text-anchor=\"start\" x=\"1906\" y=\"-848.3\" font-family=\"Helvetica,sans-Serif\" font-size=\"14.00\" fill=\"#000000\">value = [3, 0]</text>\n<text text-anchor=\"start\" x=\"1921\" y=\"-833.3\" font-family=\"Helvetica,sans-Serif\" font-size=\"14.00\" fill=\"#000000\">class = l</text>\n</g>\n<!-- 138&#45;&gt;139 -->\n<g id=\"edge139\" class=\"edge\">\n<title>138&#45;&gt;139</title>\n<path fill=\"none\" stroke=\"#000000\" d=\"M1947.5,-936.8796C1947.5,-926.2134 1947.5,-914.7021 1947.5,-903.9015\"/>\n<polygon fill=\"#000000\" stroke=\"#000000\" points=\"1951.0001,-903.8149 1947.5,-893.8149 1944.0001,-903.815 1951.0001,-903.8149\"/>\n</g>\n<!-- 140 -->\n<g id=\"node141\" class=\"node\">\n<title>140</title>\n<path fill=\"#399de5\" stroke=\"#000000\" d=\"M2102,-893.5C2102,-893.5 2027,-893.5 2027,-893.5 2021,-893.5 2015,-887.5 2015,-881.5 2015,-881.5 2015,-837.5 2015,-837.5 2015,-831.5 2021,-825.5 2027,-825.5 2027,-825.5 2102,-825.5 2102,-825.5 2108,-825.5 2114,-831.5 2114,-837.5 2114,-837.5 2114,-881.5 2114,-881.5 2114,-887.5 2108,-893.5 2102,-893.5\"/>\n<text text-anchor=\"start\" x=\"2035\" y=\"-878.3\" font-family=\"Helvetica,sans-Serif\" font-size=\"14.00\" fill=\"#000000\">gini = 0.0</text>\n<text text-anchor=\"start\" x=\"2025\" y=\"-863.3\" font-family=\"Helvetica,sans-Serif\" font-size=\"14.00\" fill=\"#000000\">samples = 2</text>\n<text text-anchor=\"start\" x=\"2023\" y=\"-848.3\" font-family=\"Helvetica,sans-Serif\" font-size=\"14.00\" fill=\"#000000\">value = [0, 2]</text>\n<text text-anchor=\"start\" x=\"2035.5\" y=\"-833.3\" font-family=\"Helvetica,sans-Serif\" font-size=\"14.00\" fill=\"#000000\">class = o</text>\n</g>\n<!-- 138&#45;&gt;140 -->\n<g id=\"edge140\" class=\"edge\">\n<title>138&#45;&gt;140</title>\n<path fill=\"none\" stroke=\"#000000\" d=\"M1988.4209,-936.8796C1999.7728,-925.3337 2012.0982,-912.7976 2023.457,-901.2446\"/>\n<polygon fill=\"#000000\" stroke=\"#000000\" points=\"2026.2466,-903.3995 2030.7618,-893.8149 2021.2551,-898.4919 2026.2466,-903.3995\"/>\n</g>\n<!-- 143 -->\n<g id=\"node144\" class=\"node\">\n<title>143</title>\n<path fill=\"#399de5\" stroke=\"#000000\" d=\"M1986,-1250.5C1986,-1250.5 1911,-1250.5 1911,-1250.5 1905,-1250.5 1899,-1244.5 1899,-1238.5 1899,-1238.5 1899,-1194.5 1899,-1194.5 1899,-1188.5 1905,-1182.5 1911,-1182.5 1911,-1182.5 1986,-1182.5 1986,-1182.5 1992,-1182.5 1998,-1188.5 1998,-1194.5 1998,-1194.5 1998,-1238.5 1998,-1238.5 1998,-1244.5 1992,-1250.5 1986,-1250.5\"/>\n<text text-anchor=\"start\" x=\"1919\" y=\"-1235.3\" font-family=\"Helvetica,sans-Serif\" font-size=\"14.00\" fill=\"#000000\">gini = 0.0</text>\n<text text-anchor=\"start\" x=\"1909\" y=\"-1220.3\" font-family=\"Helvetica,sans-Serif\" font-size=\"14.00\" fill=\"#000000\">samples = 1</text>\n<text text-anchor=\"start\" x=\"1907\" y=\"-1205.3\" font-family=\"Helvetica,sans-Serif\" font-size=\"14.00\" fill=\"#000000\">value = [0, 1]</text>\n<text text-anchor=\"start\" x=\"1919.5\" y=\"-1190.3\" font-family=\"Helvetica,sans-Serif\" font-size=\"14.00\" fill=\"#000000\">class = o</text>\n</g>\n<!-- 142&#45;&gt;143 -->\n<g id=\"edge143\" class=\"edge\">\n<title>142&#45;&gt;143</title>\n<path fill=\"none\" stroke=\"#000000\" d=\"M1952.4015,-1293.8796C1951.8637,-1283.2134 1951.2833,-1271.7021 1950.7387,-1260.9015\"/>\n<polygon fill=\"#000000\" stroke=\"#000000\" points=\"1954.2294,-1260.626 1950.2302,-1250.8149 1947.2383,-1260.9785 1954.2294,-1260.626\"/>\n</g>\n<!-- 144 -->\n<g id=\"node145\" class=\"node\">\n<title>144</title>\n<path fill=\"#fae8da\" stroke=\"#000000\" d=\"M2120.5,-1258C2120.5,-1258 2028.5,-1258 2028.5,-1258 2022.5,-1258 2016.5,-1252 2016.5,-1246 2016.5,-1246 2016.5,-1187 2016.5,-1187 2016.5,-1181 2022.5,-1175 2028.5,-1175 2028.5,-1175 2120.5,-1175 2120.5,-1175 2126.5,-1175 2132.5,-1181 2132.5,-1187 2132.5,-1187 2132.5,-1246 2132.5,-1246 2132.5,-1252 2126.5,-1258 2120.5,-1258\"/>\n<text text-anchor=\"start\" x=\"2033.5\" y=\"-1242.8\" font-family=\"Helvetica,sans-Serif\" font-size=\"14.00\" fill=\"#000000\">age ≤ &#45;1.234</text>\n<text text-anchor=\"start\" x=\"2036.5\" y=\"-1227.8\" font-family=\"Helvetica,sans-Serif\" font-size=\"14.00\" fill=\"#000000\">gini = 0.495</text>\n<text text-anchor=\"start\" x=\"2030.5\" y=\"-1212.8\" font-family=\"Helvetica,sans-Serif\" font-size=\"14.00\" fill=\"#000000\">samples = 49</text>\n<text text-anchor=\"start\" x=\"2024.5\" y=\"-1197.8\" font-family=\"Helvetica,sans-Serif\" font-size=\"14.00\" fill=\"#000000\">value = [27, 22]</text>\n<text text-anchor=\"start\" x=\"2048\" y=\"-1182.8\" font-family=\"Helvetica,sans-Serif\" font-size=\"14.00\" fill=\"#000000\">class = l</text>\n</g>\n<!-- 142&#45;&gt;144 -->\n<g id=\"edge144\" class=\"edge\">\n<title>142&#45;&gt;144</title>\n<path fill=\"none\" stroke=\"#000000\" d=\"M1996.4702,-1293.8796C2005.7338,-1284.6931 2015.6296,-1274.8798 2025.1552,-1265.4336\"/>\n<polygon fill=\"#000000\" stroke=\"#000000\" points=\"2027.7146,-1267.8247 2032.3507,-1258.2981 2022.7856,-1262.8543 2027.7146,-1267.8247\"/>\n</g>\n<!-- 145 -->\n<g id=\"node146\" class=\"node\">\n<title>145</title>\n<path fill=\"#e58139\" stroke=\"#000000\" d=\"M2116,-1131.5C2116,-1131.5 2041,-1131.5 2041,-1131.5 2035,-1131.5 2029,-1125.5 2029,-1119.5 2029,-1119.5 2029,-1075.5 2029,-1075.5 2029,-1069.5 2035,-1063.5 2041,-1063.5 2041,-1063.5 2116,-1063.5 2116,-1063.5 2122,-1063.5 2128,-1069.5 2128,-1075.5 2128,-1075.5 2128,-1119.5 2128,-1119.5 2128,-1125.5 2122,-1131.5 2116,-1131.5\"/>\n<text text-anchor=\"start\" x=\"2049\" y=\"-1116.3\" font-family=\"Helvetica,sans-Serif\" font-size=\"14.00\" fill=\"#000000\">gini = 0.0</text>\n<text text-anchor=\"start\" x=\"2039\" y=\"-1101.3\" font-family=\"Helvetica,sans-Serif\" font-size=\"14.00\" fill=\"#000000\">samples = 3</text>\n<text text-anchor=\"start\" x=\"2037\" y=\"-1086.3\" font-family=\"Helvetica,sans-Serif\" font-size=\"14.00\" fill=\"#000000\">value = [3, 0]</text>\n<text text-anchor=\"start\" x=\"2052\" y=\"-1071.3\" font-family=\"Helvetica,sans-Serif\" font-size=\"14.00\" fill=\"#000000\">class = l</text>\n</g>\n<!-- 144&#45;&gt;145 -->\n<g id=\"edge145\" class=\"edge\">\n<title>144&#45;&gt;145</title>\n<path fill=\"none\" stroke=\"#000000\" d=\"M2075.899,-1174.8796C2076.2575,-1164.2134 2076.6445,-1152.7021 2077.0075,-1141.9015\"/>\n<polygon fill=\"#000000\" stroke=\"#000000\" points=\"2080.5085,-1141.9269 2077.3466,-1131.8149 2073.5125,-1141.6917 2080.5085,-1141.9269\"/>\n</g>\n<!-- 146 -->\n<g id=\"node147\" class=\"node\">\n<title>146</title>\n<path fill=\"#fdf5ef\" stroke=\"#000000\" d=\"M2276.5,-1139C2276.5,-1139 2184.5,-1139 2184.5,-1139 2178.5,-1139 2172.5,-1133 2172.5,-1127 2172.5,-1127 2172.5,-1068 2172.5,-1068 2172.5,-1062 2178.5,-1056 2184.5,-1056 2184.5,-1056 2276.5,-1056 2276.5,-1056 2282.5,-1056 2288.5,-1062 2288.5,-1068 2288.5,-1068 2288.5,-1127 2288.5,-1127 2288.5,-1133 2282.5,-1139 2276.5,-1139\"/>\n<text text-anchor=\"start\" x=\"2189.5\" y=\"-1123.8\" font-family=\"Helvetica,sans-Serif\" font-size=\"14.00\" fill=\"#000000\">age ≤ &#45;1.068</text>\n<text text-anchor=\"start\" x=\"2192.5\" y=\"-1108.8\" font-family=\"Helvetica,sans-Serif\" font-size=\"14.00\" fill=\"#000000\">gini = 0.499</text>\n<text text-anchor=\"start\" x=\"2186.5\" y=\"-1093.8\" font-family=\"Helvetica,sans-Serif\" font-size=\"14.00\" fill=\"#000000\">samples = 46</text>\n<text text-anchor=\"start\" x=\"2180.5\" y=\"-1078.8\" font-family=\"Helvetica,sans-Serif\" font-size=\"14.00\" fill=\"#000000\">value = [24, 22]</text>\n<text text-anchor=\"start\" x=\"2204\" y=\"-1063.8\" font-family=\"Helvetica,sans-Serif\" font-size=\"14.00\" fill=\"#000000\">class = l</text>\n</g>\n<!-- 144&#45;&gt;146 -->\n<g id=\"edge146\" class=\"edge\">\n<title>144&#45;&gt;146</title>\n<path fill=\"none\" stroke=\"#000000\" d=\"M2129.0612,-1174.8796C2141.5302,-1165.368 2154.8802,-1155.1843 2167.6648,-1145.432\"/>\n<polygon fill=\"#000000\" stroke=\"#000000\" points=\"2170.1415,-1147.9448 2175.9696,-1139.0969 2165.896,-1142.3792 2170.1415,-1147.9448\"/>\n</g>\n<!-- 147 -->\n<g id=\"node148\" class=\"node\">\n<title>147</title>\n<path fill=\"#399de5\" stroke=\"#000000\" d=\"M2268,-1012.5C2268,-1012.5 2193,-1012.5 2193,-1012.5 2187,-1012.5 2181,-1006.5 2181,-1000.5 2181,-1000.5 2181,-956.5 2181,-956.5 2181,-950.5 2187,-944.5 2193,-944.5 2193,-944.5 2268,-944.5 2268,-944.5 2274,-944.5 2280,-950.5 2280,-956.5 2280,-956.5 2280,-1000.5 2280,-1000.5 2280,-1006.5 2274,-1012.5 2268,-1012.5\"/>\n<text text-anchor=\"start\" x=\"2201\" y=\"-997.3\" font-family=\"Helvetica,sans-Serif\" font-size=\"14.00\" fill=\"#000000\">gini = 0.0</text>\n<text text-anchor=\"start\" x=\"2191\" y=\"-982.3\" font-family=\"Helvetica,sans-Serif\" font-size=\"14.00\" fill=\"#000000\">samples = 2</text>\n<text text-anchor=\"start\" x=\"2189\" y=\"-967.3\" font-family=\"Helvetica,sans-Serif\" font-size=\"14.00\" fill=\"#000000\">value = [0, 2]</text>\n<text text-anchor=\"start\" x=\"2201.5\" y=\"-952.3\" font-family=\"Helvetica,sans-Serif\" font-size=\"14.00\" fill=\"#000000\">class = o</text>\n</g>\n<!-- 146&#45;&gt;147 -->\n<g id=\"edge147\" class=\"edge\">\n<title>146&#45;&gt;147</title>\n<path fill=\"none\" stroke=\"#000000\" d=\"M2230.5,-1055.8796C2230.5,-1045.2134 2230.5,-1033.7021 2230.5,-1022.9015\"/>\n<polygon fill=\"#000000\" stroke=\"#000000\" points=\"2234.0001,-1022.8149 2230.5,-1012.8149 2227.0001,-1022.815 2234.0001,-1022.8149\"/>\n</g>\n<!-- 148 -->\n<g id=\"node149\" class=\"node\">\n<title>148</title>\n<path fill=\"#fbeade\" stroke=\"#000000\" d=\"M2455.5,-1020C2455.5,-1020 2363.5,-1020 2363.5,-1020 2357.5,-1020 2351.5,-1014 2351.5,-1008 2351.5,-1008 2351.5,-949 2351.5,-949 2351.5,-943 2357.5,-937 2363.5,-937 2363.5,-937 2455.5,-937 2455.5,-937 2461.5,-937 2467.5,-943 2467.5,-949 2467.5,-949 2467.5,-1008 2467.5,-1008 2467.5,-1014 2461.5,-1020 2455.5,-1020\"/>\n<text text-anchor=\"start\" x=\"2368.5\" y=\"-1004.8\" font-family=\"Helvetica,sans-Serif\" font-size=\"14.00\" fill=\"#000000\">age ≤ &#45;0.404</text>\n<text text-anchor=\"start\" x=\"2371.5\" y=\"-989.8\" font-family=\"Helvetica,sans-Serif\" font-size=\"14.00\" fill=\"#000000\">gini = 0.496</text>\n<text text-anchor=\"start\" x=\"2365.5\" y=\"-974.8\" font-family=\"Helvetica,sans-Serif\" font-size=\"14.00\" fill=\"#000000\">samples = 44</text>\n<text text-anchor=\"start\" x=\"2359.5\" y=\"-959.8\" font-family=\"Helvetica,sans-Serif\" font-size=\"14.00\" fill=\"#000000\">value = [24, 20]</text>\n<text text-anchor=\"start\" x=\"2383\" y=\"-944.8\" font-family=\"Helvetica,sans-Serif\" font-size=\"14.00\" fill=\"#000000\">class = l</text>\n</g>\n<!-- 146&#45;&gt;148 -->\n<g id=\"edge148\" class=\"edge\">\n<title>146&#45;&gt;148</title>\n<path fill=\"none\" stroke=\"#000000\" d=\"M2288.6162,-1058.8641C2305.8986,-1047.3747 2324.9687,-1034.6968 2342.7547,-1022.8726\"/>\n<polygon fill=\"#000000\" stroke=\"#000000\" points=\"2344.9794,-1025.5965 2351.3693,-1017.1455 2341.104,-1019.7671 2344.9794,-1025.5965\"/>\n</g>\n<!-- 149 -->\n<g id=\"node150\" class=\"node\">\n<title>149</title>\n<path fill=\"#f3c6a5\" stroke=\"#000000\" d=\"M2451,-901C2451,-901 2368,-901 2368,-901 2362,-901 2356,-895 2356,-889 2356,-889 2356,-830 2356,-830 2356,-824 2362,-818 2368,-818 2368,-818 2451,-818 2451,-818 2457,-818 2463,-824 2463,-830 2463,-830 2463,-889 2463,-889 2463,-895 2457,-901 2451,-901\"/>\n<text text-anchor=\"start\" x=\"2373\" y=\"-885.8\" font-family=\"Helvetica,sans-Serif\" font-size=\"14.00\" fill=\"#000000\">age ≤ &#45;0.57</text>\n<text text-anchor=\"start\" x=\"2371.5\" y=\"-870.8\" font-family=\"Helvetica,sans-Serif\" font-size=\"14.00\" fill=\"#000000\">gini = 0.457</text>\n<text text-anchor=\"start\" x=\"2365.5\" y=\"-855.8\" font-family=\"Helvetica,sans-Serif\" font-size=\"14.00\" fill=\"#000000\">samples = 17</text>\n<text text-anchor=\"start\" x=\"2364\" y=\"-840.8\" font-family=\"Helvetica,sans-Serif\" font-size=\"14.00\" fill=\"#000000\">value = [11, 6]</text>\n<text text-anchor=\"start\" x=\"2383\" y=\"-825.8\" font-family=\"Helvetica,sans-Serif\" font-size=\"14.00\" fill=\"#000000\">class = l</text>\n</g>\n<!-- 148&#45;&gt;149 -->\n<g id=\"edge149\" class=\"edge\">\n<title>148&#45;&gt;149</title>\n<path fill=\"none\" stroke=\"#000000\" d=\"M2409.5,-936.8796C2409.5,-928.6838 2409.5,-919.9891 2409.5,-911.5013\"/>\n<polygon fill=\"#000000\" stroke=\"#000000\" points=\"2413.0001,-911.298 2409.5,-901.2981 2406.0001,-911.2981 2413.0001,-911.298\"/>\n</g>\n<!-- 162 -->\n<g id=\"node163\" class=\"node\">\n<title>162</title>\n<path fill=\"#f1f8fd\" stroke=\"#000000\" d=\"M2715.5,-901C2715.5,-901 2613.5,-901 2613.5,-901 2607.5,-901 2601.5,-895 2601.5,-889 2601.5,-889 2601.5,-830 2601.5,-830 2601.5,-824 2607.5,-818 2613.5,-818 2613.5,-818 2715.5,-818 2715.5,-818 2721.5,-818 2727.5,-824 2727.5,-830 2727.5,-830 2727.5,-889 2727.5,-889 2727.5,-895 2721.5,-901 2715.5,-901\"/>\n<text text-anchor=\"start\" x=\"2609.5\" y=\"-885.8\" font-family=\"Helvetica,sans-Serif\" font-size=\"14.00\" fill=\"#000000\">Bechalor ≤ 0.696</text>\n<text text-anchor=\"start\" x=\"2626.5\" y=\"-870.8\" font-family=\"Helvetica,sans-Serif\" font-size=\"14.00\" fill=\"#000000\">gini = 0.499</text>\n<text text-anchor=\"start\" x=\"2620.5\" y=\"-855.8\" font-family=\"Helvetica,sans-Serif\" font-size=\"14.00\" fill=\"#000000\">samples = 27</text>\n<text text-anchor=\"start\" x=\"2614.5\" y=\"-840.8\" font-family=\"Helvetica,sans-Serif\" font-size=\"14.00\" fill=\"#000000\">value = [13, 14]</text>\n<text text-anchor=\"start\" x=\"2635.5\" y=\"-825.8\" font-family=\"Helvetica,sans-Serif\" font-size=\"14.00\" fill=\"#000000\">class = o</text>\n</g>\n<!-- 148&#45;&gt;162 -->\n<g id=\"edge162\" class=\"edge\">\n<title>148&#45;&gt;162</title>\n<path fill=\"none\" stroke=\"#000000\" d=\"M2467.6825,-951.3482C2504.5613,-934.1381 2552.5563,-911.7404 2591.9183,-893.3715\"/>\n<polygon fill=\"#000000\" stroke=\"#000000\" points=\"2593.6267,-896.4366 2601.2084,-889.0361 2590.6665,-890.0933 2593.6267,-896.4366\"/>\n</g>\n<!-- 150 -->\n<g id=\"node151\" class=\"node\">\n<title>150</title>\n<path fill=\"#f8e0ce\" stroke=\"#000000\" d=\"M2343.5,-782C2343.5,-782 2263.5,-782 2263.5,-782 2257.5,-782 2251.5,-776 2251.5,-770 2251.5,-770 2251.5,-711 2251.5,-711 2251.5,-705 2257.5,-699 2263.5,-699 2263.5,-699 2343.5,-699 2343.5,-699 2349.5,-699 2355.5,-705 2355.5,-711 2355.5,-711 2355.5,-770 2355.5,-770 2355.5,-776 2349.5,-782 2343.5,-782\"/>\n<text text-anchor=\"start\" x=\"2262.5\" y=\"-766.8\" font-family=\"Helvetica,sans-Serif\" font-size=\"14.00\" fill=\"#000000\">age ≤ &#45;0.902</text>\n<text text-anchor=\"start\" x=\"2270\" y=\"-751.8\" font-family=\"Helvetica,sans-Serif\" font-size=\"14.00\" fill=\"#000000\">gini = 0.49</text>\n<text text-anchor=\"start\" x=\"2259.5\" y=\"-736.8\" font-family=\"Helvetica,sans-Serif\" font-size=\"14.00\" fill=\"#000000\">samples = 14</text>\n<text text-anchor=\"start\" x=\"2262\" y=\"-721.8\" font-family=\"Helvetica,sans-Serif\" font-size=\"14.00\" fill=\"#000000\">value = [8, 6]</text>\n<text text-anchor=\"start\" x=\"2277\" y=\"-706.8\" font-family=\"Helvetica,sans-Serif\" font-size=\"14.00\" fill=\"#000000\">class = l</text>\n</g>\n<!-- 149&#45;&gt;150 -->\n<g id=\"edge150\" class=\"edge\">\n<title>149&#45;&gt;150</title>\n<path fill=\"none\" stroke=\"#000000\" d=\"M2372.4263,-817.8796C2364.4039,-808.8733 2355.8448,-799.2644 2347.5833,-789.9897\"/>\n<polygon fill=\"#000000\" stroke=\"#000000\" points=\"2349.9969,-787.4373 2340.7319,-782.2981 2344.7698,-792.0933 2349.9969,-787.4373\"/>\n</g>\n<!-- 161 -->\n<g id=\"node162\" class=\"node\">\n<title>161</title>\n<path fill=\"#e58139\" stroke=\"#000000\" d=\"M2461,-774.5C2461,-774.5 2386,-774.5 2386,-774.5 2380,-774.5 2374,-768.5 2374,-762.5 2374,-762.5 2374,-718.5 2374,-718.5 2374,-712.5 2380,-706.5 2386,-706.5 2386,-706.5 2461,-706.5 2461,-706.5 2467,-706.5 2473,-712.5 2473,-718.5 2473,-718.5 2473,-762.5 2473,-762.5 2473,-768.5 2467,-774.5 2461,-774.5\"/>\n<text text-anchor=\"start\" x=\"2394\" y=\"-759.3\" font-family=\"Helvetica,sans-Serif\" font-size=\"14.00\" fill=\"#000000\">gini = 0.0</text>\n<text text-anchor=\"start\" x=\"2384\" y=\"-744.3\" font-family=\"Helvetica,sans-Serif\" font-size=\"14.00\" fill=\"#000000\">samples = 3</text>\n<text text-anchor=\"start\" x=\"2382\" y=\"-729.3\" font-family=\"Helvetica,sans-Serif\" font-size=\"14.00\" fill=\"#000000\">value = [3, 0]</text>\n<text text-anchor=\"start\" x=\"2397\" y=\"-714.3\" font-family=\"Helvetica,sans-Serif\" font-size=\"14.00\" fill=\"#000000\">class = l</text>\n</g>\n<!-- 149&#45;&gt;161 -->\n<g id=\"edge161\" class=\"edge\">\n<title>149&#45;&gt;161</title>\n<path fill=\"none\" stroke=\"#000000\" d=\"M2414.3965,-817.8796C2415.6514,-807.2134 2417.0056,-795.7021 2418.2763,-784.9015\"/>\n<polygon fill=\"#000000\" stroke=\"#000000\" points=\"2421.7705,-785.1554 2419.4629,-774.8149 2414.8184,-784.3375 2421.7705,-785.1554\"/>\n</g>\n<!-- 151 -->\n<g id=\"node152\" class=\"node\">\n<title>151</title>\n<path fill=\"#bddef6\" stroke=\"#000000\" d=\"M2223,-663C2223,-663 2138,-663 2138,-663 2132,-663 2126,-657 2126,-651 2126,-651 2126,-592 2126,-592 2126,-586 2132,-580 2138,-580 2138,-580 2223,-580 2223,-580 2229,-580 2235,-586 2235,-592 2235,-592 2235,-651 2235,-651 2235,-657 2229,-663 2223,-663\"/>\n<text text-anchor=\"start\" x=\"2134\" y=\"-647.8\" font-family=\"Helvetica,sans-Serif\" font-size=\"14.00\" fill=\"#000000\">terms ≤ &#45;0.019</text>\n<text text-anchor=\"start\" x=\"2147\" y=\"-632.8\" font-family=\"Helvetica,sans-Serif\" font-size=\"14.00\" fill=\"#000000\">gini = 0.48</text>\n<text text-anchor=\"start\" x=\"2141\" y=\"-617.8\" font-family=\"Helvetica,sans-Serif\" font-size=\"14.00\" fill=\"#000000\">samples = 5</text>\n<text text-anchor=\"start\" x=\"2139\" y=\"-602.8\" font-family=\"Helvetica,sans-Serif\" font-size=\"14.00\" fill=\"#000000\">value = [2, 3]</text>\n<text text-anchor=\"start\" x=\"2151.5\" y=\"-587.8\" font-family=\"Helvetica,sans-Serif\" font-size=\"14.00\" fill=\"#000000\">class = o</text>\n</g>\n<!-- 150&#45;&gt;151 -->\n<g id=\"edge151\" class=\"edge\">\n<title>150&#45;&gt;151</title>\n<path fill=\"none\" stroke=\"#000000\" d=\"M2260.4806,-698.8796C2250.9853,-689.6931 2240.8422,-679.8798 2231.0785,-670.4336\"/>\n<polygon fill=\"#000000\" stroke=\"#000000\" points=\"2233.3237,-667.7359 2223.703,-663.2981 2228.4564,-672.7668 2233.3237,-667.7359\"/>\n</g>\n<!-- 154 -->\n<g id=\"node155\" class=\"node\">\n<title>154</title>\n<path fill=\"#f2c09c\" stroke=\"#000000\" d=\"M2367.5,-663C2367.5,-663 2265.5,-663 2265.5,-663 2259.5,-663 2253.5,-657 2253.5,-651 2253.5,-651 2253.5,-592 2253.5,-592 2253.5,-586 2259.5,-580 2265.5,-580 2265.5,-580 2367.5,-580 2367.5,-580 2373.5,-580 2379.5,-586 2379.5,-592 2379.5,-592 2379.5,-651 2379.5,-651 2379.5,-657 2373.5,-663 2367.5,-663\"/>\n<text text-anchor=\"start\" x=\"2261.5\" y=\"-647.8\" font-family=\"Helvetica,sans-Serif\" font-size=\"14.00\" fill=\"#000000\">Bechalor ≤ 0.696</text>\n<text text-anchor=\"start\" x=\"2278.5\" y=\"-632.8\" font-family=\"Helvetica,sans-Serif\" font-size=\"14.00\" fill=\"#000000\">gini = 0.444</text>\n<text text-anchor=\"start\" x=\"2277\" y=\"-617.8\" font-family=\"Helvetica,sans-Serif\" font-size=\"14.00\" fill=\"#000000\">samples = 9</text>\n<text text-anchor=\"start\" x=\"2275\" y=\"-602.8\" font-family=\"Helvetica,sans-Serif\" font-size=\"14.00\" fill=\"#000000\">value = [6, 3]</text>\n<text text-anchor=\"start\" x=\"2290\" y=\"-587.8\" font-family=\"Helvetica,sans-Serif\" font-size=\"14.00\" fill=\"#000000\">class = l</text>\n</g>\n<!-- 150&#45;&gt;154 -->\n<g id=\"edge154\" class=\"edge\">\n<title>150&#45;&gt;154</title>\n<path fill=\"none\" stroke=\"#000000\" d=\"M2308.0468,-698.8796C2308.9421,-690.6838 2309.8919,-681.9891 2310.8192,-673.5013\"/>\n<polygon fill=\"#000000\" stroke=\"#000000\" points=\"2314.3271,-673.6191 2311.9338,-663.2981 2307.3685,-672.8588 2314.3271,-673.6191\"/>\n</g>\n<!-- 152 -->\n<g id=\"node153\" class=\"node\">\n<title>152</title>\n<path fill=\"#f2c09c\" stroke=\"#000000\" d=\"M2110,-536.5C2110,-536.5 2035,-536.5 2035,-536.5 2029,-536.5 2023,-530.5 2023,-524.5 2023,-524.5 2023,-480.5 2023,-480.5 2023,-474.5 2029,-468.5 2035,-468.5 2035,-468.5 2110,-468.5 2110,-468.5 2116,-468.5 2122,-474.5 2122,-480.5 2122,-480.5 2122,-524.5 2122,-524.5 2122,-530.5 2116,-536.5 2110,-536.5\"/>\n<text text-anchor=\"start\" x=\"2034.5\" y=\"-521.3\" font-family=\"Helvetica,sans-Serif\" font-size=\"14.00\" fill=\"#000000\">gini = 0.444</text>\n<text text-anchor=\"start\" x=\"2033\" y=\"-506.3\" font-family=\"Helvetica,sans-Serif\" font-size=\"14.00\" fill=\"#000000\">samples = 3</text>\n<text text-anchor=\"start\" x=\"2031\" y=\"-491.3\" font-family=\"Helvetica,sans-Serif\" font-size=\"14.00\" fill=\"#000000\">value = [2, 1]</text>\n<text text-anchor=\"start\" x=\"2046\" y=\"-476.3\" font-family=\"Helvetica,sans-Serif\" font-size=\"14.00\" fill=\"#000000\">class = l</text>\n</g>\n<!-- 151&#45;&gt;152 -->\n<g id=\"edge152\" class=\"edge\">\n<title>151&#45;&gt;152</title>\n<path fill=\"none\" stroke=\"#000000\" d=\"M2142.7268,-579.8796C2132.2482,-568.3337 2120.8709,-555.7976 2110.3859,-544.2446\"/>\n<polygon fill=\"#000000\" stroke=\"#000000\" points=\"2112.9553,-541.8678 2103.643,-536.8149 2107.7718,-546.5722 2112.9553,-541.8678\"/>\n</g>\n<!-- 153 -->\n<g id=\"node154\" class=\"node\">\n<title>153</title>\n<path fill=\"#399de5\" stroke=\"#000000\" d=\"M2227,-536.5C2227,-536.5 2152,-536.5 2152,-536.5 2146,-536.5 2140,-530.5 2140,-524.5 2140,-524.5 2140,-480.5 2140,-480.5 2140,-474.5 2146,-468.5 2152,-468.5 2152,-468.5 2227,-468.5 2227,-468.5 2233,-468.5 2239,-474.5 2239,-480.5 2239,-480.5 2239,-524.5 2239,-524.5 2239,-530.5 2233,-536.5 2227,-536.5\"/>\n<text text-anchor=\"start\" x=\"2160\" y=\"-521.3\" font-family=\"Helvetica,sans-Serif\" font-size=\"14.00\" fill=\"#000000\">gini = 0.0</text>\n<text text-anchor=\"start\" x=\"2150\" y=\"-506.3\" font-family=\"Helvetica,sans-Serif\" font-size=\"14.00\" fill=\"#000000\">samples = 2</text>\n<text text-anchor=\"start\" x=\"2148\" y=\"-491.3\" font-family=\"Helvetica,sans-Serif\" font-size=\"14.00\" fill=\"#000000\">value = [0, 2]</text>\n<text text-anchor=\"start\" x=\"2160.5\" y=\"-476.3\" font-family=\"Helvetica,sans-Serif\" font-size=\"14.00\" fill=\"#000000\">class = o</text>\n</g>\n<!-- 151&#45;&gt;153 -->\n<g id=\"edge153\" class=\"edge\">\n<title>151&#45;&gt;153</title>\n<path fill=\"none\" stroke=\"#000000\" d=\"M2183.6478,-579.8796C2184.4545,-569.2134 2185.3251,-557.7021 2186.1419,-546.9015\"/>\n<polygon fill=\"#000000\" stroke=\"#000000\" points=\"2189.6405,-547.0504 2186.9048,-536.8149 2182.6605,-546.5225 2189.6405,-547.0504\"/>\n</g>\n<!-- 155 -->\n<g id=\"node156\" class=\"node\">\n<title>155</title>\n<path fill=\"#e58139\" stroke=\"#000000\" d=\"M2344,-536.5C2344,-536.5 2269,-536.5 2269,-536.5 2263,-536.5 2257,-530.5 2257,-524.5 2257,-524.5 2257,-480.5 2257,-480.5 2257,-474.5 2263,-468.5 2269,-468.5 2269,-468.5 2344,-468.5 2344,-468.5 2350,-468.5 2356,-474.5 2356,-480.5 2356,-480.5 2356,-524.5 2356,-524.5 2356,-530.5 2350,-536.5 2344,-536.5\"/>\n<text text-anchor=\"start\" x=\"2277\" y=\"-521.3\" font-family=\"Helvetica,sans-Serif\" font-size=\"14.00\" fill=\"#000000\">gini = 0.0</text>\n<text text-anchor=\"start\" x=\"2267\" y=\"-506.3\" font-family=\"Helvetica,sans-Serif\" font-size=\"14.00\" fill=\"#000000\">samples = 3</text>\n<text text-anchor=\"start\" x=\"2265\" y=\"-491.3\" font-family=\"Helvetica,sans-Serif\" font-size=\"14.00\" fill=\"#000000\">value = [3, 0]</text>\n<text text-anchor=\"start\" x=\"2280\" y=\"-476.3\" font-family=\"Helvetica,sans-Serif\" font-size=\"14.00\" fill=\"#000000\">class = l</text>\n</g>\n<!-- 154&#45;&gt;155 -->\n<g id=\"edge155\" class=\"edge\">\n<title>154&#45;&gt;155</title>\n<path fill=\"none\" stroke=\"#000000\" d=\"M2313.0025,-579.8796C2312.1062,-569.2134 2311.1388,-557.7021 2310.2312,-546.9015\"/>\n<polygon fill=\"#000000\" stroke=\"#000000\" points=\"2313.7088,-546.4867 2309.3836,-536.8149 2306.7334,-547.0729 2313.7088,-546.4867\"/>\n</g>\n<!-- 156 -->\n<g id=\"node157\" class=\"node\">\n<title>156</title>\n<path fill=\"#ffffff\" stroke=\"#000000\" d=\"M2471,-544C2471,-544 2386,-544 2386,-544 2380,-544 2374,-538 2374,-532 2374,-532 2374,-473 2374,-473 2374,-467 2380,-461 2386,-461 2386,-461 2471,-461 2471,-461 2477,-461 2483,-467 2483,-473 2483,-473 2483,-532 2483,-532 2483,-538 2477,-544 2471,-544\"/>\n<text text-anchor=\"start\" x=\"2382\" y=\"-528.8\" font-family=\"Helvetica,sans-Serif\" font-size=\"14.00\" fill=\"#000000\">terms ≤ &#45;0.019</text>\n<text text-anchor=\"start\" x=\"2399\" y=\"-513.8\" font-family=\"Helvetica,sans-Serif\" font-size=\"14.00\" fill=\"#000000\">gini = 0.5</text>\n<text text-anchor=\"start\" x=\"2389\" y=\"-498.8\" font-family=\"Helvetica,sans-Serif\" font-size=\"14.00\" fill=\"#000000\">samples = 6</text>\n<text text-anchor=\"start\" x=\"2387\" y=\"-483.8\" font-family=\"Helvetica,sans-Serif\" font-size=\"14.00\" fill=\"#000000\">value = [3, 3]</text>\n<text text-anchor=\"start\" x=\"2402\" y=\"-468.8\" font-family=\"Helvetica,sans-Serif\" font-size=\"14.00\" fill=\"#000000\">class = l</text>\n</g>\n<!-- 154&#45;&gt;156 -->\n<g id=\"edge156\" class=\"edge\">\n<title>154&#45;&gt;156</title>\n<path fill=\"none\" stroke=\"#000000\" d=\"M2355.6722,-579.8796C2364.2335,-570.7832 2373.3732,-561.0722 2382.1832,-551.7116\"/>\n<polygon fill=\"#000000\" stroke=\"#000000\" points=\"2384.8557,-553.9789 2389.1606,-544.2981 2379.7583,-549.1813 2384.8557,-553.9789\"/>\n</g>\n<!-- 157 -->\n<g id=\"node158\" class=\"node\">\n<title>157</title>\n<path fill=\"#399de5\" stroke=\"#000000\" d=\"M2407,-417.5C2407,-417.5 2332,-417.5 2332,-417.5 2326,-417.5 2320,-411.5 2320,-405.5 2320,-405.5 2320,-361.5 2320,-361.5 2320,-355.5 2326,-349.5 2332,-349.5 2332,-349.5 2407,-349.5 2407,-349.5 2413,-349.5 2419,-355.5 2419,-361.5 2419,-361.5 2419,-405.5 2419,-405.5 2419,-411.5 2413,-417.5 2407,-417.5\"/>\n<text text-anchor=\"start\" x=\"2340\" y=\"-402.3\" font-family=\"Helvetica,sans-Serif\" font-size=\"14.00\" fill=\"#000000\">gini = 0.0</text>\n<text text-anchor=\"start\" x=\"2330\" y=\"-387.3\" font-family=\"Helvetica,sans-Serif\" font-size=\"14.00\" fill=\"#000000\">samples = 1</text>\n<text text-anchor=\"start\" x=\"2328\" y=\"-372.3\" font-family=\"Helvetica,sans-Serif\" font-size=\"14.00\" fill=\"#000000\">value = [0, 1]</text>\n<text text-anchor=\"start\" x=\"2340.5\" y=\"-357.3\" font-family=\"Helvetica,sans-Serif\" font-size=\"14.00\" fill=\"#000000\">class = o</text>\n</g>\n<!-- 156&#45;&gt;157 -->\n<g id=\"edge157\" class=\"edge\">\n<title>156&#45;&gt;157</title>\n<path fill=\"none\" stroke=\"#000000\" d=\"M2407.8647,-460.8796C2402.4128,-449.8835 2396.5157,-437.9893 2391.0184,-426.9015\"/>\n<polygon fill=\"#000000\" stroke=\"#000000\" points=\"2394.0911,-425.2195 2386.5133,-417.8149 2387.8196,-428.3289 2394.0911,-425.2195\"/>\n</g>\n<!-- 158 -->\n<g id=\"node159\" class=\"node\">\n<title>158</title>\n<path fill=\"#f6d5bd\" stroke=\"#000000\" d=\"M2524,-425C2524,-425 2449,-425 2449,-425 2443,-425 2437,-419 2437,-413 2437,-413 2437,-354 2437,-354 2437,-348 2443,-342 2449,-342 2449,-342 2524,-342 2524,-342 2530,-342 2536,-348 2536,-354 2536,-354 2536,-413 2536,-413 2536,-419 2530,-425 2524,-425\"/>\n<text text-anchor=\"start\" x=\"2445.5\" y=\"-409.8\" font-family=\"Helvetica,sans-Serif\" font-size=\"14.00\" fill=\"#000000\">age ≤ &#45;0.736</text>\n<text text-anchor=\"start\" x=\"2453\" y=\"-394.8\" font-family=\"Helvetica,sans-Serif\" font-size=\"14.00\" fill=\"#000000\">gini = 0.48</text>\n<text text-anchor=\"start\" x=\"2447\" y=\"-379.8\" font-family=\"Helvetica,sans-Serif\" font-size=\"14.00\" fill=\"#000000\">samples = 5</text>\n<text text-anchor=\"start\" x=\"2445\" y=\"-364.8\" font-family=\"Helvetica,sans-Serif\" font-size=\"14.00\" fill=\"#000000\">value = [3, 2]</text>\n<text text-anchor=\"start\" x=\"2460\" y=\"-349.8\" font-family=\"Helvetica,sans-Serif\" font-size=\"14.00\" fill=\"#000000\">class = l</text>\n</g>\n<!-- 156&#45;&gt;158 -->\n<g id=\"edge158\" class=\"edge\">\n<title>156&#45;&gt;158</title>\n<path fill=\"none\" stroke=\"#000000\" d=\"M2448.7856,-460.8796C2452.9557,-452.3236 2457.3909,-443.2238 2461.6997,-434.3833\"/>\n<polygon fill=\"#000000\" stroke=\"#000000\" points=\"2464.8927,-435.8207 2466.1278,-425.2981 2458.6003,-432.7538 2464.8927,-435.8207\"/>\n</g>\n<!-- 159 -->\n<g id=\"node160\" class=\"node\">\n<title>159</title>\n<path fill=\"#ffffff\" stroke=\"#000000\" d=\"M2439,-298.5C2439,-298.5 2364,-298.5 2364,-298.5 2358,-298.5 2352,-292.5 2352,-286.5 2352,-286.5 2352,-242.5 2352,-242.5 2352,-236.5 2358,-230.5 2364,-230.5 2364,-230.5 2439,-230.5 2439,-230.5 2445,-230.5 2451,-236.5 2451,-242.5 2451,-242.5 2451,-286.5 2451,-286.5 2451,-292.5 2445,-298.5 2439,-298.5\"/>\n<text text-anchor=\"start\" x=\"2372\" y=\"-283.3\" font-family=\"Helvetica,sans-Serif\" font-size=\"14.00\" fill=\"#000000\">gini = 0.5</text>\n<text text-anchor=\"start\" x=\"2362\" y=\"-268.3\" font-family=\"Helvetica,sans-Serif\" font-size=\"14.00\" fill=\"#000000\">samples = 2</text>\n<text text-anchor=\"start\" x=\"2360\" y=\"-253.3\" font-family=\"Helvetica,sans-Serif\" font-size=\"14.00\" fill=\"#000000\">value = [1, 1]</text>\n<text text-anchor=\"start\" x=\"2375\" y=\"-238.3\" font-family=\"Helvetica,sans-Serif\" font-size=\"14.00\" fill=\"#000000\">class = l</text>\n</g>\n<!-- 158&#45;&gt;159 -->\n<g id=\"edge159\" class=\"edge\">\n<title>158&#45;&gt;159</title>\n<path fill=\"none\" stroke=\"#000000\" d=\"M2456.7711,-341.8796C2448.7597,-330.6636 2440.0808,-318.5131 2432.0266,-307.2372\"/>\n<polygon fill=\"#000000\" stroke=\"#000000\" points=\"2434.6712,-304.9179 2426.0107,-298.8149 2428.975,-308.9866 2434.6712,-304.9179\"/>\n</g>\n<!-- 160 -->\n<g id=\"node161\" class=\"node\">\n<title>160</title>\n<path fill=\"#f2c09c\" stroke=\"#000000\" d=\"M2556,-298.5C2556,-298.5 2481,-298.5 2481,-298.5 2475,-298.5 2469,-292.5 2469,-286.5 2469,-286.5 2469,-242.5 2469,-242.5 2469,-236.5 2475,-230.5 2481,-230.5 2481,-230.5 2556,-230.5 2556,-230.5 2562,-230.5 2568,-236.5 2568,-242.5 2568,-242.5 2568,-286.5 2568,-286.5 2568,-292.5 2562,-298.5 2556,-298.5\"/>\n<text text-anchor=\"start\" x=\"2480.5\" y=\"-283.3\" font-family=\"Helvetica,sans-Serif\" font-size=\"14.00\" fill=\"#000000\">gini = 0.444</text>\n<text text-anchor=\"start\" x=\"2479\" y=\"-268.3\" font-family=\"Helvetica,sans-Serif\" font-size=\"14.00\" fill=\"#000000\">samples = 3</text>\n<text text-anchor=\"start\" x=\"2477\" y=\"-253.3\" font-family=\"Helvetica,sans-Serif\" font-size=\"14.00\" fill=\"#000000\">value = [2, 1]</text>\n<text text-anchor=\"start\" x=\"2492\" y=\"-238.3\" font-family=\"Helvetica,sans-Serif\" font-size=\"14.00\" fill=\"#000000\">class = l</text>\n</g>\n<!-- 158&#45;&gt;160 -->\n<g id=\"edge160\" class=\"edge\">\n<title>158&#45;&gt;160</title>\n<path fill=\"none\" stroke=\"#000000\" d=\"M2497.692,-341.8796C2500.5898,-331.1034 2503.7196,-319.4647 2506.6499,-308.5677\"/>\n<polygon fill=\"#000000\" stroke=\"#000000\" points=\"2510.0555,-309.3808 2509.2725,-298.8149 2503.2956,-307.563 2510.0555,-309.3808\"/>\n</g>\n<!-- 163 -->\n<g id=\"node164\" class=\"node\">\n<title>163</title>\n<path fill=\"#7bbeee\" stroke=\"#000000\" d=\"M2715.5,-782C2715.5,-782 2613.5,-782 2613.5,-782 2607.5,-782 2601.5,-776 2601.5,-770 2601.5,-770 2601.5,-711 2601.5,-711 2601.5,-705 2607.5,-699 2613.5,-699 2613.5,-699 2715.5,-699 2715.5,-699 2721.5,-699 2727.5,-705 2727.5,-711 2727.5,-711 2727.5,-770 2727.5,-770 2727.5,-776 2721.5,-782 2715.5,-782\"/>\n<text text-anchor=\"start\" x=\"2609.5\" y=\"-766.8\" font-family=\"Helvetica,sans-Serif\" font-size=\"14.00\" fill=\"#000000\">Bechalor ≤ 0.313</text>\n<text text-anchor=\"start\" x=\"2626.5\" y=\"-751.8\" font-family=\"Helvetica,sans-Serif\" font-size=\"14.00\" fill=\"#000000\">gini = 0.375</text>\n<text text-anchor=\"start\" x=\"2625\" y=\"-736.8\" font-family=\"Helvetica,sans-Serif\" font-size=\"14.00\" fill=\"#000000\">samples = 4</text>\n<text text-anchor=\"start\" x=\"2623\" y=\"-721.8\" font-family=\"Helvetica,sans-Serif\" font-size=\"14.00\" fill=\"#000000\">value = [1, 3]</text>\n<text text-anchor=\"start\" x=\"2635.5\" y=\"-706.8\" font-family=\"Helvetica,sans-Serif\" font-size=\"14.00\" fill=\"#000000\">class = o</text>\n</g>\n<!-- 162&#45;&gt;163 -->\n<g id=\"edge163\" class=\"edge\">\n<title>162&#45;&gt;163</title>\n<path fill=\"none\" stroke=\"#000000\" d=\"M2664.5,-817.8796C2664.5,-809.6838 2664.5,-800.9891 2664.5,-792.5013\"/>\n<polygon fill=\"#000000\" stroke=\"#000000\" points=\"2668.0001,-792.298 2664.5,-782.2981 2661.0001,-792.2981 2668.0001,-792.298\"/>\n</g>\n<!-- 168 -->\n<g id=\"node169\" class=\"node\">\n<title>168</title>\n<path fill=\"#fdf5ef\" stroke=\"#000000\" d=\"M2892.5,-782C2892.5,-782 2800.5,-782 2800.5,-782 2794.5,-782 2788.5,-776 2788.5,-770 2788.5,-770 2788.5,-711 2788.5,-711 2788.5,-705 2794.5,-699 2800.5,-699 2800.5,-699 2892.5,-699 2892.5,-699 2898.5,-699 2904.5,-705 2904.5,-711 2904.5,-711 2904.5,-770 2904.5,-770 2904.5,-776 2898.5,-782 2892.5,-782\"/>\n<text text-anchor=\"start\" x=\"2808\" y=\"-766.8\" font-family=\"Helvetica,sans-Serif\" font-size=\"14.00\" fill=\"#000000\">age ≤ 0.259</text>\n<text text-anchor=\"start\" x=\"2808.5\" y=\"-751.8\" font-family=\"Helvetica,sans-Serif\" font-size=\"14.00\" fill=\"#000000\">gini = 0.499</text>\n<text text-anchor=\"start\" x=\"2802.5\" y=\"-736.8\" font-family=\"Helvetica,sans-Serif\" font-size=\"14.00\" fill=\"#000000\">samples = 23</text>\n<text text-anchor=\"start\" x=\"2796.5\" y=\"-721.8\" font-family=\"Helvetica,sans-Serif\" font-size=\"14.00\" fill=\"#000000\">value = [12, 11]</text>\n<text text-anchor=\"start\" x=\"2820\" y=\"-706.8\" font-family=\"Helvetica,sans-Serif\" font-size=\"14.00\" fill=\"#000000\">class = l</text>\n</g>\n<!-- 162&#45;&gt;168 -->\n<g id=\"edge168\" class=\"edge\">\n<title>162&#45;&gt;168</title>\n<path fill=\"none\" stroke=\"#000000\" d=\"M2727.644,-818.2135C2744.4302,-807.238 2762.6159,-795.3473 2779.5955,-784.2452\"/>\n<polygon fill=\"#000000\" stroke=\"#000000\" points=\"2781.8967,-786.9224 2788.351,-778.5205 2778.0659,-781.0636 2781.8967,-786.9224\"/>\n</g>\n<!-- 164 -->\n<g id=\"node165\" class=\"node\">\n<title>164</title>\n<path fill=\"#ffffff\" stroke=\"#000000\" d=\"M2637,-663C2637,-663 2552,-663 2552,-663 2546,-663 2540,-657 2540,-651 2540,-651 2540,-592 2540,-592 2540,-586 2546,-580 2552,-580 2552,-580 2637,-580 2637,-580 2643,-580 2649,-586 2649,-592 2649,-592 2649,-651 2649,-651 2649,-657 2643,-663 2637,-663\"/>\n<text text-anchor=\"start\" x=\"2548\" y=\"-647.8\" font-family=\"Helvetica,sans-Serif\" font-size=\"14.00\" fill=\"#000000\">terms ≤ &#45;0.019</text>\n<text text-anchor=\"start\" x=\"2565\" y=\"-632.8\" font-family=\"Helvetica,sans-Serif\" font-size=\"14.00\" fill=\"#000000\">gini = 0.5</text>\n<text text-anchor=\"start\" x=\"2555\" y=\"-617.8\" font-family=\"Helvetica,sans-Serif\" font-size=\"14.00\" fill=\"#000000\">samples = 2</text>\n<text text-anchor=\"start\" x=\"2553\" y=\"-602.8\" font-family=\"Helvetica,sans-Serif\" font-size=\"14.00\" fill=\"#000000\">value = [1, 1]</text>\n<text text-anchor=\"start\" x=\"2568\" y=\"-587.8\" font-family=\"Helvetica,sans-Serif\" font-size=\"14.00\" fill=\"#000000\">class = l</text>\n</g>\n<!-- 163&#45;&gt;164 -->\n<g id=\"edge164\" class=\"edge\">\n<title>163&#45;&gt;164</title>\n<path fill=\"none\" stroke=\"#000000\" d=\"M2640.0174,-698.8796C2634.9315,-690.2335 2629.5189,-681.0322 2624.2672,-672.1042\"/>\n<polygon fill=\"#000000\" stroke=\"#000000\" points=\"2627.1741,-670.1428 2619.0871,-663.2981 2621.1406,-673.692 2627.1741,-670.1428\"/>\n</g>\n<!-- 167 -->\n<g id=\"node168\" class=\"node\">\n<title>167</title>\n<path fill=\"#399de5\" stroke=\"#000000\" d=\"M2754,-655.5C2754,-655.5 2679,-655.5 2679,-655.5 2673,-655.5 2667,-649.5 2667,-643.5 2667,-643.5 2667,-599.5 2667,-599.5 2667,-593.5 2673,-587.5 2679,-587.5 2679,-587.5 2754,-587.5 2754,-587.5 2760,-587.5 2766,-593.5 2766,-599.5 2766,-599.5 2766,-643.5 2766,-643.5 2766,-649.5 2760,-655.5 2754,-655.5\"/>\n<text text-anchor=\"start\" x=\"2687\" y=\"-640.3\" font-family=\"Helvetica,sans-Serif\" font-size=\"14.00\" fill=\"#000000\">gini = 0.0</text>\n<text text-anchor=\"start\" x=\"2677\" y=\"-625.3\" font-family=\"Helvetica,sans-Serif\" font-size=\"14.00\" fill=\"#000000\">samples = 2</text>\n<text text-anchor=\"start\" x=\"2675\" y=\"-610.3\" font-family=\"Helvetica,sans-Serif\" font-size=\"14.00\" fill=\"#000000\">value = [0, 2]</text>\n<text text-anchor=\"start\" x=\"2687.5\" y=\"-595.3\" font-family=\"Helvetica,sans-Serif\" font-size=\"14.00\" fill=\"#000000\">class = o</text>\n</g>\n<!-- 163&#45;&gt;167 -->\n<g id=\"edge167\" class=\"edge\">\n<title>163&#45;&gt;167</title>\n<path fill=\"none\" stroke=\"#000000\" d=\"M2682.6871,-698.8796C2687.444,-687.9935 2692.5857,-676.227 2697.3892,-665.2344\"/>\n<polygon fill=\"#000000\" stroke=\"#000000\" points=\"2700.7082,-666.3798 2701.5052,-655.8149 2694.2939,-663.5768 2700.7082,-666.3798\"/>\n</g>\n<!-- 165 -->\n<g id=\"node166\" class=\"node\">\n<title>165</title>\n<path fill=\"#399de5\" stroke=\"#000000\" d=\"M2588,-536.5C2588,-536.5 2513,-536.5 2513,-536.5 2507,-536.5 2501,-530.5 2501,-524.5 2501,-524.5 2501,-480.5 2501,-480.5 2501,-474.5 2507,-468.5 2513,-468.5 2513,-468.5 2588,-468.5 2588,-468.5 2594,-468.5 2600,-474.5 2600,-480.5 2600,-480.5 2600,-524.5 2600,-524.5 2600,-530.5 2594,-536.5 2588,-536.5\"/>\n<text text-anchor=\"start\" x=\"2521\" y=\"-521.3\" font-family=\"Helvetica,sans-Serif\" font-size=\"14.00\" fill=\"#000000\">gini = 0.0</text>\n<text text-anchor=\"start\" x=\"2511\" y=\"-506.3\" font-family=\"Helvetica,sans-Serif\" font-size=\"14.00\" fill=\"#000000\">samples = 1</text>\n<text text-anchor=\"start\" x=\"2509\" y=\"-491.3\" font-family=\"Helvetica,sans-Serif\" font-size=\"14.00\" fill=\"#000000\">value = [0, 1]</text>\n<text text-anchor=\"start\" x=\"2521.5\" y=\"-476.3\" font-family=\"Helvetica,sans-Serif\" font-size=\"14.00\" fill=\"#000000\">class = o</text>\n</g>\n<!-- 164&#45;&gt;165 -->\n<g id=\"edge165\" class=\"edge\">\n<title>164&#45;&gt;165</title>\n<path fill=\"none\" stroke=\"#000000\" d=\"M2579.1109,-579.8796C2575.0858,-568.9935 2570.7352,-557.227 2566.6707,-546.2344\"/>\n<polygon fill=\"#000000\" stroke=\"#000000\" points=\"2569.9387,-544.9805 2563.1879,-536.8149 2563.3732,-547.4082 2569.9387,-544.9805\"/>\n</g>\n<!-- 166 -->\n<g id=\"node167\" class=\"node\">\n<title>166</title>\n<path fill=\"#e58139\" stroke=\"#000000\" d=\"M2705,-536.5C2705,-536.5 2630,-536.5 2630,-536.5 2624,-536.5 2618,-530.5 2618,-524.5 2618,-524.5 2618,-480.5 2618,-480.5 2618,-474.5 2624,-468.5 2630,-468.5 2630,-468.5 2705,-468.5 2705,-468.5 2711,-468.5 2717,-474.5 2717,-480.5 2717,-480.5 2717,-524.5 2717,-524.5 2717,-530.5 2711,-536.5 2705,-536.5\"/>\n<text text-anchor=\"start\" x=\"2638\" y=\"-521.3\" font-family=\"Helvetica,sans-Serif\" font-size=\"14.00\" fill=\"#000000\">gini = 0.0</text>\n<text text-anchor=\"start\" x=\"2628\" y=\"-506.3\" font-family=\"Helvetica,sans-Serif\" font-size=\"14.00\" fill=\"#000000\">samples = 1</text>\n<text text-anchor=\"start\" x=\"2626\" y=\"-491.3\" font-family=\"Helvetica,sans-Serif\" font-size=\"14.00\" fill=\"#000000\">value = [1, 0]</text>\n<text text-anchor=\"start\" x=\"2641\" y=\"-476.3\" font-family=\"Helvetica,sans-Serif\" font-size=\"14.00\" fill=\"#000000\">class = l</text>\n</g>\n<!-- 164&#45;&gt;166 -->\n<g id=\"edge166\" class=\"edge\">\n<title>164&#45;&gt;166</title>\n<path fill=\"none\" stroke=\"#000000\" d=\"M2620.0319,-579.8796C2626.8448,-568.7735 2634.2198,-556.7513 2641.0794,-545.5691\"/>\n<polygon fill=\"#000000\" stroke=\"#000000\" points=\"2644.204,-547.1691 2646.4497,-536.8149 2638.2372,-543.5087 2644.204,-547.1691\"/>\n</g>\n<!-- 169 -->\n<g id=\"node170\" class=\"node\">\n<title>169</title>\n<path fill=\"#cee6f8\" stroke=\"#000000\" d=\"M2889,-663C2889,-663 2804,-663 2804,-663 2798,-663 2792,-657 2792,-651 2792,-651 2792,-592 2792,-592 2792,-586 2798,-580 2804,-580 2804,-580 2889,-580 2889,-580 2895,-580 2901,-586 2901,-592 2901,-592 2901,-651 2901,-651 2901,-657 2895,-663 2889,-663\"/>\n<text text-anchor=\"start\" x=\"2800\" y=\"-647.8\" font-family=\"Helvetica,sans-Serif\" font-size=\"14.00\" fill=\"#000000\">terms ≤ &#45;0.019</text>\n<text text-anchor=\"start\" x=\"2813\" y=\"-632.8\" font-family=\"Helvetica,sans-Serif\" font-size=\"14.00\" fill=\"#000000\">gini = 0.49</text>\n<text text-anchor=\"start\" x=\"2802.5\" y=\"-617.8\" font-family=\"Helvetica,sans-Serif\" font-size=\"14.00\" fill=\"#000000\">samples = 14</text>\n<text text-anchor=\"start\" x=\"2805\" y=\"-602.8\" font-family=\"Helvetica,sans-Serif\" font-size=\"14.00\" fill=\"#000000\">value = [6, 8]</text>\n<text text-anchor=\"start\" x=\"2817.5\" y=\"-587.8\" font-family=\"Helvetica,sans-Serif\" font-size=\"14.00\" fill=\"#000000\">class = o</text>\n</g>\n<!-- 168&#45;&gt;169 -->\n<g id=\"edge169\" class=\"edge\">\n<title>168&#45;&gt;169</title>\n<path fill=\"none\" stroke=\"#000000\" d=\"M2846.5,-698.8796C2846.5,-690.6838 2846.5,-681.9891 2846.5,-673.5013\"/>\n<polygon fill=\"#000000\" stroke=\"#000000\" points=\"2850.0001,-673.298 2846.5,-663.2981 2843.0001,-673.2981 2850.0001,-673.298\"/>\n</g>\n<!-- 182 -->\n<g id=\"node183\" class=\"node\">\n<title>182</title>\n<path fill=\"#f2c09c\" stroke=\"#000000\" d=\"M3061,-663C3061,-663 2976,-663 2976,-663 2970,-663 2964,-657 2964,-651 2964,-651 2964,-592 2964,-592 2964,-586 2970,-580 2976,-580 2976,-580 3061,-580 3061,-580 3067,-580 3073,-586 3073,-592 3073,-592 3073,-651 3073,-651 3073,-657 3067,-663 3061,-663\"/>\n<text text-anchor=\"start\" x=\"2972\" y=\"-647.8\" font-family=\"Helvetica,sans-Serif\" font-size=\"14.00\" fill=\"#000000\">terms ≤ &#45;0.019</text>\n<text text-anchor=\"start\" x=\"2980.5\" y=\"-632.8\" font-family=\"Helvetica,sans-Serif\" font-size=\"14.00\" fill=\"#000000\">gini = 0.444</text>\n<text text-anchor=\"start\" x=\"2979\" y=\"-617.8\" font-family=\"Helvetica,sans-Serif\" font-size=\"14.00\" fill=\"#000000\">samples = 9</text>\n<text text-anchor=\"start\" x=\"2977\" y=\"-602.8\" font-family=\"Helvetica,sans-Serif\" font-size=\"14.00\" fill=\"#000000\">value = [6, 3]</text>\n<text text-anchor=\"start\" x=\"2992\" y=\"-587.8\" font-family=\"Helvetica,sans-Serif\" font-size=\"14.00\" fill=\"#000000\">class = l</text>\n</g>\n<!-- 168&#45;&gt;182 -->\n<g id=\"edge182\" class=\"edge\">\n<title>168&#45;&gt;182</title>\n<path fill=\"none\" stroke=\"#000000\" d=\"M2904.7314,-700.212C2920.9977,-688.958 2938.7488,-676.6767 2955.288,-665.2339\"/>\n<polygon fill=\"#000000\" stroke=\"#000000\" points=\"2957.58,-667.9042 2963.8122,-659.3363 2953.5972,-662.1477 2957.58,-667.9042\"/>\n</g>\n<!-- 170 -->\n<g id=\"node171\" class=\"node\">\n<title>170</title>\n<path fill=\"#ffffff\" stroke=\"#000000\" d=\"M2822,-544C2822,-544 2747,-544 2747,-544 2741,-544 2735,-538 2735,-532 2735,-532 2735,-473 2735,-473 2735,-467 2741,-461 2747,-461 2747,-461 2822,-461 2822,-461 2828,-461 2834,-467 2834,-473 2834,-473 2834,-532 2834,-532 2834,-538 2828,-544 2822,-544\"/>\n<text text-anchor=\"start\" x=\"2743.5\" y=\"-528.8\" font-family=\"Helvetica,sans-Serif\" font-size=\"14.00\" fill=\"#000000\">age ≤ &#45;0.239</text>\n<text text-anchor=\"start\" x=\"2755\" y=\"-513.8\" font-family=\"Helvetica,sans-Serif\" font-size=\"14.00\" fill=\"#000000\">gini = 0.5</text>\n<text text-anchor=\"start\" x=\"2745\" y=\"-498.8\" font-family=\"Helvetica,sans-Serif\" font-size=\"14.00\" fill=\"#000000\">samples = 6</text>\n<text text-anchor=\"start\" x=\"2743\" y=\"-483.8\" font-family=\"Helvetica,sans-Serif\" font-size=\"14.00\" fill=\"#000000\">value = [3, 3]</text>\n<text text-anchor=\"start\" x=\"2758\" y=\"-468.8\" font-family=\"Helvetica,sans-Serif\" font-size=\"14.00\" fill=\"#000000\">class = l</text>\n</g>\n<!-- 169&#45;&gt;170 -->\n<g id=\"edge170\" class=\"edge\">\n<title>169&#45;&gt;170</title>\n<path fill=\"none\" stroke=\"#000000\" d=\"M2824.8154,-579.8796C2820.3577,-571.3236 2815.6166,-562.2238 2811.0106,-553.3833\"/>\n<polygon fill=\"#000000\" stroke=\"#000000\" points=\"2814.0017,-551.5494 2806.2771,-544.2981 2807.7938,-554.7838 2814.0017,-551.5494\"/>\n</g>\n<!-- 175 -->\n<g id=\"node176\" class=\"node\">\n<title>175</title>\n<path fill=\"#b0d8f5\" stroke=\"#000000\" d=\"M2939,-544C2939,-544 2864,-544 2864,-544 2858,-544 2852,-538 2852,-532 2852,-532 2852,-473 2852,-473 2852,-467 2858,-461 2864,-461 2864,-461 2939,-461 2939,-461 2945,-461 2951,-467 2951,-473 2951,-473 2951,-532 2951,-532 2951,-538 2945,-544 2939,-544\"/>\n<text text-anchor=\"start\" x=\"2860.5\" y=\"-528.8\" font-family=\"Helvetica,sans-Serif\" font-size=\"14.00\" fill=\"#000000\">age ≤ &#45;0.239</text>\n<text text-anchor=\"start\" x=\"2863.5\" y=\"-513.8\" font-family=\"Helvetica,sans-Serif\" font-size=\"14.00\" fill=\"#000000\">gini = 0.469</text>\n<text text-anchor=\"start\" x=\"2862\" y=\"-498.8\" font-family=\"Helvetica,sans-Serif\" font-size=\"14.00\" fill=\"#000000\">samples = 8</text>\n<text text-anchor=\"start\" x=\"2860\" y=\"-483.8\" font-family=\"Helvetica,sans-Serif\" font-size=\"14.00\" fill=\"#000000\">value = [3, 5]</text>\n<text text-anchor=\"start\" x=\"2872.5\" y=\"-468.8\" font-family=\"Helvetica,sans-Serif\" font-size=\"14.00\" fill=\"#000000\">class = o</text>\n</g>\n<!-- 169&#45;&gt;175 -->\n<g id=\"edge175\" class=\"edge\">\n<title>169&#45;&gt;175</title>\n<path fill=\"none\" stroke=\"#000000\" d=\"M2865.7363,-579.8796C2869.6908,-571.3236 2873.8966,-562.2238 2877.9825,-553.3833\"/>\n<polygon fill=\"#000000\" stroke=\"#000000\" points=\"2881.1632,-554.8439 2882.1816,-544.2981 2874.809,-551.907 2881.1632,-554.8439\"/>\n</g>\n<!-- 171 -->\n<g id=\"node172\" class=\"node\">\n<title>171</title>\n<path fill=\"#e58139\" stroke=\"#000000\" d=\"M2705,-417.5C2705,-417.5 2630,-417.5 2630,-417.5 2624,-417.5 2618,-411.5 2618,-405.5 2618,-405.5 2618,-361.5 2618,-361.5 2618,-355.5 2624,-349.5 2630,-349.5 2630,-349.5 2705,-349.5 2705,-349.5 2711,-349.5 2717,-355.5 2717,-361.5 2717,-361.5 2717,-405.5 2717,-405.5 2717,-411.5 2711,-417.5 2705,-417.5\"/>\n<text text-anchor=\"start\" x=\"2638\" y=\"-402.3\" font-family=\"Helvetica,sans-Serif\" font-size=\"14.00\" fill=\"#000000\">gini = 0.0</text>\n<text text-anchor=\"start\" x=\"2628\" y=\"-387.3\" font-family=\"Helvetica,sans-Serif\" font-size=\"14.00\" fill=\"#000000\">samples = 1</text>\n<text text-anchor=\"start\" x=\"2626\" y=\"-372.3\" font-family=\"Helvetica,sans-Serif\" font-size=\"14.00\" fill=\"#000000\">value = [1, 0]</text>\n<text text-anchor=\"start\" x=\"2641\" y=\"-357.3\" font-family=\"Helvetica,sans-Serif\" font-size=\"14.00\" fill=\"#000000\">class = l</text>\n</g>\n<!-- 170&#45;&gt;171 -->\n<g id=\"edge171\" class=\"edge\">\n<title>170&#45;&gt;171</title>\n<path fill=\"none\" stroke=\"#000000\" d=\"M2743.5791,-460.8796C2732.2272,-449.3337 2719.9018,-436.7976 2708.543,-425.2446\"/>\n<polygon fill=\"#000000\" stroke=\"#000000\" points=\"2710.7449,-422.4919 2701.2382,-417.8149 2705.7534,-427.3995 2710.7449,-422.4919\"/>\n</g>\n<!-- 172 -->\n<g id=\"node173\" class=\"node\">\n<title>172</title>\n<path fill=\"#bddef6\" stroke=\"#000000\" d=\"M2822,-425C2822,-425 2747,-425 2747,-425 2741,-425 2735,-419 2735,-413 2735,-413 2735,-354 2735,-354 2735,-348 2741,-342 2747,-342 2747,-342 2822,-342 2822,-342 2828,-342 2834,-348 2834,-354 2834,-354 2834,-413 2834,-413 2834,-419 2828,-425 2822,-425\"/>\n<text text-anchor=\"start\" x=\"2743.5\" y=\"-409.8\" font-family=\"Helvetica,sans-Serif\" font-size=\"14.00\" fill=\"#000000\">age ≤ &#45;0.073</text>\n<text text-anchor=\"start\" x=\"2751\" y=\"-394.8\" font-family=\"Helvetica,sans-Serif\" font-size=\"14.00\" fill=\"#000000\">gini = 0.48</text>\n<text text-anchor=\"start\" x=\"2745\" y=\"-379.8\" font-family=\"Helvetica,sans-Serif\" font-size=\"14.00\" fill=\"#000000\">samples = 5</text>\n<text text-anchor=\"start\" x=\"2743\" y=\"-364.8\" font-family=\"Helvetica,sans-Serif\" font-size=\"14.00\" fill=\"#000000\">value = [2, 3]</text>\n<text text-anchor=\"start\" x=\"2755.5\" y=\"-349.8\" font-family=\"Helvetica,sans-Serif\" font-size=\"14.00\" fill=\"#000000\">class = o</text>\n</g>\n<!-- 170&#45;&gt;172 -->\n<g id=\"edge172\" class=\"edge\">\n<title>170&#45;&gt;172</title>\n<path fill=\"none\" stroke=\"#000000\" d=\"M2784.5,-460.8796C2784.5,-452.6838 2784.5,-443.9891 2784.5,-435.5013\"/>\n<polygon fill=\"#000000\" stroke=\"#000000\" points=\"2788.0001,-435.298 2784.5,-425.2981 2781.0001,-435.2981 2788.0001,-435.298\"/>\n</g>\n<!-- 173 -->\n<g id=\"node174\" class=\"node\">\n<title>173</title>\n<path fill=\"#9ccef2\" stroke=\"#000000\" d=\"M2734,-298.5C2734,-298.5 2659,-298.5 2659,-298.5 2653,-298.5 2647,-292.5 2647,-286.5 2647,-286.5 2647,-242.5 2647,-242.5 2647,-236.5 2653,-230.5 2659,-230.5 2659,-230.5 2734,-230.5 2734,-230.5 2740,-230.5 2746,-236.5 2746,-242.5 2746,-242.5 2746,-286.5 2746,-286.5 2746,-292.5 2740,-298.5 2734,-298.5\"/>\n<text text-anchor=\"start\" x=\"2658.5\" y=\"-283.3\" font-family=\"Helvetica,sans-Serif\" font-size=\"14.00\" fill=\"#000000\">gini = 0.444</text>\n<text text-anchor=\"start\" x=\"2657\" y=\"-268.3\" font-family=\"Helvetica,sans-Serif\" font-size=\"14.00\" fill=\"#000000\">samples = 3</text>\n<text text-anchor=\"start\" x=\"2655\" y=\"-253.3\" font-family=\"Helvetica,sans-Serif\" font-size=\"14.00\" fill=\"#000000\">value = [1, 2]</text>\n<text text-anchor=\"start\" x=\"2667.5\" y=\"-238.3\" font-family=\"Helvetica,sans-Serif\" font-size=\"14.00\" fill=\"#000000\">class = o</text>\n</g>\n<!-- 172&#45;&gt;173 -->\n<g id=\"edge173\" class=\"edge\">\n<title>172&#45;&gt;173</title>\n<path fill=\"none\" stroke=\"#000000\" d=\"M2753.7219,-341.8796C2745.3464,-330.5536 2736.2662,-318.2748 2727.8589,-306.9058\"/>\n<polygon fill=\"#000000\" stroke=\"#000000\" points=\"2730.6357,-304.7743 2721.8758,-298.8149 2725.0075,-308.9364 2730.6357,-304.7743\"/>\n</g>\n<!-- 174 -->\n<g id=\"node175\" class=\"node\">\n<title>174</title>\n<path fill=\"#ffffff\" stroke=\"#000000\" d=\"M2851,-298.5C2851,-298.5 2776,-298.5 2776,-298.5 2770,-298.5 2764,-292.5 2764,-286.5 2764,-286.5 2764,-242.5 2764,-242.5 2764,-236.5 2770,-230.5 2776,-230.5 2776,-230.5 2851,-230.5 2851,-230.5 2857,-230.5 2863,-236.5 2863,-242.5 2863,-242.5 2863,-286.5 2863,-286.5 2863,-292.5 2857,-298.5 2851,-298.5\"/>\n<text text-anchor=\"start\" x=\"2784\" y=\"-283.3\" font-family=\"Helvetica,sans-Serif\" font-size=\"14.00\" fill=\"#000000\">gini = 0.5</text>\n<text text-anchor=\"start\" x=\"2774\" y=\"-268.3\" font-family=\"Helvetica,sans-Serif\" font-size=\"14.00\" fill=\"#000000\">samples = 2</text>\n<text text-anchor=\"start\" x=\"2772\" y=\"-253.3\" font-family=\"Helvetica,sans-Serif\" font-size=\"14.00\" fill=\"#000000\">value = [1, 1]</text>\n<text text-anchor=\"start\" x=\"2787\" y=\"-238.3\" font-family=\"Helvetica,sans-Serif\" font-size=\"14.00\" fill=\"#000000\">class = l</text>\n</g>\n<!-- 172&#45;&gt;174 -->\n<g id=\"edge174\" class=\"edge\">\n<title>172&#45;&gt;174</title>\n<path fill=\"none\" stroke=\"#000000\" d=\"M2794.6428,-341.8796C2797.2689,-331.1034 2800.1052,-319.4647 2802.7608,-308.5677\"/>\n<polygon fill=\"#000000\" stroke=\"#000000\" points=\"2806.1703,-309.3593 2805.1375,-298.8149 2799.3693,-307.7019 2806.1703,-309.3593\"/>\n</g>\n<!-- 176 -->\n<g id=\"node177\" class=\"node\">\n<title>176</title>\n<path fill=\"#399de5\" stroke=\"#000000\" d=\"M2939,-417.5C2939,-417.5 2864,-417.5 2864,-417.5 2858,-417.5 2852,-411.5 2852,-405.5 2852,-405.5 2852,-361.5 2852,-361.5 2852,-355.5 2858,-349.5 2864,-349.5 2864,-349.5 2939,-349.5 2939,-349.5 2945,-349.5 2951,-355.5 2951,-361.5 2951,-361.5 2951,-405.5 2951,-405.5 2951,-411.5 2945,-417.5 2939,-417.5\"/>\n<text text-anchor=\"start\" x=\"2872\" y=\"-402.3\" font-family=\"Helvetica,sans-Serif\" font-size=\"14.00\" fill=\"#000000\">gini = 0.0</text>\n<text text-anchor=\"start\" x=\"2862\" y=\"-387.3\" font-family=\"Helvetica,sans-Serif\" font-size=\"14.00\" fill=\"#000000\">samples = 1</text>\n<text text-anchor=\"start\" x=\"2860\" y=\"-372.3\" font-family=\"Helvetica,sans-Serif\" font-size=\"14.00\" fill=\"#000000\">value = [0, 1]</text>\n<text text-anchor=\"start\" x=\"2872.5\" y=\"-357.3\" font-family=\"Helvetica,sans-Serif\" font-size=\"14.00\" fill=\"#000000\">class = o</text>\n</g>\n<!-- 175&#45;&gt;176 -->\n<g id=\"edge176\" class=\"edge\">\n<title>175&#45;&gt;176</title>\n<path fill=\"none\" stroke=\"#000000\" d=\"M2901.5,-460.8796C2901.5,-450.2134 2901.5,-438.7021 2901.5,-427.9015\"/>\n<polygon fill=\"#000000\" stroke=\"#000000\" points=\"2905.0001,-427.8149 2901.5,-417.8149 2898.0001,-427.815 2905.0001,-427.8149\"/>\n</g>\n<!-- 177 -->\n<g id=\"node178\" class=\"node\">\n<title>177</title>\n<path fill=\"#cee6f8\" stroke=\"#000000\" d=\"M3056,-425C3056,-425 2981,-425 2981,-425 2975,-425 2969,-419 2969,-413 2969,-413 2969,-354 2969,-354 2969,-348 2975,-342 2981,-342 2981,-342 3056,-342 3056,-342 3062,-342 3068,-348 3068,-354 3068,-354 3068,-413 3068,-413 3068,-419 3062,-425 3056,-425\"/>\n<text text-anchor=\"start\" x=\"2980\" y=\"-409.8\" font-family=\"Helvetica,sans-Serif\" font-size=\"14.00\" fill=\"#000000\">age ≤ 0.093</text>\n<text text-anchor=\"start\" x=\"2985\" y=\"-394.8\" font-family=\"Helvetica,sans-Serif\" font-size=\"14.00\" fill=\"#000000\">gini = 0.49</text>\n<text text-anchor=\"start\" x=\"2979\" y=\"-379.8\" font-family=\"Helvetica,sans-Serif\" font-size=\"14.00\" fill=\"#000000\">samples = 7</text>\n<text text-anchor=\"start\" x=\"2977\" y=\"-364.8\" font-family=\"Helvetica,sans-Serif\" font-size=\"14.00\" fill=\"#000000\">value = [3, 4]</text>\n<text text-anchor=\"start\" x=\"2989.5\" y=\"-349.8\" font-family=\"Helvetica,sans-Serif\" font-size=\"14.00\" fill=\"#000000\">class = o</text>\n</g>\n<!-- 175&#45;&gt;177 -->\n<g id=\"edge177\" class=\"edge\">\n<title>175&#45;&gt;177</title>\n<path fill=\"none\" stroke=\"#000000\" d=\"M2942.4209,-460.8796C2951.453,-451.6931 2961.1013,-441.8798 2970.3888,-432.4336\"/>\n<polygon fill=\"#000000\" stroke=\"#000000\" points=\"2972.8893,-434.8827 2977.4044,-425.2981 2967.8977,-429.975 2972.8893,-434.8827\"/>\n</g>\n<!-- 178 -->\n<g id=\"node179\" class=\"node\">\n<title>178</title>\n<path fill=\"#ffffff\" stroke=\"#000000\" d=\"M3026,-306C3026,-306 2951,-306 2951,-306 2945,-306 2939,-300 2939,-294 2939,-294 2939,-235 2939,-235 2939,-229 2945,-223 2951,-223 2951,-223 3026,-223 3026,-223 3032,-223 3038,-229 3038,-235 3038,-235 3038,-294 3038,-294 3038,-300 3032,-306 3026,-306\"/>\n<text text-anchor=\"start\" x=\"2947.5\" y=\"-290.8\" font-family=\"Helvetica,sans-Serif\" font-size=\"14.00\" fill=\"#000000\">age ≤ &#45;0.073</text>\n<text text-anchor=\"start\" x=\"2959\" y=\"-275.8\" font-family=\"Helvetica,sans-Serif\" font-size=\"14.00\" fill=\"#000000\">gini = 0.5</text>\n<text text-anchor=\"start\" x=\"2949\" y=\"-260.8\" font-family=\"Helvetica,sans-Serif\" font-size=\"14.00\" fill=\"#000000\">samples = 4</text>\n<text text-anchor=\"start\" x=\"2947\" y=\"-245.8\" font-family=\"Helvetica,sans-Serif\" font-size=\"14.00\" fill=\"#000000\">value = [2, 2]</text>\n<text text-anchor=\"start\" x=\"2962\" y=\"-230.8\" font-family=\"Helvetica,sans-Serif\" font-size=\"14.00\" fill=\"#000000\">class = l</text>\n</g>\n<!-- 177&#45;&gt;178 -->\n<g id=\"edge178\" class=\"edge\">\n<title>177&#45;&gt;178</title>\n<path fill=\"none\" stroke=\"#000000\" d=\"M3008.0075,-341.8796C3005.9186,-333.5938 3003.7012,-324.798 3001.5391,-316.2216\"/>\n<polygon fill=\"#000000\" stroke=\"#000000\" points=\"3004.8757,-315.1391 2999.0373,-306.2981 2998.0881,-316.8503 3004.8757,-315.1391\"/>\n</g>\n<!-- 181 -->\n<g id=\"node182\" class=\"node\">\n<title>181</title>\n<path fill=\"#9ccef2\" stroke=\"#000000\" d=\"M3143,-298.5C3143,-298.5 3068,-298.5 3068,-298.5 3062,-298.5 3056,-292.5 3056,-286.5 3056,-286.5 3056,-242.5 3056,-242.5 3056,-236.5 3062,-230.5 3068,-230.5 3068,-230.5 3143,-230.5 3143,-230.5 3149,-230.5 3155,-236.5 3155,-242.5 3155,-242.5 3155,-286.5 3155,-286.5 3155,-292.5 3149,-298.5 3143,-298.5\"/>\n<text text-anchor=\"start\" x=\"3067.5\" y=\"-283.3\" font-family=\"Helvetica,sans-Serif\" font-size=\"14.00\" fill=\"#000000\">gini = 0.444</text>\n<text text-anchor=\"start\" x=\"3066\" y=\"-268.3\" font-family=\"Helvetica,sans-Serif\" font-size=\"14.00\" fill=\"#000000\">samples = 3</text>\n<text text-anchor=\"start\" x=\"3064\" y=\"-253.3\" font-family=\"Helvetica,sans-Serif\" font-size=\"14.00\" fill=\"#000000\">value = [1, 2]</text>\n<text text-anchor=\"start\" x=\"3076.5\" y=\"-238.3\" font-family=\"Helvetica,sans-Serif\" font-size=\"14.00\" fill=\"#000000\">class = o</text>\n</g>\n<!-- 177&#45;&gt;181 -->\n<g id=\"edge181\" class=\"edge\">\n<title>177&#45;&gt;181</title>\n<path fill=\"none\" stroke=\"#000000\" d=\"M3048.9284,-341.8796C3057.2087,-330.5536 3066.1857,-318.2748 3074.4974,-306.9058\"/>\n<polygon fill=\"#000000\" stroke=\"#000000\" points=\"3077.3361,-308.9533 3080.4126,-298.8149 3071.6853,-304.822 3077.3361,-308.9533\"/>\n</g>\n<!-- 179 -->\n<g id=\"node180\" class=\"node\">\n<title>179</title>\n<path fill=\"#ffffff\" stroke=\"#000000\" d=\"M2967,-179.5C2967,-179.5 2892,-179.5 2892,-179.5 2886,-179.5 2880,-173.5 2880,-167.5 2880,-167.5 2880,-123.5 2880,-123.5 2880,-117.5 2886,-111.5 2892,-111.5 2892,-111.5 2967,-111.5 2967,-111.5 2973,-111.5 2979,-117.5 2979,-123.5 2979,-123.5 2979,-167.5 2979,-167.5 2979,-173.5 2973,-179.5 2967,-179.5\"/>\n<text text-anchor=\"start\" x=\"2900\" y=\"-164.3\" font-family=\"Helvetica,sans-Serif\" font-size=\"14.00\" fill=\"#000000\">gini = 0.5</text>\n<text text-anchor=\"start\" x=\"2890\" y=\"-149.3\" font-family=\"Helvetica,sans-Serif\" font-size=\"14.00\" fill=\"#000000\">samples = 2</text>\n<text text-anchor=\"start\" x=\"2888\" y=\"-134.3\" font-family=\"Helvetica,sans-Serif\" font-size=\"14.00\" fill=\"#000000\">value = [1, 1]</text>\n<text text-anchor=\"start\" x=\"2903\" y=\"-119.3\" font-family=\"Helvetica,sans-Serif\" font-size=\"14.00\" fill=\"#000000\">class = l</text>\n</g>\n<!-- 178&#45;&gt;179 -->\n<g id=\"edge179\" class=\"edge\">\n<title>178&#45;&gt;179</title>\n<path fill=\"none\" stroke=\"#000000\" d=\"M2967.8647,-222.8796C2962.4128,-211.8835 2956.5157,-199.9893 2951.0184,-188.9015\"/>\n<polygon fill=\"#000000\" stroke=\"#000000\" points=\"2954.0911,-187.2195 2946.5133,-179.8149 2947.8196,-190.3289 2954.0911,-187.2195\"/>\n</g>\n<!-- 180 -->\n<g id=\"node181\" class=\"node\">\n<title>180</title>\n<path fill=\"#ffffff\" stroke=\"#000000\" d=\"M3084,-179.5C3084,-179.5 3009,-179.5 3009,-179.5 3003,-179.5 2997,-173.5 2997,-167.5 2997,-167.5 2997,-123.5 2997,-123.5 2997,-117.5 3003,-111.5 3009,-111.5 3009,-111.5 3084,-111.5 3084,-111.5 3090,-111.5 3096,-117.5 3096,-123.5 3096,-123.5 3096,-167.5 3096,-167.5 3096,-173.5 3090,-179.5 3084,-179.5\"/>\n<text text-anchor=\"start\" x=\"3017\" y=\"-164.3\" font-family=\"Helvetica,sans-Serif\" font-size=\"14.00\" fill=\"#000000\">gini = 0.5</text>\n<text text-anchor=\"start\" x=\"3007\" y=\"-149.3\" font-family=\"Helvetica,sans-Serif\" font-size=\"14.00\" fill=\"#000000\">samples = 2</text>\n<text text-anchor=\"start\" x=\"3005\" y=\"-134.3\" font-family=\"Helvetica,sans-Serif\" font-size=\"14.00\" fill=\"#000000\">value = [1, 1]</text>\n<text text-anchor=\"start\" x=\"3020\" y=\"-119.3\" font-family=\"Helvetica,sans-Serif\" font-size=\"14.00\" fill=\"#000000\">class = l</text>\n</g>\n<!-- 178&#45;&gt;180 -->\n<g id=\"edge180\" class=\"edge\">\n<title>178&#45;&gt;180</title>\n<path fill=\"none\" stroke=\"#000000\" d=\"M3008.7856,-222.8796C3014.145,-211.8835 3019.9422,-199.9893 3025.3463,-188.9015\"/>\n<polygon fill=\"#000000\" stroke=\"#000000\" points=\"3028.54,-190.3375 3029.7751,-179.8149 3022.2476,-187.2706 3028.54,-190.3375\"/>\n</g>\n<!-- 183 -->\n<g id=\"node184\" class=\"node\">\n<title>183</title>\n<path fill=\"#ffffff\" stroke=\"#000000\" d=\"M3056,-536.5C3056,-536.5 2981,-536.5 2981,-536.5 2975,-536.5 2969,-530.5 2969,-524.5 2969,-524.5 2969,-480.5 2969,-480.5 2969,-474.5 2975,-468.5 2981,-468.5 2981,-468.5 3056,-468.5 3056,-468.5 3062,-468.5 3068,-474.5 3068,-480.5 3068,-480.5 3068,-524.5 3068,-524.5 3068,-530.5 3062,-536.5 3056,-536.5\"/>\n<text text-anchor=\"start\" x=\"2989\" y=\"-521.3\" font-family=\"Helvetica,sans-Serif\" font-size=\"14.00\" fill=\"#000000\">gini = 0.5</text>\n<text text-anchor=\"start\" x=\"2979\" y=\"-506.3\" font-family=\"Helvetica,sans-Serif\" font-size=\"14.00\" fill=\"#000000\">samples = 2</text>\n<text text-anchor=\"start\" x=\"2977\" y=\"-491.3\" font-family=\"Helvetica,sans-Serif\" font-size=\"14.00\" fill=\"#000000\">value = [1, 1]</text>\n<text text-anchor=\"start\" x=\"2992\" y=\"-476.3\" font-family=\"Helvetica,sans-Serif\" font-size=\"14.00\" fill=\"#000000\">class = l</text>\n</g>\n<!-- 182&#45;&gt;183 -->\n<g id=\"edge183\" class=\"edge\">\n<title>182&#45;&gt;183</title>\n<path fill=\"none\" stroke=\"#000000\" d=\"M3018.5,-579.8796C3018.5,-569.2134 3018.5,-557.7021 3018.5,-546.9015\"/>\n<polygon fill=\"#000000\" stroke=\"#000000\" points=\"3022.0001,-546.8149 3018.5,-536.8149 3015.0001,-546.815 3022.0001,-546.8149\"/>\n</g>\n<!-- 184 -->\n<g id=\"node185\" class=\"node\">\n<title>184</title>\n<path fill=\"#efb388\" stroke=\"#000000\" d=\"M3173,-544C3173,-544 3098,-544 3098,-544 3092,-544 3086,-538 3086,-532 3086,-532 3086,-473 3086,-473 3086,-467 3092,-461 3098,-461 3098,-461 3173,-461 3173,-461 3179,-461 3185,-467 3185,-473 3185,-473 3185,-532 3185,-532 3185,-538 3179,-544 3173,-544\"/>\n<text text-anchor=\"start\" x=\"3097\" y=\"-528.8\" font-family=\"Helvetica,sans-Serif\" font-size=\"14.00\" fill=\"#000000\">age ≤ 0.425</text>\n<text text-anchor=\"start\" x=\"3097.5\" y=\"-513.8\" font-family=\"Helvetica,sans-Serif\" font-size=\"14.00\" fill=\"#000000\">gini = 0.408</text>\n<text text-anchor=\"start\" x=\"3096\" y=\"-498.8\" font-family=\"Helvetica,sans-Serif\" font-size=\"14.00\" fill=\"#000000\">samples = 7</text>\n<text text-anchor=\"start\" x=\"3094\" y=\"-483.8\" font-family=\"Helvetica,sans-Serif\" font-size=\"14.00\" fill=\"#000000\">value = [5, 2]</text>\n<text text-anchor=\"start\" x=\"3109\" y=\"-468.8\" font-family=\"Helvetica,sans-Serif\" font-size=\"14.00\" fill=\"#000000\">class = l</text>\n</g>\n<!-- 182&#45;&gt;184 -->\n<g id=\"edge184\" class=\"edge\">\n<title>182&#45;&gt;184</title>\n<path fill=\"none\" stroke=\"#000000\" d=\"M3059.4209,-579.8796C3068.453,-570.6931 3078.1013,-560.8798 3087.3888,-551.4336\"/>\n<polygon fill=\"#000000\" stroke=\"#000000\" points=\"3089.8893,-553.8827 3094.4044,-544.2981 3084.8977,-548.975 3089.8893,-553.8827\"/>\n</g>\n<!-- 185 -->\n<g id=\"node186\" class=\"node\">\n<title>185</title>\n<path fill=\"#eeab7b\" stroke=\"#000000\" d=\"M3173,-417.5C3173,-417.5 3098,-417.5 3098,-417.5 3092,-417.5 3086,-411.5 3086,-405.5 3086,-405.5 3086,-361.5 3086,-361.5 3086,-355.5 3092,-349.5 3098,-349.5 3098,-349.5 3173,-349.5 3173,-349.5 3179,-349.5 3185,-355.5 3185,-361.5 3185,-361.5 3185,-405.5 3185,-405.5 3185,-411.5 3179,-417.5 3173,-417.5\"/>\n<text text-anchor=\"start\" x=\"3097.5\" y=\"-402.3\" font-family=\"Helvetica,sans-Serif\" font-size=\"14.00\" fill=\"#000000\">gini = 0.375</text>\n<text text-anchor=\"start\" x=\"3096\" y=\"-387.3\" font-family=\"Helvetica,sans-Serif\" font-size=\"14.00\" fill=\"#000000\">samples = 4</text>\n<text text-anchor=\"start\" x=\"3094\" y=\"-372.3\" font-family=\"Helvetica,sans-Serif\" font-size=\"14.00\" fill=\"#000000\">value = [3, 1]</text>\n<text text-anchor=\"start\" x=\"3109\" y=\"-357.3\" font-family=\"Helvetica,sans-Serif\" font-size=\"14.00\" fill=\"#000000\">class = l</text>\n</g>\n<!-- 184&#45;&gt;185 -->\n<g id=\"edge185\" class=\"edge\">\n<title>184&#45;&gt;185</title>\n<path fill=\"none\" stroke=\"#000000\" d=\"M3135.5,-460.8796C3135.5,-450.2134 3135.5,-438.7021 3135.5,-427.9015\"/>\n<polygon fill=\"#000000\" stroke=\"#000000\" points=\"3139.0001,-427.8149 3135.5,-417.8149 3132.0001,-427.815 3139.0001,-427.8149\"/>\n</g>\n<!-- 186 -->\n<g id=\"node187\" class=\"node\">\n<title>186</title>\n<path fill=\"#f2c09c\" stroke=\"#000000\" d=\"M3290,-417.5C3290,-417.5 3215,-417.5 3215,-417.5 3209,-417.5 3203,-411.5 3203,-405.5 3203,-405.5 3203,-361.5 3203,-361.5 3203,-355.5 3209,-349.5 3215,-349.5 3215,-349.5 3290,-349.5 3290,-349.5 3296,-349.5 3302,-355.5 3302,-361.5 3302,-361.5 3302,-405.5 3302,-405.5 3302,-411.5 3296,-417.5 3290,-417.5\"/>\n<text text-anchor=\"start\" x=\"3214.5\" y=\"-402.3\" font-family=\"Helvetica,sans-Serif\" font-size=\"14.00\" fill=\"#000000\">gini = 0.444</text>\n<text text-anchor=\"start\" x=\"3213\" y=\"-387.3\" font-family=\"Helvetica,sans-Serif\" font-size=\"14.00\" fill=\"#000000\">samples = 3</text>\n<text text-anchor=\"start\" x=\"3211\" y=\"-372.3\" font-family=\"Helvetica,sans-Serif\" font-size=\"14.00\" fill=\"#000000\">value = [2, 1]</text>\n<text text-anchor=\"start\" x=\"3226\" y=\"-357.3\" font-family=\"Helvetica,sans-Serif\" font-size=\"14.00\" fill=\"#000000\">class = l</text>\n</g>\n<!-- 184&#45;&gt;186 -->\n<g id=\"edge186\" class=\"edge\">\n<title>184&#45;&gt;186</title>\n<path fill=\"none\" stroke=\"#000000\" d=\"M3176.4209,-460.8796C3187.7728,-449.3337 3200.0982,-436.7976 3211.457,-425.2446\"/>\n<polygon fill=\"#000000\" stroke=\"#000000\" points=\"3214.2466,-427.3995 3218.7618,-417.8149 3209.2551,-422.4919 3214.2466,-427.3995\"/>\n</g>\n<!-- 188 -->\n<g id=\"node189\" class=\"node\">\n<title>188</title>\n<path fill=\"#ffffff\" stroke=\"#000000\" d=\"M2295,-1377C2295,-1377 2220,-1377 2220,-1377 2214,-1377 2208,-1371 2208,-1365 2208,-1365 2208,-1306 2208,-1306 2208,-1300 2214,-1294 2220,-1294 2220,-1294 2295,-1294 2295,-1294 2301,-1294 2307,-1300 2307,-1306 2307,-1306 2307,-1365 2307,-1365 2307,-1371 2301,-1377 2295,-1377\"/>\n<text text-anchor=\"start\" x=\"2219\" y=\"-1361.8\" font-family=\"Helvetica,sans-Serif\" font-size=\"14.00\" fill=\"#000000\">age ≤ 0.922</text>\n<text text-anchor=\"start\" x=\"2228\" y=\"-1346.8\" font-family=\"Helvetica,sans-Serif\" font-size=\"14.00\" fill=\"#000000\">gini = 0.5</text>\n<text text-anchor=\"start\" x=\"2218\" y=\"-1331.8\" font-family=\"Helvetica,sans-Serif\" font-size=\"14.00\" fill=\"#000000\">samples = 2</text>\n<text text-anchor=\"start\" x=\"2216\" y=\"-1316.8\" font-family=\"Helvetica,sans-Serif\" font-size=\"14.00\" fill=\"#000000\">value = [1, 1]</text>\n<text text-anchor=\"start\" x=\"2231\" y=\"-1301.8\" font-family=\"Helvetica,sans-Serif\" font-size=\"14.00\" fill=\"#000000\">class = l</text>\n</g>\n<!-- 187&#45;&gt;188 -->\n<g id=\"edge188\" class=\"edge\">\n<title>187&#45;&gt;188</title>\n<path fill=\"none\" stroke=\"#000000\" d=\"M2257.5,-1412.8796C2257.5,-1404.6838 2257.5,-1395.9891 2257.5,-1387.5013\"/>\n<polygon fill=\"#000000\" stroke=\"#000000\" points=\"2261.0001,-1387.298 2257.5,-1377.2981 2254.0001,-1387.2981 2261.0001,-1387.298\"/>\n</g>\n<!-- 191 -->\n<g id=\"node192\" class=\"node\">\n<title>191</title>\n<path fill=\"#e88f4f\" stroke=\"#000000\" d=\"M2474.5,-1377C2474.5,-1377 2394.5,-1377 2394.5,-1377 2388.5,-1377 2382.5,-1371 2382.5,-1365 2382.5,-1365 2382.5,-1306 2382.5,-1306 2382.5,-1300 2388.5,-1294 2394.5,-1294 2394.5,-1294 2474.5,-1294 2474.5,-1294 2480.5,-1294 2486.5,-1300 2486.5,-1306 2486.5,-1306 2486.5,-1365 2486.5,-1365 2486.5,-1371 2480.5,-1377 2474.5,-1377\"/>\n<text text-anchor=\"start\" x=\"2396\" y=\"-1361.8\" font-family=\"Helvetica,sans-Serif\" font-size=\"14.00\" fill=\"#000000\">age ≤ 1.337</text>\n<text text-anchor=\"start\" x=\"2401\" y=\"-1346.8\" font-family=\"Helvetica,sans-Serif\" font-size=\"14.00\" fill=\"#000000\">gini = 0.18</text>\n<text text-anchor=\"start\" x=\"2390.5\" y=\"-1331.8\" font-family=\"Helvetica,sans-Serif\" font-size=\"14.00\" fill=\"#000000\">samples = 10</text>\n<text text-anchor=\"start\" x=\"2393\" y=\"-1316.8\" font-family=\"Helvetica,sans-Serif\" font-size=\"14.00\" fill=\"#000000\">value = [9, 1]</text>\n<text text-anchor=\"start\" x=\"2408\" y=\"-1301.8\" font-family=\"Helvetica,sans-Serif\" font-size=\"14.00\" fill=\"#000000\">class = l</text>\n</g>\n<!-- 187&#45;&gt;191 -->\n<g id=\"edge191\" class=\"edge\">\n<title>187&#45;&gt;191</title>\n<path fill=\"none\" stroke=\"#000000\" d=\"M2319.406,-1412.8796C2337.0544,-1401.0143 2356.2582,-1388.1032 2373.832,-1376.2881\"/>\n<polygon fill=\"#000000\" stroke=\"#000000\" points=\"2375.9682,-1379.0694 2382.3142,-1370.5854 2372.0626,-1373.2603 2375.9682,-1379.0694\"/>\n</g>\n<!-- 189 -->\n<g id=\"node190\" class=\"node\">\n<title>189</title>\n<path fill=\"#e58139\" stroke=\"#000000\" d=\"M2238,-1250.5C2238,-1250.5 2163,-1250.5 2163,-1250.5 2157,-1250.5 2151,-1244.5 2151,-1238.5 2151,-1238.5 2151,-1194.5 2151,-1194.5 2151,-1188.5 2157,-1182.5 2163,-1182.5 2163,-1182.5 2238,-1182.5 2238,-1182.5 2244,-1182.5 2250,-1188.5 2250,-1194.5 2250,-1194.5 2250,-1238.5 2250,-1238.5 2250,-1244.5 2244,-1250.5 2238,-1250.5\"/>\n<text text-anchor=\"start\" x=\"2171\" y=\"-1235.3\" font-family=\"Helvetica,sans-Serif\" font-size=\"14.00\" fill=\"#000000\">gini = 0.0</text>\n<text text-anchor=\"start\" x=\"2161\" y=\"-1220.3\" font-family=\"Helvetica,sans-Serif\" font-size=\"14.00\" fill=\"#000000\">samples = 1</text>\n<text text-anchor=\"start\" x=\"2159\" y=\"-1205.3\" font-family=\"Helvetica,sans-Serif\" font-size=\"14.00\" fill=\"#000000\">value = [1, 0]</text>\n<text text-anchor=\"start\" x=\"2174\" y=\"-1190.3\" font-family=\"Helvetica,sans-Serif\" font-size=\"14.00\" fill=\"#000000\">class = l</text>\n</g>\n<!-- 188&#45;&gt;189 -->\n<g id=\"edge189\" class=\"edge\">\n<title>188&#45;&gt;189</title>\n<path fill=\"none\" stroke=\"#000000\" d=\"M2237.5642,-1293.8796C2232.2971,-1282.8835 2226.5999,-1270.9893 2221.289,-1259.9015\"/>\n<polygon fill=\"#000000\" stroke=\"#000000\" points=\"2224.4131,-1258.3217 2216.9366,-1250.8149 2218.1,-1261.3457 2224.4131,-1258.3217\"/>\n</g>\n<!-- 190 -->\n<g id=\"node191\" class=\"node\">\n<title>190</title>\n<path fill=\"#399de5\" stroke=\"#000000\" d=\"M2355,-1250.5C2355,-1250.5 2280,-1250.5 2280,-1250.5 2274,-1250.5 2268,-1244.5 2268,-1238.5 2268,-1238.5 2268,-1194.5 2268,-1194.5 2268,-1188.5 2274,-1182.5 2280,-1182.5 2280,-1182.5 2355,-1182.5 2355,-1182.5 2361,-1182.5 2367,-1188.5 2367,-1194.5 2367,-1194.5 2367,-1238.5 2367,-1238.5 2367,-1244.5 2361,-1250.5 2355,-1250.5\"/>\n<text text-anchor=\"start\" x=\"2288\" y=\"-1235.3\" font-family=\"Helvetica,sans-Serif\" font-size=\"14.00\" fill=\"#000000\">gini = 0.0</text>\n<text text-anchor=\"start\" x=\"2278\" y=\"-1220.3\" font-family=\"Helvetica,sans-Serif\" font-size=\"14.00\" fill=\"#000000\">samples = 1</text>\n<text text-anchor=\"start\" x=\"2276\" y=\"-1205.3\" font-family=\"Helvetica,sans-Serif\" font-size=\"14.00\" fill=\"#000000\">value = [0, 1]</text>\n<text text-anchor=\"start\" x=\"2288.5\" y=\"-1190.3\" font-family=\"Helvetica,sans-Serif\" font-size=\"14.00\" fill=\"#000000\">class = o</text>\n</g>\n<!-- 188&#45;&gt;190 -->\n<g id=\"edge190\" class=\"edge\">\n<title>188&#45;&gt;190</title>\n<path fill=\"none\" stroke=\"#000000\" d=\"M2278.4851,-1293.8796C2284.0293,-1282.8835 2290.0264,-1270.9893 2295.6169,-1259.9015\"/>\n<polygon fill=\"#000000\" stroke=\"#000000\" points=\"2298.8214,-1261.3199 2300.1984,-1250.8149 2292.5709,-1258.1684 2298.8214,-1261.3199\"/>\n</g>\n<!-- 192 -->\n<g id=\"node193\" class=\"node\">\n<title>192</title>\n<path fill=\"#e58139\" stroke=\"#000000\" d=\"M2472,-1250.5C2472,-1250.5 2397,-1250.5 2397,-1250.5 2391,-1250.5 2385,-1244.5 2385,-1238.5 2385,-1238.5 2385,-1194.5 2385,-1194.5 2385,-1188.5 2391,-1182.5 2397,-1182.5 2397,-1182.5 2472,-1182.5 2472,-1182.5 2478,-1182.5 2484,-1188.5 2484,-1194.5 2484,-1194.5 2484,-1238.5 2484,-1238.5 2484,-1244.5 2478,-1250.5 2472,-1250.5\"/>\n<text text-anchor=\"start\" x=\"2405\" y=\"-1235.3\" font-family=\"Helvetica,sans-Serif\" font-size=\"14.00\" fill=\"#000000\">gini = 0.0</text>\n<text text-anchor=\"start\" x=\"2395\" y=\"-1220.3\" font-family=\"Helvetica,sans-Serif\" font-size=\"14.00\" fill=\"#000000\">samples = 7</text>\n<text text-anchor=\"start\" x=\"2393\" y=\"-1205.3\" font-family=\"Helvetica,sans-Serif\" font-size=\"14.00\" fill=\"#000000\">value = [7, 0]</text>\n<text text-anchor=\"start\" x=\"2408\" y=\"-1190.3\" font-family=\"Helvetica,sans-Serif\" font-size=\"14.00\" fill=\"#000000\">class = l</text>\n</g>\n<!-- 191&#45;&gt;192 -->\n<g id=\"edge192\" class=\"edge\">\n<title>191&#45;&gt;192</title>\n<path fill=\"none\" stroke=\"#000000\" d=\"M2434.5,-1293.8796C2434.5,-1283.2134 2434.5,-1271.7021 2434.5,-1260.9015\"/>\n<polygon fill=\"#000000\" stroke=\"#000000\" points=\"2438.0001,-1260.8149 2434.5,-1250.8149 2431.0001,-1260.815 2438.0001,-1260.8149\"/>\n</g>\n<!-- 193 -->\n<g id=\"node194\" class=\"node\">\n<title>193</title>\n<path fill=\"#f2c09c\" stroke=\"#000000\" d=\"M2599,-1258C2599,-1258 2514,-1258 2514,-1258 2508,-1258 2502,-1252 2502,-1246 2502,-1246 2502,-1187 2502,-1187 2502,-1181 2508,-1175 2514,-1175 2514,-1175 2599,-1175 2599,-1175 2605,-1175 2611,-1181 2611,-1187 2611,-1187 2611,-1246 2611,-1246 2611,-1252 2605,-1258 2599,-1258\"/>\n<text text-anchor=\"start\" x=\"2510\" y=\"-1242.8\" font-family=\"Helvetica,sans-Serif\" font-size=\"14.00\" fill=\"#000000\">terms ≤ &#45;0.019</text>\n<text text-anchor=\"start\" x=\"2518.5\" y=\"-1227.8\" font-family=\"Helvetica,sans-Serif\" font-size=\"14.00\" fill=\"#000000\">gini = 0.444</text>\n<text text-anchor=\"start\" x=\"2517\" y=\"-1212.8\" font-family=\"Helvetica,sans-Serif\" font-size=\"14.00\" fill=\"#000000\">samples = 3</text>\n<text text-anchor=\"start\" x=\"2515\" y=\"-1197.8\" font-family=\"Helvetica,sans-Serif\" font-size=\"14.00\" fill=\"#000000\">value = [2, 1]</text>\n<text text-anchor=\"start\" x=\"2530\" y=\"-1182.8\" font-family=\"Helvetica,sans-Serif\" font-size=\"14.00\" fill=\"#000000\">class = l</text>\n</g>\n<!-- 191&#45;&gt;193 -->\n<g id=\"edge193\" class=\"edge\">\n<title>191&#45;&gt;193</title>\n<path fill=\"none\" stroke=\"#000000\" d=\"M2477.1697,-1293.8796C2486.5877,-1284.6931 2496.6484,-1274.8798 2506.3328,-1265.4336\"/>\n<polygon fill=\"#000000\" stroke=\"#000000\" points=\"2508.9335,-1267.7861 2513.6482,-1258.2981 2504.0457,-1262.7751 2508.9335,-1267.7861\"/>\n</g>\n<!-- 194 -->\n<g id=\"node195\" class=\"node\">\n<title>194</title>\n<path fill=\"#399de5\" stroke=\"#000000\" d=\"M2483,-1131.5C2483,-1131.5 2408,-1131.5 2408,-1131.5 2402,-1131.5 2396,-1125.5 2396,-1119.5 2396,-1119.5 2396,-1075.5 2396,-1075.5 2396,-1069.5 2402,-1063.5 2408,-1063.5 2408,-1063.5 2483,-1063.5 2483,-1063.5 2489,-1063.5 2495,-1069.5 2495,-1075.5 2495,-1075.5 2495,-1119.5 2495,-1119.5 2495,-1125.5 2489,-1131.5 2483,-1131.5\"/>\n<text text-anchor=\"start\" x=\"2416\" y=\"-1116.3\" font-family=\"Helvetica,sans-Serif\" font-size=\"14.00\" fill=\"#000000\">gini = 0.0</text>\n<text text-anchor=\"start\" x=\"2406\" y=\"-1101.3\" font-family=\"Helvetica,sans-Serif\" font-size=\"14.00\" fill=\"#000000\">samples = 1</text>\n<text text-anchor=\"start\" x=\"2404\" y=\"-1086.3\" font-family=\"Helvetica,sans-Serif\" font-size=\"14.00\" fill=\"#000000\">value = [0, 1]</text>\n<text text-anchor=\"start\" x=\"2416.5\" y=\"-1071.3\" font-family=\"Helvetica,sans-Serif\" font-size=\"14.00\" fill=\"#000000\">class = o</text>\n</g>\n<!-- 193&#45;&gt;194 -->\n<g id=\"edge194\" class=\"edge\">\n<title>193&#45;&gt;194</title>\n<path fill=\"none\" stroke=\"#000000\" d=\"M2517.6776,-1174.8796C2506.9079,-1163.3337 2495.2146,-1150.7976 2484.4383,-1139.2446\"/>\n<polygon fill=\"#000000\" stroke=\"#000000\" points=\"2486.8885,-1136.7402 2477.508,-1131.8149 2481.7697,-1141.5149 2486.8885,-1136.7402\"/>\n</g>\n<!-- 195 -->\n<g id=\"node196\" class=\"node\">\n<title>195</title>\n<path fill=\"#e58139\" stroke=\"#000000\" d=\"M2600,-1131.5C2600,-1131.5 2525,-1131.5 2525,-1131.5 2519,-1131.5 2513,-1125.5 2513,-1119.5 2513,-1119.5 2513,-1075.5 2513,-1075.5 2513,-1069.5 2519,-1063.5 2525,-1063.5 2525,-1063.5 2600,-1063.5 2600,-1063.5 2606,-1063.5 2612,-1069.5 2612,-1075.5 2612,-1075.5 2612,-1119.5 2612,-1119.5 2612,-1125.5 2606,-1131.5 2600,-1131.5\"/>\n<text text-anchor=\"start\" x=\"2533\" y=\"-1116.3\" font-family=\"Helvetica,sans-Serif\" font-size=\"14.00\" fill=\"#000000\">gini = 0.0</text>\n<text text-anchor=\"start\" x=\"2523\" y=\"-1101.3\" font-family=\"Helvetica,sans-Serif\" font-size=\"14.00\" fill=\"#000000\">samples = 2</text>\n<text text-anchor=\"start\" x=\"2521\" y=\"-1086.3\" font-family=\"Helvetica,sans-Serif\" font-size=\"14.00\" fill=\"#000000\">value = [2, 0]</text>\n<text text-anchor=\"start\" x=\"2536\" y=\"-1071.3\" font-family=\"Helvetica,sans-Serif\" font-size=\"14.00\" fill=\"#000000\">class = l</text>\n</g>\n<!-- 193&#45;&gt;195 -->\n<g id=\"edge195\" class=\"edge\">\n<title>193&#45;&gt;195</title>\n<path fill=\"none\" stroke=\"#000000\" d=\"M2558.5985,-1174.8796C2559.1363,-1164.2134 2559.7167,-1152.7021 2560.2613,-1141.9015\"/>\n<polygon fill=\"#000000\" stroke=\"#000000\" points=\"2563.7617,-1141.9785 2560.7698,-1131.8149 2556.7706,-1141.626 2563.7617,-1141.9785\"/>\n</g>\n<!-- 197 -->\n<g id=\"node198\" class=\"node\">\n<title>197</title>\n<path fill=\"#ffffff\" stroke=\"#000000\" d=\"M2889.5,-1615C2889.5,-1615 2809.5,-1615 2809.5,-1615 2803.5,-1615 2797.5,-1609 2797.5,-1603 2797.5,-1603 2797.5,-1544 2797.5,-1544 2797.5,-1538 2803.5,-1532 2809.5,-1532 2809.5,-1532 2889.5,-1532 2889.5,-1532 2895.5,-1532 2901.5,-1538 2901.5,-1544 2901.5,-1544 2901.5,-1603 2901.5,-1603 2901.5,-1609 2895.5,-1615 2889.5,-1615\"/>\n<text text-anchor=\"start\" x=\"2808.5\" y=\"-1599.8\" font-family=\"Helvetica,sans-Serif\" font-size=\"14.00\" fill=\"#000000\">age ≤ &#45;0.404</text>\n<text text-anchor=\"start\" x=\"2820\" y=\"-1584.8\" font-family=\"Helvetica,sans-Serif\" font-size=\"14.00\" fill=\"#000000\">gini = 0.5</text>\n<text text-anchor=\"start\" x=\"2805.5\" y=\"-1569.8\" font-family=\"Helvetica,sans-Serif\" font-size=\"14.00\" fill=\"#000000\">samples = 12</text>\n<text text-anchor=\"start\" x=\"2808\" y=\"-1554.8\" font-family=\"Helvetica,sans-Serif\" font-size=\"14.00\" fill=\"#000000\">value = [6, 6]</text>\n<text text-anchor=\"start\" x=\"2823\" y=\"-1539.8\" font-family=\"Helvetica,sans-Serif\" font-size=\"14.00\" fill=\"#000000\">class = l</text>\n</g>\n<!-- 196&#45;&gt;197 -->\n<g id=\"edge197\" class=\"edge\">\n<title>196&#45;&gt;197</title>\n<path fill=\"none\" stroke=\"#000000\" d=\"M2849.5,-1650.8796C2849.5,-1642.6838 2849.5,-1633.9891 2849.5,-1625.5013\"/>\n<polygon fill=\"#000000\" stroke=\"#000000\" points=\"2853.0001,-1625.298 2849.5,-1615.2981 2846.0001,-1625.2981 2853.0001,-1625.298\"/>\n</g>\n<!-- 208 -->\n<g id=\"node209\" class=\"node\">\n<title>208</title>\n<path fill=\"#e78c49\" stroke=\"#000000\" d=\"M3074,-1615C3074,-1615 2991,-1615 2991,-1615 2985,-1615 2979,-1609 2979,-1603 2979,-1603 2979,-1544 2979,-1544 2979,-1538 2985,-1532 2991,-1532 2991,-1532 3074,-1532 3074,-1532 3080,-1532 3086,-1538 3086,-1544 3086,-1544 3086,-1603 3086,-1603 3086,-1609 3080,-1615 3074,-1615\"/>\n<text text-anchor=\"start\" x=\"2994\" y=\"-1599.8\" font-family=\"Helvetica,sans-Serif\" font-size=\"14.00\" fill=\"#000000\">age ≤ 0.922</text>\n<text text-anchor=\"start\" x=\"2994.5\" y=\"-1584.8\" font-family=\"Helvetica,sans-Serif\" font-size=\"14.00\" fill=\"#000000\">gini = 0.142</text>\n<text text-anchor=\"start\" x=\"2988.5\" y=\"-1569.8\" font-family=\"Helvetica,sans-Serif\" font-size=\"14.00\" fill=\"#000000\">samples = 13</text>\n<text text-anchor=\"start\" x=\"2987\" y=\"-1554.8\" font-family=\"Helvetica,sans-Serif\" font-size=\"14.00\" fill=\"#000000\">value = [12, 1]</text>\n<text text-anchor=\"start\" x=\"3006\" y=\"-1539.8\" font-family=\"Helvetica,sans-Serif\" font-size=\"14.00\" fill=\"#000000\">class = l</text>\n</g>\n<!-- 196&#45;&gt;208 -->\n<g id=\"edge208\" class=\"edge\">\n<title>196&#45;&gt;208</title>\n<path fill=\"none\" stroke=\"#000000\" d=\"M2903.4163,-1657.4397C2924.4513,-1643.7612 2948.6939,-1627.9969 2970.4499,-1613.8495\"/>\n<polygon fill=\"#000000\" stroke=\"#000000\" points=\"2972.4937,-1616.6954 2978.9691,-1608.3097 2968.6777,-1610.8271 2972.4937,-1616.6954\"/>\n</g>\n<!-- 198 -->\n<g id=\"node199\" class=\"node\">\n<title>198</title>\n<path fill=\"#f2c09c\" stroke=\"#000000\" d=\"M2836,-1496C2836,-1496 2745,-1496 2745,-1496 2739,-1496 2733,-1490 2733,-1484 2733,-1484 2733,-1425 2733,-1425 2733,-1419 2739,-1413 2745,-1413 2745,-1413 2836,-1413 2836,-1413 2842,-1413 2848,-1419 2848,-1425 2848,-1425 2848,-1484 2848,-1484 2848,-1490 2842,-1496 2836,-1496\"/>\n<text text-anchor=\"start\" x=\"2741\" y=\"-1480.8\" font-family=\"Helvetica,sans-Serif\" font-size=\"14.00\" fill=\"#000000\">college ≤ 0.128</text>\n<text text-anchor=\"start\" x=\"2752.5\" y=\"-1465.8\" font-family=\"Helvetica,sans-Serif\" font-size=\"14.00\" fill=\"#000000\">gini = 0.444</text>\n<text text-anchor=\"start\" x=\"2751\" y=\"-1450.8\" font-family=\"Helvetica,sans-Serif\" font-size=\"14.00\" fill=\"#000000\">samples = 9</text>\n<text text-anchor=\"start\" x=\"2749\" y=\"-1435.8\" font-family=\"Helvetica,sans-Serif\" font-size=\"14.00\" fill=\"#000000\">value = [6, 3]</text>\n<text text-anchor=\"start\" x=\"2764\" y=\"-1420.8\" font-family=\"Helvetica,sans-Serif\" font-size=\"14.00\" fill=\"#000000\">class = l</text>\n</g>\n<!-- 197&#45;&gt;198 -->\n<g id=\"edge198\" class=\"edge\">\n<title>197&#45;&gt;198</title>\n<path fill=\"none\" stroke=\"#000000\" d=\"M2828.8647,-1531.8796C2824.6226,-1523.3236 2820.111,-1514.2238 2815.7279,-1505.3833\"/>\n<polygon fill=\"#000000\" stroke=\"#000000\" points=\"2818.8012,-1503.7026 2811.2234,-1496.2981 2812.5297,-1506.8121 2818.8012,-1503.7026\"/>\n</g>\n<!-- 207 -->\n<g id=\"node208\" class=\"node\">\n<title>207</title>\n<path fill=\"#399de5\" stroke=\"#000000\" d=\"M2953,-1488.5C2953,-1488.5 2878,-1488.5 2878,-1488.5 2872,-1488.5 2866,-1482.5 2866,-1476.5 2866,-1476.5 2866,-1432.5 2866,-1432.5 2866,-1426.5 2872,-1420.5 2878,-1420.5 2878,-1420.5 2953,-1420.5 2953,-1420.5 2959,-1420.5 2965,-1426.5 2965,-1432.5 2965,-1432.5 2965,-1476.5 2965,-1476.5 2965,-1482.5 2959,-1488.5 2953,-1488.5\"/>\n<text text-anchor=\"start\" x=\"2886\" y=\"-1473.3\" font-family=\"Helvetica,sans-Serif\" font-size=\"14.00\" fill=\"#000000\">gini = 0.0</text>\n<text text-anchor=\"start\" x=\"2876\" y=\"-1458.3\" font-family=\"Helvetica,sans-Serif\" font-size=\"14.00\" fill=\"#000000\">samples = 3</text>\n<text text-anchor=\"start\" x=\"2874\" y=\"-1443.3\" font-family=\"Helvetica,sans-Serif\" font-size=\"14.00\" fill=\"#000000\">value = [0, 3]</text>\n<text text-anchor=\"start\" x=\"2886.5\" y=\"-1428.3\" font-family=\"Helvetica,sans-Serif\" font-size=\"14.00\" fill=\"#000000\">class = o</text>\n</g>\n<!-- 197&#45;&gt;207 -->\n<g id=\"edge207\" class=\"edge\">\n<title>197&#45;&gt;207</title>\n<path fill=\"none\" stroke=\"#000000\" d=\"M2872.5836,-1531.8796C2878.7433,-1520.7735 2885.4111,-1508.7513 2891.6129,-1497.5691\"/>\n<polygon fill=\"#000000\" stroke=\"#000000\" points=\"2894.6787,-1499.2576 2896.4682,-1488.8149 2888.5572,-1495.8624 2894.6787,-1499.2576\"/>\n</g>\n<!-- 199 -->\n<g id=\"node200\" class=\"node\">\n<title>199</title>\n<path fill=\"#ea9a61\" stroke=\"#000000\" d=\"M2833,-1377C2833,-1377 2748,-1377 2748,-1377 2742,-1377 2736,-1371 2736,-1365 2736,-1365 2736,-1306 2736,-1306 2736,-1300 2742,-1294 2748,-1294 2748,-1294 2833,-1294 2833,-1294 2839,-1294 2845,-1300 2845,-1306 2845,-1306 2845,-1365 2845,-1365 2845,-1371 2839,-1377 2833,-1377\"/>\n<text text-anchor=\"start\" x=\"2744\" y=\"-1361.8\" font-family=\"Helvetica,sans-Serif\" font-size=\"14.00\" fill=\"#000000\">terms ≤ &#45;0.019</text>\n<text text-anchor=\"start\" x=\"2752.5\" y=\"-1346.8\" font-family=\"Helvetica,sans-Serif\" font-size=\"14.00\" fill=\"#000000\">gini = 0.278</text>\n<text text-anchor=\"start\" x=\"2751\" y=\"-1331.8\" font-family=\"Helvetica,sans-Serif\" font-size=\"14.00\" fill=\"#000000\">samples = 6</text>\n<text text-anchor=\"start\" x=\"2749\" y=\"-1316.8\" font-family=\"Helvetica,sans-Serif\" font-size=\"14.00\" fill=\"#000000\">value = [5, 1]</text>\n<text text-anchor=\"start\" x=\"2764\" y=\"-1301.8\" font-family=\"Helvetica,sans-Serif\" font-size=\"14.00\" fill=\"#000000\">class = l</text>\n</g>\n<!-- 198&#45;&gt;199 -->\n<g id=\"edge199\" class=\"edge\">\n<title>198&#45;&gt;199</title>\n<path fill=\"none\" stroke=\"#000000\" d=\"M2790.5,-1412.8796C2790.5,-1404.6838 2790.5,-1395.9891 2790.5,-1387.5013\"/>\n<polygon fill=\"#000000\" stroke=\"#000000\" points=\"2794.0001,-1387.298 2790.5,-1377.2981 2787.0001,-1387.2981 2794.0001,-1387.298\"/>\n</g>\n<!-- 204 -->\n<g id=\"node205\" class=\"node\">\n<title>204</title>\n<path fill=\"#9ccef2\" stroke=\"#000000\" d=\"M2982,-1377C2982,-1377 2907,-1377 2907,-1377 2901,-1377 2895,-1371 2895,-1365 2895,-1365 2895,-1306 2895,-1306 2895,-1300 2901,-1294 2907,-1294 2907,-1294 2982,-1294 2982,-1294 2988,-1294 2994,-1300 2994,-1306 2994,-1306 2994,-1365 2994,-1365 2994,-1371 2988,-1377 2982,-1377\"/>\n<text text-anchor=\"start\" x=\"2903.5\" y=\"-1361.8\" font-family=\"Helvetica,sans-Serif\" font-size=\"14.00\" fill=\"#000000\">age ≤ &#45;0.985</text>\n<text text-anchor=\"start\" x=\"2906.5\" y=\"-1346.8\" font-family=\"Helvetica,sans-Serif\" font-size=\"14.00\" fill=\"#000000\">gini = 0.444</text>\n<text text-anchor=\"start\" x=\"2905\" y=\"-1331.8\" font-family=\"Helvetica,sans-Serif\" font-size=\"14.00\" fill=\"#000000\">samples = 3</text>\n<text text-anchor=\"start\" x=\"2903\" y=\"-1316.8\" font-family=\"Helvetica,sans-Serif\" font-size=\"14.00\" fill=\"#000000\">value = [1, 2]</text>\n<text text-anchor=\"start\" x=\"2915.5\" y=\"-1301.8\" font-family=\"Helvetica,sans-Serif\" font-size=\"14.00\" fill=\"#000000\">class = o</text>\n</g>\n<!-- 198&#45;&gt;204 -->\n<g id=\"edge204\" class=\"edge\">\n<title>198&#45;&gt;204</title>\n<path fill=\"none\" stroke=\"#000000\" d=\"M2844.3617,-1412.8796C2858.0654,-1402.2903 2872.847,-1390.8682 2886.7364,-1380.1355\"/>\n<polygon fill=\"#000000\" stroke=\"#000000\" points=\"2889.0235,-1382.7914 2894.7963,-1373.9074 2884.7434,-1377.2524 2889.0235,-1382.7914\"/>\n</g>\n<!-- 200 -->\n<g id=\"node201\" class=\"node\">\n<title>200</title>\n<path fill=\"#ffffff\" stroke=\"#000000\" d=\"M2748,-1258C2748,-1258 2641,-1258 2641,-1258 2635,-1258 2629,-1252 2629,-1246 2629,-1246 2629,-1187 2629,-1187 2629,-1181 2635,-1175 2641,-1175 2641,-1175 2748,-1175 2748,-1175 2754,-1175 2760,-1181 2760,-1187 2760,-1187 2760,-1246 2760,-1246 2760,-1252 2754,-1258 2748,-1258\"/>\n<text text-anchor=\"start\" x=\"2637\" y=\"-1242.8\" font-family=\"Helvetica,sans-Serif\" font-size=\"14.00\" fill=\"#000000\">dayofweek ≤ 0.14</text>\n<text text-anchor=\"start\" x=\"2665\" y=\"-1227.8\" font-family=\"Helvetica,sans-Serif\" font-size=\"14.00\" fill=\"#000000\">gini = 0.5</text>\n<text text-anchor=\"start\" x=\"2655\" y=\"-1212.8\" font-family=\"Helvetica,sans-Serif\" font-size=\"14.00\" fill=\"#000000\">samples = 2</text>\n<text text-anchor=\"start\" x=\"2653\" y=\"-1197.8\" font-family=\"Helvetica,sans-Serif\" font-size=\"14.00\" fill=\"#000000\">value = [1, 1]</text>\n<text text-anchor=\"start\" x=\"2668\" y=\"-1182.8\" font-family=\"Helvetica,sans-Serif\" font-size=\"14.00\" fill=\"#000000\">class = l</text>\n</g>\n<!-- 199&#45;&gt;200 -->\n<g id=\"edge200\" class=\"edge\">\n<title>199&#45;&gt;200</title>\n<path fill=\"none\" stroke=\"#000000\" d=\"M2756.9239,-1293.8796C2749.7309,-1284.9633 2742.0616,-1275.4565 2734.649,-1266.268\"/>\n<polygon fill=\"#000000\" stroke=\"#000000\" points=\"2737.2224,-1263.8836 2728.2195,-1258.2981 2731.7742,-1268.2788 2737.2224,-1263.8836\"/>\n</g>\n<!-- 203 -->\n<g id=\"node204\" class=\"node\">\n<title>203</title>\n<path fill=\"#e58139\" stroke=\"#000000\" d=\"M2865,-1250.5C2865,-1250.5 2790,-1250.5 2790,-1250.5 2784,-1250.5 2778,-1244.5 2778,-1238.5 2778,-1238.5 2778,-1194.5 2778,-1194.5 2778,-1188.5 2784,-1182.5 2790,-1182.5 2790,-1182.5 2865,-1182.5 2865,-1182.5 2871,-1182.5 2877,-1188.5 2877,-1194.5 2877,-1194.5 2877,-1238.5 2877,-1238.5 2877,-1244.5 2871,-1250.5 2865,-1250.5\"/>\n<text text-anchor=\"start\" x=\"2798\" y=\"-1235.3\" font-family=\"Helvetica,sans-Serif\" font-size=\"14.00\" fill=\"#000000\">gini = 0.0</text>\n<text text-anchor=\"start\" x=\"2788\" y=\"-1220.3\" font-family=\"Helvetica,sans-Serif\" font-size=\"14.00\" fill=\"#000000\">samples = 4</text>\n<text text-anchor=\"start\" x=\"2786\" y=\"-1205.3\" font-family=\"Helvetica,sans-Serif\" font-size=\"14.00\" fill=\"#000000\">value = [4, 0]</text>\n<text text-anchor=\"start\" x=\"2801\" y=\"-1190.3\" font-family=\"Helvetica,sans-Serif\" font-size=\"14.00\" fill=\"#000000\">class = l</text>\n</g>\n<!-- 199&#45;&gt;203 -->\n<g id=\"edge203\" class=\"edge\">\n<title>199&#45;&gt;203</title>\n<path fill=\"none\" stroke=\"#000000\" d=\"M2803.4408,-1293.8796C2806.7914,-1283.1034 2810.4101,-1271.4647 2813.7983,-1260.5677\"/>\n<polygon fill=\"#000000\" stroke=\"#000000\" points=\"2817.2037,-1261.4032 2816.8307,-1250.8149 2810.5194,-1259.3248 2817.2037,-1261.4032\"/>\n</g>\n<!-- 201 -->\n<g id=\"node202\" class=\"node\">\n<title>201</title>\n<path fill=\"#e58139\" stroke=\"#000000\" d=\"M2727,-1131.5C2727,-1131.5 2652,-1131.5 2652,-1131.5 2646,-1131.5 2640,-1125.5 2640,-1119.5 2640,-1119.5 2640,-1075.5 2640,-1075.5 2640,-1069.5 2646,-1063.5 2652,-1063.5 2652,-1063.5 2727,-1063.5 2727,-1063.5 2733,-1063.5 2739,-1069.5 2739,-1075.5 2739,-1075.5 2739,-1119.5 2739,-1119.5 2739,-1125.5 2733,-1131.5 2727,-1131.5\"/>\n<text text-anchor=\"start\" x=\"2660\" y=\"-1116.3\" font-family=\"Helvetica,sans-Serif\" font-size=\"14.00\" fill=\"#000000\">gini = 0.0</text>\n<text text-anchor=\"start\" x=\"2650\" y=\"-1101.3\" font-family=\"Helvetica,sans-Serif\" font-size=\"14.00\" fill=\"#000000\">samples = 1</text>\n<text text-anchor=\"start\" x=\"2648\" y=\"-1086.3\" font-family=\"Helvetica,sans-Serif\" font-size=\"14.00\" fill=\"#000000\">value = [1, 0]</text>\n<text text-anchor=\"start\" x=\"2663\" y=\"-1071.3\" font-family=\"Helvetica,sans-Serif\" font-size=\"14.00\" fill=\"#000000\">class = l</text>\n</g>\n<!-- 200&#45;&gt;201 -->\n<g id=\"edge201\" class=\"edge\">\n<title>200&#45;&gt;201</title>\n<path fill=\"none\" stroke=\"#000000\" d=\"M2692.7512,-1174.8796C2692.3031,-1164.2134 2691.8194,-1152.7021 2691.3656,-1141.9015\"/>\n<polygon fill=\"#000000\" stroke=\"#000000\" points=\"2694.8586,-1141.6592 2690.9418,-1131.8149 2687.8648,-1141.9531 2694.8586,-1141.6592\"/>\n</g>\n<!-- 202 -->\n<g id=\"node203\" class=\"node\">\n<title>202</title>\n<path fill=\"#399de5\" stroke=\"#000000\" d=\"M2844,-1131.5C2844,-1131.5 2769,-1131.5 2769,-1131.5 2763,-1131.5 2757,-1125.5 2757,-1119.5 2757,-1119.5 2757,-1075.5 2757,-1075.5 2757,-1069.5 2763,-1063.5 2769,-1063.5 2769,-1063.5 2844,-1063.5 2844,-1063.5 2850,-1063.5 2856,-1069.5 2856,-1075.5 2856,-1075.5 2856,-1119.5 2856,-1119.5 2856,-1125.5 2850,-1131.5 2844,-1131.5\"/>\n<text text-anchor=\"start\" x=\"2777\" y=\"-1116.3\" font-family=\"Helvetica,sans-Serif\" font-size=\"14.00\" fill=\"#000000\">gini = 0.0</text>\n<text text-anchor=\"start\" x=\"2767\" y=\"-1101.3\" font-family=\"Helvetica,sans-Serif\" font-size=\"14.00\" fill=\"#000000\">samples = 1</text>\n<text text-anchor=\"start\" x=\"2765\" y=\"-1086.3\" font-family=\"Helvetica,sans-Serif\" font-size=\"14.00\" fill=\"#000000\">value = [0, 1]</text>\n<text text-anchor=\"start\" x=\"2777.5\" y=\"-1071.3\" font-family=\"Helvetica,sans-Serif\" font-size=\"14.00\" fill=\"#000000\">class = o</text>\n</g>\n<!-- 200&#45;&gt;202 -->\n<g id=\"edge202\" class=\"edge\">\n<title>200&#45;&gt;202</title>\n<path fill=\"none\" stroke=\"#000000\" d=\"M2733.6722,-1174.8796C2744.5389,-1163.3337 2756.3376,-1150.7976 2767.2109,-1139.2446\"/>\n<polygon fill=\"#000000\" stroke=\"#000000\" points=\"2769.8986,-1141.4958 2774.2036,-1131.8149 2764.8012,-1136.6982 2769.8986,-1141.4958\"/>\n</g>\n<!-- 205 -->\n<g id=\"node206\" class=\"node\">\n<title>205</title>\n<path fill=\"#e58139\" stroke=\"#000000\" d=\"M2982,-1250.5C2982,-1250.5 2907,-1250.5 2907,-1250.5 2901,-1250.5 2895,-1244.5 2895,-1238.5 2895,-1238.5 2895,-1194.5 2895,-1194.5 2895,-1188.5 2901,-1182.5 2907,-1182.5 2907,-1182.5 2982,-1182.5 2982,-1182.5 2988,-1182.5 2994,-1188.5 2994,-1194.5 2994,-1194.5 2994,-1238.5 2994,-1238.5 2994,-1244.5 2988,-1250.5 2982,-1250.5\"/>\n<text text-anchor=\"start\" x=\"2915\" y=\"-1235.3\" font-family=\"Helvetica,sans-Serif\" font-size=\"14.00\" fill=\"#000000\">gini = 0.0</text>\n<text text-anchor=\"start\" x=\"2905\" y=\"-1220.3\" font-family=\"Helvetica,sans-Serif\" font-size=\"14.00\" fill=\"#000000\">samples = 1</text>\n<text text-anchor=\"start\" x=\"2903\" y=\"-1205.3\" font-family=\"Helvetica,sans-Serif\" font-size=\"14.00\" fill=\"#000000\">value = [1, 0]</text>\n<text text-anchor=\"start\" x=\"2918\" y=\"-1190.3\" font-family=\"Helvetica,sans-Serif\" font-size=\"14.00\" fill=\"#000000\">class = l</text>\n</g>\n<!-- 204&#45;&gt;205 -->\n<g id=\"edge205\" class=\"edge\">\n<title>204&#45;&gt;205</title>\n<path fill=\"none\" stroke=\"#000000\" d=\"M2944.5,-1293.8796C2944.5,-1283.2134 2944.5,-1271.7021 2944.5,-1260.9015\"/>\n<polygon fill=\"#000000\" stroke=\"#000000\" points=\"2948.0001,-1260.8149 2944.5,-1250.8149 2941.0001,-1260.815 2948.0001,-1260.8149\"/>\n</g>\n<!-- 206 -->\n<g id=\"node207\" class=\"node\">\n<title>206</title>\n<path fill=\"#399de5\" stroke=\"#000000\" d=\"M3099,-1250.5C3099,-1250.5 3024,-1250.5 3024,-1250.5 3018,-1250.5 3012,-1244.5 3012,-1238.5 3012,-1238.5 3012,-1194.5 3012,-1194.5 3012,-1188.5 3018,-1182.5 3024,-1182.5 3024,-1182.5 3099,-1182.5 3099,-1182.5 3105,-1182.5 3111,-1188.5 3111,-1194.5 3111,-1194.5 3111,-1238.5 3111,-1238.5 3111,-1244.5 3105,-1250.5 3099,-1250.5\"/>\n<text text-anchor=\"start\" x=\"3032\" y=\"-1235.3\" font-family=\"Helvetica,sans-Serif\" font-size=\"14.00\" fill=\"#000000\">gini = 0.0</text>\n<text text-anchor=\"start\" x=\"3022\" y=\"-1220.3\" font-family=\"Helvetica,sans-Serif\" font-size=\"14.00\" fill=\"#000000\">samples = 2</text>\n<text text-anchor=\"start\" x=\"3020\" y=\"-1205.3\" font-family=\"Helvetica,sans-Serif\" font-size=\"14.00\" fill=\"#000000\">value = [0, 2]</text>\n<text text-anchor=\"start\" x=\"3032.5\" y=\"-1190.3\" font-family=\"Helvetica,sans-Serif\" font-size=\"14.00\" fill=\"#000000\">class = o</text>\n</g>\n<!-- 204&#45;&gt;206 -->\n<g id=\"edge206\" class=\"edge\">\n<title>204&#45;&gt;206</title>\n<path fill=\"none\" stroke=\"#000000\" d=\"M2985.4209,-1293.8796C2996.7728,-1282.3337 3009.0982,-1269.7976 3020.457,-1258.2446\"/>\n<polygon fill=\"#000000\" stroke=\"#000000\" points=\"3023.2466,-1260.3995 3027.7618,-1250.8149 3018.2551,-1255.4919 3023.2466,-1260.3995\"/>\n</g>\n<!-- 209 -->\n<g id=\"node210\" class=\"node\">\n<title>209</title>\n<path fill=\"#e58139\" stroke=\"#000000\" d=\"M3070,-1488.5C3070,-1488.5 2995,-1488.5 2995,-1488.5 2989,-1488.5 2983,-1482.5 2983,-1476.5 2983,-1476.5 2983,-1432.5 2983,-1432.5 2983,-1426.5 2989,-1420.5 2995,-1420.5 2995,-1420.5 3070,-1420.5 3070,-1420.5 3076,-1420.5 3082,-1426.5 3082,-1432.5 3082,-1432.5 3082,-1476.5 3082,-1476.5 3082,-1482.5 3076,-1488.5 3070,-1488.5\"/>\n<text text-anchor=\"start\" x=\"3003\" y=\"-1473.3\" font-family=\"Helvetica,sans-Serif\" font-size=\"14.00\" fill=\"#000000\">gini = 0.0</text>\n<text text-anchor=\"start\" x=\"2993\" y=\"-1458.3\" font-family=\"Helvetica,sans-Serif\" font-size=\"14.00\" fill=\"#000000\">samples = 9</text>\n<text text-anchor=\"start\" x=\"2991\" y=\"-1443.3\" font-family=\"Helvetica,sans-Serif\" font-size=\"14.00\" fill=\"#000000\">value = [9, 0]</text>\n<text text-anchor=\"start\" x=\"3006\" y=\"-1428.3\" font-family=\"Helvetica,sans-Serif\" font-size=\"14.00\" fill=\"#000000\">class = l</text>\n</g>\n<!-- 208&#45;&gt;209 -->\n<g id=\"edge209\" class=\"edge\">\n<title>208&#45;&gt;209</title>\n<path fill=\"none\" stroke=\"#000000\" d=\"M3032.5,-1531.8796C3032.5,-1521.2134 3032.5,-1509.7021 3032.5,-1498.9015\"/>\n<polygon fill=\"#000000\" stroke=\"#000000\" points=\"3036.0001,-1498.8149 3032.5,-1488.8149 3029.0001,-1498.815 3036.0001,-1498.8149\"/>\n</g>\n<!-- 210 -->\n<g id=\"node211\" class=\"node\">\n<title>210</title>\n<path fill=\"#eeab7b\" stroke=\"#000000\" d=\"M3203,-1496C3203,-1496 3112,-1496 3112,-1496 3106,-1496 3100,-1490 3100,-1484 3100,-1484 3100,-1425 3100,-1425 3100,-1419 3106,-1413 3112,-1413 3112,-1413 3203,-1413 3203,-1413 3209,-1413 3215,-1419 3215,-1425 3215,-1425 3215,-1484 3215,-1484 3215,-1490 3209,-1496 3203,-1496\"/>\n<text text-anchor=\"start\" x=\"3108\" y=\"-1480.8\" font-family=\"Helvetica,sans-Serif\" font-size=\"14.00\" fill=\"#000000\">college ≤ 0.128</text>\n<text text-anchor=\"start\" x=\"3119.5\" y=\"-1465.8\" font-family=\"Helvetica,sans-Serif\" font-size=\"14.00\" fill=\"#000000\">gini = 0.375</text>\n<text text-anchor=\"start\" x=\"3118\" y=\"-1450.8\" font-family=\"Helvetica,sans-Serif\" font-size=\"14.00\" fill=\"#000000\">samples = 4</text>\n<text text-anchor=\"start\" x=\"3116\" y=\"-1435.8\" font-family=\"Helvetica,sans-Serif\" font-size=\"14.00\" fill=\"#000000\">value = [3, 1]</text>\n<text text-anchor=\"start\" x=\"3131\" y=\"-1420.8\" font-family=\"Helvetica,sans-Serif\" font-size=\"14.00\" fill=\"#000000\">class = l</text>\n</g>\n<!-- 208&#45;&gt;210 -->\n<g id=\"edge210\" class=\"edge\">\n<title>208&#45;&gt;210</title>\n<path fill=\"none\" stroke=\"#000000\" d=\"M3076.2189,-1531.8796C3085.8686,-1522.6931 3096.1766,-1512.8798 3106.0991,-1503.4336\"/>\n<polygon fill=\"#000000\" stroke=\"#000000\" points=\"3108.765,-1505.7282 3113.5945,-1496.2981 3103.9384,-1500.6582 3108.765,-1505.7282\"/>\n</g>\n<!-- 211 -->\n<g id=\"node212\" class=\"node\">\n<title>211</title>\n<path fill=\"#399de5\" stroke=\"#000000\" d=\"M3163,-1369.5C3163,-1369.5 3088,-1369.5 3088,-1369.5 3082,-1369.5 3076,-1363.5 3076,-1357.5 3076,-1357.5 3076,-1313.5 3076,-1313.5 3076,-1307.5 3082,-1301.5 3088,-1301.5 3088,-1301.5 3163,-1301.5 3163,-1301.5 3169,-1301.5 3175,-1307.5 3175,-1313.5 3175,-1313.5 3175,-1357.5 3175,-1357.5 3175,-1363.5 3169,-1369.5 3163,-1369.5\"/>\n<text text-anchor=\"start\" x=\"3096\" y=\"-1354.3\" font-family=\"Helvetica,sans-Serif\" font-size=\"14.00\" fill=\"#000000\">gini = 0.0</text>\n<text text-anchor=\"start\" x=\"3086\" y=\"-1339.3\" font-family=\"Helvetica,sans-Serif\" font-size=\"14.00\" fill=\"#000000\">samples = 1</text>\n<text text-anchor=\"start\" x=\"3084\" y=\"-1324.3\" font-family=\"Helvetica,sans-Serif\" font-size=\"14.00\" fill=\"#000000\">value = [0, 1]</text>\n<text text-anchor=\"start\" x=\"3096.5\" y=\"-1309.3\" font-family=\"Helvetica,sans-Serif\" font-size=\"14.00\" fill=\"#000000\">class = o</text>\n</g>\n<!-- 210&#45;&gt;211 -->\n<g id=\"edge211\" class=\"edge\">\n<title>210&#45;&gt;211</title>\n<path fill=\"none\" stroke=\"#000000\" d=\"M3146.308,-1412.8796C3143.4102,-1402.1034 3140.2804,-1390.4647 3137.3501,-1379.5677\"/>\n<polygon fill=\"#000000\" stroke=\"#000000\" points=\"3140.7044,-1378.563 3134.7275,-1369.8149 3133.9445,-1380.3808 3140.7044,-1378.563\"/>\n</g>\n<!-- 212 -->\n<g id=\"node213\" class=\"node\">\n<title>212</title>\n<path fill=\"#e58139\" stroke=\"#000000\" d=\"M3280,-1369.5C3280,-1369.5 3205,-1369.5 3205,-1369.5 3199,-1369.5 3193,-1363.5 3193,-1357.5 3193,-1357.5 3193,-1313.5 3193,-1313.5 3193,-1307.5 3199,-1301.5 3205,-1301.5 3205,-1301.5 3280,-1301.5 3280,-1301.5 3286,-1301.5 3292,-1307.5 3292,-1313.5 3292,-1313.5 3292,-1357.5 3292,-1357.5 3292,-1363.5 3286,-1369.5 3280,-1369.5\"/>\n<text text-anchor=\"start\" x=\"3213\" y=\"-1354.3\" font-family=\"Helvetica,sans-Serif\" font-size=\"14.00\" fill=\"#000000\">gini = 0.0</text>\n<text text-anchor=\"start\" x=\"3203\" y=\"-1339.3\" font-family=\"Helvetica,sans-Serif\" font-size=\"14.00\" fill=\"#000000\">samples = 3</text>\n<text text-anchor=\"start\" x=\"3201\" y=\"-1324.3\" font-family=\"Helvetica,sans-Serif\" font-size=\"14.00\" fill=\"#000000\">value = [3, 0]</text>\n<text text-anchor=\"start\" x=\"3216\" y=\"-1309.3\" font-family=\"Helvetica,sans-Serif\" font-size=\"14.00\" fill=\"#000000\">class = l</text>\n</g>\n<!-- 210&#45;&gt;212 -->\n<g id=\"edge212\" class=\"edge\">\n<title>210&#45;&gt;212</title>\n<path fill=\"none\" stroke=\"#000000\" d=\"M3187.2289,-1412.8796C3195.2403,-1401.6636 3203.9192,-1389.5131 3211.9734,-1378.2372\"/>\n<polygon fill=\"#000000\" stroke=\"#000000\" points=\"3215.025,-1379.9866 3217.9893,-1369.8149 3209.3288,-1375.9179 3215.025,-1379.9866\"/>\n</g>\n<!-- \\n -->\n<g id=\"node214\" class=\"node\">\n<title>\\n</title>\n<path fill=\"#000000\" stroke=\"#000000\" d=\"M1274.5,-2067.5C1274.5,-2067.5 1244.5,-2067.5 1244.5,-2067.5 1238.5,-2067.5 1232.5,-2061.5 1232.5,-2055.5 1232.5,-2055.5 1232.5,-2043.5 1232.5,-2043.5 1232.5,-2037.5 1238.5,-2031.5 1244.5,-2031.5 1244.5,-2031.5 1274.5,-2031.5 1274.5,-2031.5 1280.5,-2031.5 1286.5,-2037.5 1286.5,-2043.5 1286.5,-2043.5 1286.5,-2055.5 1286.5,-2055.5 1286.5,-2061.5 1280.5,-2067.5 1274.5,-2067.5\"/>\n</g>\n</g>\n</svg>\n"
          },
          "metadata": {},
          "execution_count": 40
        }
      ]
    },
    {
      "cell_type": "markdown",
      "metadata": {
        "id": "0wB6LyZZIqmH"
      },
      "source": [
        "# Support Vector Machine"
      ]
    },
    {
      "cell_type": "code",
      "metadata": {
        "id": "6EziX4GtIqmH"
      },
      "source": [
        "y_train=y_train.astype(float)"
      ],
      "execution_count": 41,
      "outputs": []
    },
    {
      "cell_type": "code",
      "metadata": {
        "id": "8UnP49GlIqmH"
      },
      "source": [
        "from sklearn import svm\n",
        "\n",
        "clf_svm = svm.LinearSVC(random_state=7)\n",
        "clf_svm.fit(X_train, y_train)  \n",
        "\n",
        "y_pred=clf_svm.predict(X_train)"
      ],
      "execution_count": 42,
      "outputs": []
    },
    {
      "cell_type": "code",
      "metadata": {
        "id": "ygxiu4BxIqmH"
      },
      "source": [
        "trainScores['SVM-jaccard']=jaccard_similarity_score(y_train, y_pred)\n",
        "trainScores['SVM-f1-score']=f1_score(y_train, y_pred, average='weighted')  "
      ],
      "execution_count": 43,
      "outputs": []
    },
    {
      "cell_type": "code",
      "metadata": {
        "colab": {
          "base_uri": "https://localhost:8080/"
        },
        "id": "3pPsUCrwIqmI",
        "outputId": "13cf847e-bd82-4044-b953-495106ccc435"
      },
      "source": [
        "trainScores"
      ],
      "execution_count": 44,
      "outputs": [
        {
          "output_type": "execute_result",
          "data": {
            "text/plain": [
              "{'KNN-f1-score': 0.7557778341903834,\n",
              " 'KNN-jaccard': 0.26,\n",
              " 'SVM-f1-score': 0.6689062277741139,\n",
              " 'SVM-jaccard': 0.054945054945054944,\n",
              " 'Tree-f1-score': 0.924927020820985,\n",
              " 'Tree-jaccard': 0.7222222222222222}"
            ]
          },
          "metadata": {},
          "execution_count": 44
        }
      ]
    },
    {
      "cell_type": "markdown",
      "metadata": {
        "id": "WCRdkIm8IqmI"
      },
      "source": [
        "# Logistic Regression"
      ]
    },
    {
      "cell_type": "code",
      "metadata": {
        "id": "IGgCQuhdIqmI"
      },
      "source": [
        "from sklearn.linear_model import LogisticRegression\n",
        "\n",
        "clf_log = LogisticRegression(random_state=0, solver='lbfgs',\n",
        "                         multi_class='multinomial')\n",
        "clf_log.fit(X_train, y_train)\n",
        "\n",
        "y_pred=clf_log.predict(X_train)\n",
        "y_proba=clf_log.predict_proba(X_train)"
      ],
      "execution_count": 45,
      "outputs": []
    },
    {
      "cell_type": "code",
      "metadata": {
        "id": "jiA1u5iMIqmJ"
      },
      "source": [
        "\n",
        "trainScores['LogReg-jaccard']=jaccard_similarity_score(y_train, y_pred)\n",
        "trainScores['LogReg-f1-score']=f1_score(y_train, y_pred, average='weighted')  \n",
        "trainScores['LogReg-logLoss']=log_loss(y_train, y_proba)"
      ],
      "execution_count": 46,
      "outputs": []
    },
    {
      "cell_type": "code",
      "metadata": {
        "colab": {
          "base_uri": "https://localhost:8080/"
        },
        "id": "DC9qYxKEIqmJ",
        "outputId": "74678f35-f924-475e-dcc5-0d387febcff2"
      },
      "source": [
        "trainScores"
      ],
      "execution_count": 47,
      "outputs": [
        {
          "output_type": "execute_result",
          "data": {
            "text/plain": [
              "{'KNN-f1-score': 0.7557778341903834,\n",
              " 'KNN-jaccard': 0.26,\n",
              " 'LogReg-f1-score': 0.7088399037150602,\n",
              " 'LogReg-jaccard': 0.14583333333333334,\n",
              " 'LogReg-logLoss': 0.43174993676801543,\n",
              " 'SVM-f1-score': 0.6689062277741139,\n",
              " 'SVM-jaccard': 0.054945054945054944,\n",
              " 'Tree-f1-score': 0.924927020820985,\n",
              " 'Tree-jaccard': 0.7222222222222222}"
            ]
          },
          "metadata": {},
          "execution_count": 47
        }
      ]
    },
    {
      "cell_type": "markdown",
      "metadata": {
        "id": "IXklHVhtIqmJ"
      },
      "source": [
        "# Model Evaluation using Test set"
      ]
    },
    {
      "cell_type": "code",
      "metadata": {
        "colab": {
          "base_uri": "https://localhost:8080/"
        },
        "id": "8bIAM0BcIqmJ",
        "outputId": "16ce1e1f-bf83-4b67-a74f-768c72d16c5b"
      },
      "source": [
        "!wget -O loan_test.csv https://s3-api.us-geo.objectstorage.softlayer.net/cf-courses-data/CognitiveClass/ML0101ENv3/labs/loan_test.csv"
      ],
      "execution_count": 48,
      "outputs": [
        {
          "output_type": "stream",
          "name": "stdout",
          "text": [
            "--2022-01-02 08:39:56--  https://s3-api.us-geo.objectstorage.softlayer.net/cf-courses-data/CognitiveClass/ML0101ENv3/labs/loan_test.csv\n",
            "Resolving s3-api.us-geo.objectstorage.softlayer.net (s3-api.us-geo.objectstorage.softlayer.net)... 67.228.254.196\n",
            "Connecting to s3-api.us-geo.objectstorage.softlayer.net (s3-api.us-geo.objectstorage.softlayer.net)|67.228.254.196|:443... connected.\n",
            "HTTP request sent, awaiting response... 200 OK\n",
            "Length: 3642 (3.6K) [text/csv]\n",
            "Saving to: ‘loan_test.csv’\n",
            "\n",
            "loan_test.csv       100%[===================>]   3.56K  --.-KB/s    in 0s      \n",
            "\n",
            "2022-01-02 08:39:56 (830 MB/s) - ‘loan_test.csv’ saved [3642/3642]\n",
            "\n"
          ]
        }
      ]
    },
    {
      "cell_type": "markdown",
      "metadata": {
        "button": false,
        "new_sheet": false,
        "run_control": {
          "read_only": false
        },
        "id": "ttRt8tQ1IqmL"
      },
      "source": [
        "### Load Test set for evaluation "
      ]
    },
    {
      "cell_type": "code",
      "metadata": {
        "button": false,
        "new_sheet": false,
        "run_control": {
          "read_only": false
        },
        "colab": {
          "base_uri": "https://localhost:8080/",
          "height": 206
        },
        "id": "IlcbpRqAIqmL",
        "outputId": "cbe5b4ee-bebf-426d-ea96-5a37d22ce5a0"
      },
      "source": [
        "test_df = pd.read_csv('loan_test.csv')\n",
        "test_df.head()"
      ],
      "execution_count": 51,
      "outputs": [
        {
          "output_type": "execute_result",
          "data": {
            "text/html": [
              "\n",
              "  <div id=\"df-a3c98d4a-1722-4e4a-9abc-fd277fd5ced6\">\n",
              "    <div class=\"colab-df-container\">\n",
              "      <div>\n",
              "<style scoped>\n",
              "    .dataframe tbody tr th:only-of-type {\n",
              "        vertical-align: middle;\n",
              "    }\n",
              "\n",
              "    .dataframe tbody tr th {\n",
              "        vertical-align: top;\n",
              "    }\n",
              "\n",
              "    .dataframe thead th {\n",
              "        text-align: right;\n",
              "    }\n",
              "</style>\n",
              "<table border=\"1\" class=\"dataframe\">\n",
              "  <thead>\n",
              "    <tr style=\"text-align: right;\">\n",
              "      <th></th>\n",
              "      <th>Unnamed: 0</th>\n",
              "      <th>Unnamed: 0.1</th>\n",
              "      <th>loan_status</th>\n",
              "      <th>Principal</th>\n",
              "      <th>terms</th>\n",
              "      <th>effective_date</th>\n",
              "      <th>due_date</th>\n",
              "      <th>age</th>\n",
              "      <th>education</th>\n",
              "      <th>Gender</th>\n",
              "    </tr>\n",
              "  </thead>\n",
              "  <tbody>\n",
              "    <tr>\n",
              "      <th>0</th>\n",
              "      <td>1</td>\n",
              "      <td>1</td>\n",
              "      <td>PAIDOFF</td>\n",
              "      <td>1000</td>\n",
              "      <td>30</td>\n",
              "      <td>9/8/2016</td>\n",
              "      <td>10/7/2016</td>\n",
              "      <td>50</td>\n",
              "      <td>Bechalor</td>\n",
              "      <td>female</td>\n",
              "    </tr>\n",
              "    <tr>\n",
              "      <th>1</th>\n",
              "      <td>5</td>\n",
              "      <td>5</td>\n",
              "      <td>PAIDOFF</td>\n",
              "      <td>300</td>\n",
              "      <td>7</td>\n",
              "      <td>9/9/2016</td>\n",
              "      <td>9/15/2016</td>\n",
              "      <td>35</td>\n",
              "      <td>Master or Above</td>\n",
              "      <td>male</td>\n",
              "    </tr>\n",
              "    <tr>\n",
              "      <th>2</th>\n",
              "      <td>21</td>\n",
              "      <td>21</td>\n",
              "      <td>PAIDOFF</td>\n",
              "      <td>1000</td>\n",
              "      <td>30</td>\n",
              "      <td>9/10/2016</td>\n",
              "      <td>10/9/2016</td>\n",
              "      <td>43</td>\n",
              "      <td>High School or Below</td>\n",
              "      <td>female</td>\n",
              "    </tr>\n",
              "    <tr>\n",
              "      <th>3</th>\n",
              "      <td>24</td>\n",
              "      <td>24</td>\n",
              "      <td>PAIDOFF</td>\n",
              "      <td>1000</td>\n",
              "      <td>30</td>\n",
              "      <td>9/10/2016</td>\n",
              "      <td>10/9/2016</td>\n",
              "      <td>26</td>\n",
              "      <td>college</td>\n",
              "      <td>male</td>\n",
              "    </tr>\n",
              "    <tr>\n",
              "      <th>4</th>\n",
              "      <td>35</td>\n",
              "      <td>35</td>\n",
              "      <td>PAIDOFF</td>\n",
              "      <td>800</td>\n",
              "      <td>15</td>\n",
              "      <td>9/11/2016</td>\n",
              "      <td>9/25/2016</td>\n",
              "      <td>29</td>\n",
              "      <td>Bechalor</td>\n",
              "      <td>male</td>\n",
              "    </tr>\n",
              "  </tbody>\n",
              "</table>\n",
              "</div>\n",
              "      <button class=\"colab-df-convert\" onclick=\"convertToInteractive('df-a3c98d4a-1722-4e4a-9abc-fd277fd5ced6')\"\n",
              "              title=\"Convert this dataframe to an interactive table.\"\n",
              "              style=\"display:none;\">\n",
              "        \n",
              "  <svg xmlns=\"http://www.w3.org/2000/svg\" height=\"24px\"viewBox=\"0 0 24 24\"\n",
              "       width=\"24px\">\n",
              "    <path d=\"M0 0h24v24H0V0z\" fill=\"none\"/>\n",
              "    <path d=\"M18.56 5.44l.94 2.06.94-2.06 2.06-.94-2.06-.94-.94-2.06-.94 2.06-2.06.94zm-11 1L8.5 8.5l.94-2.06 2.06-.94-2.06-.94L8.5 2.5l-.94 2.06-2.06.94zm10 10l.94 2.06.94-2.06 2.06-.94-2.06-.94-.94-2.06-.94 2.06-2.06.94z\"/><path d=\"M17.41 7.96l-1.37-1.37c-.4-.4-.92-.59-1.43-.59-.52 0-1.04.2-1.43.59L10.3 9.45l-7.72 7.72c-.78.78-.78 2.05 0 2.83L4 21.41c.39.39.9.59 1.41.59.51 0 1.02-.2 1.41-.59l7.78-7.78 2.81-2.81c.8-.78.8-2.07 0-2.86zM5.41 20L4 18.59l7.72-7.72 1.47 1.35L5.41 20z\"/>\n",
              "  </svg>\n",
              "      </button>\n",
              "      \n",
              "  <style>\n",
              "    .colab-df-container {\n",
              "      display:flex;\n",
              "      flex-wrap:wrap;\n",
              "      gap: 12px;\n",
              "    }\n",
              "\n",
              "    .colab-df-convert {\n",
              "      background-color: #E8F0FE;\n",
              "      border: none;\n",
              "      border-radius: 50%;\n",
              "      cursor: pointer;\n",
              "      display: none;\n",
              "      fill: #1967D2;\n",
              "      height: 32px;\n",
              "      padding: 0 0 0 0;\n",
              "      width: 32px;\n",
              "    }\n",
              "\n",
              "    .colab-df-convert:hover {\n",
              "      background-color: #E2EBFA;\n",
              "      box-shadow: 0px 1px 2px rgba(60, 64, 67, 0.3), 0px 1px 3px 1px rgba(60, 64, 67, 0.15);\n",
              "      fill: #174EA6;\n",
              "    }\n",
              "\n",
              "    [theme=dark] .colab-df-convert {\n",
              "      background-color: #3B4455;\n",
              "      fill: #D2E3FC;\n",
              "    }\n",
              "\n",
              "    [theme=dark] .colab-df-convert:hover {\n",
              "      background-color: #434B5C;\n",
              "      box-shadow: 0px 1px 3px 1px rgba(0, 0, 0, 0.15);\n",
              "      filter: drop-shadow(0px 1px 2px rgba(0, 0, 0, 0.3));\n",
              "      fill: #FFFFFF;\n",
              "    }\n",
              "  </style>\n",
              "\n",
              "      <script>\n",
              "        const buttonEl =\n",
              "          document.querySelector('#df-a3c98d4a-1722-4e4a-9abc-fd277fd5ced6 button.colab-df-convert');\n",
              "        buttonEl.style.display =\n",
              "          google.colab.kernel.accessAllowed ? 'block' : 'none';\n",
              "\n",
              "        async function convertToInteractive(key) {\n",
              "          const element = document.querySelector('#df-a3c98d4a-1722-4e4a-9abc-fd277fd5ced6');\n",
              "          const dataTable =\n",
              "            await google.colab.kernel.invokeFunction('convertToInteractive',\n",
              "                                                     [key], {});\n",
              "          if (!dataTable) return;\n",
              "\n",
              "          const docLinkHtml = 'Like what you see? Visit the ' +\n",
              "            '<a target=\"_blank\" href=https://colab.research.google.com/notebooks/data_table.ipynb>data table notebook</a>'\n",
              "            + ' to learn more about interactive tables.';\n",
              "          element.innerHTML = '';\n",
              "          dataTable['output_type'] = 'display_data';\n",
              "          await google.colab.output.renderOutput(dataTable, element);\n",
              "          const docLink = document.createElement('div');\n",
              "          docLink.innerHTML = docLinkHtml;\n",
              "          element.appendChild(docLink);\n",
              "        }\n",
              "      </script>\n",
              "    </div>\n",
              "  </div>\n",
              "  "
            ],
            "text/plain": [
              "   Unnamed: 0  Unnamed: 0.1 loan_status  ...  age             education  Gender\n",
              "0           1             1     PAIDOFF  ...   50              Bechalor  female\n",
              "1           5             5     PAIDOFF  ...   35       Master or Above    male\n",
              "2          21            21     PAIDOFF  ...   43  High School or Below  female\n",
              "3          24            24     PAIDOFF  ...   26               college    male\n",
              "4          35            35     PAIDOFF  ...   29              Bechalor    male\n",
              "\n",
              "[5 rows x 10 columns]"
            ]
          },
          "metadata": {},
          "execution_count": 51
        }
      ]
    },
    {
      "cell_type": "code",
      "metadata": {
        "id": "VryJBLmBIqmL"
      },
      "source": [
        "test_df['due_date'] = pd.to_datetime(test_df['due_date'])\n",
        "test_df['effective_date'] = pd.to_datetime(test_df['effective_date'])\n",
        "\n",
        "test_df['dayofweek'] = test_df['effective_date'].dt.dayofweek\n",
        "\n",
        "test_df['weekend'] = test_df['dayofweek'].apply(lambda x: 1 if (x>3)  else 0)\n",
        "\n",
        "test_df['Gender'].replace(to_replace=['male','female'], value=[0,1],inplace=True)\n",
        "\n",
        "# test_df['Month'] = test_df.due_date.dt.month \n",
        "\n",
        "# test_df['deadline']=test_df['due_date']-test_df['effective_date']\n",
        "# test_df['deadline']=test_df['deadline'].dt.days\n",
        "\n",
        "Feature = test_df[['Principal','terms','age','Gender','weekend','dayofweek']]\n",
        "Feature = pd.concat([Feature,pd.get_dummies(test_df['education'])], axis=1)\n",
        "Feature.drop(['Master or Above'], axis = 1,inplace=True)\n",
        "\n",
        "X = Feature\n",
        "\n",
        "y = test_df['loan_status'].replace(to_replace=['PAIDOFF','COLLECTION'], value=[0,1]).values\n",
        "\n",
        "testy=y.astype(float)\n",
        "testX= preprocessing.StandardScaler().fit_transform(X)"
      ],
      "execution_count": 52,
      "outputs": []
    },
    {
      "cell_type": "code",
      "metadata": {
        "id": "lVHOW5OGIqmL"
      },
      "source": [
        "testScores={}"
      ],
      "execution_count": 53,
      "outputs": []
    },
    {
      "cell_type": "code",
      "metadata": {
        "id": "mrRcsox_IqmM"
      },
      "source": [
        "knn_pred=clf_knn.predict(testX)\n",
        "testScores['KNN-jaccard']=jaccard_similarity_score(testy, knn_pred)\n",
        "testScores['KNN-f1-score']=f1_score(testy, knn_pred, average='weighted')  "
      ],
      "execution_count": 54,
      "outputs": []
    },
    {
      "cell_type": "code",
      "metadata": {
        "id": "io-OVKCFIqmM"
      },
      "source": [
        "tree_pred=clf_tree.predict(testX)\n",
        "testScores['Tree-jaccard']=jaccard_similarity_score(testy, tree_pred)\n",
        "testScores['Tree-f1-score']=f1_score(testy, tree_pred, average='weighted')  "
      ],
      "execution_count": 55,
      "outputs": []
    },
    {
      "cell_type": "code",
      "metadata": {
        "id": "Pu2uA0EPIqmM"
      },
      "source": [
        "svm_pred=clf_svm.predict(testX)\n",
        "testScores['SVM-jaccard']=jaccard_similarity_score(testy, svm_pred)\n",
        "testScores['SVM-f1-score']=f1_score(testy, svm_pred, average='weighted')  "
      ],
      "execution_count": 56,
      "outputs": []
    },
    {
      "cell_type": "code",
      "metadata": {
        "id": "D0Q4nHMwIqmM"
      },
      "source": [
        "log_pred=clf_log.predict(testX)\n",
        "proba=clf_log.predict_proba(testX)\n",
        "testScores['LogReg-jaccard']=jaccard_similarity_score(testy, log_pred)\n",
        "testScores['LogReg-f1-score']=f1_score(testy, log_pred, average='weighted')  \n",
        "testScores['LogReg-logLoss']=log_loss(testy, proba)"
      ],
      "execution_count": 57,
      "outputs": []
    },
    {
      "cell_type": "code",
      "metadata": {
        "colab": {
          "base_uri": "https://localhost:8080/"
        },
        "id": "nsvjTl5UIqmM",
        "outputId": "784a59fe-429b-45be-88b1-f8756c0c8bfc"
      },
      "source": [
        "trainScores"
      ],
      "execution_count": 58,
      "outputs": [
        {
          "output_type": "execute_result",
          "data": {
            "text/plain": [
              "{'KNN-f1-score': 0.7557778341903834,\n",
              " 'KNN-jaccard': 0.26,\n",
              " 'LogReg-f1-score': 0.7088399037150602,\n",
              " 'LogReg-jaccard': 0.14583333333333334,\n",
              " 'LogReg-logLoss': 0.43174993676801543,\n",
              " 'SVM-f1-score': 0.6689062277741139,\n",
              " 'SVM-jaccard': 0.054945054945054944,\n",
              " 'Tree-f1-score': 0.924927020820985,\n",
              " 'Tree-jaccard': 0.7222222222222222}"
            ]
          },
          "metadata": {},
          "execution_count": 58
        }
      ]
    },
    {
      "cell_type": "code",
      "metadata": {
        "colab": {
          "base_uri": "https://localhost:8080/"
        },
        "id": "bOlhZyWAIqmN",
        "outputId": "b666ab05-f074-4b1a-8114-1e273754ee48"
      },
      "source": [
        "testScores"
      ],
      "execution_count": 59,
      "outputs": [
        {
          "output_type": "execute_result",
          "data": {
            "text/plain": [
              "{'KNN-f1-score': 0.7144311330357843,\n",
              " 'KNN-jaccard': 0.2222222222222222,\n",
              " 'LogReg-f1-score': 0.708937198067633,\n",
              " 'LogReg-jaccard': 0.14285714285714285,\n",
              " 'LogReg-logLoss': 0.4739578521073105,\n",
              " 'SVM-f1-score': 0.6959228135698723,\n",
              " 'SVM-jaccard': 0.13333333333333333,\n",
              " 'Tree-f1-score': 0.7618862861115153,\n",
              " 'Tree-jaccard': 0.38095238095238093}"
            ]
          },
          "metadata": {},
          "execution_count": 59
        }
      ]
    },
    {
      "cell_type": "code",
      "metadata": {
        "colab": {
          "base_uri": "https://localhost:8080/"
        },
        "id": "i0wk0CacIqmN",
        "outputId": "1a2dfab5-ed24-4cd9-bcfb-14527c44f74c"
      },
      "source": [
        "# Features used\n",
        "list(Feature.columns)"
      ],
      "execution_count": 60,
      "outputs": [
        {
          "output_type": "execute_result",
          "data": {
            "text/plain": [
              "['Principal',\n",
              " 'terms',\n",
              " 'age',\n",
              " 'Gender',\n",
              " 'weekend',\n",
              " 'dayofweek',\n",
              " 'Bechalor',\n",
              " 'High School or Below',\n",
              " 'college']"
            ]
          },
          "metadata": {},
          "execution_count": 60
        }
      ]
    },
    {
      "cell_type": "markdown",
      "metadata": {
        "id": "VTS7XHiMIqmN"
      },
      "source": [
        "# Reports"
      ]
    },
    {
      "cell_type": "markdown",
      "metadata": {
        "id": "g9Pvqw9wIqmN"
      },
      "source": [
        "| Algorithm          | Jaccard | F1-score | LogLoss |\n",
        "|--------------------|---------|----------|---------|\n",
        "| KNN                | 0.7402  | 0.7144   | NA      |\n",
        "| Decision Tree      | 0.7592  | 0.7618   | NA      |\n",
        "| SVM                | 0.7592  | 0.6959   | NA      |\n",
        "| LogisticRegression | 0.7777  | 0.7089   | 0.4739 |"
      ]
    },
    {
      "cell_type": "markdown",
      "metadata": {
        "id": "gFUmupnBIqmN"
      },
      "source": [
        " Even though Decision tree had shown a relatively good result in training  ,but it is  Logistic Regression that outperforms the other models in test  ."
      ]
    }
  ]
}